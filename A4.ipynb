{
 "cells": [
  {
   "cell_type": "markdown",
   "id": "db7419ee",
   "metadata": {},
   "source": [
    "# STAT3006 Assignment 4 <img src=\"https://i.kym-cdn.com/photos/images/newsfeed/001/852/165/c6e\" height=\"32\" width=\"32\">\n",
    "\n",
    "**Avatar Putra Pertama Azka - 47286238**"
   ]
  },
  {
   "cell_type": "code",
   "execution_count": 2,
   "id": "742bfd65-4def-4d72-8407-398c8960c9c2",
   "metadata": {},
   "outputs": [],
   "source": [
    "import pandas as pd\n",
    "import numpy as np\n",
    "\n",
    "# preprocessing\n",
    "from sklearn.preprocessing import StandardScaler\n",
    "\n",
    "# training utils\n",
    "from sklearn.model_selection import LeaveOneOut, cross_val_score, cross_val_predict, GridSearchCV\n",
    "\n",
    "# models\n",
    "from sklearn.decomposition import PCA\n",
    "from sklearn.linear_model import LogisticRegression\n",
    "from sklearn.svm import SVC\n",
    "\n",
    "# single variable analysis\n",
    "from scipy.stats import ttest_ind, false_discovery_control\n",
    "\n",
    "# metrics\n",
    "from sklearn.metrics import accuracy_score, classification_report, confusion_matrix, ConfusionMatrixDisplay\n",
    "from time import time\n",
    "\n",
    "# visualization\n",
    "from matplotlib import pyplot as plt\n",
    "import plotly.express as px\n",
    "\n",
    "import seaborn as sns"
   ]
  },
  {
   "cell_type": "markdown",
   "id": "b54c9742",
   "metadata": {},
   "source": [
    "# Dataset bizzzz"
   ]
  },
  {
   "cell_type": "code",
   "execution_count": 3,
   "id": "5b2a2a66",
   "metadata": {},
   "outputs": [],
   "source": [
    "features: pd.DataFrame = pd.read_csv(\"data/Aaroe.csv\", index_col=0)\n",
    "labels: pd.DataFrame = pd.read_csv(\"data/Aaroelabels.csv\")"
   ]
  },
  {
   "cell_type": "code",
   "execution_count": 4,
   "id": "5c40d24d",
   "metadata": {},
   "outputs": [
    {
     "data": {
      "text/html": [
       "<div>\n",
       "<style scoped>\n",
       "    .dataframe tbody tr th:only-of-type {\n",
       "        vertical-align: middle;\n",
       "    }\n",
       "\n",
       "    .dataframe tbody tr th {\n",
       "        vertical-align: top;\n",
       "    }\n",
       "\n",
       "    .dataframe thead th {\n",
       "        text-align: right;\n",
       "    }\n",
       "</style>\n",
       "<table border=\"1\" class=\"dataframe\">\n",
       "  <thead>\n",
       "    <tr style=\"text-align: right;\">\n",
       "      <th></th>\n",
       "      <th>GSM413367</th>\n",
       "      <th>GSM413368</th>\n",
       "      <th>GSM413369</th>\n",
       "      <th>GSM413370</th>\n",
       "      <th>GSM413371</th>\n",
       "      <th>GSM413372</th>\n",
       "      <th>GSM413373</th>\n",
       "      <th>GSM413374</th>\n",
       "      <th>GSM413375</th>\n",
       "      <th>GSM413376</th>\n",
       "      <th>...</th>\n",
       "      <th>GSM413487</th>\n",
       "      <th>GSM413488</th>\n",
       "      <th>GSM413489</th>\n",
       "      <th>GSM413490</th>\n",
       "      <th>GSM413491</th>\n",
       "      <th>GSM413492</th>\n",
       "      <th>GSM413493</th>\n",
       "      <th>GSM413494</th>\n",
       "      <th>GSM413495</th>\n",
       "      <th>GSM413496</th>\n",
       "    </tr>\n",
       "  </thead>\n",
       "  <tbody>\n",
       "    <tr>\n",
       "      <th>100002</th>\n",
       "      <td>0.1134</td>\n",
       "      <td>0.0560</td>\n",
       "      <td>-0.2562</td>\n",
       "      <td>0.1638</td>\n",
       "      <td>0.2423</td>\n",
       "      <td>0.6244</td>\n",
       "      <td>0.5118</td>\n",
       "      <td>0.6083</td>\n",
       "      <td>-0.1223</td>\n",
       "      <td>0.3054</td>\n",
       "      <td>...</td>\n",
       "      <td>0.1386</td>\n",
       "      <td>-0.2830</td>\n",
       "      <td>-0.4520</td>\n",
       "      <td>-0.2199</td>\n",
       "      <td>0.3305</td>\n",
       "      <td>0.0104</td>\n",
       "      <td>-0.4842</td>\n",
       "      <td>0.1371</td>\n",
       "      <td>0.5243</td>\n",
       "      <td>-0.7144</td>\n",
       "    </tr>\n",
       "    <tr>\n",
       "      <th>100037</th>\n",
       "      <td>0.2036</td>\n",
       "      <td>-0.2881</td>\n",
       "      <td>0.3000</td>\n",
       "      <td>-0.1245</td>\n",
       "      <td>-0.1931</td>\n",
       "      <td>0.6167</td>\n",
       "      <td>0.3156</td>\n",
       "      <td>0.1385</td>\n",
       "      <td>-0.1324</td>\n",
       "      <td>-0.0705</td>\n",
       "      <td>...</td>\n",
       "      <td>-0.0941</td>\n",
       "      <td>-0.1529</td>\n",
       "      <td>-0.2488</td>\n",
       "      <td>-0.0012</td>\n",
       "      <td>0.2233</td>\n",
       "      <td>-0.0586</td>\n",
       "      <td>-0.3079</td>\n",
       "      <td>-0.3399</td>\n",
       "      <td>-0.1787</td>\n",
       "      <td>-0.4291</td>\n",
       "    </tr>\n",
       "    <tr>\n",
       "      <th>100058</th>\n",
       "      <td>-0.1888</td>\n",
       "      <td>-0.1852</td>\n",
       "      <td>-0.5350</td>\n",
       "      <td>0.0004</td>\n",
       "      <td>-0.1942</td>\n",
       "      <td>0.5297</td>\n",
       "      <td>-0.0255</td>\n",
       "      <td>0.5359</td>\n",
       "      <td>0.4558</td>\n",
       "      <td>0.4745</td>\n",
       "      <td>...</td>\n",
       "      <td>-0.0046</td>\n",
       "      <td>-0.2142</td>\n",
       "      <td>-0.1024</td>\n",
       "      <td>0.0988</td>\n",
       "      <td>-0.3493</td>\n",
       "      <td>0.3408</td>\n",
       "      <td>-0.0091</td>\n",
       "      <td>-0.0199</td>\n",
       "      <td>-0.0292</td>\n",
       "      <td>-0.5355</td>\n",
       "    </tr>\n",
       "    <tr>\n",
       "      <th>100079</th>\n",
       "      <td>0.4796</td>\n",
       "      <td>0.1218</td>\n",
       "      <td>-0.4838</td>\n",
       "      <td>0.0131</td>\n",
       "      <td>0.2402</td>\n",
       "      <td>0.2539</td>\n",
       "      <td>0.4935</td>\n",
       "      <td>0.6921</td>\n",
       "      <td>0.0927</td>\n",
       "      <td>0.4592</td>\n",
       "      <td>...</td>\n",
       "      <td>0.1737</td>\n",
       "      <td>-0.0121</td>\n",
       "      <td>-0.3563</td>\n",
       "      <td>-0.3899</td>\n",
       "      <td>-0.3027</td>\n",
       "      <td>-0.0069</td>\n",
       "      <td>-0.3533</td>\n",
       "      <td>0.0783</td>\n",
       "      <td>0.1998</td>\n",
       "      <td>-0.8642</td>\n",
       "    </tr>\n",
       "    <tr>\n",
       "      <th>100100</th>\n",
       "      <td>-0.4458</td>\n",
       "      <td>-0.0933</td>\n",
       "      <td>-0.2071</td>\n",
       "      <td>0.0706</td>\n",
       "      <td>-0.2367</td>\n",
       "      <td>0.1844</td>\n",
       "      <td>0.0015</td>\n",
       "      <td>-0.3982</td>\n",
       "      <td>-0.0905</td>\n",
       "      <td>-0.1620</td>\n",
       "      <td>...</td>\n",
       "      <td>-0.2226</td>\n",
       "      <td>-0.1462</td>\n",
       "      <td>-0.2799</td>\n",
       "      <td>0.1476</td>\n",
       "      <td>-0.0923</td>\n",
       "      <td>0.0413</td>\n",
       "      <td>-0.2852</td>\n",
       "      <td>0.0443</td>\n",
       "      <td>0.1640</td>\n",
       "      <td>-0.3789</td>\n",
       "    </tr>\n",
       "  </tbody>\n",
       "</table>\n",
       "<p>5 rows × 121 columns</p>\n",
       "</div>"
      ],
      "text/plain": [
       "        GSM413367  GSM413368  GSM413369  GSM413370  GSM413371  GSM413372  \\\n",
       "100002     0.1134     0.0560    -0.2562     0.1638     0.2423     0.6244   \n",
       "100037     0.2036    -0.2881     0.3000    -0.1245    -0.1931     0.6167   \n",
       "100058    -0.1888    -0.1852    -0.5350     0.0004    -0.1942     0.5297   \n",
       "100079     0.4796     0.1218    -0.4838     0.0131     0.2402     0.2539   \n",
       "100100    -0.4458    -0.0933    -0.2071     0.0706    -0.2367     0.1844   \n",
       "\n",
       "        GSM413373  GSM413374  GSM413375  GSM413376  ...  GSM413487  GSM413488  \\\n",
       "100002     0.5118     0.6083    -0.1223     0.3054  ...     0.1386    -0.2830   \n",
       "100037     0.3156     0.1385    -0.1324    -0.0705  ...    -0.0941    -0.1529   \n",
       "100058    -0.0255     0.5359     0.4558     0.4745  ...    -0.0046    -0.2142   \n",
       "100079     0.4935     0.6921     0.0927     0.4592  ...     0.1737    -0.0121   \n",
       "100100     0.0015    -0.3982    -0.0905    -0.1620  ...    -0.2226    -0.1462   \n",
       "\n",
       "        GSM413489  GSM413490  GSM413491  GSM413492  GSM413493  GSM413494  \\\n",
       "100002    -0.4520    -0.2199     0.3305     0.0104    -0.4842     0.1371   \n",
       "100037    -0.2488    -0.0012     0.2233    -0.0586    -0.3079    -0.3399   \n",
       "100058    -0.1024     0.0988    -0.3493     0.3408    -0.0091    -0.0199   \n",
       "100079    -0.3563    -0.3899    -0.3027    -0.0069    -0.3533     0.0783   \n",
       "100100    -0.2799     0.1476    -0.0923     0.0413    -0.2852     0.0443   \n",
       "\n",
       "        GSM413495  GSM413496  \n",
       "100002     0.5243    -0.7144  \n",
       "100037    -0.1787    -0.4291  \n",
       "100058    -0.0292    -0.5355  \n",
       "100079     0.1998    -0.8642  \n",
       "100100     0.1640    -0.3789  \n",
       "\n",
       "[5 rows x 121 columns]"
      ]
     },
     "execution_count": 4,
     "metadata": {},
     "output_type": "execute_result"
    }
   ],
   "source": [
    "features.head()"
   ]
  },
  {
   "cell_type": "code",
   "execution_count": 5,
   "id": "07f9babf",
   "metadata": {},
   "outputs": [
    {
     "data": {
      "text/html": [
       "<div>\n",
       "<style scoped>\n",
       "    .dataframe tbody tr th:only-of-type {\n",
       "        vertical-align: middle;\n",
       "    }\n",
       "\n",
       "    .dataframe tbody tr th {\n",
       "        vertical-align: top;\n",
       "    }\n",
       "\n",
       "    .dataframe thead th {\n",
       "        text-align: right;\n",
       "    }\n",
       "</style>\n",
       "<table border=\"1\" class=\"dataframe\">\n",
       "  <thead>\n",
       "    <tr style=\"text-align: right;\">\n",
       "      <th></th>\n",
       "      <th>GSM413367</th>\n",
       "      <th>GSM413368</th>\n",
       "      <th>GSM413369</th>\n",
       "      <th>GSM413370</th>\n",
       "      <th>GSM413371</th>\n",
       "      <th>GSM413372</th>\n",
       "      <th>GSM413373</th>\n",
       "      <th>GSM413374</th>\n",
       "      <th>GSM413375</th>\n",
       "      <th>GSM413376</th>\n",
       "      <th>...</th>\n",
       "      <th>GSM413487</th>\n",
       "      <th>GSM413488</th>\n",
       "      <th>GSM413489</th>\n",
       "      <th>GSM413490</th>\n",
       "      <th>GSM413491</th>\n",
       "      <th>GSM413492</th>\n",
       "      <th>GSM413493</th>\n",
       "      <th>GSM413494</th>\n",
       "      <th>GSM413495</th>\n",
       "      <th>GSM413496</th>\n",
       "    </tr>\n",
       "  </thead>\n",
       "  <tbody>\n",
       "    <tr>\n",
       "      <th>0</th>\n",
       "      <td>normal</td>\n",
       "      <td>normal</td>\n",
       "      <td>normal</td>\n",
       "      <td>normal</td>\n",
       "      <td>normal</td>\n",
       "      <td>normal</td>\n",
       "      <td>normal</td>\n",
       "      <td>normal</td>\n",
       "      <td>normal</td>\n",
       "      <td>normal</td>\n",
       "      <td>...</td>\n",
       "      <td>cancer</td>\n",
       "      <td>cancer</td>\n",
       "      <td>cancer</td>\n",
       "      <td>cancer</td>\n",
       "      <td>cancer</td>\n",
       "      <td>cancer</td>\n",
       "      <td>cancer</td>\n",
       "      <td>cancer</td>\n",
       "      <td>cancer</td>\n",
       "      <td>cancer</td>\n",
       "    </tr>\n",
       "  </tbody>\n",
       "</table>\n",
       "<p>1 rows × 121 columns</p>\n",
       "</div>"
      ],
      "text/plain": [
       "  GSM413367 GSM413368 GSM413369 GSM413370 GSM413371 GSM413372 GSM413373  \\\n",
       "0    normal    normal    normal    normal    normal    normal    normal   \n",
       "\n",
       "  GSM413374 GSM413375 GSM413376  ... GSM413487 GSM413488 GSM413489 GSM413490  \\\n",
       "0    normal    normal    normal  ...    cancer    cancer    cancer    cancer   \n",
       "\n",
       "  GSM413491 GSM413492 GSM413493 GSM413494 GSM413495 GSM413496  \n",
       "0    cancer    cancer    cancer    cancer    cancer    cancer  \n",
       "\n",
       "[1 rows x 121 columns]"
      ]
     },
     "execution_count": 5,
     "metadata": {},
     "output_type": "execute_result"
    }
   ],
   "source": [
    "labels.head()"
   ]
  },
  {
   "cell_type": "code",
   "execution_count": 6,
   "id": "963b9555",
   "metadata": {},
   "outputs": [
    {
     "name": "stdout",
     "output_type": "stream",
     "text": [
      "(11217, 121)\n",
      "(1, 121)\n"
     ]
    }
   ],
   "source": [
    "print(features.shape)\n",
    "print(labels.shape)"
   ]
  },
  {
   "cell_type": "markdown",
   "id": "24e1b630",
   "metadata": {},
   "source": [
    "## Preprocessing"
   ]
  },
  {
   "cell_type": "code",
   "execution_count": 7,
   "id": "77646718",
   "metadata": {},
   "outputs": [],
   "source": [
    "ft = features.T\n",
    "cols = ft.columns\n",
    "idx = ft.index\n",
    "\n",
    "scaler = StandardScaler()\n",
    "ft_scaled = scaler.fit_transform(ft.to_numpy())\n",
    "\n",
    "X = pd.DataFrame(ft_scaled, columns=cols, index=idx)\n",
    "Y = labels.T.rename(columns={0: \"label\"})"
   ]
  },
  {
   "cell_type": "code",
   "execution_count": 8,
   "id": "e5595d7f",
   "metadata": {},
   "outputs": [],
   "source": [
    "data = X.join(Y['label'])"
   ]
  },
  {
   "cell_type": "code",
   "execution_count": 9,
   "id": "a97469af",
   "metadata": {},
   "outputs": [],
   "source": [
    "data.to_csv(\"data/processed.csv\")"
   ]
  },
  {
   "cell_type": "code",
   "execution_count": 10,
   "id": "c7f4b172",
   "metadata": {},
   "outputs": [
    {
     "data": {
      "text/plain": [
       "(121, 11218)"
      ]
     },
     "execution_count": 10,
     "metadata": {},
     "output_type": "execute_result"
    }
   ],
   "source": [
    "data.shape"
   ]
  },
  {
   "cell_type": "code",
   "execution_count": 11,
   "id": "fe14974e",
   "metadata": {},
   "outputs": [
    {
     "data": {
      "text/plain": [
       "False"
      ]
     },
     "execution_count": 11,
     "metadata": {},
     "output_type": "execute_result"
    }
   ],
   "source": [
    "X.isna().any().any()"
   ]
  },
  {
   "cell_type": "code",
   "execution_count": 12,
   "id": "4da2f139",
   "metadata": {},
   "outputs": [],
   "source": [
    "CLASSNAMES = {\n",
    "    'normal': 0.0,\n",
    "    'cancer': 1.0\n",
    "}"
   ]
  },
  {
   "cell_type": "markdown",
   "id": "c72da190",
   "metadata": {},
   "source": [
    "# 1. PCA on Gene Expression Dataset"
   ]
  },
  {
   "cell_type": "code",
   "execution_count": 13,
   "id": "c4911495",
   "metadata": {},
   "outputs": [
    {
     "name": "stdout",
     "output_type": "stream",
     "text": [
      "Explained Variance: 1.0000000000000002\n",
      "# of PCs: 121\n"
     ]
    },
    {
     "data": {
      "image/png": "[encoded data removed]",
      "text/plain": [
       "<Figure size 640x480 with 1 Axes>"
      ]
     },
     "metadata": {},
     "output_type": "display_data"
    }
   ],
   "source": [
    "pca = PCA()\n",
    "x = pca.fit_transform(X)\n",
    "\n",
    "explained_variance = pca.explained_variance_ratio_\n",
    "cumsum_var = np.cumsum(explained_variance)\n",
    "print(f\"Explained Variance: {sum(pca.explained_variance_ratio_)}\")\n",
    "print(f\"# of PCs: {pca.n_components_}\")\n",
    "\n",
    "plt.bar(\n",
    "    range(0,len(explained_variance)),\n",
    "    explained_variance,\n",
    "    alpha=0.5,\n",
    "    align='center',\n",
    "    label='Individual explained variance'\n",
    ")\n",
    "\n",
    "plt.step(\n",
    "    range(0,len(cumsum_var)),\n",
    "    cumsum_var,\n",
    "    where='mid',\n",
    "    label='Cumulative explained variance'\n",
    ")\n",
    "\n",
    "plt.ylabel('Proportion of Explained Variance')\n",
    "plt.xlabel('Principal Component #')\n",
    "plt.legend(loc='best')\n",
    "\n",
    "plt.show()"
   ]
  },
  {
   "cell_type": "code",
   "execution_count": 14,
   "id": "137ae1c0",
   "metadata": {},
   "outputs": [
    {
     "name": "stdout",
     "output_type": "stream",
     "text": [
      "Explained Variance: 0.5879975561515826\n",
      "# of PCs: 5\n"
     ]
    },
    {
     "data": {
      "image/png": "[encoded data removed]",
      "text/plain": [
       "<Figure size 640x480 with 1 Axes>"
      ]
     },
     "metadata": {},
     "output_type": "display_data"
    },
    {
     "name": "stdout",
     "output_type": "stream",
     "text": [
      "(121, 5)\n"
     ]
    },
    {
     "data": {
      "application/vnd.plotly.v1+json": {
       "config": {
        "plotlyServerURL": "https://plot.ly"
       },
       "data": [
        {
         "diagonal": {
          "visible": true
         },
         "dimensions": [
          {
           "axis": {
            "matches": true
           },
           "label": "PC 1",
           "values": [
            -13.274757587303407,
            76.51318682244991,
            111.11168844151898,
            16.129899117841358,
            6.591049034127396,
            -97.83063192829057,
            -42.28955141110086,
            -65.86274145277032,
            -18.397364365817694,
            -103.75073784592158,
            12.229723081253827,
            -10.64586018267765,
            25.143372482549903,
            8.123983687994313,
            -25.851430314329267,
            36.31572258517181,
            2.297414327208741,
            18.48716195177991,
            -55.425023993634284,
            -26.549956381087163,
            38.152182850662136,
            -0.14719640761217245,
            1.4661098813734565,
            -2.785635169744149,
            -2.403607698363215,
            -91.69290419050144,
            6.613239604257247,
            -55.84689061034798,
            -47.74749985960309,
            88.53766130511129,
            -7.486522495660154,
            22.51914879270597,
            1.8082112388853484,
            47.42114272529984,
            40.721050086034396,
            54.50258987220692,
            -41.38022447023995,
            -114.79716627795563,
            -82.2587288825515,
            25.36965809937711,
            91.05034484854163,
            -106.4030181974332,
            -10.94511530140965,
            -66.85052477526533,
            21.711919531745377,
            -91.63402450185525,
            -29.771650209600583,
            31.525890656011445,
            -68.77027411445032,
            -106.78766472256655,
            61.887770227209586,
            44.39078207483719,
            81.01980389901348,
            -49.473352344415865
           ]
          },
          {
           "axis": {
            "matches": true
           },
           "label": "PC 2",
           "values": [
            -21.27794915936941,
            31.83140269245016,
            -29.128576114396555,
            27.49268732717234,
            18.34080306837032,
            -26.37664608787951,
            -4.559207194571835,
            80.9667039999031,
            21.41819276597822,
            48.09560234092261,
            -7.715910192013907,
            -5.385509680290155,
            21.698979695588463,
            -27.66475995442338,
            10.758983804650509,
            -2.1181037572168755,
            8.496492912677422,
            58.378816172394686,
            43.841302064993656,
            29.37903919556626,
            0.642718988682002,
            -47.18071749322614,
            -26.8400920347094,
            -46.85388072521691,
            -16.745007345704227,
            -37.513583262585705,
            -33.11020673784223,
            -11.548632652406868,
            -55.38451998810717,
            -34.34714126594905,
            -47.22511775394777,
            -43.17896077274699,
            -26.53041658045957,
            -36.261782215044406,
            41.81737189345652,
            -46.20180547714559,
            51.712204689581206,
            -61.764902930631635,
            29.945973243659274,
            -20.448694353828284,
            8.130428243815365,
            -6.41327395868945,
            -3.4596502792982378,
            -25.456282212966347,
            -39.91203803947601,
            -55.920580106843886,
            -7.165575190926846,
            12.318354609629898,
            -65.34368430849901,
            -35.771621443759265,
            -4.105440197353561,
            -37.11206704435295,
            -17.39253091553788,
            -15.922514166464504
           ]
          },
          {
           "axis": {
            "matches": true
           },
           "label": "PC 3",
           "values": [
            -76.55071289328994,
            8.62536918188359,
            -29.72256146790072,
            29.187420380096544,
            -20.03045908932536,
            18.824793282556435,
            -20.702495987585465,
            -6.530652471752313,
            3.5991933160839378,
            -12.984075390461271,
            36.18411379498529,
            46.42647217021392,
            -1.4995869879326293,
            -27.744107926618607,
            -28.369883563858142,
            -30.65085656719767,
            11.494598449994596,
            -10.117242228437979,
            29.05913520869353,
            2.0908072209740185,
            -35.18746936014182,
            2.647455658787392,
            -37.526915702233445,
            -15.749468030260447,
            -60.2372761128162,
            -19.47105899147169,
            10.324077823147988,
            48.937096654898994,
            32.223886706585155,
            20.27082145176586,
            -41.69764352390212,
            15.11450762536846,
            30.26657348564424,
            24.06571355395078,
            43.990344592623124,
            34.665062761438364,
            7.868010772788013,
            36.593944116152855,
            34.09570648241608,
            -15.35191429201897,
            -16.242838135110556,
            25.811437003802208,
            -30.000930312692322,
            7.242936507024194,
            -35.73665627728781,
            -17.43808270856109,
            4.438810556231844,
            10.685711250451076,
            42.463966922977484,
            58.75550433099011,
            6.709899927285653,
            16.48305350528024,
            -11.052956455346624,
            -6.63301149266165
           ]
          },
          {
           "axis": {
            "matches": true
           },
           "label": "PC 4",
           "values": [
            22.91925404036285,
            3.5007245523457735,
            6.687716500093406,
            -28.24689449298362,
            -22.663136956489417,
            17.77540520756,
            -31.035898079781813,
            8.483589210793772,
            60.99613349236137,
            39.4911305800964,
            -30.39671866750227,
            0.33907403289665045,
            -22.98968111578236,
            -11.655031287776039,
            -31.668942947304735,
            -7.611902575706698,
            -1.5689278800882602,
            -12.46714756380878,
            -34.33692284358582,
            13.670801313406454,
            -18.374417514569355,
            -17.14363129820834,
            -15.116083050224837,
            12.635092112692137,
            -24.01990295568778,
            0.016040254771485164,
            -41.782611434795996,
            20.279765299180404,
            44.62219451763279,
            -38.80842931965383,
            35.632990734453124,
            -34.43098450410444,
            9.020569074425882,
            -6.405496814098605,
            -16.692415740839454,
            25.54426558849602,
            11.370101022647674,
            -17.055095175211044,
            -4.15497442770141,
            -20.929354057812592,
            11.576388285430932,
            1.8347724431847698,
            -2.869397188506931,
            -4.88351597395819,
            16.57699250111095,
            -32.75334732472975,
            -41.78895049042958,
            -25.743285242860278,
            43.01045288655917,
            -7.396151902234251,
            7.200400600626807,
            44.38956656976288,
            -28.207453276457993,
            -43.096230180854356
           ]
          },
          {
           "axis": {
            "matches": true
           },
           "label": "PC 5",
           "values": [
            25.898885801152968,
            49.93033158384297,
            24.628350558562726,
            -9.485008639760329,
            -2.820554452310895,
            10.066680628484354,
            5.208951697617748,
            37.94846045144843,
            22.467552527019876,
            4.945870973401566,
            -16.538626835869717,
            23.292563586494307,
            -3.3299315941142935,
            -22.749172584800924,
            7.211408069161348,
            14.025011852156453,
            35.836296564199,
            5.268138236925119,
            16.07263661675049,
            -2.7334246775581463,
            20.50852208323161,
            12.44670021176585,
            -9.900237585103364,
            -21.593935216305223,
            -1.1834258683893029,
            -27.89418577459677,
            -1.50499844358398,
            31.919923554256226,
            78.50649526775827,
            6.722507051282123,
            -26.00746030268791,
            -21.6750071993126,
            -10.10353199093894,
            -6.377412120488647,
            -31.085271455051075,
            0.1926549078474435,
            12.26222589663915,
            15.533362169162759,
            10.062735724556186,
            -10.43914679175014,
            1.8217298273150193,
            -1.667548491571048,
            -17.24217153363591,
            1.9335659909834881,
            22.819254382033947,
            3.789559766097973,
            -32.96639295462437,
            21.266001257180832,
            0.43280552122506794,
            -1.789978706632987,
            -6.578233163025982,
            -40.21989623263842,
            -8.142343794215943,
            -2.2551637901821624
           ]
          }
         ],
         "hovertemplate": "label=normal<br>%{xaxis.title.text}=%{x}<br>%{yaxis.title.text}=%{y}<extra></extra>",
         "legendgroup": "normal",
         "marker": {
          "color": "#1F77B4",
          "opacity": 0.8,
          "symbol": "circle"
         },
         "name": "normal",
         "showlegend": true,
         "type": "splom"
        },
        {
         "diagonal": {
          "visible": true
         },
         "dimensions": [
          {
           "axis": {
            "matches": true
           },
           "label": "PC 1",
           "values": [
            37.25263068258518,
            33.32578654359177,
            8.853925987934353,
            17.48685427383951,
            115.57172977045907,
            -108.25619945249383,
            57.05968882914037,
            3.8922674932782444,
            48.7457175995541,
            16.99762543784893,
            26.243361483391762,
            -26.975726049728337,
            69.40764727204221,
            -141.60123261770232,
            53.33868452277559,
            48.031980373716245,
            100.94441129200715,
            -27.54820150577504,
            -11.38846007055248,
            -13.827191832446543,
            7.882743920761044,
            -84.6344280536258,
            -14.34971120580699,
            -4.914915689531352,
            -44.58751801599364,
            -0.729217889860102,
            -72.34231421682756,
            5.332129127833175,
            9.358309416101303,
            -79.47086995424846,
            31.15198027061221,
            14.05075081832028,
            -53.24494600223701,
            29.22390095863642,
            4.016542414416783,
            -60.92358143773895,
            112.54756274119747,
            99.10395210459696,
            -12.079590090748638,
            29.518092453673404,
            -15.674766026810643,
            -109.31995081579683,
            39.354241172766244,
            10.332419868146546,
            -107.11329902464298,
            -5.408419632294545,
            -17.528324502266603,
            2.386999319375894,
            21.185909669738965,
            -78.38260703513376,
            -76.26373835241931,
            65.34215691065215,
            -74.73484302923339,
            -24.181333943462736,
            41.59666102962579,
            11.93490846744147,
            59.2185784036074,
            40.18191284420618,
            60.817659735645684,
            99.20975962440961,
            57.24050831367613,
            61.553963375474474,
            -27.83821382246644,
            54.13028459877857,
            -1.9032034678190437,
            5.168145884536923,
            151.649767198608
           ]
          },
          {
           "axis": {
            "matches": true
           },
           "label": "PC 2",
           "values": [
            14.76000143267771,
            20.55871554447802,
            17.244199674632956,
            -1.630796671458008,
            -9.147725245893309,
            68.3331213130758,
            2.6552579201639768,
            -11.273634386046348,
            -14.980581434366348,
            -21.17338182733765,
            25.01048564723311,
            -41.71069464392002,
            -29.369358977055352,
            39.32942842771355,
            41.50515081036654,
            -48.96177989977602,
            -4.529610993548,
            -56.37086614118377,
            3.5443311581458334,
            94.10359780635608,
            45.69205724350245,
            37.0367963214185,
            0.012553421575090358,
            48.71596723421419,
            -78.00075534879203,
            46.30534977511899,
            27.286387455670873,
            19.47797202749896,
            3.087594322183046,
            -28.73748812609433,
            15.361763047364354,
            4.241570993174352,
            7.014529004109408,
            -3.684966994008833,
            28.610348679586984,
            90.3523554033439,
            19.503305793744726,
            14.78073552125071,
            -48.367811663427986,
            43.839440733050424,
            -17.46232702231528,
            49.223593946269645,
            -14.684729848671047,
            9.922025446929961,
            -17.089225852152488,
            -22.766464519916095,
            -53.90477073326598,
            -22.267869343609945,
            0.33276408999275214,
            48.70654121438097,
            -53.8939836800277,
            -2.855197395498345,
            -29.21092293333221,
            -13.498371586209796,
            -35.40635908728546,
            37.24717416593746,
            -41.56671591348113,
            33.93701555386985,
            19.51228992328351,
            21.320798234334735,
            50.07453693795227,
            -32.59449536944817,
            39.220011377749294,
            28.81948939848212,
            29.93065571691079,
            63.46612991545692,
            29.13616688931046
           ]
          },
          {
           "axis": {
            "matches": true
           },
           "label": "PC 3",
           "values": [
            0.7718567329076669,
            115.8739696870906,
            -7.212923733819071,
            54.51808041481936,
            -5.114104149660995,
            -47.83931414421243,
            7.6198662172636995,
            -23.063928273457087,
            -35.39788933631514,
            24.90815799310943,
            3.331160363671978,
            -17.752269811248357,
            13.322466107733803,
            -3.103423912125132,
            76.42586726241075,
            -35.857164350488254,
            80.98670325109796,
            8.413994002138153,
            43.2891061015714,
            -20.66193503219126,
            -24.80130987027766,
            -24.08929167872421,
            -25.243319066908818,
            -13.527427758367041,
            -37.75908079105301,
            40.382958976387535,
            47.93095027834752,
            9.123875219197386,
            -34.92960429149893,
            -19.532430660782815,
            7.990225377603799,
            -61.80083748654885,
            -18.01842654684396,
            -34.10940943849332,
            -12.351896926589411,
            -46.775959307601255,
            -4.338146425140943,
            6.686711900901341,
            27.70969491391311,
            -32.737534656654745,
            24.433302941355667,
            6.522110657990628,
            -12.961150035305092,
            -34.07408850744664,
            34.95135017396672,
            -24.12756509757619,
            10.092984537309007,
            -19.686439037038195,
            -8.911828896472434,
            -39.43375017131718,
            12.423111512040382,
            -14.41964710420045,
            -53.84717357605842,
            48.37996660348953,
            -21.904843026330134,
            4.38030320248653,
            -17.825605408835987,
            -17.096239595031687,
            -11.550719576896006,
            -19.39214171207958,
            61.58502625370924,
            4.661967689882241,
            -10.63343479369843,
            -35.72210043906827,
            19.996944411117425,
            34.22834717157111,
            4.745725945046526
           ]
          },
          {
           "axis": {
            "matches": true
           },
           "label": "PC 4",
           "values": [
            18.060355632551193,
            22.659652651539353,
            7.673802682608271,
            10.520211931035313,
            4.043159477840513,
            8.693949296239671,
            17.53590689422442,
            -16.407316250696983,
            4.9228609240005925,
            4.374816254803712,
            -20.913579882532044,
            19.552684512868154,
            -3.856354519522076,
            2.145368345067971,
            18.98879224851496,
            15.909300669802866,
            11.159428657473509,
            -8.08454640502663,
            6.042621944879619,
            -11.422148493111774,
            -11.77806619306704,
            -3.3134316170095155,
            5.929993390886868,
            -2.1939438609817987,
            23.327870993586917,
            4.403911868644237,
            -14.542198809694533,
            20.723171188530824,
            13.062105240428908,
            12.53090180900025,
            12.188934561733632,
            14.874975391349201,
            -24.844923782094963,
            25.395567963843742,
            -3.5832528261529575,
            4.69438702888561,
            -38.449950551241926,
            6.896192629534676,
            0.6444398886940073,
            -11.554900794402446,
            32.23830617092881,
            7.863372269125985,
            -21.31897961926775,
            58.12179730851653,
            13.95756271494114,
            -12.492190437562382,
            -0.8009472244323967,
            -51.09025743618013,
            63.769941512151256,
            9.749611475384082,
            -20.16255210183213,
            18.939394010419797,
            -7.263493574527422,
            -2.9377194065657313,
            -36.146018093301734,
            -33.13829094101086,
            0.43297283811958515,
            -15.50050979897277,
            18.903825770689476,
            50.736741133677945,
            -3.282957498537157,
            -23.749095230146857,
            15.645091084329321,
            47.05140923447346,
            -6.4432569668234585,
            -34.51495798744723,
            4.139962163673561
           ]
          },
          {
           "axis": {
            "matches": true
           },
           "label": "PC 5",
           "values": [
            25.248667420756327,
            -13.125362014249859,
            -8.224615181023076,
            -23.58868856711402,
            29.63727475614983,
            16.204812898562082,
            -32.79383431609028,
            -8.812193956785427,
            38.01767147625197,
            27.61598734622201,
            -33.33815175980569,
            -43.513570313470154,
            -14.522404148454344,
            -37.8165118850357,
            -3.2800715321860308,
            -4.041787676093995,
            -38.12603682682502,
            -41.08101480165534,
            -22.03241699995538,
            -6.059871236823564,
            -3.7878364735048717,
            -8.849141076153952,
            3.1167360742888657,
            -1.362604066015881,
            -4.116698052261451,
            -6.7817013333915535,
            18.764504261740754,
            0.1667109597848363,
            1.0342635810996732,
            22.672875602932915,
            5.509024690816981,
            12.309974440892228,
            13.459235847318183,
            -21.10646462254268,
            -12.463422653539498,
            -12.51996925675173,
            15.905268453178907,
            -30.99016918147304,
            4.991386349805198,
            -0.7251851267566731,
            29.825145258378328,
            6.510244072451336,
            0.2998911837253254,
            -23.730772006360013,
            23.693079608117188,
            -3.7666397854131612,
            2.501556312085105,
            0.8302980727188723,
            -18.89591657282912,
            -37.32537442797012,
            11.253035412848195,
            -12.710233840992856,
            -15.505215287455954,
            -15.95181902622345,
            19.494287244122848,
            27.365953605844343,
            22.66314702375222,
            13.974946001495427,
            9.339049457819709,
            1.1789379555346564,
            12.409635494189741,
            3.410217627273323,
            -18.863251906666434,
            -25.546600600032164,
            -14.528381093256476,
            -16.52128142132921,
            30.265267976926395
           ]
          }
         ],
         "hovertemplate": "label=cancer<br>%{xaxis.title.text}=%{x}<br>%{yaxis.title.text}=%{y}<extra></extra>",
         "legendgroup": "cancer",
         "marker": {
          "color": "#FF7F0E",
          "opacity": 0.8,
          "symbol": "circle"
         },
         "name": "cancer",
         "showlegend": true,
         "type": "splom"
        }
       ],
       "layout": {
        "dragmode": "select",
        "height": 720,
        "legend": {
         "title": {
          "text": "label"
         },
         "tracegroupgap": 0
        },
        "template": {
         "data": {
          "bar": [
           {
            "error_x": {
             "color": "#2a3f5f"
            },
            "error_y": {
             "color": "#2a3f5f"
            },
            "marker": {
             "line": {
              "color": "#E5ECF6",
              "width": 0.5
             },
             "pattern": {
              "fillmode": "overlay",
              "size": 10,
              "solidity": 0.2
             }
            },
            "type": "bar"
           }
          ],
          "barpolar": [
           {
            "marker": {
             "line": {
              "color": "#E5ECF6",
              "width": 0.5
             },
             "pattern": {
              "fillmode": "overlay",
              "size": 10,
              "solidity": 0.2
             }
            },
            "type": "barpolar"
           }
          ],
          "carpet": [
           {
            "aaxis": {
             "endlinecolor": "#2a3f5f",
             "gridcolor": "white",
             "linecolor": "white",
             "minorgridcolor": "white",
             "startlinecolor": "#2a3f5f"
            },
            "baxis": {
             "endlinecolor": "#2a3f5f",
             "gridcolor": "white",
             "linecolor": "white",
             "minorgridcolor": "white",
             "startlinecolor": "#2a3f5f"
            },
            "type": "carpet"
           }
          ],
          "choropleth": [
           {
            "colorbar": {
             "outlinewidth": 0,
             "ticks": ""
            },
            "type": "choropleth"
           }
          ],
          "contour": [
           {
            "colorbar": {
             "outlinewidth": 0,
             "ticks": ""
            },
            "colorscale": [
             [
              0,
              "#0d0887"
             ],
             [
              0.1111111111111111,
              "#46039f"
             ],
             [
              0.2222222222222222,
              "#7201a8"
             ],
             [
              0.3333333333333333,
              "#9c179e"
             ],
             [
              0.4444444444444444,
              "#bd3786"
             ],
             [
              0.5555555555555556,
              "#d8576b"
             ],
             [
              0.6666666666666666,
              "#ed7953"
             ],
             [
              0.7777777777777778,
              "#fb9f3a"
             ],
             [
              0.8888888888888888,
              "#fdca26"
             ],
             [
              1,
              "#f0f921"
             ]
            ],
            "type": "contour"
           }
          ],
          "contourcarpet": [
           {
            "colorbar": {
             "outlinewidth": 0,
             "ticks": ""
            },
            "type": "contourcarpet"
           }
          ],
          "heatmap": [
           {
            "colorbar": {
             "outlinewidth": 0,
             "ticks": ""
            },
            "colorscale": [
             [
              0,
              "#0d0887"
             ],
             [
              0.1111111111111111,
              "#46039f"
             ],
             [
              0.2222222222222222,
              "#7201a8"
             ],
             [
              0.3333333333333333,
              "#9c179e"
             ],
             [
              0.4444444444444444,
              "#bd3786"
             ],
             [
              0.5555555555555556,
              "#d8576b"
             ],
             [
              0.6666666666666666,
              "#ed7953"
             ],
             [
              0.7777777777777778,
              "#fb9f3a"
             ],
             [
              0.8888888888888888,
              "#fdca26"
             ],
             [
              1,
              "#f0f921"
             ]
            ],
            "type": "heatmap"
           }
          ],
          "heatmapgl": [
           {
            "colorbar": {
             "outlinewidth": 0,
             "ticks": ""
            },
            "colorscale": [
             [
              0,
              "#0d0887"
             ],
             [
              0.1111111111111111,
              "#46039f"
             ],
             [
              0.2222222222222222,
              "#7201a8"
             ],
             [
              0.3333333333333333,
              "#9c179e"
             ],
             [
              0.4444444444444444,
              "#bd3786"
             ],
             [
              0.5555555555555556,
              "#d8576b"
             ],
             [
              0.6666666666666666,
              "#ed7953"
             ],
             [
              0.7777777777777778,
              "#fb9f3a"
             ],
             [
              0.8888888888888888,
              "#fdca26"
             ],
             [
              1,
              "#f0f921"
             ]
            ],
            "type": "heatmapgl"
           }
          ],
          "histogram": [
           {
            "marker": {
             "pattern": {
              "fillmode": "overlay",
              "size": 10,
              "solidity": 0.2
             }
            },
            "type": "histogram"
           }
          ],
          "histogram2d": [
           {
            "colorbar": {
             "outlinewidth": 0,
             "ticks": ""
            },
            "colorscale": [
             [
              0,
              "#0d0887"
             ],
             [
              0.1111111111111111,
              "#46039f"
             ],
             [
              0.2222222222222222,
              "#7201a8"
             ],
             [
              0.3333333333333333,
              "#9c179e"
             ],
             [
              0.4444444444444444,
              "#bd3786"
             ],
             [
              0.5555555555555556,
              "#d8576b"
             ],
             [
              0.6666666666666666,
              "#ed7953"
             ],
             [
              0.7777777777777778,
              "#fb9f3a"
             ],
             [
              0.8888888888888888,
              "#fdca26"
             ],
             [
              1,
              "#f0f921"
             ]
            ],
            "type": "histogram2d"
           }
          ],
          "histogram2dcontour": [
           {
            "colorbar": {
             "outlinewidth": 0,
             "ticks": ""
            },
            "colorscale": [
             [
              0,
              "#0d0887"
             ],
             [
              0.1111111111111111,
              "#46039f"
             ],
             [
              0.2222222222222222,
              "#7201a8"
             ],
             [
              0.3333333333333333,
              "#9c179e"
             ],
             [
              0.4444444444444444,
              "#bd3786"
             ],
             [
              0.5555555555555556,
              "#d8576b"
             ],
             [
              0.6666666666666666,
              "#ed7953"
             ],
             [
              0.7777777777777778,
              "#fb9f3a"
             ],
             [
              0.8888888888888888,
              "#fdca26"
             ],
             [
              1,
              "#f0f921"
             ]
            ],
            "type": "histogram2dcontour"
           }
          ],
          "mesh3d": [
           {
            "colorbar": {
             "outlinewidth": 0,
             "ticks": ""
            },
            "type": "mesh3d"
           }
          ],
          "parcoords": [
           {
            "line": {
             "colorbar": {
              "outlinewidth": 0,
              "ticks": ""
             }
            },
            "type": "parcoords"
           }
          ],
          "pie": [
           {
            "automargin": true,
            "type": "pie"
           }
          ],
          "scatter": [
           {
            "fillpattern": {
             "fillmode": "overlay",
             "size": 10,
             "solidity": 0.2
            },
            "type": "scatter"
           }
          ],
          "scatter3d": [
           {
            "line": {
             "colorbar": {
              "outlinewidth": 0,
              "ticks": ""
             }
            },
            "marker": {
             "colorbar": {
              "outlinewidth": 0,
              "ticks": ""
             }
            },
            "type": "scatter3d"
           }
          ],
          "scattercarpet": [
           {
            "marker": {
             "colorbar": {
              "outlinewidth": 0,
              "ticks": ""
             }
            },
            "type": "scattercarpet"
           }
          ],
          "scattergeo": [
           {
            "marker": {
             "colorbar": {
              "outlinewidth": 0,
              "ticks": ""
             }
            },
            "type": "scattergeo"
           }
          ],
          "scattergl": [
           {
            "marker": {
             "colorbar": {
              "outlinewidth": 0,
              "ticks": ""
             }
            },
            "type": "scattergl"
           }
          ],
          "scattermapbox": [
           {
            "marker": {
             "colorbar": {
              "outlinewidth": 0,
              "ticks": ""
             }
            },
            "type": "scattermapbox"
           }
          ],
          "scatterpolar": [
           {
            "marker": {
             "colorbar": {
              "outlinewidth": 0,
              "ticks": ""
             }
            },
            "type": "scatterpolar"
           }
          ],
          "scatterpolargl": [
           {
            "marker": {
             "colorbar": {
              "outlinewidth": 0,
              "ticks": ""
             }
            },
            "type": "scatterpolargl"
           }
          ],
          "scatterternary": [
           {
            "marker": {
             "colorbar": {
              "outlinewidth": 0,
              "ticks": ""
             }
            },
            "type": "scatterternary"
           }
          ],
          "surface": [
           {
            "colorbar": {
             "outlinewidth": 0,
             "ticks": ""
            },
            "colorscale": [
             [
              0,
              "#0d0887"
             ],
             [
              0.1111111111111111,
              "#46039f"
             ],
             [
              0.2222222222222222,
              "#7201a8"
             ],
             [
              0.3333333333333333,
              "#9c179e"
             ],
             [
              0.4444444444444444,
              "#bd3786"
             ],
             [
              0.5555555555555556,
              "#d8576b"
             ],
             [
              0.6666666666666666,
              "#ed7953"
             ],
             [
              0.7777777777777778,
              "#fb9f3a"
             ],
             [
              0.8888888888888888,
              "#fdca26"
             ],
             [
              1,
              "#f0f921"
             ]
            ],
            "type": "surface"
           }
          ],
          "table": [
           {
            "cells": {
             "fill": {
              "color": "#EBF0F8"
             },
             "line": {
              "color": "white"
             }
            },
            "header": {
             "fill": {
              "color": "#C8D4E3"
             },
             "line": {
              "color": "white"
             }
            },
            "type": "table"
           }
          ]
         },
         "layout": {
          "annotationdefaults": {
           "arrowcolor": "#2a3f5f",
           "arrowhead": 0,
           "arrowwidth": 1
          },
          "autotypenumbers": "strict",
          "coloraxis": {
           "colorbar": {
            "outlinewidth": 0,
            "ticks": ""
           }
          },
          "colorscale": {
           "diverging": [
            [
             0,
             "#8e0152"
            ],
            [
             0.1,
             "#c51b7d"
            ],
            [
             0.2,
             "#de77ae"
            ],
            [
             0.3,
             "#f1b6da"
            ],
            [
             0.4,
             "#fde0ef"
            ],
            [
             0.5,
             "#f7f7f7"
            ],
            [
             0.6,
             "#e6f5d0"
            ],
            [
             0.7,
             "#b8e186"
            ],
            [
             0.8,
             "#7fbc41"
            ],
            [
             0.9,
             "#4d9221"
            ],
            [
             1,
             "#276419"
            ]
           ],
           "sequential": [
            [
             0,
             "#0d0887"
            ],
            [
             0.1111111111111111,
             "#46039f"
            ],
            [
             0.2222222222222222,
             "#7201a8"
            ],
            [
             0.3333333333333333,
             "#9c179e"
            ],
            [
             0.4444444444444444,
             "#bd3786"
            ],
            [
             0.5555555555555556,
             "#d8576b"
            ],
            [
             0.6666666666666666,
             "#ed7953"
            ],
            [
             0.7777777777777778,
             "#fb9f3a"
            ],
            [
             0.8888888888888888,
             "#fdca26"
            ],
            [
             1,
             "#f0f921"
            ]
           ],
           "sequentialminus": [
            [
             0,
             "#0d0887"
            ],
            [
             0.1111111111111111,
             "#46039f"
            ],
            [
             0.2222222222222222,
             "#7201a8"
            ],
            [
             0.3333333333333333,
             "#9c179e"
            ],
            [
             0.4444444444444444,
             "#bd3786"
            ],
            [
             0.5555555555555556,
             "#d8576b"
            ],
            [
             0.6666666666666666,
             "#ed7953"
            ],
            [
             0.7777777777777778,
             "#fb9f3a"
            ],
            [
             0.8888888888888888,
             "#fdca26"
            ],
            [
             1,
             "#f0f921"
            ]
           ]
          },
          "colorway": [
           "#636efa",
           "#EF553B",
           "#00cc96",
           "#ab63fa",
           "#FFA15A",
           "#19d3f3",
           "#FF6692",
           "#B6E880",
           "#FF97FF",
           "#FECB52"
          ],
          "font": {
           "color": "#2a3f5f"
          },
          "geo": {
           "bgcolor": "white",
           "lakecolor": "white",
           "landcolor": "#E5ECF6",
           "showlakes": true,
           "showland": true,
           "subunitcolor": "white"
          },
          "hoverlabel": {
           "align": "left"
          },
          "hovermode": "closest",
          "mapbox": {
           "style": "light"
          },
          "paper_bgcolor": "white",
          "plot_bgcolor": "#E5ECF6",
          "polar": {
           "angularaxis": {
            "gridcolor": "white",
            "linecolor": "white",
            "ticks": ""
           },
           "bgcolor": "#E5ECF6",
           "radialaxis": {
            "gridcolor": "white",
            "linecolor": "white",
            "ticks": ""
           }
          },
          "scene": {
           "xaxis": {
            "backgroundcolor": "#E5ECF6",
            "gridcolor": "white",
            "gridwidth": 2,
            "linecolor": "white",
            "showbackground": true,
            "ticks": "",
            "zerolinecolor": "white"
           },
           "yaxis": {
            "backgroundcolor": "#E5ECF6",
            "gridcolor": "white",
            "gridwidth": 2,
            "linecolor": "white",
            "showbackground": true,
            "ticks": "",
            "zerolinecolor": "white"
           },
           "zaxis": {
            "backgroundcolor": "#E5ECF6",
            "gridcolor": "white",
            "gridwidth": 2,
            "linecolor": "white",
            "showbackground": true,
            "ticks": "",
            "zerolinecolor": "white"
           }
          },
          "shapedefaults": {
           "line": {
            "color": "#2a3f5f"
           }
          },
          "ternary": {
           "aaxis": {
            "gridcolor": "white",
            "linecolor": "white",
            "ticks": ""
           },
           "baxis": {
            "gridcolor": "white",
            "linecolor": "white",
            "ticks": ""
           },
           "bgcolor": "#E5ECF6",
           "caxis": {
            "gridcolor": "white",
            "linecolor": "white",
            "ticks": ""
           }
          },
          "title": {
           "x": 0.05
          },
          "xaxis": {
           "automargin": true,
           "gridcolor": "white",
           "linecolor": "white",
           "ticks": "",
           "title": {
            "standoff": 15
           },
           "zerolinecolor": "white",
           "zerolinewidth": 2
          },
          "yaxis": {
           "automargin": true,
           "gridcolor": "white",
           "linecolor": "white",
           "ticks": "",
           "title": {
            "standoff": 15
           },
           "zerolinecolor": "white",
           "zerolinewidth": 2
          }
         }
        },
        "title": {
         "text": "First 5 PCs, Total Explained Variance: 0.59%"
        },
        "width": 720
       }
      }
     },
     "metadata": {},
     "output_type": "display_data"
    }
   ],
   "source": [
    "# oh no duplication anyway\n",
    "n_components = 5\n",
    "pca_first_n = PCA(n_components=n_components)\n",
    "first_n = pca_first_n.fit_transform(X)\n",
    "\n",
    "explained_variance = pca_first_n.explained_variance_ratio_\n",
    "cumsum_var = np.cumsum(explained_variance)\n",
    "print(f\"Explained Variance: {sum(pca_first_n.explained_variance_ratio_)}\")\n",
    "print(f\"# of PCs: {pca_first_n.n_components_}\")\n",
    "\n",
    "plt.bar(\n",
    "    range(0,len(explained_variance)),\n",
    "    explained_variance,\n",
    "    alpha=0.5,\n",
    "    align='center',\n",
    "    label='Individual explained variance'\n",
    ")\n",
    "\n",
    "plt.step(\n",
    "    range(0,len(cumsum_var)),\n",
    "    cumsum_var,\n",
    "    where='mid',\n",
    "    label='Cumulative explained variance'\n",
    ")\n",
    "\n",
    "plt.ylabel('Proportion of Explained Variance')\n",
    "plt.xlabel('Principal Component #')\n",
    "plt.legend(loc='best')\n",
    "\n",
    "plt.show()\n",
    "\n",
    "# TODO: figure out how to identify relevant PCs\n",
    "labels = {str(i): f\"PC {i+1}\" for i in range(n_components)}\n",
    "labels['color'] = 'label'\n",
    "\n",
    "print(first_n.shape)\n",
    "\n",
    "fig = px.scatter_matrix(\n",
    "    first_n,\n",
    "    color=Y['label'],\n",
    "    color_discrete_sequence=px.colors.qualitative.D3,\n",
    "    opacity=0.8,\n",
    "    dimensions=range(n_components),\n",
    "    labels=labels,\n",
    "    title=f'First {n_components} PCs, Total Explained Variance: {sum(pca_first_n.explained_variance_ratio_):.2f}%',\n",
    "    width=720,\n",
    "    height=720\n",
    ")\n",
    "fig.update_traces(diagonal_visible=True)\n",
    "fig.show()"
   ]
  },
  {
   "cell_type": "code",
   "execution_count": 15,
   "id": "5a55d756",
   "metadata": {},
   "outputs": [],
   "source": [
    "components = pd.DataFrame(pca.components_, columns=X.columns)\n",
    "components.to_csv('supplementary/PrincipalComponentDirections.csv', index_label=\"Principal Component\")"
   ]
  },
  {
   "cell_type": "markdown",
   "id": "2d057536",
   "metadata": {},
   "source": [
    "# 2. Single Variable Analysis"
   ]
  },
  {
   "cell_type": "code",
   "execution_count": 16,
   "id": "2ec343a6",
   "metadata": {},
   "outputs": [],
   "source": [
    "class SVA:\n",
    "    def __init__(self, data: pd.DataFrame) -> None:\n",
    "        label = data['label']\n",
    "        self.n_variables = len(data.columns) - 1 # exclude response variable\n",
    "        self.normals = data.loc[label == 'normal'].drop('label', axis='columns')\n",
    "        self.cancers = data.loc[label == 'cancer'].drop('label', axis='columns')\n",
    "        self.calcPvals()\n",
    "        self.adjustPvals()\n",
    "        self.df_unadjusted = pd.Series(self.pvals, index=data.drop('label', axis='columns').columns)\n",
    "        self.df_adjusted = pd.Series(self.pvals_adjusted, index=data.drop('label', axis='columns').columns)\n",
    "\n",
    "    def calcPvals(self):\n",
    "        ttresults = ttest_ind(self.normals, self.cancers, equal_var=False)\n",
    "        self.pvals = ttresults.pvalue\n",
    "\n",
    "    def adjustPvals(self):\n",
    "        # TODO: how does this work?\n",
    "        self.pvals_adjusted = false_discovery_control(self.pvals, method='bh')"
   ]
  },
  {
   "cell_type": "code",
   "execution_count": 17,
   "id": "7ac2d805",
   "metadata": {},
   "outputs": [],
   "source": [
    "MAX_FDR = 0.1\n",
    "sva = SVA(data)\n",
    "# sva.pvals_adjusted[sva.pvals_adjusted < MAX_FDR]\n",
    "significant_genes = sva.df_unadjusted[sva.df_adjusted < MAX_FDR]\n",
    "significant_genes.to_csv('supplementary/SignificantGenes.csv', header=False)"
   ]
  },
  {
   "cell_type": "code",
   "execution_count": 18,
   "id": "42c8dc65",
   "metadata": {},
   "outputs": [
    {
     "data": {
      "image/png": "[encoded data removed]",
      "text/plain": [
       "<Figure size 1000x600 with 1 Axes>"
      ]
     },
     "metadata": {},
     "output_type": "display_data"
    }
   ],
   "source": [
    "genes = pd.DataFrame({\"unadjusted\": sva.pvals, \"adjusted\": sva.pvals_adjusted}, index=X.columns)\n",
    "genes_sorted = genes.sort_values(by=['unadjusted'])\n",
    "genes_sorted['significant'] = np.where(genes_sorted['adjusted'] < MAX_FDR, 'red', 'blue')\n",
    "genes_sorted['rank'] = range(1, len(genes_sorted) + 1)\n",
    "\n",
    "def fdr_slope(j):\n",
    "    return MAX_FDR * j / len(genes)\n",
    "\n",
    "fig = plt.figure(figsize=(10,6))\n",
    "sns.scatterplot(data=genes_sorted, x='rank', y='unadjusted', c=genes_sorted['significant'])\n",
    "# sns.lineplot(data=genes_sorted, x='adjusted', y='adjusted')\n",
    "plt.axvline(x=len(significant_genes), c='black', linestyle=':')\n",
    "\n",
    "xx = [1, len(genes)]\n",
    "yy = [fdr_slope(1), fdr_slope(len(genes))]\n",
    "\n",
    "plt.plot(xx, yy, '-', c='black')\n",
    "plt.xlabel('Genes ordered by (raw) p-value')\n",
    "plt.ylabel('Raw p-value')\n",
    "# TODO: BH FDR control line\n",
    "plt.xscale('log')\n",
    "plt.yscale('log')\n",
    "plt.show()"
   ]
  },
  {
   "cell_type": "code",
   "execution_count": 19,
   "id": "37f4a99c",
   "metadata": {},
   "outputs": [
    {
     "data": {
      "application/vnd.plotly.v1+json": {
       "config": {
        "plotlyServerURL": "https://plot.ly"
       },
       "data": [
        {
         "diagonal": {
          "visible": true
         },
         "dimensions": [
          {
           "axis": {
            "matches": true
           },
           "label": "134910",
           "values": [
            0.8117742882916782,
            0.3899653585588539,
            0.2364878925596817,
            -1.0078484501521499,
            0.42020346858186963,
            -0.7040697902150467,
            -1.4202556145837004,
            0.4496792733101875,
            0.9329808301486403,
            -0.5875641310087214,
            -1.0735337563786167,
            0.0038577267943800935,
            -0.6308884819240507,
            -0.29776106814107917,
            -0.7288447122927275,
            -0.8189237879495266,
            -0.38428271908928796,
            -0.04454865941893498,
            -0.6786596137251175,
            -0.266252449293567,
            -0.9699872871821555,
            -1.6526316785841026,
            -0.6931434143243771,
            0.4066090241597575,
            -0.6668438816573005,
            -0.4222709329417321,
            -1.711710338923188,
            -0.2822608604822224,
            -0.5868018257140235,
            -1.390652758972933,
            -0.2865805904855104,
            -1.157768491442732,
            -0.37793017496680575,
            -0.7132174537514212,
            -2.020952186805626,
            -0.7339267475907134,
            0.3308866982197685,
            -1.4621824057920836,
            -1.1083456981698199,
            -1.0037828219137612,
            0.49986437187779753,
            0.15898685426539771,
            -0.07161049738070954,
            -0.16245187833220634,
            0.8667873203923748,
            -0.8328993850189875,
            -0.23919061133179245,
            -0.49596044476252676,
            -0.03756086088420446,
            -0.06487680061087832,
            -0.6770079522532721,
            -0.009482615862832723,
            0.06153882742651931,
            -0.1276399365410034
           ]
          },
          {
           "axis": {
            "matches": true
           },
           "label": "168498",
           "values": [
            -0.4156817291696968,
            -0.4322886708760088,
            -0.3164889151941577,
            -1.2608404111422764,
            -0.4345328521876726,
            2.0394526257904793,
            -0.1270800124897346,
            -1.3950424535797705,
            0.3127795245963664,
            0.3195120685313578,
            -0.1499706618687052,
            0.65209973891993,
            0.28360516754473725,
            0.5677185216013718,
            0.060982381427690205,
            1.353181980683695,
            1.056950047544076,
            -1.0911803039804948,
            -0.6338161526634163,
            0.6206812005566371,
            -0.5705302396744977,
            -0.03506857871151962,
            1.311440208286749,
            1.025531509180783,
            0.7611669506667897,
            0.964938613765861,
            0.7108972892855211,
            0.31412603338336464,
            1.5147630351234875,
            0.3729235837489557,
            0.8935736480549528,
            1.055603538757078,
            0.9003061919899441,
            1.1776870021115877,
            -0.1917124342656515,
            2.568181742818466,
            -0.2509588208935753,
            2.071320000416105,
            0.08297535828199526,
            -0.48166065973261196,
            -0.246021622007915,
            0.2701400796747545,
            0.5098186437604463,
            0.786301781357424,
            -0.35374232496777647,
            1.6556976214959729,
            0.5497650711080616,
            -0.7765460840852327,
            2.5910723921974363,
            0.6637694817405817,
            0.7212205233191745,
            1.1633242417169394,
            -0.1692706211490137,
            0.5924045160296735
           ]
          },
          {
           "axis": {
            "matches": true
           },
           "label": "107457",
           "values": [
            0.2832117648330477,
            0.7737854520890803,
            0.9066863237275329,
            -1.2488052628596098,
            0.9869620180057929,
            -0.5302486038533192,
            -1.2908162095318994,
            -0.2134271971017868,
            -0.021300702129151458,
            -1.2939380420871647,
            -1.2287363392900448,
            -1.250767557608634,
            -0.5372950259066331,
            -0.5397924919508456,
            0.05496120743519543,
            -0.08008034938401064,
            0.8408602544193599,
            0.1872377125625948,
            -0.37272985263620034,
            -0.16071282452572946,
            -1.6764963229310055,
            -1.4895431504785248,
            -0.6340718351198686,
            0.5327799788225712,
            -0.14385492872729488,
            -0.7421764367479253,
            -0.848586329274552,
            0.30640252095787834,
            -1.0907513403473026,
            -0.6953489484189403,
            -0.9142340081509958,
            -0.9319838561080774,
            -0.3323244198494762,
            -0.3589937893930314,
            -1.9895715306162196,
            -0.13538138322014523,
            0.09946962015169733,
            -0.8443941541289096,
            0.10232386705936877,
            -1.3872362378816758,
            0.6667511930514006,
            0.6944909051853325,
            -0.7229102701211428,
            -1.3762652263303137,
            0.20311446098651728,
            -0.9252050197023579,
            0.2774140758018401,
            -0.5541529217050676,
            -0.6194438197180524,
            0.48247387707486167,
            -0.14153585311481182,
            -1.4054320619180813,
            0.18652415083567692,
            -1.2315905861977163
           ]
          },
          {
           "axis": {
            "matches": true
           },
           "label": "207178",
           "values": [
            1.0166511310263397,
            -2.675219178345464,
            -0.833673881340147,
            0.17335947058600268,
            0.6549268581461535,
            0.5280599711772532,
            0.6066384236597209,
            -0.18134103000524793,
            -0.1984614749595286,
            1.6202565621067477,
            -0.051840228427996786,
            -0.3494725791716452,
            -0.6216437553679018,
            1.0583547789918952,
            1.2036590682192516,
            0.35070972088162794,
            0.5025987966298615,
            0.2646685103421662,
            0.869151912958691,
            0.22559877698496159,
            0.16545772676095005,
            0.4068998991931132,
            -0.013209480838850686,
            0.44377470371002536,
            1.0943516119726904,
            1.2225354562457662,
            0.9130504897645388,
            0.6443911997127499,
            2.1900600890466526,
            -0.3652760668217504,
            0.44201876063779155,
            0.3182247740453006,
            0.12507103609957002,
            0.4099727995695226,
            -0.8512333120624861,
            -0.30952487427832365,
            -0.2871366001073412,
            1.948178930846431,
            0.45167644753507796,
            0.022348366373886066,
            -0.1967055318872947,
            1.5623104407230286,
            0.8208634784722584,
            0.9494863085133926,
            0.1645797552248331,
            1.5530917395938006,
            0.6022485659791361,
            0.44860354715866857,
            1.766438822870221,
            1.493828660905906,
            -0.4855581672697735,
            -0.1945106030470023,
            -0.46097496425849877,
            1.1435180179952402
           ]
          },
          {
           "axis": {
            "matches": true
           },
           "label": "192905",
           "values": [
            -0.7710439086448848,
            -0.8921065936562347,
            -0.6628863829494654,
            0.8092235761606298,
            0.26659235349554355,
            -0.15559071555418943,
            0.2155862476278175,
            0.3148330680812846,
            0.17748530107602203,
            -0.056036629402724,
            0.7164293353651281,
            1.1653445201407175,
            -0.25237941042366974,
            0.09913254808644278,
            1.764205365539502,
            -0.4643927420425312,
            0.2023738226138884,
            -0.28771496569348,
            -0.41492296466479683,
            1.4858226431529968,
            -0.6684171655134357,
            -0.017321151454931866,
            0.41438715423274997,
            0.1562839679141359,
            0.947185874561889,
            0.8470172570144268,
            -0.3525480279711318,
            0.9235264158160161,
            1.8173623312932166,
            -0.9326656657920168,
            1.9587045523724576,
            -0.5077172054602985,
            -1.771808287025511,
            0.03706487709077608,
            0.32558736751122686,
            -1.5545714385406773,
            0.7886367743947404,
            -0.18293736267604258,
            1.2470771958082787,
            1.4723029524410693,
            -0.050813112536752046,
            1.2504571184862605,
            1.0424382409413777,
            0.5560366410099894,
            0.7324071516610422,
            0.8212069383825655,
            0.9124648506880755,
            3.0365926209506693,
            0.5935230561657882,
            2.3845748097981705,
            1.4716884210450725,
            1.2519934469762524,
            0.0407520654667563,
            0.5154775688742071
           ]
          }
         ],
         "hovertemplate": "color=normal<br>%{xaxis.title.text}=%{x}<br>%{yaxis.title.text}=%{y}<extra></extra>",
         "legendgroup": "normal",
         "marker": {
          "color": "#1F77B4",
          "opacity": 0.8,
          "symbol": "circle"
         },
         "name": "normal",
         "showlegend": true,
         "type": "splom"
        },
        {
         "diagonal": {
          "visible": true
         },
         "dimensions": [
          {
           "axis": {
            "matches": true
           },
           "label": "134910",
           "values": [
            -0.398258316158749,
            0.2965829599583642,
            0.3015379443739004,
            -0.6740857819569301,
            -1.5048715022951646,
            1.0954789088017374,
            0.6082387746073454,
            -0.04975774559937046,
            1.456430465841181,
            0.02875969975451068,
            -0.38796719468032775,
            0.43799059212482006,
            2.1566078790211796,
            0.5885458878276504,
            -0.9652864045315186,
            -0.47016911562524866,
            0.010591423564211324,
            -1.2787209315347952,
            -1.0614639225459004,
            -0.1398368212561694,
            -1.1199073284727377,
            0.008431558562567344,
            -0.7919890008702016,
            1.7434384092949313,
            0.8111390338794299,
            0.015546407979747514,
            -1.152686456144746,
            -0.5024400397674587,
            3.076964471486414,
            -0.056237340604302404,
            1.813189343759787,
            1.304350559548955,
            0.6618542470010961,
            1.3889664472604193,
            0.3532476535309062,
            0.6345383072744222,
            -0.9838358333691668,
            0.006144642678473719,
            0.08262927391316054,
            2.3295241300351477,
            -1.4971213984657363,
            0.7657818688449064,
            -0.06195463031453646,
            1.0876017540898593,
            1.1605289606159561,
            0.14158088336979618,
            0.2963288581934649,
            1.7072289077967822,
            1.654629842462629,
            3.436518468818912,
            -0.30995795285624517,
            -0.6035725421973768,
            -0.6400361454604252,
            -0.4235414417662286,
            -0.9191669342022971,
            -0.4967227500572246,
            1.8955183155871573,
            1.059396458186038,
            0.7380847764708836,
            0.4790280271560557,
            0.5658037798691637,
            -0.9389868718644419,
            0.37078067530895736,
            2.83112101394635,
            -0.01888438116410652,
            0.7613350879591687,
            0.3189439152695019
           ]
          },
          {
           "axis": {
            "matches": true
           },
           "label": "168498",
           "values": [
            -0.2163984286939531,
            0.8940224843172856,
            -1.357340207543819,
            0.3590096596166402,
            0.9492293445842145,
            -1.5427095838872473,
            -0.5759162748224907,
            -0.46550255428863274,
            -2.0858014613098823,
            -0.7172996974573089,
            -0.8407296695988169,
            1.1503079901092896,
            0.4056886308992469,
            0.8468946767723462,
            -0.3595771963781023,
            -0.2603843824025632,
            -0.4910862212415999,
            1.5385513570271234,
            1.5587489888320976,
            -1.142347637886429,
            -1.6113815320241591,
            -0.49781876517659124,
            -0.07995220494479523,
            -1.34118210209984,
            1.8002228979671204,
            -1.3129054175728763,
            -0.07232198848513836,
            -0.4650537180263,
            0.8823527414966339,
            0.22076809081815138,
            -1.1387569477877668,
            -0.8043739323498637,
            -0.8838179507827615,
            -0.47851880589628265,
            -0.8155948389081826,
            -2.9767414420404035,
            -1.189924281693701,
            0.4474304032961932,
            -0.2891099031918596,
            -1.9700017056280312,
            -0.479865314683281,
            -1.1665847960523978,
            -1.0467455140095518,
            0.8617062734293272,
            -0.059754573139821195,
            -0.4031143138243796,
            0.5282209305160893,
            -0.38067250070774183,
            0.25039128413211326,
            -0.5763651110848235,
            1.123377814369324,
            -2.1306850875431578,
            0.6458160312472714,
            0.5713092117000339,
            -0.2603843824025632,
            0.5340558019264151,
            -0.20876821223429623,
            -1.480770179685327,
            0.6148463291463113,
            0.20820067547283422,
            -0.7379461655246157,
            -0.7123624985716486,
            -0.0750150060591349,
            -0.17555432882167227,
            -1.3546471899698227,
            -0.8380366520248204,
            -1.4848097060463217
           ]
          },
          {
           "axis": {
            "matches": true
           },
           "label": "107457",
           "values": [
            -0.4368612128429435,
            0.6477526120722124,
            -0.01933840738012732,
            -0.17489486384822203,
            -0.9152151555255077,
            0.8421981826573307,
            -0.7825818695346494,
            1.0996155756429509,
            2.1102865666062427,
            -0.0010533881278570213,
            -0.35355288122528267,
            -1.1602344135059297,
            2.2509474220249266,
            -0.34829036348926345,
            -0.0949759504334211,
            0.09144205072387133,
            -0.16695648963626078,
            -0.3911932623202001,
            0.3704446859487568,
            -0.4870781193747883,
            -1.7162773892066765,
            1.1121921010798783,
            -0.6311283929963324,
            1.8290540509847388,
            0.3567978179214526,
            0.7156301713452744,
            -0.6935650441016457,
            -0.6709986544878681,
            2.609958165880478,
            0.5675661130098171,
            1.8221860193631545,
            1.8080039800406618,
            1.5165140145947138,
            0.7986709173153409,
            0.1880404695053774,
            -0.1941610304750044,
            -0.9676619424539707,
            -0.29263254878966993,
            0.7408724174349939,
            2.664813223637289,
            -1.715474632263894,
            0.3840023587601962,
            0.3663417060189791,
            -0.48770248588584136,
            0.7455105686599599,
            -1.321320973357638,
            0.7873431249005199,
            2.1396317926257398,
            0.3759747893323702,
            2.1245578011446002,
            -0.005334758489364214,
            -0.8014020600821081,
            -0.9531231222680193,
            -0.4024318595191565,
            0.5679228938732762,
            0.19401654896831452,
            1.822988776305937,
            1.1263741404023708,
            0.9216711199928082,
            0.4019305971490076,
            0.9108784988731754,
            -1.1937718146710694,
            -0.1715054456453622,
            2.2414927291432654,
            -0.661365571174477,
            0.8408602544193599,
            0.4922853508199824
           ]
          },
          {
           "axis": {
            "matches": true
           },
           "label": "207178",
           "values": [
            -0.9074234903739714,
            -2.267840385587196,
            -0.7169036670365916,
            -0.9210320491837841,
            -1.5887294024007297,
            0.35290464972192037,
            -0.8679147712487083,
            -0.6479829014514106,
            -1.1927642396119822,
            -2.0053268962882256,
            -1.512784864526613,
            0.4464086183183762,
            -0.49302092532676767,
            1.8551139480180336,
            -1.6141905769481215,
            -0.4526342346653876,
            -2.2041874492187166,
            0.6465861285530424,
            -0.18265798730942334,
            0.328760432478704,
            -0.09047097601714288,
            -0.20987510492904904,
            0.5056716970062708,
            -0.21382597684157537,
            1.7545862071326421,
            -1.1374520328366138,
            0.6637065735073231,
            -1.097065342175234,
            0.039029825560108256,
            1.0153341737221644,
            0.1298998795482133,
            -0.0882760471768505,
            0.6329775697432296,
            -0.03998761269041787,
            -0.8626469420320065,
            1.4521250129403505,
            -1.716474260905747,
            -1.3196311265808827,
            -0.20285133264011337,
            -1.1839845242508125,
            -0.24587193790984427,
            1.8393104603679284,
            -0.13744245319940007,
            -1.035607334647047,
            0.7339442963966796,
            0.931487892022995,
            0.09653696117576893,
            0.4604561628962475,
            -0.20768017608875664,
            -0.19012074536641752,
            1.1465909183716494,
            -0.08608111833655811,
            1.5882106010384789,
            -0.47282757999607755,
            -0.5992554811969194,
            -1.0158529750844156,
            0.4068998991931132,
            0.09829290424800284,
            -0.7019781509226034,
            -1.1888133676994561,
            -1.2230542576080172,
            -0.5974995381246855,
            0.1707255559776518,
            -1.3104124254516543,
            -0.7072459801393052,
            -1.409184223264812,
            -2.7305313851208326
           ]
          },
          {
           "axis": {
            "matches": true
           },
           "label": "192905",
           "values": [
            -0.5783883159999191,
            -0.38266006637497013,
            -0.09536663874651281,
            -1.556107767030669,
            -1.3932569470915435,
            1.7771105248554326,
            -2.0661688257079303,
            -0.6908475614673153,
            0.6740266690413559,
            -1.2052103399165535,
            -0.9080844099521488,
            -0.0781597596586052,
            -1.6295442688522748,
            0.6952280022032419,
            -0.5470472148040875,
            -1.2168864364404905,
            -0.56517589098599,
            -0.42106827862476387,
            0.2758103244354941,
            1.2513789155802557,
            -0.5654831566839884,
            0.949029468749879,
            0.6755629975313476,
            -0.538751040958132,
            0.028154171848823926,
            -1.7011371764858905,
            1.6720256561399969,
            -0.34271552563518465,
            0.10128340797243125,
            0.5345280421501049,
            0.26689961919354194,
            -0.30369278198939414,
            0.13846255743023161,
            -1.2178082335344858,
            0.0001929933309740768,
            -0.6140311369677278,
            -0.9560178588398913,
            -1.8249652527792255,
            0.7019878475592057,
            -1.873513233062965,
            0.007874635780932835,
            -0.14237829054026038,
            -0.7876362563367956,
            -1.0921365630531605,
            0.15474763942414416,
            -0.0720144456986382,
            1.1281653706829171,
            0.6426855678455242,
            -0.4729961815864851,
            -0.5221586932662211,
            -0.09782476433049961,
            -1.5309119797948043,
            0.7508430935409433,
            0.07055683817259625,
            0.23125679822573336,
            -0.978448254793771,
            1.4163805954053696,
            -0.19092627082399968,
            -0.8355697052245382,
            -1.1898470550166358,
            -0.948643482087931,
            -0.8202064203246207,
            -0.07232171139663655,
            -0.325508646547277,
            0.42913590773667076,
            -1.0481975682393965,
            -2.9394179394192412
           ]
          }
         ],
         "hovertemplate": "color=cancer<br>%{xaxis.title.text}=%{x}<br>%{yaxis.title.text}=%{y}<extra></extra>",
         "legendgroup": "cancer",
         "marker": {
          "color": "#FF7F0E",
          "opacity": 0.8,
          "symbol": "circle"
         },
         "name": "cancer",
         "showlegend": true,
         "type": "splom"
        }
       ],
       "layout": {
        "dragmode": "select",
        "height": 720,
        "legend": {
         "title": {
          "text": "color"
         },
         "tracegroupgap": 0
        },
        "template": {
         "data": {
          "bar": [
           {
            "error_x": {
             "color": "#2a3f5f"
            },
            "error_y": {
             "color": "#2a3f5f"
            },
            "marker": {
             "line": {
              "color": "#E5ECF6",
              "width": 0.5
             },
             "pattern": {
              "fillmode": "overlay",
              "size": 10,
              "solidity": 0.2
             }
            },
            "type": "bar"
           }
          ],
          "barpolar": [
           {
            "marker": {
             "line": {
              "color": "#E5ECF6",
              "width": 0.5
             },
             "pattern": {
              "fillmode": "overlay",
              "size": 10,
              "solidity": 0.2
             }
            },
            "type": "barpolar"
           }
          ],
          "carpet": [
           {
            "aaxis": {
             "endlinecolor": "#2a3f5f",
             "gridcolor": "white",
             "linecolor": "white",
             "minorgridcolor": "white",
             "startlinecolor": "#2a3f5f"
            },
            "baxis": {
             "endlinecolor": "#2a3f5f",
             "gridcolor": "white",
             "linecolor": "white",
             "minorgridcolor": "white",
             "startlinecolor": "#2a3f5f"
            },
            "type": "carpet"
           }
          ],
          "choropleth": [
           {
            "colorbar": {
             "outlinewidth": 0,
             "ticks": ""
            },
            "type": "choropleth"
           }
          ],
          "contour": [
           {
            "colorbar": {
             "outlinewidth": 0,
             "ticks": ""
            },
            "colorscale": [
             [
              0,
              "#0d0887"
             ],
             [
              0.1111111111111111,
              "#46039f"
             ],
             [
              0.2222222222222222,
              "#7201a8"
             ],
             [
              0.3333333333333333,
              "#9c179e"
             ],
             [
              0.4444444444444444,
              "#bd3786"
             ],
             [
              0.5555555555555556,
              "#d8576b"
             ],
             [
              0.6666666666666666,
              "#ed7953"
             ],
             [
              0.7777777777777778,
              "#fb9f3a"
             ],
             [
              0.8888888888888888,
              "#fdca26"
             ],
             [
              1,
              "#f0f921"
             ]
            ],
            "type": "contour"
           }
          ],
          "contourcarpet": [
           {
            "colorbar": {
             "outlinewidth": 0,
             "ticks": ""
            },
            "type": "contourcarpet"
           }
          ],
          "heatmap": [
           {
            "colorbar": {
             "outlinewidth": 0,
             "ticks": ""
            },
            "colorscale": [
             [
              0,
              "#0d0887"
             ],
             [
              0.1111111111111111,
              "#46039f"
             ],
             [
              0.2222222222222222,
              "#7201a8"
             ],
             [
              0.3333333333333333,
              "#9c179e"
             ],
             [
              0.4444444444444444,
              "#bd3786"
             ],
             [
              0.5555555555555556,
              "#d8576b"
             ],
             [
              0.6666666666666666,
              "#ed7953"
             ],
             [
              0.7777777777777778,
              "#fb9f3a"
             ],
             [
              0.8888888888888888,
              "#fdca26"
             ],
             [
              1,
              "#f0f921"
             ]
            ],
            "type": "heatmap"
           }
          ],
          "heatmapgl": [
           {
            "colorbar": {
             "outlinewidth": 0,
             "ticks": ""
            },
            "colorscale": [
             [
              0,
              "#0d0887"
             ],
             [
              0.1111111111111111,
              "#46039f"
             ],
             [
              0.2222222222222222,
              "#7201a8"
             ],
             [
              0.3333333333333333,
              "#9c179e"
             ],
             [
              0.4444444444444444,
              "#bd3786"
             ],
             [
              0.5555555555555556,
              "#d8576b"
             ],
             [
              0.6666666666666666,
              "#ed7953"
             ],
             [
              0.7777777777777778,
              "#fb9f3a"
             ],
             [
              0.8888888888888888,
              "#fdca26"
             ],
             [
              1,
              "#f0f921"
             ]
            ],
            "type": "heatmapgl"
           }
          ],
          "histogram": [
           {
            "marker": {
             "pattern": {
              "fillmode": "overlay",
              "size": 10,
              "solidity": 0.2
             }
            },
            "type": "histogram"
           }
          ],
          "histogram2d": [
           {
            "colorbar": {
             "outlinewidth": 0,
             "ticks": ""
            },
            "colorscale": [
             [
              0,
              "#0d0887"
             ],
             [
              0.1111111111111111,
              "#46039f"
             ],
             [
              0.2222222222222222,
              "#7201a8"
             ],
             [
              0.3333333333333333,
              "#9c179e"
             ],
             [
              0.4444444444444444,
              "#bd3786"
             ],
             [
              0.5555555555555556,
              "#d8576b"
             ],
             [
              0.6666666666666666,
              "#ed7953"
             ],
             [
              0.7777777777777778,
              "#fb9f3a"
             ],
             [
              0.8888888888888888,
              "#fdca26"
             ],
             [
              1,
              "#f0f921"
             ]
            ],
            "type": "histogram2d"
           }
          ],
          "histogram2dcontour": [
           {
            "colorbar": {
             "outlinewidth": 0,
             "ticks": ""
            },
            "colorscale": [
             [
              0,
              "#0d0887"
             ],
             [
              0.1111111111111111,
              "#46039f"
             ],
             [
              0.2222222222222222,
              "#7201a8"
             ],
             [
              0.3333333333333333,
              "#9c179e"
             ],
             [
              0.4444444444444444,
              "#bd3786"
             ],
             [
              0.5555555555555556,
              "#d8576b"
             ],
             [
              0.6666666666666666,
              "#ed7953"
             ],
             [
              0.7777777777777778,
              "#fb9f3a"
             ],
             [
              0.8888888888888888,
              "#fdca26"
             ],
             [
              1,
              "#f0f921"
             ]
            ],
            "type": "histogram2dcontour"
           }
          ],
          "mesh3d": [
           {
            "colorbar": {
             "outlinewidth": 0,
             "ticks": ""
            },
            "type": "mesh3d"
           }
          ],
          "parcoords": [
           {
            "line": {
             "colorbar": {
              "outlinewidth": 0,
              "ticks": ""
             }
            },
            "type": "parcoords"
           }
          ],
          "pie": [
           {
            "automargin": true,
            "type": "pie"
           }
          ],
          "scatter": [
           {
            "fillpattern": {
             "fillmode": "overlay",
             "size": 10,
             "solidity": 0.2
            },
            "type": "scatter"
           }
          ],
          "scatter3d": [
           {
            "line": {
             "colorbar": {
              "outlinewidth": 0,
              "ticks": ""
             }
            },
            "marker": {
             "colorbar": {
              "outlinewidth": 0,
              "ticks": ""
             }
            },
            "type": "scatter3d"
           }
          ],
          "scattercarpet": [
           {
            "marker": {
             "colorbar": {
              "outlinewidth": 0,
              "ticks": ""
             }
            },
            "type": "scattercarpet"
           }
          ],
          "scattergeo": [
           {
            "marker": {
             "colorbar": {
              "outlinewidth": 0,
              "ticks": ""
             }
            },
            "type": "scattergeo"
           }
          ],
          "scattergl": [
           {
            "marker": {
             "colorbar": {
              "outlinewidth": 0,
              "ticks": ""
             }
            },
            "type": "scattergl"
           }
          ],
          "scattermapbox": [
           {
            "marker": {
             "colorbar": {
              "outlinewidth": 0,
              "ticks": ""
             }
            },
            "type": "scattermapbox"
           }
          ],
          "scatterpolar": [
           {
            "marker": {
             "colorbar": {
              "outlinewidth": 0,
              "ticks": ""
             }
            },
            "type": "scatterpolar"
           }
          ],
          "scatterpolargl": [
           {
            "marker": {
             "colorbar": {
              "outlinewidth": 0,
              "ticks": ""
             }
            },
            "type": "scatterpolargl"
           }
          ],
          "scatterternary": [
           {
            "marker": {
             "colorbar": {
              "outlinewidth": 0,
              "ticks": ""
             }
            },
            "type": "scatterternary"
           }
          ],
          "surface": [
           {
            "colorbar": {
             "outlinewidth": 0,
             "ticks": ""
            },
            "colorscale": [
             [
              0,
              "#0d0887"
             ],
             [
              0.1111111111111111,
              "#46039f"
             ],
             [
              0.2222222222222222,
              "#7201a8"
             ],
             [
              0.3333333333333333,
              "#9c179e"
             ],
             [
              0.4444444444444444,
              "#bd3786"
             ],
             [
              0.5555555555555556,
              "#d8576b"
             ],
             [
              0.6666666666666666,
              "#ed7953"
             ],
             [
              0.7777777777777778,
              "#fb9f3a"
             ],
             [
              0.8888888888888888,
              "#fdca26"
             ],
             [
              1,
              "#f0f921"
             ]
            ],
            "type": "surface"
           }
          ],
          "table": [
           {
            "cells": {
             "fill": {
              "color": "#EBF0F8"
             },
             "line": {
              "color": "white"
             }
            },
            "header": {
             "fill": {
              "color": "#C8D4E3"
             },
             "line": {
              "color": "white"
             }
            },
            "type": "table"
           }
          ]
         },
         "layout": {
          "annotationdefaults": {
           "arrowcolor": "#2a3f5f",
           "arrowhead": 0,
           "arrowwidth": 1
          },
          "autotypenumbers": "strict",
          "coloraxis": {
           "colorbar": {
            "outlinewidth": 0,
            "ticks": ""
           }
          },
          "colorscale": {
           "diverging": [
            [
             0,
             "#8e0152"
            ],
            [
             0.1,
             "#c51b7d"
            ],
            [
             0.2,
             "#de77ae"
            ],
            [
             0.3,
             "#f1b6da"
            ],
            [
             0.4,
             "#fde0ef"
            ],
            [
             0.5,
             "#f7f7f7"
            ],
            [
             0.6,
             "#e6f5d0"
            ],
            [
             0.7,
             "#b8e186"
            ],
            [
             0.8,
             "#7fbc41"
            ],
            [
             0.9,
             "#4d9221"
            ],
            [
             1,
             "#276419"
            ]
           ],
           "sequential": [
            [
             0,
             "#0d0887"
            ],
            [
             0.1111111111111111,
             "#46039f"
            ],
            [
             0.2222222222222222,
             "#7201a8"
            ],
            [
             0.3333333333333333,
             "#9c179e"
            ],
            [
             0.4444444444444444,
             "#bd3786"
            ],
            [
             0.5555555555555556,
             "#d8576b"
            ],
            [
             0.6666666666666666,
             "#ed7953"
            ],
            [
             0.7777777777777778,
             "#fb9f3a"
            ],
            [
             0.8888888888888888,
             "#fdca26"
            ],
            [
             1,
             "#f0f921"
            ]
           ],
           "sequentialminus": [
            [
             0,
             "#0d0887"
            ],
            [
             0.1111111111111111,
             "#46039f"
            ],
            [
             0.2222222222222222,
             "#7201a8"
            ],
            [
             0.3333333333333333,
             "#9c179e"
            ],
            [
             0.4444444444444444,
             "#bd3786"
            ],
            [
             0.5555555555555556,
             "#d8576b"
            ],
            [
             0.6666666666666666,
             "#ed7953"
            ],
            [
             0.7777777777777778,
             "#fb9f3a"
            ],
            [
             0.8888888888888888,
             "#fdca26"
            ],
            [
             1,
             "#f0f921"
            ]
           ]
          },
          "colorway": [
           "#636efa",
           "#EF553B",
           "#00cc96",
           "#ab63fa",
           "#FFA15A",
           "#19d3f3",
           "#FF6692",
           "#B6E880",
           "#FF97FF",
           "#FECB52"
          ],
          "font": {
           "color": "#2a3f5f"
          },
          "geo": {
           "bgcolor": "white",
           "lakecolor": "white",
           "landcolor": "#E5ECF6",
           "showlakes": true,
           "showland": true,
           "subunitcolor": "white"
          },
          "hoverlabel": {
           "align": "left"
          },
          "hovermode": "closest",
          "mapbox": {
           "style": "light"
          },
          "paper_bgcolor": "white",
          "plot_bgcolor": "#E5ECF6",
          "polar": {
           "angularaxis": {
            "gridcolor": "white",
            "linecolor": "white",
            "ticks": ""
           },
           "bgcolor": "#E5ECF6",
           "radialaxis": {
            "gridcolor": "white",
            "linecolor": "white",
            "ticks": ""
           }
          },
          "scene": {
           "xaxis": {
            "backgroundcolor": "#E5ECF6",
            "gridcolor": "white",
            "gridwidth": 2,
            "linecolor": "white",
            "showbackground": true,
            "ticks": "",
            "zerolinecolor": "white"
           },
           "yaxis": {
            "backgroundcolor": "#E5ECF6",
            "gridcolor": "white",
            "gridwidth": 2,
            "linecolor": "white",
            "showbackground": true,
            "ticks": "",
            "zerolinecolor": "white"
           },
           "zaxis": {
            "backgroundcolor": "#E5ECF6",
            "gridcolor": "white",
            "gridwidth": 2,
            "linecolor": "white",
            "showbackground": true,
            "ticks": "",
            "zerolinecolor": "white"
           }
          },
          "shapedefaults": {
           "line": {
            "color": "#2a3f5f"
           }
          },
          "ternary": {
           "aaxis": {
            "gridcolor": "white",
            "linecolor": "white",
            "ticks": ""
           },
           "baxis": {
            "gridcolor": "white",
            "linecolor": "white",
            "ticks": ""
           },
           "bgcolor": "#E5ECF6",
           "caxis": {
            "gridcolor": "white",
            "linecolor": "white",
            "ticks": ""
           }
          },
          "title": {
           "x": 0.05
          },
          "xaxis": {
           "automargin": true,
           "gridcolor": "white",
           "linecolor": "white",
           "ticks": "",
           "title": {
            "standoff": 15
           },
           "zerolinecolor": "white",
           "zerolinewidth": 2
          },
          "yaxis": {
           "automargin": true,
           "gridcolor": "white",
           "linecolor": "white",
           "ticks": "",
           "title": {
            "standoff": 15
           },
           "zerolinecolor": "white",
           "zerolinewidth": 2
          }
         }
        },
        "title": {
         "text": "Top 5 Potentially Significant Genes, Based on p-values"
        },
        "width": 720
       }
      }
     },
     "metadata": {},
     "output_type": "display_data"
    }
   ],
   "source": [
    "asdf = data.copy()\n",
    "asdf.loc[len(data)] = np.append(sva.pvals, 999)\n",
    "asdf.sort_values(by=len(data), axis=1, inplace=True)\n",
    "asdf.drop(len(data), inplace=True)\n",
    "asdf\n",
    "n_pcs = 5\n",
    "top_n_pcs = asdf.iloc[:,:n_pcs]\n",
    "\n",
    "fig = px.scatter_matrix(\n",
    "    top_n_pcs,\n",
    "    color=Y['label'],\n",
    "    color_discrete_sequence=px.colors.qualitative.D3,\n",
    "    opacity=0.8,\n",
    "    dimensions=top_n_pcs.columns,\n",
    "    # labels=labels,\n",
    "    title='Top 5 Potentially Significant Genes, Based on p-values',\n",
    "    width=720,\n",
    "    height=720\n",
    ")\n",
    "fig.update_traces(diagonal_visible=True)\n",
    "fig.show()"
   ]
  },
  {
   "cell_type": "markdown",
   "id": "7fa73a98",
   "metadata": {},
   "source": [
    "# 1. Significant PCs"
   ]
  },
  {
   "cell_type": "code",
   "execution_count": 20,
   "id": "39bd6a01",
   "metadata": {},
   "outputs": [],
   "source": [
    "data_reduced = pd.DataFrame(x).join(Y.reset_index()['label'])"
   ]
  },
  {
   "cell_type": "code",
   "execution_count": 21,
   "id": "917225ca",
   "metadata": {},
   "outputs": [
    {
     "name": "stderr",
     "output_type": "stream",
     "text": [
      "/home/avatar/Documents/UQ S2 2023/STAT3006/A4/code/env/lib/python3.11/site-packages/scipy/stats/_axis_nan_policy.py:551: RuntimeWarning:\n",
      "\n",
      "Precision loss occurred in moment calculation due to catastrophic cancellation. This occurs when the data are nearly identical. Results may be unreliable.\n",
      "\n"
     ]
    },
    {
     "data": {
      "application/vnd.plotly.v1+json": {
       "config": {
        "plotlyServerURL": "https://plot.ly"
       },
       "data": [
        {
         "diagonal": {
          "visible": true
         },
         "dimensions": [
          {
           "axis": {
            "matches": true
           },
           "label": "99",
           "values": [
            0.43800652569330767,
            -0.6411060326393929,
            -2.4921512174763083,
            -3.7945248091540855,
            2.0809606229841857,
            -8.343498823993073,
            2.0599069303857585,
            -3.970591687329902,
            1.80071123682408,
            -4.352823666927442,
            -2.868664276531424,
            -1.2879291126643067,
            1.7148857860711495,
            -0.6737549005003339,
            4.0976470152035125,
            0.9458096038101369,
            1.4185944489672264,
            -1.900141236016148,
            -5.80882003053832,
            1.407322928555929,
            -0.1530590573160363,
            -0.1864107009709197,
            6.665081799016882,
            3.9033149705008388,
            0.9479563029855607,
            -4.506568206050613,
            0.3439340744632473,
            0.8374026215654738,
            -0.18425316756374324,
            -2.5335417368608306,
            1.8442004857039491,
            0.8299655473293577,
            -4.473103997589934,
            3.676465922980709,
            -11.847263837672628,
            -1.390949321255068,
            -5.991296079128738,
            1.578160795576753,
            0.1490557538755949,
            -5.549061337369193,
            -7.851618353286404,
            1.1383638731044423,
            -6.232262557645443,
            2.0930035595787237,
            -0.5519770686901124,
            -1.0079260625387962,
            -5.204983481643947,
            3.274338217798217,
            -1.1312222137596406,
            -0.09935397153618693,
            2.653634883896168,
            -0.06361176559700127,
            -10.290097644525567,
            -10.565246632612796
           ]
          },
          {
           "axis": {
            "matches": true
           },
           "label": "22",
           "values": [
            -16.289517393736904,
            -2.947432881402927,
            8.92603452455826,
            -9.978679191243828,
            -5.400706012717326,
            -4.190430596197934,
            -3.8393202360718623,
            0.40974689935619807,
            -5.4273376700968665,
            -5.939801499794411,
            -9.050525929823895,
            -6.6099730383167214,
            2.927465362921232,
            -2.1385967501135053,
            10.170553925437678,
            -10.758310610296014,
            3.8298464127578353,
            -0.20346098424521897,
            1.829742993785602,
            0.7942773389258538,
            -4.313016457251985,
            -2.665997808944892,
            -8.131184950186924,
            -6.311055320522141,
            -7.624931486584621,
            -6.632600320380104,
            -9.278827077447652,
            6.228980274437528,
            3.976607319544036,
            -4.515158252546969,
            -14.242119884871158,
            0.6639907304799827,
            -4.7484211646153085,
            -10.904452870941792,
            -8.910881736869761,
            14.858043350587382,
            -3.0713334011282685,
            -8.850205892255788,
            -0.05118894872839728,
            13.580080149236776,
            6.446293851305221,
            2.7472573364455894,
            -1.2056403261846962,
            6.284281687401269,
            -2.9643188921490964,
            -4.056190690724698,
            -6.027381881976109,
            -5.504091665132977,
            18.239988839986907,
            -4.05508681970509,
            -3.830462911167042,
            -15.929901600015235,
            5.910407981964569,
            -4.256738712885261
           ]
          },
          {
           "axis": {
            "matches": true
           },
           "label": "1",
           "values": [
            -21.27794917573752,
            31.831402692691924,
            -29.128576128358006,
            27.492687358707336,
            18.34080307314012,
            -26.376646117265118,
            -4.559207192389029,
            80.96670395892461,
            21.41819278222565,
            48.095602333570994,
            -7.71591017800331,
            -5.3855096591839695,
            21.69897971642582,
            -27.664759968829433,
            10.758983820772439,
            -2.118103744200192,
            8.496492912739965,
            58.37881618897924,
            43.84130206192236,
            29.379039240711528,
            0.6427190149846772,
            -47.180717478665606,
            -26.840092016717342,
            -46.85388072587417,
            -16.745007341341932,
            -37.51358324092899,
            -33.11020671095624,
            -11.548632616912316,
            -55.38451997074722,
            -34.34714129520577,
            -47.225117762100375,
            -43.17896078057717,
            -26.53041657046063,
            -36.26178219500922,
            41.817371897739434,
            -46.20180544948855,
            51.71220473303419,
            -61.76490295963602,
            29.94597324247183,
            -20.4486943549903,
            8.130428243520601,
            -6.413274010535909,
            -3.4596502764476953,
            -25.45628220438376,
            -39.912038052257515,
            -55.92058011885864,
            -7.165575193106712,
            12.318354606114433,
            -65.34368425876669,
            -35.771621487953034,
            -4.105440192007407,
            -37.11206703693189,
            -17.392530924287886,
            -15.922514170596532
           ]
          },
          {
           "axis": {
            "matches": true
           },
           "label": "19",
           "values": [
            -0.7815427528410672,
            0.3890133379930762,
            -0.33372939912872013,
            1.6630415810368,
            -3.1620646336819784,
            1.0172945092333034,
            10.214126603333813,
            -6.259833750631824,
            5.691998186532446,
            -2.1775621283294133,
            -1.488582297470587,
            -1.712179684786396,
            1.9116570847168284,
            8.078419710650147,
            6.541845951426365,
            5.262117177856943,
            2.6259326240008662,
            12.258567603889915,
            -4.732058344266149,
            -12.612214469282552,
            4.213202432133274,
            0.5155113769222279,
            -2.030255508372657,
            0.1838396103753202,
            -5.788741803765355,
            7.552442779845706,
            -1.175152530538911,
            -1.595216434421391,
            -6.478621662374371,
            -2.437341072660609,
            17.377290822060385,
            -0.5999768653007209,
            -8.183001809540954,
            2.003394224161306,
            6.761725800100554,
            3.886511955206346,
            -8.89326862934903,
            8.175589178475366,
            3.367486499029801,
            -2.7763436422059957,
            -1.2332829544328086,
            13.352429121058298,
            0.7324350498602055,
            -2.550914047869593,
            8.959294724415363,
            4.4534351614053405,
            1.9015574820222652,
            0.17316219959207807,
            8.068034875017947,
            10.409958376742729,
            6.898874542704314,
            11.81830977613973,
            -8.816101481938782,
            0.09037376239198824
           ]
          },
          {
           "axis": {
            "matches": true
           },
           "label": "69",
           "values": [
            -6.886863844988074,
            -1.5860903779221935,
            2.5419561688161725,
            -5.848744142808277,
            0.9726425966799022,
            -2.5283428724962573,
            -4.319904187706704,
            -3.964948931870227,
            2.437017226417225,
            9.300256324326208,
            -3.0641652968386213,
            11.006464431542922,
            1.7901927484849185,
            -0.16323319178313778,
            7.583612683398118,
            0.5811744518319295,
            2.966013817667019,
            0.5240493608590086,
            5.587397876032106,
            1.1220333836088447,
            1.0476039879002748,
            0.04455570286827805,
            -4.46424866588379,
            6.413593522399512,
            7.469397154242902,
            -0.13724926444602456,
            -4.660639009577483,
            2.656604450126522,
            1.0019300937609696,
            6.166148522676471,
            -8.414062243111156,
            2.635619118274714,
            1.2140420423552036,
            7.561815317821786,
            -2.528026762019011,
            -4.165837900363035,
            3.2957190108897745,
            -0.9413093430449853,
            1.773015937899136,
            -1.600926504500837,
            2.9195732072528813,
            8.865961050276473,
            1.70048383036149,
            9.619859182168634,
            0.8885111757693709,
            4.864721724305113,
            -0.4605598733896897,
            -1.2639262345185833,
            -3.2067321090006877,
            1.8090080030234028,
            -1.6443103462897217,
            2.0061410359417113,
            -0.9122564797422066,
            -5.975477802062096
           ]
          }
         ],
         "hovertemplate": "color=normal<br>%{xaxis.title.text}=%{x}<br>%{yaxis.title.text}=%{y}<extra></extra>",
         "legendgroup": "normal",
         "marker": {
          "color": "#1F77B4",
          "opacity": 0.8,
          "symbol": "circle"
         },
         "name": "normal",
         "showlegend": true,
         "type": "splom"
        },
        {
         "diagonal": {
          "visible": true
         },
         "dimensions": [
          {
           "axis": {
            "matches": true
           },
           "label": "99",
           "values": [
            -1.26376167110206,
            -1.0265230354394546,
            2.8497415390690968,
            2.461725796170416,
            1.2977136764748811,
            -3.110873454137171,
            -0.1539153552295595,
            -3.243429219413256,
            -0.9509503262202997,
            12.58640161337553,
            4.0864943382578,
            3.3373266361215874,
            2.919270748880193,
            -0.45050508573423564,
            -1.709349603045703,
            -1.1095195823450403,
            -0.45895034340421975,
            2.3866725920142233,
            1.5641351333442761,
            12.960414787295077,
            5.355678095228045,
            2.155983873577915,
            6.434431421053306,
            -3.4071079382518907,
            -1.5173325975123764,
            2.140834524550761,
            0.2741866887473472,
            -0.7622896985230134,
            -3.557965956650612,
            -7.25673678977668,
            -1.1454524773338377,
            2.7287651884393767,
            -1.4827795546353348,
            0.6853839774792831,
            -0.6445791645653288,
            -1.1848640989519568,
            -0.11551999448218268,
            3.4659906979579365,
            -1.3972953351909736,
            -0.6078881082877303,
            2.139935174950803,
            -0.46662861617708246,
            1.7724552746056685,
            -0.25347081376486813,
            9.80808387857716,
            3.0172766796019235,
            -2.3936828686639338,
            3.0915976268944125,
            2.540845529968767,
            5.480418433635408,
            1.395139479973104,
            6.514102151188138,
            1.292294542927503,
            2.2631759830750764,
            -0.3668890660054233,
            1.1279765028440747,
            3.1530999975292304,
            -2.279024600611219,
            -2.6603471353194292,
            -0.44792488727197266,
            0.5599540010816721,
            0.4143726124404327,
            0.667846585589768,
            -10.448452262788612,
            1.1669267324480408,
            8.845200423245469,
            0.9812457827349411
           ]
          },
          {
           "axis": {
            "matches": true
           },
           "label": "22",
           "values": [
            -5.031360616927878,
            -6.918045869991362,
            -5.605820955841078,
            3.927713024585513,
            1.8982411246633468,
            0.8529754033766686,
            4.160618878463245,
            22.179230502354475,
            -15.819448498536136,
            7.33141732278368,
            3.7080921337037434,
            8.041961223129611,
            -4.897610554053838,
            -9.687053196971442,
            2.6451390463176105,
            14.568483044715878,
            -1.507990508755299,
            4.218520310163509,
            8.892114586921338,
            -0.49495593940370763,
            -4.5369977474361445,
            11.927182047884088,
            5.872390351069153,
            5.591984956471441,
            -2.055290988251575,
            -3.463149719214243,
            -7.13852936762123,
            -3.505707104475026,
            -7.5219168969817485,
            -0.5233945677338941,
            -8.437519869092066,
            -6.307150666203835,
            -1.6424453283514906,
            14.419719209939416,
            4.161425979506557,
            10.201080668575322,
            2.3808474008877143,
            6.039560524715737,
            11.569952912672656,
            12.54014130371981,
            1.7062768037207787,
            5.722915379422684,
            -5.088787565452166,
            -7.229955886559887,
            -1.9373791958234075,
            1.9066430811976236,
            13.564859978830809,
            -4.9925920186072315,
            3.9563812058958487,
            -0.07811574296875093,
            2.94309142150316,
            -14.319343746609716,
            11.022655574858193,
            4.629884245834288,
            22.234995963714056,
            7.37905663745674,
            -4.522103425066436,
            -2.3074453196927167,
            6.80620233453341,
            1.572266820618775,
            -1.1441025244981649,
            -4.307068389342059,
            10.33750930543307,
            -1.9904202984364412,
            -0.06607933914814397,
            3.897314420813986,
            1.3006196057346378
           ]
          },
          {
           "axis": {
            "matches": true
           },
           "label": "1",
           "values": [
            14.760001459852381,
            20.55871553376651,
            17.2441996783143,
            -1.630796680039982,
            -9.147725228139786,
            68.33312130788703,
            2.655257934895249,
            -11.273634343290125,
            -14.980581453477676,
            -21.17338184978537,
            25.010485645231636,
            -41.71069465108293,
            -29.36935897574549,
            39.32942839955395,
            41.50515081846189,
            -48.96177990979532,
            -4.529610998051065,
            -56.37086615432532,
            3.5443312005745,
            94.10359782464657,
            45.692057261889076,
            37.036796339247786,
            0.012553420513622593,
            48.715967222590265,
            -78.0007553504155,
            46.30534975783516,
            27.28638745918639,
            19.477971957089967,
            3.0875943324777704,
            -28.737488099410076,
            15.361763013674071,
            4.241570968171169,
            7.014529019973632,
            -3.6849670201631275,
            28.610348686129615,
            90.35235541102826,
            19.503305763835435,
            14.780735518506864,
            -48.36781169251163,
            43.83944073181443,
            -17.462327026051472,
            49.22359395296925,
            -14.684729848664343,
            9.922025425597253,
            -17.089225852291527,
            -22.766464521312724,
            -53.904770762927186,
            -22.26786933166488,
            0.33276408712845024,
            48.70654122544018,
            -53.89398366374001,
            -2.855197384350704,
            -29.210922930307625,
            -13.498371610344705,
            -35.406359074633166,
            37.24717413789442,
            -41.56671591023968,
            33.93701554853533,
            19.51228990255827,
            21.320798258373756,
            50.07453697327214,
            -32.594495361143466,
            39.22001136565344,
            28.819489398883025,
            29.93065569608268,
            63.466129889870814,
            29.136166835533608
           ]
          },
          {
           "axis": {
            "matches": true
           },
           "label": "19",
           "values": [
            -2.4559864965585088,
            -14.930200596685962,
            -0.17131180592410034,
            2.2200643998730136,
            -5.737007857024448,
            2.5746892228485434,
            -6.328321304559313,
            10.924696459148347,
            4.093974848101492,
            -9.989575879593916,
            -16.345560122628957,
            -13.283624269064648,
            1.7021009855038587,
            -1.2851719265349022,
            -20.012396860046447,
            -16.347582410277806,
            2.0407668948505577,
            5.664237530142998,
            19.127686618945525,
            -0.6495158049585815,
            -7.668796613803611,
            15.042828048490062,
            2.918566689073582,
            -2.4828554033914743,
            -4.305706754486436,
            1.9831787848472961,
            5.089743459096921,
            -8.382043695520077,
            2.283466361119945,
            -12.473479924925567,
            -5.392938002479576,
            -18.773973289840065,
            -14.784858903707548,
            -4.675563387127689,
            -3.0985760039508867,
            -7.841914748935387,
            3.229320894300541,
            1.852643716015576,
            -9.458678516379166,
            10.399282432863805,
            -3.9034840363590297,
            24.396589206387603,
            -2.5228011193300643,
            2.812783753306459,
            -3.090063379470634,
            -6.038873066356104,
            -1.4458822288041058,
            -0.9613102614883823,
            -2.794327584624867,
            -11.886152944038917,
            -7.944854534935712,
            -2.8002371916674127,
            -6.500265747230986,
            -7.22472850585145,
            5.401755758746172,
            -2.625209189344065,
            4.639983207496704,
            -6.499192888118992,
            11.113276837842797,
            10.24899650949505,
            4.704442841435416,
            -4.512895685038218,
            13.0004724257395,
            -4.185125297994015,
            -5.985672259092992,
            0.351266244433281,
            29.249014150904713
           ]
          },
          {
           "axis": {
            "matches": true
           },
           "label": "69",
           "values": [
            1.3297264909846087,
            0.7743212457551226,
            3.968814196659198,
            -2.8967713103166006,
            -6.348203723004577,
            0.33162305953751353,
            6.7310564425307895,
            6.36504864886567,
            6.872895845716849,
            -1.7845850132657983,
            -0.6045752584858995,
            -5.2146631576964895,
            8.313076310496324,
            3.6584267360518083,
            3.8553086588505443,
            -6.056984250293541,
            -4.8899592197018835,
            -6.527334435706608,
            -1.8875455247451622,
            2.7812841194391758,
            2.3214915843000856,
            -1.6269989540124101,
            -4.340427173090668,
            2.890422559026519,
            1.1134597452752009,
            -9.204934747824716,
            -5.847620846834955,
            4.2191205294742655,
            -9.918887628645068,
            0.5846000182812898,
            -4.078008837837397,
            -5.667538040529663,
            0.39863688670605424,
            -3.8752563069174712,
            6.3112217821687135,
            -4.203802548073285,
            1.2165769576754564,
            8.583524289349471,
            1.3548808032031465,
            0.8109614126322079,
            -4.10068640993178,
            -6.377534057021659,
            -1.060977550074912,
            11.57478166367277,
            -3.8228836482326827,
            1.484277511144377,
            2.943611260827345,
            -2.5031494337920623,
            -6.308301149531263,
            8.73381528710778,
            -9.115860143620408,
            -5.351498859778822,
            -5.175122444492812,
            -0.36886389512513956,
            1.1523992738439206,
            -4.112340708723424,
            -0.17323796181493425,
            -10.76955506489876,
            4.8343515679259585,
            3.3562692897804234,
            -6.5854899115188825,
            7.4905210790425425,
            -1.9351746415491469,
            -7.904570284478477,
            -1.4277181437650064,
            -5.2722026163477285,
            -0.6465011102609991
           ]
          }
         ],
         "hovertemplate": "color=cancer<br>%{xaxis.title.text}=%{x}<br>%{yaxis.title.text}=%{y}<extra></extra>",
         "legendgroup": "cancer",
         "marker": {
          "color": "#FF7F0E",
          "opacity": 0.8,
          "symbol": "circle"
         },
         "name": "cancer",
         "showlegend": true,
         "type": "splom"
        }
       ],
       "layout": {
        "dragmode": "select",
        "height": 720,
        "legend": {
         "title": {
          "text": "color"
         },
         "tracegroupgap": 0
        },
        "template": {
         "data": {
          "bar": [
           {
            "error_x": {
             "color": "#2a3f5f"
            },
            "error_y": {
             "color": "#2a3f5f"
            },
            "marker": {
             "line": {
              "color": "#E5ECF6",
              "width": 0.5
             },
             "pattern": {
              "fillmode": "overlay",
              "size": 10,
              "solidity": 0.2
             }
            },
            "type": "bar"
           }
          ],
          "barpolar": [
           {
            "marker": {
             "line": {
              "color": "#E5ECF6",
              "width": 0.5
             },
             "pattern": {
              "fillmode": "overlay",
              "size": 10,
              "solidity": 0.2
             }
            },
            "type": "barpolar"
           }
          ],
          "carpet": [
           {
            "aaxis": {
             "endlinecolor": "#2a3f5f",
             "gridcolor": "white",
             "linecolor": "white",
             "minorgridcolor": "white",
             "startlinecolor": "#2a3f5f"
            },
            "baxis": {
             "endlinecolor": "#2a3f5f",
             "gridcolor": "white",
             "linecolor": "white",
             "minorgridcolor": "white",
             "startlinecolor": "#2a3f5f"
            },
            "type": "carpet"
           }
          ],
          "choropleth": [
           {
            "colorbar": {
             "outlinewidth": 0,
             "ticks": ""
            },
            "type": "choropleth"
           }
          ],
          "contour": [
           {
            "colorbar": {
             "outlinewidth": 0,
             "ticks": ""
            },
            "colorscale": [
             [
              0,
              "#0d0887"
             ],
             [
              0.1111111111111111,
              "#46039f"
             ],
             [
              0.2222222222222222,
              "#7201a8"
             ],
             [
              0.3333333333333333,
              "#9c179e"
             ],
             [
              0.4444444444444444,
              "#bd3786"
             ],
             [
              0.5555555555555556,
              "#d8576b"
             ],
             [
              0.6666666666666666,
              "#ed7953"
             ],
             [
              0.7777777777777778,
              "#fb9f3a"
             ],
             [
              0.8888888888888888,
              "#fdca26"
             ],
             [
              1,
              "#f0f921"
             ]
            ],
            "type": "contour"
           }
          ],
          "contourcarpet": [
           {
            "colorbar": {
             "outlinewidth": 0,
             "ticks": ""
            },
            "type": "contourcarpet"
           }
          ],
          "heatmap": [
           {
            "colorbar": {
             "outlinewidth": 0,
             "ticks": ""
            },
            "colorscale": [
             [
              0,
              "#0d0887"
             ],
             [
              0.1111111111111111,
              "#46039f"
             ],
             [
              0.2222222222222222,
              "#7201a8"
             ],
             [
              0.3333333333333333,
              "#9c179e"
             ],
             [
              0.4444444444444444,
              "#bd3786"
             ],
             [
              0.5555555555555556,
              "#d8576b"
             ],
             [
              0.6666666666666666,
              "#ed7953"
             ],
             [
              0.7777777777777778,
              "#fb9f3a"
             ],
             [
              0.8888888888888888,
              "#fdca26"
             ],
             [
              1,
              "#f0f921"
             ]
            ],
            "type": "heatmap"
           }
          ],
          "heatmapgl": [
           {
            "colorbar": {
             "outlinewidth": 0,
             "ticks": ""
            },
            "colorscale": [
             [
              0,
              "#0d0887"
             ],
             [
              0.1111111111111111,
              "#46039f"
             ],
             [
              0.2222222222222222,
              "#7201a8"
             ],
             [
              0.3333333333333333,
              "#9c179e"
             ],
             [
              0.4444444444444444,
              "#bd3786"
             ],
             [
              0.5555555555555556,
              "#d8576b"
             ],
             [
              0.6666666666666666,
              "#ed7953"
             ],
             [
              0.7777777777777778,
              "#fb9f3a"
             ],
             [
              0.8888888888888888,
              "#fdca26"
             ],
             [
              1,
              "#f0f921"
             ]
            ],
            "type": "heatmapgl"
           }
          ],
          "histogram": [
           {
            "marker": {
             "pattern": {
              "fillmode": "overlay",
              "size": 10,
              "solidity": 0.2
             }
            },
            "type": "histogram"
           }
          ],
          "histogram2d": [
           {
            "colorbar": {
             "outlinewidth": 0,
             "ticks": ""
            },
            "colorscale": [
             [
              0,
              "#0d0887"
             ],
             [
              0.1111111111111111,
              "#46039f"
             ],
             [
              0.2222222222222222,
              "#7201a8"
             ],
             [
              0.3333333333333333,
              "#9c179e"
             ],
             [
              0.4444444444444444,
              "#bd3786"
             ],
             [
              0.5555555555555556,
              "#d8576b"
             ],
             [
              0.6666666666666666,
              "#ed7953"
             ],
             [
              0.7777777777777778,
              "#fb9f3a"
             ],
             [
              0.8888888888888888,
              "#fdca26"
             ],
             [
              1,
              "#f0f921"
             ]
            ],
            "type": "histogram2d"
           }
          ],
          "histogram2dcontour": [
           {
            "colorbar": {
             "outlinewidth": 0,
             "ticks": ""
            },
            "colorscale": [
             [
              0,
              "#0d0887"
             ],
             [
              0.1111111111111111,
              "#46039f"
             ],
             [
              0.2222222222222222,
              "#7201a8"
             ],
             [
              0.3333333333333333,
              "#9c179e"
             ],
             [
              0.4444444444444444,
              "#bd3786"
             ],
             [
              0.5555555555555556,
              "#d8576b"
             ],
             [
              0.6666666666666666,
              "#ed7953"
             ],
             [
              0.7777777777777778,
              "#fb9f3a"
             ],
             [
              0.8888888888888888,
              "#fdca26"
             ],
             [
              1,
              "#f0f921"
             ]
            ],
            "type": "histogram2dcontour"
           }
          ],
          "mesh3d": [
           {
            "colorbar": {
             "outlinewidth": 0,
             "ticks": ""
            },
            "type": "mesh3d"
           }
          ],
          "parcoords": [
           {
            "line": {
             "colorbar": {
              "outlinewidth": 0,
              "ticks": ""
             }
            },
            "type": "parcoords"
           }
          ],
          "pie": [
           {
            "automargin": true,
            "type": "pie"
           }
          ],
          "scatter": [
           {
            "fillpattern": {
             "fillmode": "overlay",
             "size": 10,
             "solidity": 0.2
            },
            "type": "scatter"
           }
          ],
          "scatter3d": [
           {
            "line": {
             "colorbar": {
              "outlinewidth": 0,
              "ticks": ""
             }
            },
            "marker": {
             "colorbar": {
              "outlinewidth": 0,
              "ticks": ""
             }
            },
            "type": "scatter3d"
           }
          ],
          "scattercarpet": [
           {
            "marker": {
             "colorbar": {
              "outlinewidth": 0,
              "ticks": ""
             }
            },
            "type": "scattercarpet"
           }
          ],
          "scattergeo": [
           {
            "marker": {
             "colorbar": {
              "outlinewidth": 0,
              "ticks": ""
             }
            },
            "type": "scattergeo"
           }
          ],
          "scattergl": [
           {
            "marker": {
             "colorbar": {
              "outlinewidth": 0,
              "ticks": ""
             }
            },
            "type": "scattergl"
           }
          ],
          "scattermapbox": [
           {
            "marker": {
             "colorbar": {
              "outlinewidth": 0,
              "ticks": ""
             }
            },
            "type": "scattermapbox"
           }
          ],
          "scatterpolar": [
           {
            "marker": {
             "colorbar": {
              "outlinewidth": 0,
              "ticks": ""
             }
            },
            "type": "scatterpolar"
           }
          ],
          "scatterpolargl": [
           {
            "marker": {
             "colorbar": {
              "outlinewidth": 0,
              "ticks": ""
             }
            },
            "type": "scatterpolargl"
           }
          ],
          "scatterternary": [
           {
            "marker": {
             "colorbar": {
              "outlinewidth": 0,
              "ticks": ""
             }
            },
            "type": "scatterternary"
           }
          ],
          "surface": [
           {
            "colorbar": {
             "outlinewidth": 0,
             "ticks": ""
            },
            "colorscale": [
             [
              0,
              "#0d0887"
             ],
             [
              0.1111111111111111,
              "#46039f"
             ],
             [
              0.2222222222222222,
              "#7201a8"
             ],
             [
              0.3333333333333333,
              "#9c179e"
             ],
             [
              0.4444444444444444,
              "#bd3786"
             ],
             [
              0.5555555555555556,
              "#d8576b"
             ],
             [
              0.6666666666666666,
              "#ed7953"
             ],
             [
              0.7777777777777778,
              "#fb9f3a"
             ],
             [
              0.8888888888888888,
              "#fdca26"
             ],
             [
              1,
              "#f0f921"
             ]
            ],
            "type": "surface"
           }
          ],
          "table": [
           {
            "cells": {
             "fill": {
              "color": "#EBF0F8"
             },
             "line": {
              "color": "white"
             }
            },
            "header": {
             "fill": {
              "color": "#C8D4E3"
             },
             "line": {
              "color": "white"
             }
            },
            "type": "table"
           }
          ]
         },
         "layout": {
          "annotationdefaults": {
           "arrowcolor": "#2a3f5f",
           "arrowhead": 0,
           "arrowwidth": 1
          },
          "autotypenumbers": "strict",
          "coloraxis": {
           "colorbar": {
            "outlinewidth": 0,
            "ticks": ""
           }
          },
          "colorscale": {
           "diverging": [
            [
             0,
             "#8e0152"
            ],
            [
             0.1,
             "#c51b7d"
            ],
            [
             0.2,
             "#de77ae"
            ],
            [
             0.3,
             "#f1b6da"
            ],
            [
             0.4,
             "#fde0ef"
            ],
            [
             0.5,
             "#f7f7f7"
            ],
            [
             0.6,
             "#e6f5d0"
            ],
            [
             0.7,
             "#b8e186"
            ],
            [
             0.8,
             "#7fbc41"
            ],
            [
             0.9,
             "#4d9221"
            ],
            [
             1,
             "#276419"
            ]
           ],
           "sequential": [
            [
             0,
             "#0d0887"
            ],
            [
             0.1111111111111111,
             "#46039f"
            ],
            [
             0.2222222222222222,
             "#7201a8"
            ],
            [
             0.3333333333333333,
             "#9c179e"
            ],
            [
             0.4444444444444444,
             "#bd3786"
            ],
            [
             0.5555555555555556,
             "#d8576b"
            ],
            [
             0.6666666666666666,
             "#ed7953"
            ],
            [
             0.7777777777777778,
             "#fb9f3a"
            ],
            [
             0.8888888888888888,
             "#fdca26"
            ],
            [
             1,
             "#f0f921"
            ]
           ],
           "sequentialminus": [
            [
             0,
             "#0d0887"
            ],
            [
             0.1111111111111111,
             "#46039f"
            ],
            [
             0.2222222222222222,
             "#7201a8"
            ],
            [
             0.3333333333333333,
             "#9c179e"
            ],
            [
             0.4444444444444444,
             "#bd3786"
            ],
            [
             0.5555555555555556,
             "#d8576b"
            ],
            [
             0.6666666666666666,
             "#ed7953"
            ],
            [
             0.7777777777777778,
             "#fb9f3a"
            ],
            [
             0.8888888888888888,
             "#fdca26"
            ],
            [
             1,
             "#f0f921"
            ]
           ]
          },
          "colorway": [
           "#636efa",
           "#EF553B",
           "#00cc96",
           "#ab63fa",
           "#FFA15A",
           "#19d3f3",
           "#FF6692",
           "#B6E880",
           "#FF97FF",
           "#FECB52"
          ],
          "font": {
           "color": "#2a3f5f"
          },
          "geo": {
           "bgcolor": "white",
           "lakecolor": "white",
           "landcolor": "#E5ECF6",
           "showlakes": true,
           "showland": true,
           "subunitcolor": "white"
          },
          "hoverlabel": {
           "align": "left"
          },
          "hovermode": "closest",
          "mapbox": {
           "style": "light"
          },
          "paper_bgcolor": "white",
          "plot_bgcolor": "#E5ECF6",
          "polar": {
           "angularaxis": {
            "gridcolor": "white",
            "linecolor": "white",
            "ticks": ""
           },
           "bgcolor": "#E5ECF6",
           "radialaxis": {
            "gridcolor": "white",
            "linecolor": "white",
            "ticks": ""
           }
          },
          "scene": {
           "xaxis": {
            "backgroundcolor": "#E5ECF6",
            "gridcolor": "white",
            "gridwidth": 2,
            "linecolor": "white",
            "showbackground": true,
            "ticks": "",
            "zerolinecolor": "white"
           },
           "yaxis": {
            "backgroundcolor": "#E5ECF6",
            "gridcolor": "white",
            "gridwidth": 2,
            "linecolor": "white",
            "showbackground": true,
            "ticks": "",
            "zerolinecolor": "white"
           },
           "zaxis": {
            "backgroundcolor": "#E5ECF6",
            "gridcolor": "white",
            "gridwidth": 2,
            "linecolor": "white",
            "showbackground": true,
            "ticks": "",
            "zerolinecolor": "white"
           }
          },
          "shapedefaults": {
           "line": {
            "color": "#2a3f5f"
           }
          },
          "ternary": {
           "aaxis": {
            "gridcolor": "white",
            "linecolor": "white",
            "ticks": ""
           },
           "baxis": {
            "gridcolor": "white",
            "linecolor": "white",
            "ticks": ""
           },
           "bgcolor": "#E5ECF6",
           "caxis": {
            "gridcolor": "white",
            "linecolor": "white",
            "ticks": ""
           }
          },
          "title": {
           "x": 0.05
          },
          "xaxis": {
           "automargin": true,
           "gridcolor": "white",
           "linecolor": "white",
           "ticks": "",
           "title": {
            "standoff": 15
           },
           "zerolinecolor": "white",
           "zerolinewidth": 2
          },
          "yaxis": {
           "automargin": true,
           "gridcolor": "white",
           "linecolor": "white",
           "ticks": "",
           "title": {
            "standoff": 15
           },
           "zerolinecolor": "white",
           "zerolinewidth": 2
          }
         }
        },
        "title": {
         "text": "Top 5 Potentially Significant PCs, Based on p-values"
        },
        "width": 720
       }
      }
     },
     "metadata": {},
     "output_type": "display_data"
    }
   ],
   "source": [
    "sva_pc = SVA(data_reduced)\n",
    "asdf = data_reduced.copy()\n",
    "asdf.loc[len(data_reduced)] = np.append(sva_pc.pvals, 999)\n",
    "asdf.sort_values(by=len(data_reduced), axis=1, inplace=True)\n",
    "asdf.drop(len(data_reduced), inplace=True)\n",
    "asdf\n",
    "n_pcs = 5\n",
    "top_n_pcs = asdf.iloc[:,:n_pcs]\n",
    "\n",
    "fig = px.scatter_matrix(\n",
    "    top_n_pcs,\n",
    "    color=Y['label'],\n",
    "    color_discrete_sequence=px.colors.qualitative.D3,\n",
    "    opacity=0.8,\n",
    "    dimensions=top_n_pcs.columns,\n",
    "    # labels=labels,\n",
    "    title='Top 5 Potentially Significant PCs, Based on p-values',\n",
    "    width=720,\n",
    "    height=720\n",
    ")\n",
    "fig.update_traces(diagonal_visible=True)\n",
    "fig.show()"
   ]
  },
  {
   "cell_type": "markdown",
   "id": "3fb50fc7",
   "metadata": {},
   "source": [
    "# 3. Defining Binary Logistic Regression With Lasso Penalty"
   ]
  },
  {
   "cell_type": "markdown",
   "id": "29d37b9b",
   "metadata": {},
   "source": [
    "# 4. Benefits & Drawbacks of using PCA for Dimensionality Reduction"
   ]
  },
  {
   "cell_type": "markdown",
   "id": "5fbbc9b2",
   "metadata": {},
   "source": [
    "# 5. Classification"
   ]
  },
  {
   "cell_type": "markdown",
   "id": "e18b0f5d",
   "metadata": {},
   "source": [
    "### Setting Up Models"
   ]
  },
  {
   "cell_type": "code",
   "execution_count": 158,
   "id": "ae6fdb19",
   "metadata": {},
   "outputs": [
    {
     "data": {
      "text/html": [
       "<style>#sk-container-id-23 {color: black;}#sk-container-id-23 pre{padding: 0;}#sk-container-id-23 div.sk-toggleable {background-color: white;}#sk-container-id-23 label.sk-toggleable__label {cursor: pointer;display: block;width: 100%;margin-bottom: 0;padding: 0.3em;box-sizing: border-box;text-align: center;}#sk-container-id-23 label.sk-toggleable__label-arrow:before {content: \"▸\";float: left;margin-right: 0.25em;color: #696969;}#sk-container-id-23 label.sk-toggleable__label-arrow:hover:before {color: black;}#sk-container-id-23 div.sk-estimator:hover label.sk-toggleable__label-arrow:before {color: black;}#sk-container-id-23 div.sk-toggleable__content {max-height: 0;max-width: 0;overflow: hidden;text-align: left;background-color: #f0f8ff;}#sk-container-id-23 div.sk-toggleable__content pre {margin: 0.2em;color: black;border-radius: 0.25em;background-color: #f0f8ff;}#sk-container-id-23 input.sk-toggleable__control:checked~div.sk-toggleable__content {max-height: 200px;max-width: 100%;overflow: auto;}#sk-container-id-23 input.sk-toggleable__control:checked~label.sk-toggleable__label-arrow:before {content: \"▾\";}#sk-container-id-23 div.sk-estimator input.sk-toggleable__control:checked~label.sk-toggleable__label {background-color: #d4ebff;}#sk-container-id-23 div.sk-label input.sk-toggleable__control:checked~label.sk-toggleable__label {background-color: #d4ebff;}#sk-container-id-23 input.sk-hidden--visually {border: 0;clip: rect(1px 1px 1px 1px);clip: rect(1px, 1px, 1px, 1px);height: 1px;margin: -1px;overflow: hidden;padding: 0;position: absolute;width: 1px;}#sk-container-id-23 div.sk-estimator {font-family: monospace;background-color: #f0f8ff;border: 1px dotted black;border-radius: 0.25em;box-sizing: border-box;margin-bottom: 0.5em;}#sk-container-id-23 div.sk-estimator:hover {background-color: #d4ebff;}#sk-container-id-23 div.sk-parallel-item::after {content: \"\";width: 100%;border-bottom: 1px solid gray;flex-grow: 1;}#sk-container-id-23 div.sk-label:hover label.sk-toggleable__label {background-color: #d4ebff;}#sk-container-id-23 div.sk-serial::before {content: \"\";position: absolute;border-left: 1px solid gray;box-sizing: border-box;top: 0;bottom: 0;left: 50%;z-index: 0;}#sk-container-id-23 div.sk-serial {display: flex;flex-direction: column;align-items: center;background-color: white;padding-right: 0.2em;padding-left: 0.2em;position: relative;}#sk-container-id-23 div.sk-item {position: relative;z-index: 1;}#sk-container-id-23 div.sk-parallel {display: flex;align-items: stretch;justify-content: center;background-color: white;position: relative;}#sk-container-id-23 div.sk-item::before, #sk-container-id-23 div.sk-parallel-item::before {content: \"\";position: absolute;border-left: 1px solid gray;box-sizing: border-box;top: 0;bottom: 0;left: 50%;z-index: -1;}#sk-container-id-23 div.sk-parallel-item {display: flex;flex-direction: column;z-index: 1;position: relative;background-color: white;}#sk-container-id-23 div.sk-parallel-item:first-child::after {align-self: flex-end;width: 50%;}#sk-container-id-23 div.sk-parallel-item:last-child::after {align-self: flex-start;width: 50%;}#sk-container-id-23 div.sk-parallel-item:only-child::after {width: 0;}#sk-container-id-23 div.sk-dashed-wrapped {border: 1px dashed gray;margin: 0 0.4em 0.5em 0.4em;box-sizing: border-box;padding-bottom: 0.4em;background-color: white;}#sk-container-id-23 div.sk-label label {font-family: monospace;font-weight: bold;display: inline-block;line-height: 1.2em;}#sk-container-id-23 div.sk-label-container {text-align: center;}#sk-container-id-23 div.sk-container {/* jupyter's `normalize.less` sets `[hidden] { display: none; }` but bootstrap.min.css set `[hidden] { display: none !important; }` so we also need the `!important` here to be able to override the default hidden behavior on the sphinx rendered scikit-learn.org. See: https://github.com/scikit-learn/scikit-learn/issues/21755 */display: inline-block !important;position: relative;}#sk-container-id-23 div.sk-text-repr-fallback {display: none;}</style><div id=\"sk-container-id-23\" class=\"sk-top-container\"><div class=\"sk-text-repr-fallback\"><pre>GridSearchCV(cv=10, estimator=SVC(kernel=&#x27;linear&#x27;), n_jobs=-1,\n",
       "             param_grid={&#x27;C&#x27;: array([1.00000000e-03, 2.33572147e-03, 5.45559478e-03, 1.27427499e-02,\n",
       "       2.97635144e-02, 6.95192796e-02, 1.62377674e-01, 3.79269019e-01,\n",
       "       8.85866790e-01, 2.06913808e+00, 4.83293024e+00, 1.12883789e+01,\n",
       "       2.63665090e+01, 6.15848211e+01, 1.43844989e+02, 3.35981829e+02,\n",
       "       7.84759970e+02, 1.83298071e+03, 4.28133240e+03, 1.00000000e+04])},\n",
       "             scoring=&#x27;accuracy&#x27;)</pre><b>In a Jupyter environment, please rerun this cell to show the HTML representation or trust the notebook. <br />On GitHub, the HTML representation is unable to render, please try loading this page with nbviewer.org.</b></div><div class=\"sk-container\" hidden><div class=\"sk-item sk-dashed-wrapped\"><div class=\"sk-label-container\"><div class=\"sk-label sk-toggleable\"><input class=\"sk-toggleable__control sk-hidden--visually\" id=\"sk-estimator-id-59\" type=\"checkbox\" ><label for=\"sk-estimator-id-59\" class=\"sk-toggleable__label sk-toggleable__label-arrow\">GridSearchCV</label><div class=\"sk-toggleable__content\"><pre>GridSearchCV(cv=10, estimator=SVC(kernel=&#x27;linear&#x27;), n_jobs=-1,\n",
       "             param_grid={&#x27;C&#x27;: array([1.00000000e-03, 2.33572147e-03, 5.45559478e-03, 1.27427499e-02,\n",
       "       2.97635144e-02, 6.95192796e-02, 1.62377674e-01, 3.79269019e-01,\n",
       "       8.85866790e-01, 2.06913808e+00, 4.83293024e+00, 1.12883789e+01,\n",
       "       2.63665090e+01, 6.15848211e+01, 1.43844989e+02, 3.35981829e+02,\n",
       "       7.84759970e+02, 1.83298071e+03, 4.28133240e+03, 1.00000000e+04])},\n",
       "             scoring=&#x27;accuracy&#x27;)</pre></div></div></div><div class=\"sk-parallel\"><div class=\"sk-parallel-item\"><div class=\"sk-item\"><div class=\"sk-label-container\"><div class=\"sk-label sk-toggleable\"><input class=\"sk-toggleable__control sk-hidden--visually\" id=\"sk-estimator-id-60\" type=\"checkbox\" ><label for=\"sk-estimator-id-60\" class=\"sk-toggleable__label sk-toggleable__label-arrow\">estimator: SVC</label><div class=\"sk-toggleable__content\"><pre>SVC(kernel=&#x27;linear&#x27;)</pre></div></div></div><div class=\"sk-serial\"><div class=\"sk-item\"><div class=\"sk-estimator sk-toggleable\"><input class=\"sk-toggleable__control sk-hidden--visually\" id=\"sk-estimator-id-61\" type=\"checkbox\" ><label for=\"sk-estimator-id-61\" class=\"sk-toggleable__label sk-toggleable__label-arrow\">SVC</label><div class=\"sk-toggleable__content\"><pre>SVC(kernel=&#x27;linear&#x27;)</pre></div></div></div></div></div></div></div></div></div></div>"
      ],
      "text/plain": [
       "GridSearchCV(cv=10, estimator=SVC(kernel='linear'), n_jobs=-1,\n",
       "             param_grid={'C': array([1.00000000e-03, 2.33572147e-03, 5.45559478e-03, 1.27427499e-02,\n",
       "       2.97635144e-02, 6.95192796e-02, 1.62377674e-01, 3.79269019e-01,\n",
       "       8.85866790e-01, 2.06913808e+00, 4.83293024e+00, 1.12883789e+01,\n",
       "       2.63665090e+01, 6.15848211e+01, 1.43844989e+02, 3.35981829e+02,\n",
       "       7.84759970e+02, 1.83298071e+03, 4.28133240e+03, 1.00000000e+04])},\n",
       "             scoring='accuracy')"
      ]
     },
     "execution_count": 158,
     "metadata": {},
     "output_type": "execute_result"
    }
   ],
   "source": [
    "svm = SVC(kernel=\"linear\")\n",
    "lasso = LogisticRegression(\n",
    "    penalty='l1', \n",
    "    solver='liblinear',\n",
    "    random_state=42)\n",
    "\n",
    "# search space based on https://ai-ml-analytics.com/Jupyter_notebook/Blog%20-%2020%20-%20Hyperparameter%20tuning%20using%20Ridge%20and%20Lasso%20Regression.html\n",
    "# search_space = [1e-15,1e-10,1e-8,1e-3,1e-2,1,5,10,20,30,35,40,45,50,55,100]\n",
    "search_space = np.logspace(-3, 4, 20)\n",
    "hyperparams_lasso = {\n",
    "    'C': search_space # lambda hyperparameter\n",
    "}\n",
    "\n",
    "kfolds = 10\n",
    "lassoGrid = GridSearchCV(lasso, hyperparams_lasso, cv=kfolds, scoring=\"accuracy\", n_jobs=-1)\n",
    "svmGrid = GridSearchCV(svm, {}, cv=folds, scoring='accuracy', n_jobs=-1)\n",
    "\n",
    "lassoGrid.fit(X, Y.to_numpy().ravel())\n",
    "svmGrid.fit(X, Y.to_numpy().ravel())"
   ]
  },
  {
   "cell_type": "code",
   "execution_count": 156,
   "id": "95f1f52f",
   "metadata": {},
   "outputs": [
    {
     "data": {
      "text/plain": [
       "array([1.00000000e-03, 2.33572147e-03, 5.45559478e-03, 1.27427499e-02,\n",
       "       2.97635144e-02, 6.95192796e-02, 1.62377674e-01, 3.79269019e-01,\n",
       "       8.85866790e-01, 2.06913808e+00, 4.83293024e+00, 1.12883789e+01,\n",
       "       2.63665090e+01, 6.15848211e+01, 1.43844989e+02, 3.35981829e+02,\n",
       "       7.84759970e+02, 1.83298071e+03, 4.28133240e+03, 1.00000000e+04])"
      ]
     },
     "execution_count": 156,
     "metadata": {},
     "output_type": "execute_result"
    }
   ],
   "source": [
    "search_space"
   ]
  },
  {
   "cell_type": "code",
   "execution_count": 150,
   "id": "5375296a",
   "metadata": {},
   "outputs": [
    {
     "name": "stdout",
     "output_type": "stream",
     "text": [
      "0.7032051282051281\n",
      "{'C': 26.366508987303554}\n",
      "0.7032051282051281\n",
      "{}\n"
     ]
    }
   ],
   "source": [
    "print(lassoGrid.best_score_)\n",
    "print(lassoGrid.best_params_)\n",
    "print(svmGrid.best_score_)\n",
    "print(svmGrid.best_params_)"
   ]
  },
  {
   "cell_type": "code",
   "execution_count": 151,
   "id": "1d859be6",
   "metadata": {},
   "outputs": [],
   "source": [
    "lassoFinal = lassoGrid.best_estimator_\n",
    "svmFinal = svmGrid.best_estimator_"
   ]
  },
  {
   "cell_type": "code",
   "execution_count": 152,
   "id": "5985e4da",
   "metadata": {},
   "outputs": [
    {
     "data": {
      "text/plain": [
       "306"
      ]
     },
     "execution_count": 152,
     "metadata": {},
     "output_type": "execute_result"
    }
   ],
   "source": [
    "len(np.nonzero(lassoFinal.coef_)[1])\n",
    "# lassoFinal.coef_\n",
    "# features.shape"
   ]
  },
  {
   "cell_type": "markdown",
   "id": "81da9910",
   "metadata": {},
   "source": [
    "## a. Characterisation of Each Class"
   ]
  },
  {
   "cell_type": "code",
   "execution_count": 153,
   "id": "ae739163",
   "metadata": {},
   "outputs": [
    {
     "data": {
      "image/png": "[encoded data removed]",
      "text/plain": [
       "<Figure size 640x480 with 2 Axes>"
      ]
     },
     "metadata": {},
     "output_type": "display_data"
    },
    {
     "data": {
      "image/png": "[encoded data removed]",
      "text/plain": [
       "<Figure size 640x480 with 2 Axes>"
      ]
     },
     "metadata": {},
     "output_type": "display_data"
    },
    {
     "data": {
      "text/plain": [
       "<Figure size 640x480 with 0 Axes>"
      ]
     },
     "metadata": {},
     "output_type": "display_data"
    }
   ],
   "source": [
    "def plot_confusion_matrix(truth, pred, title: str):\n",
    "    ax = plt.subplot()\n",
    "\n",
    "    cmatrix = sns.heatmap(confusion_matrix(truth, pred), annot=True, fmt='d')\n",
    "    ax.set_title(title)\n",
    "    ax.xaxis.set_ticklabels(CLASSNAMES.keys())\n",
    "    ax.yaxis.set_ticklabels(CLASSNAMES.keys())\n",
    "    ax.set_xlabel(\"Predicted Diagnosis\")\n",
    "    ax.set_ylabel(\"Actual Diagnosis\")\n",
    "    cmatrix.plot()\n",
    "    plt.show()\n",
    "\n",
    "    # plt.savefig(\"figures/b_\"+title.replace(\" \", \"_\"))\n",
    "    \n",
    "    plt.clf()\n",
    "\n",
    "plot_confusion_matrix(\n",
    "    Y['label'], \n",
    "    lassoFinal.predict(X),\n",
    "    \"Lasso Final Classifier Confusion Matrix\")\n",
    "\n",
    "plot_confusion_matrix(\n",
    "    Y['label'], \n",
    "    svmFinal.predict(X),\n",
    "    \"SVM (Linear Kernel) Final Classifier Confusion Matrix\")"
   ]
  },
  {
   "cell_type": "markdown",
   "id": "bd45f488",
   "metadata": {},
   "source": [
    "## b. CV-based Error Rate Estimates"
   ]
  },
  {
   "cell_type": "code",
   "execution_count": 185,
   "id": "be315d33",
   "metadata": {},
   "outputs": [],
   "source": [
    "lasso.set_params(C=lassoGrid.best_params_['C'])\n",
    "pred_lasso_cv = cross_val_predict(lasso, X, Y.to_numpy().ravel(), cv=kfolds, n_jobs=-1)\n",
    "pred_svm_cv = cross_val_predict(lasso, X, Y.to_numpy().ravel(), cv=kfolds, n_jobs=-1)\n",
    "pred_lasso_final = lassoFinal.predict(X)\n",
    "pred_svm_final = svmFinal.predict(X)"
   ]
  },
  {
   "cell_type": "code",
   "execution_count": 186,
   "id": "67c8c75d",
   "metadata": {},
   "outputs": [
    {
     "name": "stdout",
     "output_type": "stream",
     "text": [
      "              precision    recall  f1-score   support\n",
      "\n",
      "      cancer       0.79      0.63      0.70        67\n",
      "      normal       0.63      0.80      0.70        54\n",
      "\n",
      "    accuracy                           0.70       121\n",
      "   macro avg       0.71      0.71      0.70       121\n",
      "weighted avg       0.72      0.70      0.70       121\n",
      "\n",
      "              precision    recall  f1-score   support\n",
      "\n",
      "      cancer       1.00      1.00      1.00        67\n",
      "      normal       1.00      1.00      1.00        54\n",
      "\n",
      "    accuracy                           1.00       121\n",
      "   macro avg       1.00      1.00      1.00       121\n",
      "weighted avg       1.00      1.00      1.00       121\n",
      "\n"
     ]
    }
   ],
   "source": [
    "print(classification_report(Y, pred_lasso_cv))\n",
    "print(classification_report(Y, pred_lasso_final))"
   ]
  },
  {
   "cell_type": "markdown",
   "id": "42068c8d",
   "metadata": {},
   "source": [
    "## c. Finding The Optimal Value of λ"
   ]
  },
  {
   "cell_type": "code",
   "execution_count": 163,
   "id": "2a76946d",
   "metadata": {},
   "outputs": [
    {
     "data": {
      "image/png": "[encoded data removed]",
      "text/plain": [
       "<Figure size 640x480 with 1 Axes>"
      ]
     },
     "metadata": {},
     "output_type": "display_data"
    }
   ],
   "source": [
    "# adapted from: https://stackoverflow.com/a/43645640\n",
    "def plot_grid_search(cv_results, search_space):\n",
    "    # Get Test Scores Mean and std for each grid search\n",
    "    scores_mean = cv_results['mean_test_score']\n",
    "    scores_mean = np.array(scores_mean)\n",
    "\n",
    "    # Plot Grid search scores\n",
    "    _, ax = plt.subplots(1,1)\n",
    "\n",
    "    # Param1 is the X-axis, Param 2 is represented as a different curve (color line)\n",
    "    ax.plot(search_space, scores_mean, '-o')\n",
    "\n",
    "    ax.set_title(\"Lambda versus CV Accuracy Score\", fontsize=16)\n",
    "    ax.set_xlabel(\"Lambda\", fontsize=16)\n",
    "    ax.set_ylabel('CV Average Accuracy', fontsize=16)\n",
    "    ax.set_xscale('log')\n",
    "    ax.grid('on')\n",
    "\n",
    "# Calling Method \n",
    "plot_grid_search(lassoGrid.cv_results_, search_space) "
   ]
  },
  {
   "cell_type": "markdown",
   "id": "fffb5412",
   "metadata": {},
   "source": [
    "# 6. Results Comparison"
   ]
  },
  {
   "cell_type": "markdown",
   "id": "5ece7216",
   "metadata": {},
   "source": []
  },
  {
   "cell_type": "markdown",
   "id": "7ae51aa7",
   "metadata": {},
   "source": [
    "# Experiments"
   ]
  },
  {
   "cell_type": "code",
   "execution_count": null,
   "id": "f570051e",
   "metadata": {},
   "outputs": [],
   "source": []
  }
 ],
 "metadata": {
  "kernelspec": {
   "display_name": "Python 3 (ipykernel)",
   "language": "python",
   "name": "python3"
  },
  "language_info": {
   "codemirror_mode": {
    "name": "ipython",
    "version": 3
   },
   "file_extension": ".py",
   "mimetype": "text/x-python",
   "name": "python",
   "nbconvert_exporter": "python",
   "pygments_lexer": "ipython3",
   "version": "3.11.5"
  }
 },
 "nbformat": 4,
 "nbformat_minor": 5
}

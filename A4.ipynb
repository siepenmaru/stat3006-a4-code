{
 "cells": [
  {
   "cell_type": "markdown",
   "id": "db7419ee",
   "metadata": {},
   "source": [
    "# STAT3006 Assignment 4 <img src=\"https://i.kym-cdn.com/photos/images/newsfeed/001/852/165/c6e\" height=\"32\" width=\"32\">\n",
    "\n",
    "**Avatar Putra Pertama Azka - 47286238**"
   ]
  },
  {
   "cell_type": "code",
   "execution_count": 36,
   "id": "742bfd65-4def-4d72-8407-398c8960c9c2",
   "metadata": {},
   "outputs": [],
   "source": [
    "import pandas as pd\n",
    "import numpy as np\n",
    "\n",
    "# preprocessing\n",
    "from sklearn.preprocessing import StandardScaler\n",
    "\n",
    "# training utils\n",
    "from sklearn.model_selection import LeaveOneOut, cross_val_score, cross_val_predict, GridSearchCV\n",
    "\n",
    "# models\n",
    "from sklearn.decomposition import PCA\n",
    "from sklearn.linear_model import LogisticRegression\n",
    "from sklearn.svm import SVC\n",
    "\n",
    "# single variable analysis\n",
    "from scipy.stats import ttest_ind, false_discovery_control\n",
    "\n",
    "# metrics\n",
    "from sklearn.metrics import accuracy_score, classification_report, confusion_matrix, ConfusionMatrixDisplay\n",
    "from time import time\n",
    "\n",
    "# visualization\n",
    "from matplotlib import pyplot as plt\n",
    "import plotly.express as px\n",
    "\n",
    "import seaborn as sns"
   ]
  },
  {
   "cell_type": "markdown",
   "id": "b54c9742",
   "metadata": {},
   "source": [
    "# Dataset bizzzz"
   ]
  },
  {
   "cell_type": "code",
   "execution_count": 17,
   "id": "5b2a2a66",
   "metadata": {},
   "outputs": [],
   "source": [
    "features: pd.DataFrame = pd.read_csv(\"data/Aaroe.csv\", index_col=0)\n",
    "labels: pd.DataFrame = pd.read_csv(\"data/Aaroelabels.csv\")"
   ]
  },
  {
   "cell_type": "code",
   "execution_count": 18,
   "id": "5c40d24d",
   "metadata": {},
   "outputs": [
    {
     "data": {
      "text/html": [
       "<div>\n",
       "<style scoped>\n",
       "    .dataframe tbody tr th:only-of-type {\n",
       "        vertical-align: middle;\n",
       "    }\n",
       "\n",
       "    .dataframe tbody tr th {\n",
       "        vertical-align: top;\n",
       "    }\n",
       "\n",
       "    .dataframe thead th {\n",
       "        text-align: right;\n",
       "    }\n",
       "</style>\n",
       "<table border=\"1\" class=\"dataframe\">\n",
       "  <thead>\n",
       "    <tr style=\"text-align: right;\">\n",
       "      <th></th>\n",
       "      <th>GSM413367</th>\n",
       "      <th>GSM413368</th>\n",
       "      <th>GSM413369</th>\n",
       "      <th>GSM413370</th>\n",
       "      <th>GSM413371</th>\n",
       "      <th>GSM413372</th>\n",
       "      <th>GSM413373</th>\n",
       "      <th>GSM413374</th>\n",
       "      <th>GSM413375</th>\n",
       "      <th>GSM413376</th>\n",
       "      <th>...</th>\n",
       "      <th>GSM413487</th>\n",
       "      <th>GSM413488</th>\n",
       "      <th>GSM413489</th>\n",
       "      <th>GSM413490</th>\n",
       "      <th>GSM413491</th>\n",
       "      <th>GSM413492</th>\n",
       "      <th>GSM413493</th>\n",
       "      <th>GSM413494</th>\n",
       "      <th>GSM413495</th>\n",
       "      <th>GSM413496</th>\n",
       "    </tr>\n",
       "  </thead>\n",
       "  <tbody>\n",
       "    <tr>\n",
       "      <th>100002</th>\n",
       "      <td>0.1134</td>\n",
       "      <td>0.0560</td>\n",
       "      <td>-0.2562</td>\n",
       "      <td>0.1638</td>\n",
       "      <td>0.2423</td>\n",
       "      <td>0.6244</td>\n",
       "      <td>0.5118</td>\n",
       "      <td>0.6083</td>\n",
       "      <td>-0.1223</td>\n",
       "      <td>0.3054</td>\n",
       "      <td>...</td>\n",
       "      <td>0.1386</td>\n",
       "      <td>-0.2830</td>\n",
       "      <td>-0.4520</td>\n",
       "      <td>-0.2199</td>\n",
       "      <td>0.3305</td>\n",
       "      <td>0.0104</td>\n",
       "      <td>-0.4842</td>\n",
       "      <td>0.1371</td>\n",
       "      <td>0.5243</td>\n",
       "      <td>-0.7144</td>\n",
       "    </tr>\n",
       "    <tr>\n",
       "      <th>100037</th>\n",
       "      <td>0.2036</td>\n",
       "      <td>-0.2881</td>\n",
       "      <td>0.3000</td>\n",
       "      <td>-0.1245</td>\n",
       "      <td>-0.1931</td>\n",
       "      <td>0.6167</td>\n",
       "      <td>0.3156</td>\n",
       "      <td>0.1385</td>\n",
       "      <td>-0.1324</td>\n",
       "      <td>-0.0705</td>\n",
       "      <td>...</td>\n",
       "      <td>-0.0941</td>\n",
       "      <td>-0.1529</td>\n",
       "      <td>-0.2488</td>\n",
       "      <td>-0.0012</td>\n",
       "      <td>0.2233</td>\n",
       "      <td>-0.0586</td>\n",
       "      <td>-0.3079</td>\n",
       "      <td>-0.3399</td>\n",
       "      <td>-0.1787</td>\n",
       "      <td>-0.4291</td>\n",
       "    </tr>\n",
       "    <tr>\n",
       "      <th>100058</th>\n",
       "      <td>-0.1888</td>\n",
       "      <td>-0.1852</td>\n",
       "      <td>-0.5350</td>\n",
       "      <td>0.0004</td>\n",
       "      <td>-0.1942</td>\n",
       "      <td>0.5297</td>\n",
       "      <td>-0.0255</td>\n",
       "      <td>0.5359</td>\n",
       "      <td>0.4558</td>\n",
       "      <td>0.4745</td>\n",
       "      <td>...</td>\n",
       "      <td>-0.0046</td>\n",
       "      <td>-0.2142</td>\n",
       "      <td>-0.1024</td>\n",
       "      <td>0.0988</td>\n",
       "      <td>-0.3493</td>\n",
       "      <td>0.3408</td>\n",
       "      <td>-0.0091</td>\n",
       "      <td>-0.0199</td>\n",
       "      <td>-0.0292</td>\n",
       "      <td>-0.5355</td>\n",
       "    </tr>\n",
       "    <tr>\n",
       "      <th>100079</th>\n",
       "      <td>0.4796</td>\n",
       "      <td>0.1218</td>\n",
       "      <td>-0.4838</td>\n",
       "      <td>0.0131</td>\n",
       "      <td>0.2402</td>\n",
       "      <td>0.2539</td>\n",
       "      <td>0.4935</td>\n",
       "      <td>0.6921</td>\n",
       "      <td>0.0927</td>\n",
       "      <td>0.4592</td>\n",
       "      <td>...</td>\n",
       "      <td>0.1737</td>\n",
       "      <td>-0.0121</td>\n",
       "      <td>-0.3563</td>\n",
       "      <td>-0.3899</td>\n",
       "      <td>-0.3027</td>\n",
       "      <td>-0.0069</td>\n",
       "      <td>-0.3533</td>\n",
       "      <td>0.0783</td>\n",
       "      <td>0.1998</td>\n",
       "      <td>-0.8642</td>\n",
       "    </tr>\n",
       "    <tr>\n",
       "      <th>100100</th>\n",
       "      <td>-0.4458</td>\n",
       "      <td>-0.0933</td>\n",
       "      <td>-0.2071</td>\n",
       "      <td>0.0706</td>\n",
       "      <td>-0.2367</td>\n",
       "      <td>0.1844</td>\n",
       "      <td>0.0015</td>\n",
       "      <td>-0.3982</td>\n",
       "      <td>-0.0905</td>\n",
       "      <td>-0.1620</td>\n",
       "      <td>...</td>\n",
       "      <td>-0.2226</td>\n",
       "      <td>-0.1462</td>\n",
       "      <td>-0.2799</td>\n",
       "      <td>0.1476</td>\n",
       "      <td>-0.0923</td>\n",
       "      <td>0.0413</td>\n",
       "      <td>-0.2852</td>\n",
       "      <td>0.0443</td>\n",
       "      <td>0.1640</td>\n",
       "      <td>-0.3789</td>\n",
       "    </tr>\n",
       "  </tbody>\n",
       "</table>\n",
       "<p>5 rows × 121 columns</p>\n",
       "</div>"
      ],
      "text/plain": [
       "        GSM413367  GSM413368  GSM413369  GSM413370  GSM413371  GSM413372  \\\n",
       "100002     0.1134     0.0560    -0.2562     0.1638     0.2423     0.6244   \n",
       "100037     0.2036    -0.2881     0.3000    -0.1245    -0.1931     0.6167   \n",
       "100058    -0.1888    -0.1852    -0.5350     0.0004    -0.1942     0.5297   \n",
       "100079     0.4796     0.1218    -0.4838     0.0131     0.2402     0.2539   \n",
       "100100    -0.4458    -0.0933    -0.2071     0.0706    -0.2367     0.1844   \n",
       "\n",
       "        GSM413373  GSM413374  GSM413375  GSM413376  ...  GSM413487  GSM413488  \\\n",
       "100002     0.5118     0.6083    -0.1223     0.3054  ...     0.1386    -0.2830   \n",
       "100037     0.3156     0.1385    -0.1324    -0.0705  ...    -0.0941    -0.1529   \n",
       "100058    -0.0255     0.5359     0.4558     0.4745  ...    -0.0046    -0.2142   \n",
       "100079     0.4935     0.6921     0.0927     0.4592  ...     0.1737    -0.0121   \n",
       "100100     0.0015    -0.3982    -0.0905    -0.1620  ...    -0.2226    -0.1462   \n",
       "\n",
       "        GSM413489  GSM413490  GSM413491  GSM413492  GSM413493  GSM413494  \\\n",
       "100002    -0.4520    -0.2199     0.3305     0.0104    -0.4842     0.1371   \n",
       "100037    -0.2488    -0.0012     0.2233    -0.0586    -0.3079    -0.3399   \n",
       "100058    -0.1024     0.0988    -0.3493     0.3408    -0.0091    -0.0199   \n",
       "100079    -0.3563    -0.3899    -0.3027    -0.0069    -0.3533     0.0783   \n",
       "100100    -0.2799     0.1476    -0.0923     0.0413    -0.2852     0.0443   \n",
       "\n",
       "        GSM413495  GSM413496  \n",
       "100002     0.5243    -0.7144  \n",
       "100037    -0.1787    -0.4291  \n",
       "100058    -0.0292    -0.5355  \n",
       "100079     0.1998    -0.8642  \n",
       "100100     0.1640    -0.3789  \n",
       "\n",
       "[5 rows x 121 columns]"
      ]
     },
     "execution_count": 18,
     "metadata": {},
     "output_type": "execute_result"
    }
   ],
   "source": [
    "features.head()"
   ]
  },
  {
   "cell_type": "code",
   "execution_count": 19,
   "id": "07f9babf",
   "metadata": {},
   "outputs": [
    {
     "data": {
      "text/html": [
       "<div>\n",
       "<style scoped>\n",
       "    .dataframe tbody tr th:only-of-type {\n",
       "        vertical-align: middle;\n",
       "    }\n",
       "\n",
       "    .dataframe tbody tr th {\n",
       "        vertical-align: top;\n",
       "    }\n",
       "\n",
       "    .dataframe thead th {\n",
       "        text-align: right;\n",
       "    }\n",
       "</style>\n",
       "<table border=\"1\" class=\"dataframe\">\n",
       "  <thead>\n",
       "    <tr style=\"text-align: right;\">\n",
       "      <th></th>\n",
       "      <th>GSM413367</th>\n",
       "      <th>GSM413368</th>\n",
       "      <th>GSM413369</th>\n",
       "      <th>GSM413370</th>\n",
       "      <th>GSM413371</th>\n",
       "      <th>GSM413372</th>\n",
       "      <th>GSM413373</th>\n",
       "      <th>GSM413374</th>\n",
       "      <th>GSM413375</th>\n",
       "      <th>GSM413376</th>\n",
       "      <th>...</th>\n",
       "      <th>GSM413487</th>\n",
       "      <th>GSM413488</th>\n",
       "      <th>GSM413489</th>\n",
       "      <th>GSM413490</th>\n",
       "      <th>GSM413491</th>\n",
       "      <th>GSM413492</th>\n",
       "      <th>GSM413493</th>\n",
       "      <th>GSM413494</th>\n",
       "      <th>GSM413495</th>\n",
       "      <th>GSM413496</th>\n",
       "    </tr>\n",
       "  </thead>\n",
       "  <tbody>\n",
       "    <tr>\n",
       "      <th>0</th>\n",
       "      <td>normal</td>\n",
       "      <td>normal</td>\n",
       "      <td>normal</td>\n",
       "      <td>normal</td>\n",
       "      <td>normal</td>\n",
       "      <td>normal</td>\n",
       "      <td>normal</td>\n",
       "      <td>normal</td>\n",
       "      <td>normal</td>\n",
       "      <td>normal</td>\n",
       "      <td>...</td>\n",
       "      <td>cancer</td>\n",
       "      <td>cancer</td>\n",
       "      <td>cancer</td>\n",
       "      <td>cancer</td>\n",
       "      <td>cancer</td>\n",
       "      <td>cancer</td>\n",
       "      <td>cancer</td>\n",
       "      <td>cancer</td>\n",
       "      <td>cancer</td>\n",
       "      <td>cancer</td>\n",
       "    </tr>\n",
       "  </tbody>\n",
       "</table>\n",
       "<p>1 rows × 121 columns</p>\n",
       "</div>"
      ],
      "text/plain": [
       "  GSM413367 GSM413368 GSM413369 GSM413370 GSM413371 GSM413372 GSM413373  \\\n",
       "0    normal    normal    normal    normal    normal    normal    normal   \n",
       "\n",
       "  GSM413374 GSM413375 GSM413376  ... GSM413487 GSM413488 GSM413489 GSM413490  \\\n",
       "0    normal    normal    normal  ...    cancer    cancer    cancer    cancer   \n",
       "\n",
       "  GSM413491 GSM413492 GSM413493 GSM413494 GSM413495 GSM413496  \n",
       "0    cancer    cancer    cancer    cancer    cancer    cancer  \n",
       "\n",
       "[1 rows x 121 columns]"
      ]
     },
     "execution_count": 19,
     "metadata": {},
     "output_type": "execute_result"
    }
   ],
   "source": [
    "labels.head()"
   ]
  },
  {
   "cell_type": "code",
   "execution_count": 20,
   "id": "963b9555",
   "metadata": {},
   "outputs": [
    {
     "name": "stdout",
     "output_type": "stream",
     "text": [
      "(11217, 121)\n",
      "(1, 121)\n"
     ]
    }
   ],
   "source": [
    "print(features.shape)\n",
    "print(labels.shape)"
   ]
  },
  {
   "cell_type": "markdown",
   "id": "24e1b630",
   "metadata": {},
   "source": [
    "## Preprocessing"
   ]
  },
  {
   "cell_type": "code",
   "execution_count": 21,
   "id": "77646718",
   "metadata": {},
   "outputs": [],
   "source": [
    "ft = features.T\n",
    "cols = ft.columns\n",
    "idx = ft.index\n",
    "\n",
    "scaler = StandardScaler()\n",
    "ft_scaled = scaler.fit_transform(ft.to_numpy())\n",
    "\n",
    "X = pd.DataFrame(ft_scaled, columns=cols, index=idx)\n",
    "Y = labels.T.rename(columns={0: \"label\"})"
   ]
  },
  {
   "cell_type": "code",
   "execution_count": 22,
   "id": "e5595d7f",
   "metadata": {},
   "outputs": [],
   "source": [
    "data = X.join(Y['label'])"
   ]
  },
  {
   "cell_type": "code",
   "execution_count": 23,
   "id": "a97469af",
   "metadata": {},
   "outputs": [],
   "source": [
    "data.to_csv(\"data/processed.csv\")"
   ]
  },
  {
   "cell_type": "code",
   "execution_count": 24,
   "id": "c7f4b172",
   "metadata": {},
   "outputs": [
    {
     "data": {
      "text/plain": [
       "(121, 11218)"
      ]
     },
     "execution_count": 24,
     "metadata": {},
     "output_type": "execute_result"
    }
   ],
   "source": [
    "data.shape"
   ]
  },
  {
   "cell_type": "code",
   "execution_count": 25,
   "id": "fe14974e",
   "metadata": {},
   "outputs": [
    {
     "data": {
      "text/plain": [
       "False"
      ]
     },
     "execution_count": 25,
     "metadata": {},
     "output_type": "execute_result"
    }
   ],
   "source": [
    "X.isna().any().any()"
   ]
  },
  {
   "cell_type": "code",
   "execution_count": 26,
   "id": "4da2f139",
   "metadata": {},
   "outputs": [],
   "source": [
    "CLASSNAMES = {\n",
    "    'normal': 0,\n",
    "    'cancer': 1\n",
    "}"
   ]
  },
  {
   "cell_type": "markdown",
   "id": "c72da190",
   "metadata": {},
   "source": [
    "# 1. PCA on Gene Expression Dataset"
   ]
  },
  {
   "cell_type": "code",
   "execution_count": 27,
   "id": "c4911495",
   "metadata": {},
   "outputs": [
    {
     "name": "stdout",
     "output_type": "stream",
     "text": [
      "Explained Variance: 0.9999999999999992\n",
      "# of PCs: 121\n"
     ]
    },
    {
     "data": {
      "image/png": "[encoded data removed]",
      "text/plain": [
       "<Figure size 640x480 with 1 Axes>"
      ]
     },
     "metadata": {},
     "output_type": "display_data"
    }
   ],
   "source": [
    "pca = PCA()\n",
    "x = pca.fit_transform(X)\n",
    "\n",
    "explained_variance = pca.explained_variance_ratio_\n",
    "cumsum_var = np.cumsum(explained_variance)\n",
    "print(f\"Explained Variance: {sum(pca.explained_variance_ratio_)}\")\n",
    "print(f\"# of PCs: {pca.n_components_}\")\n",
    "\n",
    "plt.bar(\n",
    "    range(0,len(explained_variance)),\n",
    "    explained_variance,\n",
    "    alpha=0.5,\n",
    "    align='center',\n",
    "    label='Individual explained variance'\n",
    ")\n",
    "\n",
    "plt.step(\n",
    "    range(0,len(cumsum_var)),\n",
    "    cumsum_var,\n",
    "    where='mid',\n",
    "    label='Cumulative explained variance'\n",
    ")\n",
    "\n",
    "plt.ylabel('Proportion of Explained Variance')\n",
    "plt.xlabel('Principal Component #')\n",
    "plt.legend(loc='best')\n",
    "\n",
    "plt.show()"
   ]
  },
  {
   "cell_type": "code",
   "execution_count": 28,
   "id": "137ae1c0",
   "metadata": {},
   "outputs": [
    {
     "name": "stdout",
     "output_type": "stream",
     "text": [
      "Explained Variance: 0.6046409033512566\n",
      "# of PCs: 5\n"
     ]
    },
    {
     "data": {
      "image/png": "[encoded data removed]",
      "text/plain": [
       "<Figure size 640x480 with 1 Axes>"
      ]
     },
     "metadata": {},
     "output_type": "display_data"
    },
    {
     "name": "stdout",
     "output_type": "stream",
     "text": [
      "[[ 7.03889982e+00 -1.11376612e+01 -2.64387514e+01  7.15471137e+00\n",
      "   1.27972287e+01]\n",
      " [-3.29241034e+01  1.15047619e+01  2.58841299e+00  1.82908426e+00\n",
      "   2.15926427e+01]\n",
      " [-4.72069183e+01 -1.10714779e+01 -1.17805560e+01  3.18193227e+00\n",
      "   9.98766579e+00]\n",
      " [-7.95810934e+00  7.66986604e+00  9.99025017e+00 -1.24982549e+01\n",
      "  -4.45077413e+00]\n",
      " [-2.28120212e+00  5.99872732e+00 -7.11057000e+00 -8.85114079e+00\n",
      "  -8.34096093e-01]\n",
      " [ 3.74232100e+01 -1.43890648e+01  8.52252347e+00  7.46795649e+00\n",
      "   6.40964662e+00]\n",
      " [ 1.51562672e+01 -7.05639567e+00 -6.15639765e+00 -1.31813711e+01\n",
      "   3.15632812e+00]\n",
      " [ 2.96231856e+01  3.27291587e+01 -2.68096676e+00 -3.46771751e-01\n",
      "   1.41776504e+01]\n",
      " [ 9.96208243e+00  1.03713326e+01  1.94310215e+00  2.28760324e+01\n",
      "   1.06431137e+01]\n",
      " [ 4.67623640e+01  1.85891748e+01 -4.95995317e+00  1.09856829e+01\n",
      "   3.68790974e+00]\n",
      " [-9.59060415e+00 -8.70091983e-01  1.18813135e+01 -1.06975203e+01\n",
      "  -8.00293436e+00]\n",
      " [ 5.75396707e-01 -9.51990476e-01  1.91768045e+01  9.41056243e-01\n",
      "   9.09547132e+00]\n",
      " [-1.17490680e+01  8.47512901e+00 -2.29127839e+00 -1.03611434e+01\n",
      "  -2.43796739e+00]\n",
      " [-2.32246232e+00 -1.14578803e+01 -1.04720779e+01 -2.17703294e+00\n",
      "  -8.64430621e+00]\n",
      " [ 1.18700904e+01  4.75606872e+00 -1.01327757e+01 -1.28170662e+01\n",
      "   3.87404884e-01]\n",
      " [-1.42680281e+01 -2.38636581e+00 -9.93521807e+00 -2.62253406e+00\n",
      "   5.92212778e+00]\n",
      " [-6.89959623e-01  1.65931196e+00  4.90810273e+00 -1.26071060e+00\n",
      "   1.23508049e+01]\n",
      " [-6.53951015e+00  2.51912354e+01 -5.35965411e+00 -6.03215287e+00\n",
      "   4.03886113e+00]\n",
      " [ 2.15014011e+01  1.70625013e+01  1.10865958e+01 -1.43470386e+01\n",
      "   5.25273681e+00]\n",
      " [ 1.43813045e+01  1.09291664e+01  2.68393330e+00  5.15339281e+00\n",
      "   1.03378551e-01]\n",
      " [-1.43167435e+01 -9.02386955e-02 -1.23371903e+01 -6.91094491e+00\n",
      "   7.59995656e+00]\n",
      " [-3.62540251e+00 -1.91822523e+01  2.38483852e+00 -6.12915082e+00\n",
      "   3.36850067e+00]\n",
      " [-2.13866990e-01 -9.39486085e+00 -1.34801886e+01 -4.50822289e+00\n",
      "  -4.22704126e+00]\n",
      " [ 2.07800886e+00 -1.67942017e+01 -5.44423669e+00  7.11592292e+00\n",
      "  -8.24399806e+00]\n",
      " [ 1.76717980e+00 -1.12337421e+01 -2.14160619e+01 -9.92222767e+00\n",
      "   1.49697218e+00]\n",
      " [ 4.16171221e+01 -1.73606513e+01 -4.85121721e+00  1.61720700e+00\n",
      "  -1.20206357e+01]\n",
      " [-7.27881635e+00 -1.76631397e+01  4.67562902e+00 -1.49038390e+01\n",
      "  -8.09007046e-01]\n",
      " [ 2.08418659e+01 -2.99358545e+00  1.86109025e+01  7.67472473e+00\n",
      "   1.26695236e+01]\n",
      " [ 1.77885612e+01 -2.10826047e+01  1.58902622e+01  1.51549512e+01\n",
      "   2.49473900e+01]\n",
      " [-4.02538621e+01 -1.43485721e+01  5.95150769e+00 -1.28001295e+01\n",
      "  -5.74178725e-01]\n",
      " [ 5.05739780e+00 -1.80502966e+01 -1.69387885e+01  1.41011828e+01\n",
      "  -9.58332335e+00]\n",
      " [-1.31796796e+01 -1.86857910e+01  4.65627447e+00 -1.13560524e+01\n",
      "  -8.81411959e+00]\n",
      " [-4.00800607e+00 -1.10654369e+01  1.11181713e+01  4.59794877e+00\n",
      "  -3.76940317e+00]\n",
      " [-2.18529807e+01 -1.17052182e+01  9.49068889e+00 -5.29429986e-01\n",
      "  -3.29531832e+00]\n",
      " [-1.82045444e+01  1.72281372e+01  1.34656947e+01 -7.57640317e+00\n",
      "  -1.20821788e+01]\n",
      " [-2.44256892e+01 -1.44301889e+01  1.20166362e+01  1.05746344e+01\n",
      "  -1.78630223e+00]\n",
      " [ 1.77476369e+01  1.90869338e+01  4.45031540e+00  1.70447743e+00\n",
      "   6.48536157e+00]\n",
      " [ 4.69188193e+01 -2.67476301e+01  1.68291768e+01 -4.93830164e+00\n",
      "   1.80433828e+00]\n",
      " [ 3.38220802e+01  5.98663227e+00  1.53715843e+01 -4.86114789e+00\n",
      "   5.88490541e+00]\n",
      " [-1.09839181e+01 -1.08100358e+01 -6.18718445e+00 -7.41633688e+00\n",
      "  -4.55800048e+00]\n",
      " [-3.56195561e+01  5.99660194e+00 -6.94689015e+00  5.01717467e+00\n",
      "   1.09384555e+00]\n",
      " [ 4.42062891e+01 -3.68120308e+00  1.08813965e+01  6.82211359e-01\n",
      "  -1.58000031e+00]\n",
      " [ 7.74986103e+00  1.31796123e+00 -1.13717855e+01 -2.20721535e-01\n",
      "  -7.24670511e+00]\n",
      " [ 2.62015307e+01 -8.24756157e+00  2.72239831e+00 -1.98060901e+00\n",
      "  -2.21410991e-01]\n",
      " [-1.26269838e+01 -1.56107214e+01 -1.19852100e+01  5.43684188e+00\n",
      "   1.09197279e+01]\n",
      " [ 3.51075375e+01 -2.73002652e+01 -3.00398961e+00 -1.09680168e+01\n",
      "   2.99894801e+00]\n",
      " [ 1.35513739e+01 -5.29879249e+00  2.04169544e+00 -1.36300812e+01\n",
      "  -1.47540452e+01]\n",
      " [-1.54738940e+01  5.20502419e+00  4.27729783e+00 -8.97320365e+00\n",
      "   6.53778357e+00]\n",
      " [ 2.58389162e+01 -2.42297378e+01  1.77703869e+01  1.62487409e+01\n",
      "  -1.32370690e+00]\n",
      " [ 4.02006683e+01 -1.30498042e+01  2.30992204e+01 -1.42587333e+00\n",
      "  -1.55728505e+00]\n",
      " [-2.63416160e+01 -1.36612519e+00  2.05820146e+00  2.77544095e+00\n",
      "  -3.58595070e+00]\n",
      " [-1.78832310e+01 -1.06510855e+01  4.55425821e+00  1.78059675e+01\n",
      "  -1.59207574e+01]\n",
      " [-3.37660583e+01 -7.39946561e+00 -4.59650975e+00 -9.16841996e+00\n",
      "  -5.61855377e+00]\n",
      " [ 1.73898048e+01 -1.00155403e+01 -8.93180800e-01 -1.67836816e+01\n",
      "  -1.61422943e+00]\n",
      " [-1.44860985e+01  6.25407162e+00 -1.78219867e-01  3.94234458e+00\n",
      "   8.83435590e+00]\n",
      " [-1.56866513e+01  1.76297006e+01  3.97962470e+01  9.12267524e+00\n",
      "  -6.11938858e+00]\n",
      " [-4.64940181e-01  4.85684072e+00 -1.57661711e+00  2.50846710e+00\n",
      "  -3.53758982e+00]\n",
      " [-1.18172259e+01  1.45038753e-01  1.90321557e+01  3.08363830e+00\n",
      "  -7.73963302e+00]\n",
      " [-4.68320350e+01 -6.66426207e+00 -9.92877118e-01  1.43878780e+00\n",
      "   1.04190403e+01]\n",
      " [ 5.13670737e+01  2.05846930e+01 -1.64450853e+01  1.60623770e+00\n",
      "   9.47556627e+00]\n",
      " [-2.30549403e+01  4.57636301e+00  1.01787991e+00  5.82167702e+00\n",
      "  -1.18363573e+01]\n",
      " [-1.85066061e+00 -9.20633452e+00 -9.20027316e+00 -6.62772443e+00\n",
      "  -2.33264368e+00]\n",
      " [-2.26260753e+01 -8.64222067e+00 -1.34001470e+01  1.24072825e+00\n",
      "   1.43945148e+01]\n",
      " [-1.20293367e+01 -1.08961401e+01  1.02651636e+01  1.53136084e+00\n",
      "   1.22957738e+01]\n",
      " [-1.03278781e+01  8.69886162e+00 -5.63314899e-01 -6.86771867e+00\n",
      "  -1.22132071e+01]\n",
      " [ 1.06938442e+01 -1.91782014e+01 -7.02919427e+00  9.10448296e+00\n",
      "  -1.54045758e+01]\n",
      " [-2.99212047e+01 -9.48711783e+00  4.01355657e+00  1.67966580e+00\n",
      "  -5.21039064e+00]\n",
      " [ 6.36204163e+01  1.51235464e+01 -1.24458150e+00  3.35687125e-01\n",
      "  -1.44372670e+01]\n",
      " [-2.30206059e+01  2.23143582e+01  2.55884493e+01  8.15855458e+00\n",
      "  -6.53677816e-01]\n",
      " [-1.96286583e+01 -1.92969956e+01 -1.32588380e+01  7.17564538e+00\n",
      "   7.24998283e-01]\n",
      " [-4.46851502e+01  5.23257694e+00  2.54827596e+01  6.56176916e+00\n",
      "  -1.64156021e+01]\n",
      " [ 9.42542193e+00 -2.27868162e+01  2.85680518e+00 -8.14126664e-01\n",
      "  -1.70941427e+01]\n",
      " [ 4.49632481e+00  2.78988453e+00  1.64921296e+01  2.33549368e+00\n",
      "  -9.06755363e+00]\n",
      " [ 9.41786699e+00  3.76487968e+01 -9.48999172e+00 -6.76244513e+00\n",
      "  -2.91221348e-03]\n",
      " [-2.97412991e-01  1.90011488e+01 -1.02327824e+01 -6.44056577e+00\n",
      "  -2.13105232e+00]\n",
      " [ 3.87955546e+01  1.32966408e+01 -1.02786327e+01  6.09250146e-02\n",
      "  -3.29021304e+00]\n",
      " [ 5.52021518e+00  9.51806808e-01 -1.00834047e+01  7.60127116e-01\n",
      "  -3.91623690e-01]\n",
      " [ 5.16745902e+00  2.02753599e+01 -6.78641625e+00 -2.08030828e+00\n",
      "  -1.06875827e+00]\n",
      " [ 1.97966724e+01 -3.02867497e+01 -1.25097441e+01  9.54735037e+00\n",
      "  -4.00411731e+00]\n",
      " [ 1.41675856e+00  1.98913259e+01  1.30456857e+01  1.23970661e+00\n",
      "  -3.01961927e+00]\n",
      " [ 2.75083709e+01  1.09491311e+01  1.97456919e+01 -6.73498668e+00\n",
      "   5.69126687e+00]\n",
      " [-3.18834143e+00  1.09307861e+01  1.87414785e+00  7.43349510e+00\n",
      "   9.64639852e-01]\n",
      " [ 4.97272720e-02  3.67373719e+00 -1.29493472e+01  4.82306545e+00\n",
      "   1.97555522e-01]\n",
      " [ 3.18598512e+01 -1.20500667e+01 -4.21295130e+00  3.65330563e+00\n",
      "   1.01277312e+01]\n",
      " [-1.12343966e+01  1.12882972e+01  1.76917686e+00  4.05374378e+00\n",
      "  -1.01363251e+00]\n",
      " [-6.21104598e-01  5.57614501e+00 -2.37507170e+01  5.55022160e+00\n",
      "   2.69208704e+00]\n",
      " [ 2.13989097e+01  6.50846372e-01 -4.68619356e+00 -1.06132464e+01\n",
      "   6.97237044e+00]\n",
      " [-8.49527054e+00  2.51747910e+00 -1.33998113e+01  1.09847494e+01\n",
      "  -7.05227431e+00]\n",
      " [-4.20665435e-01  1.05308159e+01 -5.62448321e+00 -2.53933019e+00\n",
      "  -3.61511968e+00]\n",
      " [ 3.15391431e+01  3.47805604e+01 -1.83335840e+01 -1.01843936e+00\n",
      "  -2.78964370e+00]\n",
      " [-4.78107650e+01  6.99547289e+00 -3.49778226e+00 -1.49632744e+01\n",
      "   3.88220122e+00]\n",
      " [-3.88623640e+01  7.62972717e+00 -6.55490786e-02  3.38077903e+00\n",
      "  -1.38110819e+01]\n",
      " [ 8.79297759e-01 -1.75046278e+01  1.15139568e+01  1.65668349e+00\n",
      "   9.69343566e-01]\n",
      " [-1.05571643e+01  1.65312113e+01 -1.30071514e+01 -4.66486472e+00\n",
      "   9.44172131e-01]\n",
      " [ 5.10413575e+00 -7.18377754e+00  9.93008819e+00  1.14205687e+01\n",
      "   1.22850907e+01]\n",
      " [ 4.67185422e+01  2.05909540e+01  2.35349884e+00  1.31171424e+00\n",
      "   4.82049838e+00]\n",
      " [-1.62275044e+01 -1.02841365e+01 -4.50614172e+00 -6.06004865e+00\n",
      "  -6.51800620e-01]\n",
      " [ 2.51492109e-02  7.94368203e+00 -1.49787146e+01  2.10773184e+01\n",
      "  -8.42694214e+00]\n",
      " [ 4.03600282e+01 -4.83170181e+00  1.41992500e+01  4.63957281e+00\n",
      "   1.06855421e+01]\n",
      " [ 2.90595988e+00 -1.29695669e+01 -9.10932216e+00 -5.36448031e+00\n",
      "  -3.74972723e+00]\n",
      " [ 1.58598135e+00 -2.25834441e+01  4.32261500e+00  1.58814139e+00\n",
      "   1.71063105e+00]\n",
      " [-1.22994177e+00 -1.17965844e+01 -6.00932941e+00 -1.60722889e+01\n",
      "   2.18205018e-01]\n",
      " [-7.09270519e+00  2.69689654e+00 -3.03607027e+00  2.20024946e+01\n",
      "  -3.59441351e+00]\n",
      " [ 4.04027045e+01  1.77361256e+01 -1.50392112e+01  3.75874767e+00\n",
      "  -1.17589552e+01]\n",
      " [ 2.70611164e+01 -2.57869856e+01  7.71257793e+00 -6.81034932e+00\n",
      "   6.99237871e+00]\n",
      " [-2.52947715e+01 -1.79158548e+00 -6.37735663e+00  6.07128376e+00\n",
      "  -3.93216966e+00]\n",
      " [ 3.60544677e+01 -1.73453266e+01 -1.73701008e+01 -1.18527378e-02\n",
      "  -5.18724883e+00]\n",
      " [ 7.21626719e+00 -2.92396631e+00  1.85807692e+01 -2.79571121e-03\n",
      "  -6.84888433e+00]\n",
      " [-1.94715825e+01 -1.53828570e+01 -6.64066281e+00 -1.24557546e+01\n",
      "   5.99548138e+00]\n",
      " [-7.89314337e+00  9.28330128e+00  2.49687525e+00 -1.42119792e+01\n",
      "   1.13955883e+01]\n",
      " [-2.67358559e+01 -1.78864771e+01 -5.59137036e+00  9.90670543e-01\n",
      "   8.04764888e+00]\n",
      " [-1.57863627e+01  1.41979793e+01 -6.97427080e+00 -6.62646239e+00\n",
      "   4.23476732e+00]\n",
      " [-2.50083472e+01  7.67410797e+00 -5.67806421e+00  7.57604326e+00\n",
      "   5.99360881e+00]\n",
      " [-4.05940834e+01  1.02887333e+01 -8.69574680e+00  1.77379922e+01\n",
      "   4.88685619e+00]\n",
      " [-2.66554596e+01  2.21733708e+01  2.11284567e+01 -3.47364140e+00\n",
      "   4.06369534e+00]\n",
      " [-2.76782506e+01 -1.29174031e+01  2.60681008e+00 -8.21380391e+00\n",
      "   7.05059684e-01]\n",
      " [ 1.59484117e+01  1.86165862e+01 -4.82841786e+00  5.40090073e+00\n",
      "  -7.31422200e+00]\n",
      " [-1.65060817e+01  1.85859291e+01 -1.51242570e+01  1.85265540e+01\n",
      "  -8.02575816e+00]\n",
      " [ 3.69684786e+00  1.52544732e+01  6.76548515e+00 -7.20223041e-01\n",
      "  -6.93597801e+00]\n",
      " [-1.00684225e+00  2.97133982e+01  9.82758081e+00 -1.27182324e+01\n",
      "  -8.44056669e+00]\n",
      " [-6.15266826e+01  1.16545356e+01  2.01197115e+00  2.07382922e+00\n",
      "   1.06440802e+01]]\n"
     ]
    },
    {
     "data": {
      "application/vnd.plotly.v1+json": {
       "config": {
        "plotlyServerURL": "https://plot.ly"
       },
       "data": [
        {
         "diagonal": {
          "visible": true
         },
         "dimensions": [
          {
           "axis": {
            "matches": true
           },
           "label": "PC 1",
           "values": [
            7.038899817733707,
            -32.924103403104084,
            -47.206918316371485,
            -7.958109339382135,
            -2.281202120980383,
            37.423209976184104,
            15.156267188656164,
            29.623185568734687,
            9.962082432813883,
            46.76236395835526,
            -9.590604151238754,
            0.5753967067790449,
            -11.749067993468561,
            -2.322462321709385,
            11.870090439958059,
            -14.268028057183972,
            -0.6899596229596487,
            -6.539510148853748,
            21.501401056058317,
            14.38130446374167,
            -14.31674353772286,
            -3.625402513453608,
            -0.213866989907283,
            2.0780088594916966,
            1.7671797992393625,
            41.61712208202007,
            -7.278816348555065,
            20.841865867023074,
            17.788561222179045,
            -40.253862072853586,
            5.057397796393201,
            -13.17967956674408,
            -4.008006069519391,
            -21.852980724220522,
            -18.204544409882825,
            -24.425689154819704,
            17.747636892552006,
            46.91881931131088,
            33.82208020124307,
            -10.983918082369525,
            -35.619556068328656,
            44.20628911251373,
            7.74986102623499,
            26.20153072869982,
            -12.626983841153999,
            35.10753745345561,
            13.551373942440366,
            -15.47389396176997,
            25.838916176053303,
            40.20066830799255,
            -26.34161601695065,
            -17.883230993334216,
            -33.766058341478825,
            17.389804841738503
           ]
          },
          {
           "axis": {
            "matches": true
           },
           "label": "PC 2",
           "values": [
            -11.137661230691378,
            11.50476190613218,
            -11.071477929835975,
            7.669866037916805,
            5.998727315158274,
            -14.389064778461211,
            -7.05639567227187,
            32.72915868184078,
            10.371332584241253,
            18.589174830797095,
            -0.8700919826930751,
            -0.9519904757793479,
            8.475129006565092,
            -11.4578803358545,
            4.756068720711782,
            -2.3863658051937806,
            1.6593119648212737,
            25.19123544782081,
            17.062501325050288,
            10.929166391554437,
            -0.09023869550755931,
            -19.182252305421617,
            -9.394860849874725,
            -16.79420172584565,
            -11.233742069955676,
            -17.360651287142765,
            -17.66313967815569,
            -2.99358545108914,
            -21.082604662625958,
            -14.348572117609054,
            -18.05029659689863,
            -18.685791026111254,
            -11.065436936317733,
            -11.705218165081789,
            17.228137230271212,
            -14.430188920119479,
            19.08693376566294,
            -26.747630090486346,
            5.9866322677201405,
            -10.810035797641337,
            5.996601937019344,
            -3.681203078368466,
            1.3179612270169287,
            -8.247561567659561,
            -15.610721373044546,
            -27.300265154426196,
            -5.298792488746862,
            5.205024191781701,
            -24.229737848665508,
            -13.049804180537858,
            -1.36612519000287,
            -10.651085495893588,
            -7.399465614023313,
            -10.015540264787461
           ]
          },
          {
           "axis": {
            "matches": true
           },
           "label": "PC 3",
           "values": [
            -26.438751447813218,
            2.588412985764498,
            -11.78055598746336,
            9.99025017015919,
            -7.11056999881747,
            8.522523473403075,
            -6.156397649776913,
            -2.680966760251709,
            1.94310215315292,
            -4.959953170325156,
            11.881313466106018,
            19.17680451196607,
            -2.291278389759807,
            -10.472077862598702,
            -10.13277572035521,
            -9.935218065682305,
            4.908102726774482,
            -5.359654113490419,
            11.086595815129412,
            2.683933295899216,
            -12.337190333037194,
            2.3848385176497073,
            -13.48018855790434,
            -5.444236690275771,
            -21.416061890436257,
            -4.851217210598525,
            4.675629021770639,
            18.610902507569385,
            15.890262165754136,
            5.951507689477831,
            -16.938788453511293,
            4.656274471966121,
            11.118171273503844,
            9.490688885340447,
            13.465694721569992,
            12.016636180548986,
            4.4503153982985175,
            16.82917683812961,
            15.371584299686011,
            -6.187184448033758,
            -6.946890146658871,
            10.881396502603314,
            -11.371785469875656,
            2.7223983108695995,
            -11.985209979971103,
            -3.0039896129073336,
            2.0416954435446106,
            4.2772978270515365,
            17.77038686106423,
            23.099220375866697,
            2.05820145662174,
            4.554258211772639,
            -4.596509748014187,
            -0.8931807997051724
           ]
          },
          {
           "axis": {
            "matches": true
           },
           "label": "PC 4",
           "values": [
            7.154711374828185,
            1.8290842608109925,
            3.1819322660482707,
            -12.498254900872324,
            -8.851140794268863,
            7.467956491837062,
            -13.181371143536323,
            -0.3467717505956974,
            22.876032424648056,
            10.985682881390868,
            -10.69752031001351,
            0.9410562429856415,
            -10.361143409175527,
            -2.1770329431238373,
            -12.817066213615366,
            -2.6225340627118263,
            -1.2607105981613396,
            -6.032152868618691,
            -14.34703859815889,
            5.1533928068834705,
            -6.91094491030991,
            -6.129150823692759,
            -4.508222889909813,
            7.115922923830595,
            -9.922227666047469,
            1.6172070035881,
            -14.903839029598934,
            7.674724732893478,
            15.15495116924535,
            -12.800129466973752,
            14.101182774400588,
            -11.356052446663275,
            4.597948772801547,
            -0.529429986069749,
            -7.57640316712392,
            10.57463436761299,
            1.704477434828228,
            -4.938301643542822,
            -4.861147886602312,
            -7.416336880978598,
            5.017174674615413,
            0.6822113594781173,
            -0.22072153480964485,
            -1.9806090115354884,
            5.436841880946464,
            -10.968016829361883,
            -13.630081171414762,
            -8.973203650774417,
            16.248740923180712,
            -1.4258733329732545,
            2.775440950327866,
            17.80596754788694,
            -9.168419962720986,
            -16.783681643286094
           ]
          },
          {
           "axis": {
            "matches": true
           },
           "label": "PC 5",
           "values": [
            12.797228691314096,
            21.59264271645182,
            9.987665794888198,
            -4.450774131776426,
            -0.8340960934478636,
            6.409646619949416,
            3.156328118693794,
            14.17765038242669,
            10.643113709772898,
            3.6879097434896075,
            -8.002934364512743,
            9.095471322025084,
            -2.437967389134765,
            -8.644306214621228,
            0.3874048835434006,
            5.922127784828699,
            12.35080489124986,
            4.038861127215896,
            5.25273681065267,
            0.10337855071678612,
            7.599956559609546,
            3.368500673249768,
            -4.227041256110618,
            -8.24399806325811,
            1.4969721847781,
            -12.020635690125301,
            -0.809007045714735,
            12.66952364863186,
            24.947389973970324,
            -0.5741787252567516,
            -9.583323351658475,
            -8.814119594853947,
            -3.769403172577786,
            -3.295318323983238,
            -12.082178843197708,
            -1.7863022322955584,
            6.485361565412378,
            1.8043382775746502,
            5.884905414577587,
            -4.558000484734043,
            1.0938455500166264,
            -1.5800003143336778,
            -7.246705109809618,
            -0.22141099110947288,
            10.919727882713211,
            2.9989480125639494,
            -14.754045201871063,
            6.53778356776621,
            -1.3237069037631237,
            -1.557285045097397,
            -3.585950703066376,
            -15.9207573850123,
            -5.618553766368467,
            -1.6142294258360113
           ]
          }
         ],
         "hovertemplate": "label=normal<br>%{xaxis.title.text}=%{x}<br>%{yaxis.title.text}=%{y}<extra></extra>",
         "legendgroup": "normal",
         "marker": {
          "color": "#636efa",
          "symbol": "circle"
         },
         "name": "normal",
         "showlegend": true,
         "type": "splom"
        },
        {
         "diagonal": {
          "visible": true
         },
         "dimensions": [
          {
           "axis": {
            "matches": true
           },
           "label": "PC 1",
           "values": [
            -14.486098534235785,
            -15.68665126661319,
            -0.46494018098422685,
            -11.817225852557682,
            -46.83203501209519,
            51.36707374062387,
            -23.054940290992906,
            -1.8506606147561027,
            -22.62607528686575,
            -12.02933668555762,
            -10.327878127835229,
            10.693844203950686,
            -29.921204705338326,
            63.62041628633222,
            -23.02060591316392,
            -19.628658326464482,
            -44.68515023836463,
            9.425421926529635,
            4.4963248057238,
            9.417866987971259,
            -0.2974129911876354,
            38.795554638568134,
            5.520215178355013,
            5.167459021398625,
            19.796672387806336,
            1.4167585615761646,
            27.50837086970065,
            -3.188341426427842,
            0.049727272002987336,
            31.85985121500543,
            -11.234396611585353,
            -0.6211045984005843,
            21.398909661783133,
            -8.495270541227633,
            -0.4206654351878839,
            31.539143079896814,
            -47.81076498153677,
            -38.8623639960112,
            0.8792977590991269,
            -10.557164349119747,
            5.104135753483795,
            46.71854221753672,
            -16.227504413873255,
            0.02514921092871898,
            40.36002815282312,
            2.905959882571193,
            1.5859813450310567,
            -1.2299417681127067,
            -7.092705185215385,
            40.40270450606228,
            27.061116412743484,
            -25.294771456728007,
            36.05446772585086,
            7.216267187117486,
            -19.471582513284257,
            -7.893143370388128,
            -26.73585593598917,
            -15.78636268181427,
            -25.008347208489752,
            -40.59408341265994,
            -26.655459578954112,
            -27.678250578595357,
            15.948411744245824,
            -16.506081710335884,
            3.696847858640699,
            -1.006842254849609,
            -61.5266826188389
           ]
          },
          {
           "axis": {
            "matches": true
           },
           "label": "PC 2",
           "values": [
            6.254071619041194,
            17.629700560206075,
            4.85684071785648,
            0.14503875277075373,
            -6.66426206897597,
            20.584692954917763,
            4.576363014997241,
            -9.206334517439984,
            -8.642220668504969,
            -10.896140104772435,
            8.698861617339622,
            -19.17820137355401,
            -9.487117833470798,
            15.123546385077749,
            22.31435819787394,
            -19.29699555622748,
            5.232576936805153,
            -22.78681618042093,
            2.7898845278054756,
            37.64879675847528,
            19.00114875776499,
            13.29664075039063,
            0.9518068078176556,
            20.275359908995803,
            -30.286749706427806,
            19.891325883786163,
            10.949131109959703,
            10.930786053735435,
            3.6737371910645753,
            -12.050066651886802,
            11.288297199015103,
            5.576145005059171,
            0.6508463720420368,
            2.5174790954151764,
            10.530815877571758,
            34.78056037915666,
            6.995472891211054,
            7.629727169337,
            -17.50462783712538,
            16.53121126226856,
            -7.183777539520824,
            20.5909540322368,
            -10.28413652934681,
            7.943682028417994,
            -4.8317018084014265,
            -12.969566948101402,
            -22.58344407339118,
            -11.79658441044151,
            2.6968965436510564,
            17.736125591148166,
            -25.786985603384316,
            -1.791585481594374,
            -17.34532662458213,
            -2.9239663055325416,
            -15.382856963375785,
            9.283301278049409,
            -17.88647710786009,
            14.197979257834486,
            7.674107969487008,
            10.288733332479577,
            22.17337083714555,
            -12.917403061049177,
            18.61658615799373,
            18.585929110033003,
            15.254473244247025,
            29.713398183123395,
            11.65453564252221
           ]
          },
          {
           "axis": {
            "matches": true
           },
           "label": "PC 3",
           "values": [
            -0.1782198665081618,
            39.796247032058986,
            -1.5766171121109522,
            19.032155687059483,
            -0.9928771179254516,
            -16.4450852555166,
            1.0178799122086848,
            -9.200273162502604,
            -13.400146976344805,
            10.26516356086244,
            -0.5633148993408018,
            -7.029194266198211,
            4.013556566126431,
            -1.244581498695708,
            25.588449327395416,
            -13.258837953799212,
            25.482759636273244,
            2.8568051802570826,
            16.492129561188612,
            -9.489991715445019,
            -10.232782395160664,
            -10.278632674831702,
            -10.083404703123195,
            -6.786416252534518,
            -12.509744070165699,
            13.045685734647455,
            19.745691868402808,
            1.8741478479732163,
            -12.949347240257092,
            -4.21295130306318,
            1.7691768553882388,
            -23.75071702205533,
            -4.686193555192151,
            -13.399811347220046,
            -5.624483208100706,
            -18.33358396458861,
            -3.4977822614506744,
            -0.0655490786347123,
            11.513956830964203,
            -13.007151398309274,
            9.930088189630547,
            2.353498836011857,
            -4.506141719337112,
            -14.978714615759232,
            14.199250032609939,
            -9.109322156256287,
            4.322614998450532,
            -6.00932941345921,
            -3.0360702658135303,
            -15.03921123713915,
            7.712577925910135,
            -6.377356627329726,
            -17.370100844576733,
            18.58076923415015,
            -6.640662808892829,
            2.4968752528834517,
            -5.59137036213799,
            -6.974270801439027,
            -5.678064213150819,
            -8.695746796600709,
            21.128456686687976,
            2.6068100846456135,
            -4.828417862137076,
            -15.124256982546205,
            6.765485152755295,
            9.827580807628568,
            2.0119711517296204
           ]
          },
          {
           "axis": {
            "matches": true
           },
           "label": "PC 4",
           "values": [
            3.942344577688727,
            9.122675237472361,
            2.5084671041614532,
            3.0836383017656535,
            1.4387878036363502,
            1.606237700460702,
            5.821677015122889,
            -6.627724426239069,
            1.240728254642768,
            1.5313608377485488,
            -6.867718666181056,
            9.104482961404937,
            1.6796658002588631,
            0.3356871254530323,
            8.158554578560572,
            7.175645378852709,
            6.561769164890236,
            -0.8141266636218815,
            2.335493683382931,
            -6.762445125667831,
            -6.440565771368275,
            0.06092501456469123,
            0.7601271163869372,
            -2.0803082777362403,
            9.547350365715156,
            1.2397066056430988,
            -6.734986680548495,
            7.433495098515043,
            4.8230654481811435,
            3.6533056300526248,
            4.053743778135775,
            5.550221603134201,
            -10.613246390538094,
            10.984749353014774,
            -2.5393301941738287,
            -1.0184393604083508,
            -14.963274393142417,
            3.380779034439213,
            1.6566834930182959,
            -4.664864717153891,
            11.420568726766449,
            1.3117142448158172,
            -6.060048654906197,
            21.077318394542804,
            4.6395728052807685,
            -5.364480309499311,
            1.588141389685004,
            -16.072288946688506,
            22.002494576051415,
            3.758747668842121,
            -6.810349322554785,
            6.071283755144436,
            -0.011852737839211395,
            -0.0027957112085547817,
            -12.455754600711813,
            -14.211979245513623,
            0.9906705425667868,
            -6.6264623938239895,
            7.576043259434807,
            17.737992236421032,
            -3.4736413964942847,
            -8.213803908159829,
            5.400900726392897,
            18.526554018606074,
            -0.7202230406540844,
            -12.71823243856774,
            2.0738292247203827
           ]
          },
          {
           "axis": {
            "matches": true
           },
           "label": "PC 5",
           "values": [
            8.834355904597476,
            -6.119388580309804,
            -3.537589821279262,
            -7.739633017540459,
            10.419040286193297,
            9.475566268482735,
            -11.836357346592063,
            -2.3326436806072914,
            14.394514838197324,
            12.29577381807889,
            -12.213207116998625,
            -15.404575811121733,
            -5.210390643984823,
            -14.437267014239357,
            -0.6536778163114759,
            0.724998283146622,
            -16.41560205751352,
            -17.094142678985023,
            -9.067553630800337,
            -0.002912213475128754,
            -2.1310523158521733,
            -3.2902130383891652,
            -0.39162369006003306,
            -1.0687582722817655,
            -4.004117310772991,
            -3.0196192671862923,
            5.691266865542975,
            0.964639851821492,
            0.19755552207084384,
            10.127731207622457,
            -1.0136325148300362,
            2.692087037934987,
            6.97237043916907,
            -7.052274307638293,
            -3.6151196766595803,
            -2.789643701127415,
            3.88220122485006,
            -13.811081864980263,
            0.9693435663710669,
            0.9441721307529709,
            12.285090654263207,
            4.820498375869785,
            -0.6518006198491024,
            -8.426942140507107,
            10.685542067943688,
            -3.7497272341742414,
            1.710631047825997,
            0.2182050178626608,
            -3.594413508720457,
            -11.75895520954926,
            6.992378709420992,
            -3.9321696588574073,
            -5.187248828228165,
            -6.848884329658131,
            5.995481375658779,
            11.395588264739606,
            8.047648880911288,
            4.234767316771607,
            5.993608806408995,
            4.886856187209636,
            4.063695339379215,
            0.7050596837922566,
            -7.314222002142967,
            -8.025758161563445,
            -6.935978008634484,
            -8.44056669442677,
            10.644080178402117
           ]
          }
         ],
         "hovertemplate": "label=cancer<br>%{xaxis.title.text}=%{x}<br>%{yaxis.title.text}=%{y}<extra></extra>",
         "legendgroup": "cancer",
         "marker": {
          "color": "#EF553B",
          "symbol": "circle"
         },
         "name": "cancer",
         "showlegend": true,
         "type": "splom"
        }
       ],
       "layout": {
        "dragmode": "select",
        "height": 720,
        "legend": {
         "title": {
          "text": "label"
         },
         "tracegroupgap": 0
        },
        "template": {
         "data": {
          "bar": [
           {
            "error_x": {
             "color": "#2a3f5f"
            },
            "error_y": {
             "color": "#2a3f5f"
            },
            "marker": {
             "line": {
              "color": "#E5ECF6",
              "width": 0.5
             },
             "pattern": {
              "fillmode": "overlay",
              "size": 10,
              "solidity": 0.2
             }
            },
            "type": "bar"
           }
          ],
          "barpolar": [
           {
            "marker": {
             "line": {
              "color": "#E5ECF6",
              "width": 0.5
             },
             "pattern": {
              "fillmode": "overlay",
              "size": 10,
              "solidity": 0.2
             }
            },
            "type": "barpolar"
           }
          ],
          "carpet": [
           {
            "aaxis": {
             "endlinecolor": "#2a3f5f",
             "gridcolor": "white",
             "linecolor": "white",
             "minorgridcolor": "white",
             "startlinecolor": "#2a3f5f"
            },
            "baxis": {
             "endlinecolor": "#2a3f5f",
             "gridcolor": "white",
             "linecolor": "white",
             "minorgridcolor": "white",
             "startlinecolor": "#2a3f5f"
            },
            "type": "carpet"
           }
          ],
          "choropleth": [
           {
            "colorbar": {
             "outlinewidth": 0,
             "ticks": ""
            },
            "type": "choropleth"
           }
          ],
          "contour": [
           {
            "colorbar": {
             "outlinewidth": 0,
             "ticks": ""
            },
            "colorscale": [
             [
              0,
              "#0d0887"
             ],
             [
              0.1111111111111111,
              "#46039f"
             ],
             [
              0.2222222222222222,
              "#7201a8"
             ],
             [
              0.3333333333333333,
              "#9c179e"
             ],
             [
              0.4444444444444444,
              "#bd3786"
             ],
             [
              0.5555555555555556,
              "#d8576b"
             ],
             [
              0.6666666666666666,
              "#ed7953"
             ],
             [
              0.7777777777777778,
              "#fb9f3a"
             ],
             [
              0.8888888888888888,
              "#fdca26"
             ],
             [
              1,
              "#f0f921"
             ]
            ],
            "type": "contour"
           }
          ],
          "contourcarpet": [
           {
            "colorbar": {
             "outlinewidth": 0,
             "ticks": ""
            },
            "type": "contourcarpet"
           }
          ],
          "heatmap": [
           {
            "colorbar": {
             "outlinewidth": 0,
             "ticks": ""
            },
            "colorscale": [
             [
              0,
              "#0d0887"
             ],
             [
              0.1111111111111111,
              "#46039f"
             ],
             [
              0.2222222222222222,
              "#7201a8"
             ],
             [
              0.3333333333333333,
              "#9c179e"
             ],
             [
              0.4444444444444444,
              "#bd3786"
             ],
             [
              0.5555555555555556,
              "#d8576b"
             ],
             [
              0.6666666666666666,
              "#ed7953"
             ],
             [
              0.7777777777777778,
              "#fb9f3a"
             ],
             [
              0.8888888888888888,
              "#fdca26"
             ],
             [
              1,
              "#f0f921"
             ]
            ],
            "type": "heatmap"
           }
          ],
          "heatmapgl": [
           {
            "colorbar": {
             "outlinewidth": 0,
             "ticks": ""
            },
            "colorscale": [
             [
              0,
              "#0d0887"
             ],
             [
              0.1111111111111111,
              "#46039f"
             ],
             [
              0.2222222222222222,
              "#7201a8"
             ],
             [
              0.3333333333333333,
              "#9c179e"
             ],
             [
              0.4444444444444444,
              "#bd3786"
             ],
             [
              0.5555555555555556,
              "#d8576b"
             ],
             [
              0.6666666666666666,
              "#ed7953"
             ],
             [
              0.7777777777777778,
              "#fb9f3a"
             ],
             [
              0.8888888888888888,
              "#fdca26"
             ],
             [
              1,
              "#f0f921"
             ]
            ],
            "type": "heatmapgl"
           }
          ],
          "histogram": [
           {
            "marker": {
             "pattern": {
              "fillmode": "overlay",
              "size": 10,
              "solidity": 0.2
             }
            },
            "type": "histogram"
           }
          ],
          "histogram2d": [
           {
            "colorbar": {
             "outlinewidth": 0,
             "ticks": ""
            },
            "colorscale": [
             [
              0,
              "#0d0887"
             ],
             [
              0.1111111111111111,
              "#46039f"
             ],
             [
              0.2222222222222222,
              "#7201a8"
             ],
             [
              0.3333333333333333,
              "#9c179e"
             ],
             [
              0.4444444444444444,
              "#bd3786"
             ],
             [
              0.5555555555555556,
              "#d8576b"
             ],
             [
              0.6666666666666666,
              "#ed7953"
             ],
             [
              0.7777777777777778,
              "#fb9f3a"
             ],
             [
              0.8888888888888888,
              "#fdca26"
             ],
             [
              1,
              "#f0f921"
             ]
            ],
            "type": "histogram2d"
           }
          ],
          "histogram2dcontour": [
           {
            "colorbar": {
             "outlinewidth": 0,
             "ticks": ""
            },
            "colorscale": [
             [
              0,
              "#0d0887"
             ],
             [
              0.1111111111111111,
              "#46039f"
             ],
             [
              0.2222222222222222,
              "#7201a8"
             ],
             [
              0.3333333333333333,
              "#9c179e"
             ],
             [
              0.4444444444444444,
              "#bd3786"
             ],
             [
              0.5555555555555556,
              "#d8576b"
             ],
             [
              0.6666666666666666,
              "#ed7953"
             ],
             [
              0.7777777777777778,
              "#fb9f3a"
             ],
             [
              0.8888888888888888,
              "#fdca26"
             ],
             [
              1,
              "#f0f921"
             ]
            ],
            "type": "histogram2dcontour"
           }
          ],
          "mesh3d": [
           {
            "colorbar": {
             "outlinewidth": 0,
             "ticks": ""
            },
            "type": "mesh3d"
           }
          ],
          "parcoords": [
           {
            "line": {
             "colorbar": {
              "outlinewidth": 0,
              "ticks": ""
             }
            },
            "type": "parcoords"
           }
          ],
          "pie": [
           {
            "automargin": true,
            "type": "pie"
           }
          ],
          "scatter": [
           {
            "fillpattern": {
             "fillmode": "overlay",
             "size": 10,
             "solidity": 0.2
            },
            "type": "scatter"
           }
          ],
          "scatter3d": [
           {
            "line": {
             "colorbar": {
              "outlinewidth": 0,
              "ticks": ""
             }
            },
            "marker": {
             "colorbar": {
              "outlinewidth": 0,
              "ticks": ""
             }
            },
            "type": "scatter3d"
           }
          ],
          "scattercarpet": [
           {
            "marker": {
             "colorbar": {
              "outlinewidth": 0,
              "ticks": ""
             }
            },
            "type": "scattercarpet"
           }
          ],
          "scattergeo": [
           {
            "marker": {
             "colorbar": {
              "outlinewidth": 0,
              "ticks": ""
             }
            },
            "type": "scattergeo"
           }
          ],
          "scattergl": [
           {
            "marker": {
             "colorbar": {
              "outlinewidth": 0,
              "ticks": ""
             }
            },
            "type": "scattergl"
           }
          ],
          "scattermapbox": [
           {
            "marker": {
             "colorbar": {
              "outlinewidth": 0,
              "ticks": ""
             }
            },
            "type": "scattermapbox"
           }
          ],
          "scatterpolar": [
           {
            "marker": {
             "colorbar": {
              "outlinewidth": 0,
              "ticks": ""
             }
            },
            "type": "scatterpolar"
           }
          ],
          "scatterpolargl": [
           {
            "marker": {
             "colorbar": {
              "outlinewidth": 0,
              "ticks": ""
             }
            },
            "type": "scatterpolargl"
           }
          ],
          "scatterternary": [
           {
            "marker": {
             "colorbar": {
              "outlinewidth": 0,
              "ticks": ""
             }
            },
            "type": "scatterternary"
           }
          ],
          "surface": [
           {
            "colorbar": {
             "outlinewidth": 0,
             "ticks": ""
            },
            "colorscale": [
             [
              0,
              "#0d0887"
             ],
             [
              0.1111111111111111,
              "#46039f"
             ],
             [
              0.2222222222222222,
              "#7201a8"
             ],
             [
              0.3333333333333333,
              "#9c179e"
             ],
             [
              0.4444444444444444,
              "#bd3786"
             ],
             [
              0.5555555555555556,
              "#d8576b"
             ],
             [
              0.6666666666666666,
              "#ed7953"
             ],
             [
              0.7777777777777778,
              "#fb9f3a"
             ],
             [
              0.8888888888888888,
              "#fdca26"
             ],
             [
              1,
              "#f0f921"
             ]
            ],
            "type": "surface"
           }
          ],
          "table": [
           {
            "cells": {
             "fill": {
              "color": "#EBF0F8"
             },
             "line": {
              "color": "white"
             }
            },
            "header": {
             "fill": {
              "color": "#C8D4E3"
             },
             "line": {
              "color": "white"
             }
            },
            "type": "table"
           }
          ]
         },
         "layout": {
          "annotationdefaults": {
           "arrowcolor": "#2a3f5f",
           "arrowhead": 0,
           "arrowwidth": 1
          },
          "autotypenumbers": "strict",
          "coloraxis": {
           "colorbar": {
            "outlinewidth": 0,
            "ticks": ""
           }
          },
          "colorscale": {
           "diverging": [
            [
             0,
             "#8e0152"
            ],
            [
             0.1,
             "#c51b7d"
            ],
            [
             0.2,
             "#de77ae"
            ],
            [
             0.3,
             "#f1b6da"
            ],
            [
             0.4,
             "#fde0ef"
            ],
            [
             0.5,
             "#f7f7f7"
            ],
            [
             0.6,
             "#e6f5d0"
            ],
            [
             0.7,
             "#b8e186"
            ],
            [
             0.8,
             "#7fbc41"
            ],
            [
             0.9,
             "#4d9221"
            ],
            [
             1,
             "#276419"
            ]
           ],
           "sequential": [
            [
             0,
             "#0d0887"
            ],
            [
             0.1111111111111111,
             "#46039f"
            ],
            [
             0.2222222222222222,
             "#7201a8"
            ],
            [
             0.3333333333333333,
             "#9c179e"
            ],
            [
             0.4444444444444444,
             "#bd3786"
            ],
            [
             0.5555555555555556,
             "#d8576b"
            ],
            [
             0.6666666666666666,
             "#ed7953"
            ],
            [
             0.7777777777777778,
             "#fb9f3a"
            ],
            [
             0.8888888888888888,
             "#fdca26"
            ],
            [
             1,
             "#f0f921"
            ]
           ],
           "sequentialminus": [
            [
             0,
             "#0d0887"
            ],
            [
             0.1111111111111111,
             "#46039f"
            ],
            [
             0.2222222222222222,
             "#7201a8"
            ],
            [
             0.3333333333333333,
             "#9c179e"
            ],
            [
             0.4444444444444444,
             "#bd3786"
            ],
            [
             0.5555555555555556,
             "#d8576b"
            ],
            [
             0.6666666666666666,
             "#ed7953"
            ],
            [
             0.7777777777777778,
             "#fb9f3a"
            ],
            [
             0.8888888888888888,
             "#fdca26"
            ],
            [
             1,
             "#f0f921"
            ]
           ]
          },
          "colorway": [
           "#636efa",
           "#EF553B",
           "#00cc96",
           "#ab63fa",
           "#FFA15A",
           "#19d3f3",
           "#FF6692",
           "#B6E880",
           "#FF97FF",
           "#FECB52"
          ],
          "font": {
           "color": "#2a3f5f"
          },
          "geo": {
           "bgcolor": "white",
           "lakecolor": "white",
           "landcolor": "#E5ECF6",
           "showlakes": true,
           "showland": true,
           "subunitcolor": "white"
          },
          "hoverlabel": {
           "align": "left"
          },
          "hovermode": "closest",
          "mapbox": {
           "style": "light"
          },
          "paper_bgcolor": "white",
          "plot_bgcolor": "#E5ECF6",
          "polar": {
           "angularaxis": {
            "gridcolor": "white",
            "linecolor": "white",
            "ticks": ""
           },
           "bgcolor": "#E5ECF6",
           "radialaxis": {
            "gridcolor": "white",
            "linecolor": "white",
            "ticks": ""
           }
          },
          "scene": {
           "xaxis": {
            "backgroundcolor": "#E5ECF6",
            "gridcolor": "white",
            "gridwidth": 2,
            "linecolor": "white",
            "showbackground": true,
            "ticks": "",
            "zerolinecolor": "white"
           },
           "yaxis": {
            "backgroundcolor": "#E5ECF6",
            "gridcolor": "white",
            "gridwidth": 2,
            "linecolor": "white",
            "showbackground": true,
            "ticks": "",
            "zerolinecolor": "white"
           },
           "zaxis": {
            "backgroundcolor": "#E5ECF6",
            "gridcolor": "white",
            "gridwidth": 2,
            "linecolor": "white",
            "showbackground": true,
            "ticks": "",
            "zerolinecolor": "white"
           }
          },
          "shapedefaults": {
           "line": {
            "color": "#2a3f5f"
           }
          },
          "ternary": {
           "aaxis": {
            "gridcolor": "white",
            "linecolor": "white",
            "ticks": ""
           },
           "baxis": {
            "gridcolor": "white",
            "linecolor": "white",
            "ticks": ""
           },
           "bgcolor": "#E5ECF6",
           "caxis": {
            "gridcolor": "white",
            "linecolor": "white",
            "ticks": ""
           }
          },
          "title": {
           "x": 0.05
          },
          "xaxis": {
           "automargin": true,
           "gridcolor": "white",
           "linecolor": "white",
           "ticks": "",
           "title": {
            "standoff": 15
           },
           "zerolinecolor": "white",
           "zerolinewidth": 2
          },
          "yaxis": {
           "automargin": true,
           "gridcolor": "white",
           "linecolor": "white",
           "ticks": "",
           "title": {
            "standoff": 15
           },
           "zerolinecolor": "white",
           "zerolinewidth": 2
          }
         }
        },
        "title": {
         "text": "Total Explained Variance: 0.60%"
        },
        "width": 720
       }
      }
     },
     "metadata": {},
     "output_type": "display_data"
    }
   ],
   "source": [
    "# oh no duplication anyway\n",
    "n_components = 5\n",
    "pca_first_n = PCA(n_components=n_components)\n",
    "first_n = pca_first_n.fit_transform(X)\n",
    "\n",
    "explained_variance = pca_first_n.explained_variance_ratio_\n",
    "cumsum_var = np.cumsum(explained_variance)\n",
    "print(f\"Explained Variance: {sum(pca_first_n.explained_variance_ratio_)}\")\n",
    "print(f\"# of PCs: {pca_first_n.n_components_}\")\n",
    "\n",
    "plt.bar(\n",
    "    range(0,len(explained_variance)),\n",
    "    explained_variance,\n",
    "    alpha=0.5,\n",
    "    align='center',\n",
    "    label='Individual explained variance'\n",
    ")\n",
    "\n",
    "plt.step(\n",
    "    range(0,len(cumsum_var)),\n",
    "    cumsum_var,\n",
    "    where='mid',\n",
    "    label='Cumulative explained variance'\n",
    ")\n",
    "\n",
    "plt.ylabel('Proportion of Explained Variance')\n",
    "plt.xlabel('Principal Component #')\n",
    "plt.legend(loc='best')\n",
    "\n",
    "plt.show()\n",
    "\n",
    "# TODO: figure out how to identify relevant PCs\n",
    "labels = {str(i): f\"PC {i+1}\" for i in range(n_components)}\n",
    "labels['color'] = 'label'\n",
    "\n",
    "print(first_n)\n",
    "\n",
    "fig = px.scatter_matrix(\n",
    "    first_n,\n",
    "    color=Y['label'],\n",
    "    dimensions=range(n_components),\n",
    "    labels=labels,\n",
    "    title=f'First {n_components} PCs, Total Explained Variance: {sum(pca_first_n.explained_variance_ratio_):.2f}%',\n",
    "    width=720,\n",
    "    height=720\n",
    ")\n",
    "fig.update_traces(diagonal_visible=True)\n",
    "fig.show()"
   ]
  },
  {
   "cell_type": "code",
   "execution_count": 29,
   "id": "5a55d756",
   "metadata": {},
   "outputs": [],
   "source": [
    "components = pd.DataFrame(pca.components_, columns=X.columns)\n",
    "components.to_csv('supplementary/PrincipalComponentDirections.csv', index_label=\"Principal Component\")"
   ]
  },
  {
   "cell_type": "code",
   "execution_count": null,
   "id": "e50ea45d",
   "metadata": {},
   "outputs": [],
   "source": []
  },
  {
   "cell_type": "code",
   "execution_count": null,
   "id": "90e2d711",
   "metadata": {},
   "outputs": [],
   "source": []
  },
  {
   "cell_type": "markdown",
   "id": "4076d0e9",
   "metadata": {},
   "source": [
    "# Experiments"
   ]
  },
  {
   "cell_type": "code",
   "execution_count": 30,
   "id": "f9973f81",
   "metadata": {},
   "outputs": [
    {
     "name": "stdout",
     "output_type": "stream",
     "text": [
      "0.7520661157024794\n"
     ]
    }
   ],
   "source": [
    "# quick accuracy test\n",
    "svm = SVC(kernel=\"linear\")\n",
    "cv = LeaveOneOut()\n",
    "# NOTE: SVM Hyperparameters?\n",
    "grid = GridSearchCV(svm, {}, cv=cv, scoring=\"accuracy\")\n",
    "grid.fit(x, Y.to_numpy().ravel())\n",
    "print(grid.best_score_)\n",
    "\n",
    "# score = cross_val_score(lasso, x, Y.to_numpy().ravel(), scoring='accuracy', cv=10, n_jobs=-1)\n",
    "\n",
    "# print(f\"Accuracy: {np.mean(score):.3f} ({np.std(score):.3f})\")"
   ]
  },
  {
   "cell_type": "markdown",
   "id": "2d057536",
   "metadata": {},
   "source": [
    "# 2. Single Variable Analysis"
   ]
  },
  {
   "cell_type": "code",
   "execution_count": 92,
   "id": "2ec343a6",
   "metadata": {},
   "outputs": [],
   "source": [
    "class SVA:\n",
    "    def __init__(self, data: pd.DataFrame) -> None:\n",
    "        label = data['label']\n",
    "        self.n_variables = len(data.columns) - 1 # exclude response variable\n",
    "        self.normals = data.loc[label == 'normal'].drop('label', axis='columns')\n",
    "        self.cancers = data.loc[label == 'cancer'].drop('label', axis='columns')\n",
    "        self.calcPvals()\n",
    "        self.adjustPvals()\n",
    "        self.df_unadjusted = pd.Series(self.pvals, index=data.drop('label', axis='columns').columns)\n",
    "        self.df_adjusted = pd.Series(self.pvals_adjusted, index=data.drop('label', axis='columns').columns)\n",
    "\n",
    "    def calcPvals(self):\n",
    "        ttresults = ttest_ind(self.normals, self.cancers, equal_var=False)\n",
    "        self.pvals = ttresults.pvalue\n",
    "\n",
    "    def adjustPvals(self):\n",
    "        # TODO: how does this work?\n",
    "        self.pvals_adjusted = false_discovery_control(self.pvals, method='bh')"
   ]
  },
  {
   "cell_type": "code",
   "execution_count": 99,
   "id": "7ac2d805",
   "metadata": {},
   "outputs": [],
   "source": [
    "MAX_FDR = 0.1\n",
    "sva = SVA(data)\n",
    "# sva.pvals_adjusted[sva.pvals_adjusted < MAX_FDR]\n",
    "significant_genes = sva.df_unadjusted[sva.df_adjusted < MAX_FDR]\n",
    "significant_genes.to_csv('supplementary/SignificantGenes.csv', header=False)"
   ]
  },
  {
   "cell_type": "code",
   "execution_count": 135,
   "id": "42c8dc65",
   "metadata": {},
   "outputs": [
    {
     "data": {
      "image/png": "[encoded data removed]",
      "text/plain": [
       "<Figure size 1000x600 with 1 Axes>"
      ]
     },
     "metadata": {},
     "output_type": "display_data"
    }
   ],
   "source": [
    "genes = pd.DataFrame({\"unadjusted\": sva.pvals, \"adjusted\": sva.pvals_adjusted}, index=X.columns)\n",
    "genes_sorted = genes.sort_values(by=['unadjusted'])\n",
    "genes_sorted['significant'] = np.where(genes_sorted['adjusted'] < MAX_FDR, 'red', 'blue')\n",
    "genes_sorted['rank'] = range(1, len(genes_sorted) + 1)\n",
    "\n",
    "def fdr_slope(j):\n",
    "    return MAX_FDR * j / len(genes)\n",
    "\n",
    "fig = plt.figure(figsize=(10,6))\n",
    "sns.scatterplot(data=genes_sorted, x='rank', y='unadjusted', c=genes_sorted['significant'])\n",
    "# sns.lineplot(data=genes_sorted, x='adjusted', y='adjusted')\n",
    "plt.axvline(x=len(significant_genes), c='black', linestyle=':')\n",
    "\n",
    "xx = [1, len(genes)]\n",
    "yy = [fdr_slope(1), fdr_slope(len(genes))]\n",
    "\n",
    "plt.plot(xx, yy, '-')\n",
    "# TODO: BH FDR control line\n",
    "plt.xscale('log')\n",
    "plt.yscale('log')\n",
    "plt.show()"
   ]
  },
  {
   "cell_type": "code",
   "execution_count": 116,
   "id": "366aa66c",
   "metadata": {},
   "outputs": [
    {
     "data": {
      "text/plain": [
       "11217"
      ]
     },
     "execution_count": 116,
     "metadata": {},
     "output_type": "execute_result"
    }
   ],
   "source": [
    "len(genes)"
   ]
  },
  {
   "cell_type": "markdown",
   "id": "3fb50fc7",
   "metadata": {},
   "source": [
    "# 3. Defining Binary Logistic Regression With Lasso Penalty"
   ]
  },
  {
   "cell_type": "markdown",
   "id": "29d37b9b",
   "metadata": {},
   "source": [
    "# 4. Benefits & Drawbacks of using PCA for Dimensionality Reduction"
   ]
  },
  {
   "cell_type": "markdown",
   "id": "5fbbc9b2",
   "metadata": {},
   "source": [
    "# 5. Classification"
   ]
  },
  {
   "cell_type": "markdown",
   "id": "81da9910",
   "metadata": {},
   "source": [
    "## a. Characterisation of Each Class"
   ]
  },
  {
   "cell_type": "markdown",
   "id": "bd45f488",
   "metadata": {},
   "source": [
    "## b. CV-based Error Rate Estimates"
   ]
  },
  {
   "cell_type": "markdown",
   "id": "42068c8d",
   "metadata": {},
   "source": [
    "## c. Finding The Optimal Value of λ"
   ]
  },
  {
   "cell_type": "markdown",
   "id": "fffb5412",
   "metadata": {},
   "source": [
    "# 6. Results Comparison"
   ]
  },
  {
   "cell_type": "markdown",
   "id": "5ece7216",
   "metadata": {},
   "source": []
  }
 ],
 "metadata": {
  "kernelspec": {
   "display_name": "Python 3 (ipykernel)",
   "language": "python",
   "name": "python3"
  },
  "language_info": {
   "codemirror_mode": {
    "name": "ipython",
    "version": 3
   },
   "file_extension": ".py",
   "mimetype": "text/x-python",
   "name": "python",
   "nbconvert_exporter": "python",
   "pygments_lexer": "ipython3",
   "version": "3.11.5"
  }
 },
 "nbformat": 4,
 "nbformat_minor": 5
}

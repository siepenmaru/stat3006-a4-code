{
 "cells": [
  {
   "cell_type": "markdown",
   "id": "db7419ee",
   "metadata": {},
   "source": [
    "# STAT3006 Assignment 4 <img src=\"https://i.kym-cdn.com/photos/images/newsfeed/001/852/165/c6e\" height=\"32\" width=\"32\">\n",
    "\n",
    "**Avatar Putra Pertama Azka - 47286238**"
   ]
  },
  {
   "cell_type": "code",
   "execution_count": 1,
   "id": "742bfd65-4def-4d72-8407-398c8960c9c2",
   "metadata": {},
   "outputs": [],
   "source": [
    "import pandas as pd\n",
    "import numpy as np\n",
    "\n",
    "# preprocessing\n",
    "from sklearn.preprocessing import StandardScaler\n",
    "\n",
    "# training utils\n",
    "from sklearn.model_selection import cross_val_predict, GridSearchCV\n",
    "\n",
    "# models\n",
    "from sklearn.decomposition import PCA\n",
    "from sklearn.linear_model import LogisticRegression\n",
    "from sklearn.svm import SVC\n",
    "\n",
    "# single variable analysis\n",
    "from scipy.stats import ttest_ind, false_discovery_control\n",
    "\n",
    "# metrics\n",
    "from sklearn.metrics import accuracy_score, classification_report, confusion_matrix, roc_auc_score\n",
    "\n",
    "# visualization\n",
    "from matplotlib import pyplot as plt\n",
    "import plotly.express as px\n",
    "\n",
    "import seaborn as sns"
   ]
  },
  {
   "cell_type": "markdown",
   "id": "b54c9742",
   "metadata": {},
   "source": [
    "# Dataset bizzzz"
   ]
  },
  {
   "cell_type": "code",
   "execution_count": 2,
   "id": "5b2a2a66",
   "metadata": {},
   "outputs": [],
   "source": [
    "features: pd.DataFrame = pd.read_csv(\"data/Aaroe.csv\", index_col=0)\n",
    "labels: pd.DataFrame = pd.read_csv(\"data/Aaroelabels.csv\")"
   ]
  },
  {
   "cell_type": "code",
   "execution_count": 3,
   "id": "5c40d24d",
   "metadata": {},
   "outputs": [
    {
     "data": {
      "text/html": [
       "<div>\n",
       "<style scoped>\n",
       "    .dataframe tbody tr th:only-of-type {\n",
       "        vertical-align: middle;\n",
       "    }\n",
       "\n",
       "    .dataframe tbody tr th {\n",
       "        vertical-align: top;\n",
       "    }\n",
       "\n",
       "    .dataframe thead th {\n",
       "        text-align: right;\n",
       "    }\n",
       "</style>\n",
       "<table border=\"1\" class=\"dataframe\">\n",
       "  <thead>\n",
       "    <tr style=\"text-align: right;\">\n",
       "      <th></th>\n",
       "      <th>GSM413367</th>\n",
       "      <th>GSM413368</th>\n",
       "      <th>GSM413369</th>\n",
       "      <th>GSM413370</th>\n",
       "      <th>GSM413371</th>\n",
       "      <th>GSM413372</th>\n",
       "      <th>GSM413373</th>\n",
       "      <th>GSM413374</th>\n",
       "      <th>GSM413375</th>\n",
       "      <th>GSM413376</th>\n",
       "      <th>...</th>\n",
       "      <th>GSM413487</th>\n",
       "      <th>GSM413488</th>\n",
       "      <th>GSM413489</th>\n",
       "      <th>GSM413490</th>\n",
       "      <th>GSM413491</th>\n",
       "      <th>GSM413492</th>\n",
       "      <th>GSM413493</th>\n",
       "      <th>GSM413494</th>\n",
       "      <th>GSM413495</th>\n",
       "      <th>GSM413496</th>\n",
       "    </tr>\n",
       "  </thead>\n",
       "  <tbody>\n",
       "    <tr>\n",
       "      <th>100002</th>\n",
       "      <td>0.1134</td>\n",
       "      <td>0.0560</td>\n",
       "      <td>-0.2562</td>\n",
       "      <td>0.1638</td>\n",
       "      <td>0.2423</td>\n",
       "      <td>0.6244</td>\n",
       "      <td>0.5118</td>\n",
       "      <td>0.6083</td>\n",
       "      <td>-0.1223</td>\n",
       "      <td>0.3054</td>\n",
       "      <td>...</td>\n",
       "      <td>0.1386</td>\n",
       "      <td>-0.2830</td>\n",
       "      <td>-0.4520</td>\n",
       "      <td>-0.2199</td>\n",
       "      <td>0.3305</td>\n",
       "      <td>0.0104</td>\n",
       "      <td>-0.4842</td>\n",
       "      <td>0.1371</td>\n",
       "      <td>0.5243</td>\n",
       "      <td>-0.7144</td>\n",
       "    </tr>\n",
       "    <tr>\n",
       "      <th>100037</th>\n",
       "      <td>0.2036</td>\n",
       "      <td>-0.2881</td>\n",
       "      <td>0.3000</td>\n",
       "      <td>-0.1245</td>\n",
       "      <td>-0.1931</td>\n",
       "      <td>0.6167</td>\n",
       "      <td>0.3156</td>\n",
       "      <td>0.1385</td>\n",
       "      <td>-0.1324</td>\n",
       "      <td>-0.0705</td>\n",
       "      <td>...</td>\n",
       "      <td>-0.0941</td>\n",
       "      <td>-0.1529</td>\n",
       "      <td>-0.2488</td>\n",
       "      <td>-0.0012</td>\n",
       "      <td>0.2233</td>\n",
       "      <td>-0.0586</td>\n",
       "      <td>-0.3079</td>\n",
       "      <td>-0.3399</td>\n",
       "      <td>-0.1787</td>\n",
       "      <td>-0.4291</td>\n",
       "    </tr>\n",
       "    <tr>\n",
       "      <th>100058</th>\n",
       "      <td>-0.1888</td>\n",
       "      <td>-0.1852</td>\n",
       "      <td>-0.5350</td>\n",
       "      <td>0.0004</td>\n",
       "      <td>-0.1942</td>\n",
       "      <td>0.5297</td>\n",
       "      <td>-0.0255</td>\n",
       "      <td>0.5359</td>\n",
       "      <td>0.4558</td>\n",
       "      <td>0.4745</td>\n",
       "      <td>...</td>\n",
       "      <td>-0.0046</td>\n",
       "      <td>-0.2142</td>\n",
       "      <td>-0.1024</td>\n",
       "      <td>0.0988</td>\n",
       "      <td>-0.3493</td>\n",
       "      <td>0.3408</td>\n",
       "      <td>-0.0091</td>\n",
       "      <td>-0.0199</td>\n",
       "      <td>-0.0292</td>\n",
       "      <td>-0.5355</td>\n",
       "    </tr>\n",
       "    <tr>\n",
       "      <th>100079</th>\n",
       "      <td>0.4796</td>\n",
       "      <td>0.1218</td>\n",
       "      <td>-0.4838</td>\n",
       "      <td>0.0131</td>\n",
       "      <td>0.2402</td>\n",
       "      <td>0.2539</td>\n",
       "      <td>0.4935</td>\n",
       "      <td>0.6921</td>\n",
       "      <td>0.0927</td>\n",
       "      <td>0.4592</td>\n",
       "      <td>...</td>\n",
       "      <td>0.1737</td>\n",
       "      <td>-0.0121</td>\n",
       "      <td>-0.3563</td>\n",
       "      <td>-0.3899</td>\n",
       "      <td>-0.3027</td>\n",
       "      <td>-0.0069</td>\n",
       "      <td>-0.3533</td>\n",
       "      <td>0.0783</td>\n",
       "      <td>0.1998</td>\n",
       "      <td>-0.8642</td>\n",
       "    </tr>\n",
       "    <tr>\n",
       "      <th>100100</th>\n",
       "      <td>-0.4458</td>\n",
       "      <td>-0.0933</td>\n",
       "      <td>-0.2071</td>\n",
       "      <td>0.0706</td>\n",
       "      <td>-0.2367</td>\n",
       "      <td>0.1844</td>\n",
       "      <td>0.0015</td>\n",
       "      <td>-0.3982</td>\n",
       "      <td>-0.0905</td>\n",
       "      <td>-0.1620</td>\n",
       "      <td>...</td>\n",
       "      <td>-0.2226</td>\n",
       "      <td>-0.1462</td>\n",
       "      <td>-0.2799</td>\n",
       "      <td>0.1476</td>\n",
       "      <td>-0.0923</td>\n",
       "      <td>0.0413</td>\n",
       "      <td>-0.2852</td>\n",
       "      <td>0.0443</td>\n",
       "      <td>0.1640</td>\n",
       "      <td>-0.3789</td>\n",
       "    </tr>\n",
       "  </tbody>\n",
       "</table>\n",
       "<p>5 rows × 121 columns</p>\n",
       "</div>"
      ],
      "text/plain": [
       "        GSM413367  GSM413368  GSM413369  GSM413370  GSM413371  GSM413372  \\\n",
       "100002     0.1134     0.0560    -0.2562     0.1638     0.2423     0.6244   \n",
       "100037     0.2036    -0.2881     0.3000    -0.1245    -0.1931     0.6167   \n",
       "100058    -0.1888    -0.1852    -0.5350     0.0004    -0.1942     0.5297   \n",
       "100079     0.4796     0.1218    -0.4838     0.0131     0.2402     0.2539   \n",
       "100100    -0.4458    -0.0933    -0.2071     0.0706    -0.2367     0.1844   \n",
       "\n",
       "        GSM413373  GSM413374  GSM413375  GSM413376  ...  GSM413487  GSM413488  \\\n",
       "100002     0.5118     0.6083    -0.1223     0.3054  ...     0.1386    -0.2830   \n",
       "100037     0.3156     0.1385    -0.1324    -0.0705  ...    -0.0941    -0.1529   \n",
       "100058    -0.0255     0.5359     0.4558     0.4745  ...    -0.0046    -0.2142   \n",
       "100079     0.4935     0.6921     0.0927     0.4592  ...     0.1737    -0.0121   \n",
       "100100     0.0015    -0.3982    -0.0905    -0.1620  ...    -0.2226    -0.1462   \n",
       "\n",
       "        GSM413489  GSM413490  GSM413491  GSM413492  GSM413493  GSM413494  \\\n",
       "100002    -0.4520    -0.2199     0.3305     0.0104    -0.4842     0.1371   \n",
       "100037    -0.2488    -0.0012     0.2233    -0.0586    -0.3079    -0.3399   \n",
       "100058    -0.1024     0.0988    -0.3493     0.3408    -0.0091    -0.0199   \n",
       "100079    -0.3563    -0.3899    -0.3027    -0.0069    -0.3533     0.0783   \n",
       "100100    -0.2799     0.1476    -0.0923     0.0413    -0.2852     0.0443   \n",
       "\n",
       "        GSM413495  GSM413496  \n",
       "100002     0.5243    -0.7144  \n",
       "100037    -0.1787    -0.4291  \n",
       "100058    -0.0292    -0.5355  \n",
       "100079     0.1998    -0.8642  \n",
       "100100     0.1640    -0.3789  \n",
       "\n",
       "[5 rows x 121 columns]"
      ]
     },
     "execution_count": 3,
     "metadata": {},
     "output_type": "execute_result"
    }
   ],
   "source": [
    "features.head()"
   ]
  },
  {
   "cell_type": "code",
   "execution_count": 4,
   "id": "07f9babf",
   "metadata": {},
   "outputs": [
    {
     "data": {
      "text/html": [
       "<div>\n",
       "<style scoped>\n",
       "    .dataframe tbody tr th:only-of-type {\n",
       "        vertical-align: middle;\n",
       "    }\n",
       "\n",
       "    .dataframe tbody tr th {\n",
       "        vertical-align: top;\n",
       "    }\n",
       "\n",
       "    .dataframe thead th {\n",
       "        text-align: right;\n",
       "    }\n",
       "</style>\n",
       "<table border=\"1\" class=\"dataframe\">\n",
       "  <thead>\n",
       "    <tr style=\"text-align: right;\">\n",
       "      <th></th>\n",
       "      <th>GSM413367</th>\n",
       "      <th>GSM413368</th>\n",
       "      <th>GSM413369</th>\n",
       "      <th>GSM413370</th>\n",
       "      <th>GSM413371</th>\n",
       "      <th>GSM413372</th>\n",
       "      <th>GSM413373</th>\n",
       "      <th>GSM413374</th>\n",
       "      <th>GSM413375</th>\n",
       "      <th>GSM413376</th>\n",
       "      <th>...</th>\n",
       "      <th>GSM413487</th>\n",
       "      <th>GSM413488</th>\n",
       "      <th>GSM413489</th>\n",
       "      <th>GSM413490</th>\n",
       "      <th>GSM413491</th>\n",
       "      <th>GSM413492</th>\n",
       "      <th>GSM413493</th>\n",
       "      <th>GSM413494</th>\n",
       "      <th>GSM413495</th>\n",
       "      <th>GSM413496</th>\n",
       "    </tr>\n",
       "  </thead>\n",
       "  <tbody>\n",
       "    <tr>\n",
       "      <th>0</th>\n",
       "      <td>normal</td>\n",
       "      <td>normal</td>\n",
       "      <td>normal</td>\n",
       "      <td>normal</td>\n",
       "      <td>normal</td>\n",
       "      <td>normal</td>\n",
       "      <td>normal</td>\n",
       "      <td>normal</td>\n",
       "      <td>normal</td>\n",
       "      <td>normal</td>\n",
       "      <td>...</td>\n",
       "      <td>cancer</td>\n",
       "      <td>cancer</td>\n",
       "      <td>cancer</td>\n",
       "      <td>cancer</td>\n",
       "      <td>cancer</td>\n",
       "      <td>cancer</td>\n",
       "      <td>cancer</td>\n",
       "      <td>cancer</td>\n",
       "      <td>cancer</td>\n",
       "      <td>cancer</td>\n",
       "    </tr>\n",
       "  </tbody>\n",
       "</table>\n",
       "<p>1 rows × 121 columns</p>\n",
       "</div>"
      ],
      "text/plain": [
       "  GSM413367 GSM413368 GSM413369 GSM413370 GSM413371 GSM413372 GSM413373  \\\n",
       "0    normal    normal    normal    normal    normal    normal    normal   \n",
       "\n",
       "  GSM413374 GSM413375 GSM413376  ... GSM413487 GSM413488 GSM413489 GSM413490  \\\n",
       "0    normal    normal    normal  ...    cancer    cancer    cancer    cancer   \n",
       "\n",
       "  GSM413491 GSM413492 GSM413493 GSM413494 GSM413495 GSM413496  \n",
       "0    cancer    cancer    cancer    cancer    cancer    cancer  \n",
       "\n",
       "[1 rows x 121 columns]"
      ]
     },
     "execution_count": 4,
     "metadata": {},
     "output_type": "execute_result"
    }
   ],
   "source": [
    "labels.head()"
   ]
  },
  {
   "cell_type": "code",
   "execution_count": 5,
   "id": "963b9555",
   "metadata": {},
   "outputs": [
    {
     "name": "stdout",
     "output_type": "stream",
     "text": [
      "(11217, 121)\n",
      "(1, 121)\n"
     ]
    }
   ],
   "source": [
    "print(features.shape)\n",
    "print(labels.shape)"
   ]
  },
  {
   "cell_type": "markdown",
   "id": "24e1b630",
   "metadata": {},
   "source": [
    "## Preprocessing"
   ]
  },
  {
   "cell_type": "code",
   "execution_count": 6,
   "id": "77646718",
   "metadata": {},
   "outputs": [],
   "source": [
    "ft = features.T\n",
    "cols = ft.columns\n",
    "idx = ft.index\n",
    "\n",
    "scaler = StandardScaler()\n",
    "ft_scaled = scaler.fit_transform(ft.to_numpy())\n",
    "\n",
    "X = pd.DataFrame(ft_scaled, columns=cols, index=idx)\n",
    "Y = labels.T.rename(columns={0: \"label\"})"
   ]
  },
  {
   "cell_type": "code",
   "execution_count": 7,
   "id": "e5595d7f",
   "metadata": {},
   "outputs": [],
   "source": [
    "data = X.join(Y['label'])"
   ]
  },
  {
   "cell_type": "code",
   "execution_count": 8,
   "id": "a97469af",
   "metadata": {},
   "outputs": [],
   "source": [
    "data.to_csv(\"data/processed.csv\")"
   ]
  },
  {
   "cell_type": "code",
   "execution_count": 9,
   "id": "c7f4b172",
   "metadata": {},
   "outputs": [
    {
     "data": {
      "text/plain": [
       "(121, 11218)"
      ]
     },
     "execution_count": 9,
     "metadata": {},
     "output_type": "execute_result"
    }
   ],
   "source": [
    "data.shape"
   ]
  },
  {
   "cell_type": "code",
   "execution_count": 10,
   "id": "fe14974e",
   "metadata": {},
   "outputs": [
    {
     "data": {
      "text/plain": [
       "False"
      ]
     },
     "execution_count": 10,
     "metadata": {},
     "output_type": "execute_result"
    }
   ],
   "source": [
    "X.isna().any().any()"
   ]
  },
  {
   "cell_type": "code",
   "execution_count": 11,
   "id": "4da2f139",
   "metadata": {},
   "outputs": [],
   "source": [
    "CLASSNAMES = {\n",
    "    'normal': 0.0,\n",
    "    'cancer': 1.0\n",
    "}"
   ]
  },
  {
   "cell_type": "markdown",
   "id": "c72da190",
   "metadata": {},
   "source": [
    "# 1. PCA on Gene Expression Dataset"
   ]
  },
  {
   "cell_type": "code",
   "execution_count": 12,
   "id": "c4911495",
   "metadata": {},
   "outputs": [
    {
     "name": "stdout",
     "output_type": "stream",
     "text": [
      "Explained Variance: 1.0000000000000002\n",
      "# of PCs: 121\n"
     ]
    },
    {
     "data": {
      "image/png": "[encoded data removed]",
      "text/plain": [
       "<Figure size 640x480 with 1 Axes>"
      ]
     },
     "metadata": {},
     "output_type": "display_data"
    }
   ],
   "source": [
    "pca = PCA()\n",
    "x = pca.fit_transform(X)\n",
    "\n",
    "explained_variance = pca.explained_variance_ratio_\n",
    "cumsum_var = np.cumsum(explained_variance)\n",
    "print(f\"Explained Variance: {sum(pca.explained_variance_ratio_)}\")\n",
    "print(f\"# of PCs: {pca.n_components_}\")\n",
    "\n",
    "plt.bar(\n",
    "    range(0,len(explained_variance)),\n",
    "    explained_variance,\n",
    "    alpha=0.5,\n",
    "    align='center',\n",
    "    label='Individual explained variance'\n",
    ")\n",
    "\n",
    "plt.step(\n",
    "    range(0,len(cumsum_var)),\n",
    "    cumsum_var,\n",
    "    where='mid',\n",
    "    label='Cumulative explained variance'\n",
    ")\n",
    "\n",
    "plt.ylabel('Proportion of Explained Variance')\n",
    "plt.xlabel('Principal Component #')\n",
    "plt.legend(loc='best')\n",
    "plt.savefig('figures/PCA_Explained_Variance_Curve')\n",
    "\n",
    "plt.show()"
   ]
  },
  {
   "cell_type": "code",
   "execution_count": 13,
   "id": "137ae1c0",
   "metadata": {},
   "outputs": [
    {
     "name": "stdout",
     "output_type": "stream",
     "text": [
      "Explained Variance: 0.5879975561529593\n",
      "# of PCs: 5\n"
     ]
    },
    {
     "data": {
      "image/png": "[encoded data removed]",
      "text/plain": [
       "<Figure size 640x480 with 1 Axes>"
      ]
     },
     "metadata": {},
     "output_type": "display_data"
    },
    {
     "name": "stdout",
     "output_type": "stream",
     "text": [
      "(121, 5)\n"
     ]
    },
    {
     "data": {
      "application/vnd.plotly.v1+json": {
       "config": {
        "plotlyServerURL": "https://plot.ly"
       },
       "data": [
        {
         "diagonal": {
          "visible": true
         },
         "dimensions": [
          {
           "axis": {
            "matches": true
           },
           "label": "PC 1",
           "values": [
            -13.274757587313262,
            76.51318682244434,
            111.11168844149518,
            16.12989911785322,
            6.591049034144521,
            -97.83063192828739,
            -42.28955141109626,
            -65.86274145276643,
            -18.397364365815744,
            -103.75073784592337,
            12.229723081269752,
            -10.645860182672093,
            25.143372482551616,
            8.123983687987396,
            -25.851430314316133,
            36.31572258517069,
            2.2974143271733296,
            18.487161951776663,
            -55.425023993638426,
            -26.549956381080545,
            38.152182850663834,
            -0.1471964076132989,
            1.4661098813700557,
            -2.785635169752689,
            -2.4036076983656205,
            -91.69290419050068,
            6.613239604259955,
            -55.846890610353256,
            -47.74749985956338,
            88.53766130511144,
            -7.486522495670128,
            22.51914879270583,
            1.8082112389032223,
            47.421142725299454,
            40.72105008603396,
            54.50258987221796,
            -41.38022447022285,
            -114.79716627795987,
            -82.25872888256787,
            25.369658099377475,
            91.05034484853624,
            -106.40301819744812,
            -10.945115301403503,
            -66.85052477526699,
            21.7119195317509,
            -91.63402450185832,
            -29.77165020960831,
            31.525890656012667,
            -68.77027411444027,
            -106.78766472257792,
            61.88777022721565,
            44.390782074839855,
            81.01980389901337,
            -49.473352344406024
           ]
          },
          {
           "axis": {
            "matches": true
           },
           "label": "PC 2",
           "values": [
            -21.27794915483444,
            31.831402693604428,
            -29.128576117692965,
            27.492687342667722,
            18.34080308441057,
            -26.376646125700816,
            -4.559207200570607,
            80.96670397135867,
            21.418192767917823,
            48.09560235099512,
            -7.715910192161862,
            -5.385509686622852,
            21.698979697377037,
            -27.664759959727768,
            10.758983808257366,
            -2.118103739582666,
            8.496492919817058,
            58.37881619548667,
            43.8413020630731,
            29.379039244767526,
            0.6427190060104286,
            -47.180717477944974,
            -26.840092032867783,
            -46.853880719010704,
            -16.745007328226382,
            -37.513583258617444,
            -33.1102067162181,
            -11.54863261675102,
            -55.384520024835766,
            -34.34714128874389,
            -47.22511775257312,
            -43.178960772561304,
            -26.53041660252779,
            -36.2617821961435,
            41.81737189909065,
            -46.20180544777666,
            51.71220469536978,
            -61.76490293886086,
            29.9459732842565,
            -20.448694340549626,
            8.130428246449567,
            -6.41327397989209,
            -3.459650291135463,
            -25.456282216569807,
            -39.91203804389002,
            -55.92058011642599,
            -7.165575189628406,
            12.318354594659034,
            -65.3436842864318,
            -35.771621466144765,
            -4.105440201868737,
            -37.11206704257488,
            -17.392530919874794,
            -15.922514187822054
           ]
          },
          {
           "axis": {
            "matches": true
           },
           "label": "PC 3",
           "values": [
            -76.55071285600155,
            8.625369198605396,
            -29.722561386634364,
            29.187420442668706,
            -20.0304591400605,
            18.824793095398988,
            -20.702496090830394,
            -6.530652733457797,
            3.599193364700491,
            -12.984075367812235,
            36.18411373104398,
            46.42647221137875,
            -1.4995869546054128,
            -27.744107953625427,
            -28.369883587851383,
            -30.65085647642134,
            11.494598762821196,
            -10.117242108627291,
            29.0591352379839,
            2.0908074882423424,
            -35.187469260704205,
            2.64745574126127,
            -37.52691558124716,
            -15.74946794589283,
            -60.23727600902464,
            -19.471058962734734,
            10.324077948234546,
            48.937096938163364,
            32.22388635772247,
            20.270821310362244,
            -41.69764346770676,
            15.114507546812364,
            30.2665734065151,
            24.065713692659443,
            43.990344614632136,
            34.66506289896521,
            7.868010854190918,
            36.59394395924672,
            34.095706690747164,
            -15.351914322262967,
            -16.242838092830883,
            25.811436815228138,
            -30.00093039623485,
            7.242936572854369,
            -35.73665641079294,
            -17.43808277578014,
            4.438810597830718,
            10.685711231961674,
            42.46396709238044,
            58.75550418538191,
            6.709899871779484,
            16.483053508667147,
            -11.052956478785783,
            -6.633011621002595
           ]
          },
          {
           "axis": {
            "matches": true
           },
           "label": "PC 4",
           "values": [
            22.919256841854512,
            3.5007185752695342,
            6.687699889088805,
            -28.24690278200711,
            -22.66311702818396,
            17.77542064503265,
            -31.035891906961464,
            8.483626083859626,
            60.99611800819327,
            39.49113348470409,
            -30.396707834241173,
            0.33905924880619387,
            -22.989693845707905,
            -11.655030756041347,
            -31.668945203132612,
            -7.611912179727365,
            -1.5689774474661495,
            -12.467163559528514,
            -34.336924426262996,
            13.67078687890324,
            -18.374431197683613,
            -17.14363807567147,
            -15.116103420337954,
            12.635084156802188,
            -24.019903779920437,
            0.016034669527361895,
            -41.78262404917065,
            20.279737529248397,
            44.6222299036045,
            -38.80841189982402,
            35.6329800144057,
            -34.430972017838705,
            9.020571327298057,
            -6.405513979254301,
            -16.69241921403411,
            25.544251711282527,
            11.37008609871669,
            -17.05506981059151,
            -4.154994555365486,
            -20.929342523419248,
            11.576383726951478,
            1.8347929419803075,
            -2.869390474651117,
            -4.883530749591289,
            16.57700887852431,
            -32.75334503661983,
            -41.788954356494536,
            -25.74329219633643,
            43.010418028393936,
            -7.396137224419313,
            7.200399059980075,
            44.38955849525903,
            -28.20744614939362,
            -43.096222377658016
           ]
          },
          {
           "axis": {
            "matches": true
           },
           "label": "PC 5",
           "values": [
            25.899017233906836,
            49.9303592195087,
            24.62839929723793,
            -9.485190360925646,
            -2.8205104658598,
            10.066777324141428,
            5.208940673656704,
            37.9486738583664,
            22.467446537282004,
            4.9459540170090746,
            -16.538714961906646,
            23.292368914184095,
            -3.330090362877219,
            -22.749073559034315,
            7.2113757999699395,
            14.024989678708602,
            35.836250896024275,
            5.268122482220726,
            16.072656303575208,
            -2.733580421983015,
            20.508391867101423,
            12.446638980452493,
            -9.900381606850637,
            -21.59391204244027,
            -1.1834114641847093,
            -27.894341418607564,
            -1.5051358538133393,
            31.919730173010368,
            78.50629471844479,
            6.722657064435684,
            -26.007386181563817,
            -21.674938287016072,
            -10.103656349188055,
            -6.377513075979438,
            -31.08527983096514,
            0.1925964496740065,
            12.261926931402744,
            15.533584771466911,
            10.062866743951624,
            -10.439085800210917,
            1.8217309423334298,
            -1.667221936474172,
            -17.24223154554041,
            1.9334663195446564,
            22.81937346279056,
            3.7896248375894537,
            -32.966389184717436,
            21.265965143763122,
            0.43255333465789486,
            -1.789711806108489,
            -6.578267673734711,
            -40.21993617124543,
            -8.142314724842839,
            -2.255215959621959
           ]
          }
         ],
         "hovertemplate": "label=normal<br>%{xaxis.title.text}=%{x}<br>%{yaxis.title.text}=%{y}<extra></extra>",
         "legendgroup": "normal",
         "marker": {
          "color": "#1F77B4",
          "opacity": 0.8,
          "symbol": "circle"
         },
         "name": "normal",
         "showlegend": true,
         "type": "splom"
        },
        {
         "diagonal": {
          "visible": true
         },
         "dimensions": [
          {
           "axis": {
            "matches": true
           },
           "label": "PC 1",
           "values": [
            37.2526306825872,
            33.32578654357096,
            8.853925987935009,
            17.48685427385062,
            115.57172977044594,
            -108.25619945249308,
            57.05968882915521,
            3.8922674932775236,
            48.745717599558446,
            16.997625437854527,
            26.243361483400214,
            -26.975726049712577,
            69.40764727203519,
            -141.60123261771736,
            53.33868452276484,
            48.03198037371087,
            100.94441129200816,
            -27.54820150578435,
            -11.388460070550344,
            -13.827191832445267,
            7.882743920772409,
            -84.6344280536177,
            -14.349711205802226,
            -4.9149156895341495,
            -44.58751801599658,
            -0.7292178898610906,
            -72.34231421682651,
            5.3321291278345075,
            9.358309416095794,
            -79.47086995424806,
            31.15198027060491,
            14.050750818320234,
            -53.244946002254764,
            29.223900958621876,
            4.01654241442508,
            -60.923581437728586,
            112.54756274119991,
            99.10395210460067,
            -12.079590090739428,
            29.518092453675052,
            -15.674766026825015,
            -109.31995081579927,
            39.354241172765704,
            10.332419868147143,
            -107.11329902464598,
            -5.4084196322936124,
            -17.52832450227649,
            2.3869993193728156,
            21.185909669737796,
            -78.38260703512711,
            -76.26373835241469,
            65.34215691065523,
            -74.73484302923383,
            -24.18133394346161,
            41.596661029628926,
            11.934908467439053,
            59.21857840360933,
            40.181912844202735,
            60.81765973563958,
            99.20975962440983,
            57.24050831368303,
            61.55396337548027,
            -27.838213822471566,
            54.13028459877807,
            -1.9032034678269103,
            5.168145884532573,
            151.64976719861096
           ]
          },
          {
           "axis": {
            "matches": true
           },
           "label": "PC 2",
           "values": [
            14.76000147165529,
            20.558715569664212,
            17.244199691277846,
            -1.6307966766105066,
            -9.147725221091271,
            68.33312130804745,
            2.6552579401483154,
            -11.273634332951904,
            -14.980581439428722,
            -21.173381848710157,
            25.010485634074843,
            -41.710694683264144,
            -29.369358980462724,
            39.32942839529314,
            41.50515082122667,
            -48.96177987841718,
            -4.529611004293621,
            -56.37086615473926,
            3.5443311961918558,
            94.10359782361314,
            45.6920572431061,
            37.03679633593046,
            0.012553405721143253,
            48.71596722706223,
            -78.00075536132353,
            46.30534976399535,
            27.28638744088801,
            19.477971983450406,
            3.087594339862942,
            -28.737488100332953,
            15.361763049885726,
            4.241570977552994,
            7.014529069600787,
            -3.684967007177566,
            28.61034869223914,
            90.35235539366762,
            19.503305765782756,
            14.780735500487166,
            -48.367811683565236,
            43.83944071881296,
            -17.46232700126193,
            49.22359393914894,
            -14.684729857044728,
            9.922025418292709,
            -17.089225852287562,
            -22.76646453208967,
            -53.904770760520634,
            -22.26786933035522,
            0.3327641017654974,
            48.70654121966551,
            -53.89398367082082,
            -2.855197368584315,
            -29.210922944532847,
            -13.4983715944996,
            -35.406359081299826,
            37.24717413092179,
            -41.5667159011954,
            33.93701555813433,
            19.51228990475084,
            21.320798238467564,
            50.074536961960895,
            -32.59449536294779,
            39.22001137333973,
            28.819489393059865,
            29.93065570559138,
            63.46612989025583,
            29.136166803008265
           ]
          },
          {
           "axis": {
            "matches": true
           },
           "label": "PC 3",
           "values": [
            0.7718568670431561,
            115.87396990668687,
            -7.212923650126822,
            54.5180802780111,
            -5.114103934290641,
            -47.839314141012565,
            7.619866200885225,
            -23.063928032194468,
            -35.39788953981968,
            24.908157814145174,
            3.3311603289997547,
            -17.752269995247737,
            13.322466179167032,
            -3.103423937303046,
            76.42586743520519,
            -35.85716428714923,
            80.98670317722299,
            8.413993924440703,
            43.28910628096963,
            -20.66193491477987,
            -24.80130987792315,
            -24.089291747217157,
            -25.243319188076068,
            -13.527427813830776,
            -37.75908083062707,
            40.38295890054428,
            47.930950255513814,
            9.123874919251294,
            -34.92960419890749,
            -19.53243045172606,
            7.990225308290014,
            -61.80083753735508,
            -18.018426160022873,
            -34.10940938821419,
            -12.351896933340422,
            -46.77595934853276,
            -4.338146633613233,
            6.686711810413173,
            27.70969472103886,
            -32.73753472075662,
            24.43330308238101,
            6.522110617962727,
            -12.961149963322443,
            -34.074088678254306,
            34.95135021326156,
            -24.12756516004151,
            10.092984509191423,
            -19.686438929144064,
            -8.91182892009364,
            -39.4337501628555,
            12.423111627124841,
            -14.41964702880781,
            -53.847173523709685,
            48.37996642841825,
            -21.904843001991253,
            4.380303010277094,
            -17.82560536872947,
            -17.096239544621188,
            -11.550719697835888,
            -19.392141679929004,
            61.58502632010325,
            4.661967693588942,
            -10.633434867790704,
            -35.72210044174229,
            19.99694438908089,
            34.22834703605906,
            4.745725608146262
           ]
          },
          {
           "axis": {
            "matches": true
           },
           "label": "PC 4",
           "values": [
            18.06035328417617,
            22.659645481905805,
            7.6738017530357,
            10.520231212672927,
            4.0431346835778434,
            8.6939470409425,
            17.53592543669958,
            -16.407338934261734,
            4.922902928312424,
            4.374842737354884,
            -20.913575836348322,
            19.552693463302358,
            -3.856370891223172,
            2.145362280261648,
            18.988777419938977,
            15.9093142020391,
            11.159434251062951,
            -8.084540531165988,
            6.042602964585056,
            -11.422160343420963,
            -11.778065319799305,
            -3.3134131553936395,
            5.93000237012116,
            -2.193938571302504,
            23.3278680006432,
            4.403924695031696,
            -14.54220836517713,
            20.723215306280853,
            13.062095989254217,
            12.530885114910665,
            12.188957794010213,
            14.874990187738033,
            -24.8449398628774,
            25.39555719150565,
            -3.583241368517957,
            4.694385641139113,
            -38.44993476127369,
            6.896194064826844,
            0.6444697342738888,
            -11.55490615083479,
            32.2383014341001,
            7.863355815764566,
            -21.318995143991433,
            58.1218114847624,
            13.957558289137882,
            -12.49218609199121,
            -0.8009501786440618,
            -51.09026845081721,
            63.769952080597854,
            9.74961634468312,
            -20.162567259194685,
            18.93939974918881,
            -7.263506630546765,
            -2.937688184328634,
            -36.14602215152457,
            -33.13827411900782,
            0.4329710996458417,
            -15.500511876709194,
            18.90383072867884,
            50.73672190078127,
            -3.282963884359045,
            -23.749094541112495,
            15.645094983802295,
            47.05141071648877,
            -6.443254084667785,
            -34.514945901023225,
            4.139976592129249
           ]
          },
          {
           "axis": {
            "matches": true
           },
           "label": "PC 5",
           "values": [
            25.248577679936332,
            -13.125247642905856,
            -8.224590340584655,
            -23.588615202544712,
            29.63718903855285,
            16.204825798084602,
            -32.79385942557638,
            -8.812285590327576,
            38.017833464673515,
            27.616082934723007,
            -33.33819294258663,
            -43.51365821404808,
            -14.522441618724782,
            -37.81647794456305,
            -3.280145368050304,
            -4.041670788088942,
            -38.12603070014704,
            -41.08096602104218,
            -22.032562776749895,
            -6.059960653722897,
            -3.787974357630127,
            -8.849172561043492,
            3.11669980303376,
            -1.3625430406052974,
            -4.116753685582833,
            -6.781605777622319,
            18.764408915476462,
            0.16707444287236145,
            1.0342509352095781,
            22.672730686208645,
            5.509285533910074,
            12.3100589370693,
            13.459292843259727,
            -21.106335341381463,
            -12.463399945264731,
            -12.520035887038595,
            15.90541130621539,
            -30.99023112403461,
            4.991549403826166,
            -0.7252106787801582,
            29.825202388083127,
            6.51019403709281,
            0.29985490896032185,
            -23.730706145663806,
            23.693076398051904,
            -3.766694489053112,
            2.501656816022005,
            0.8302364683882894,
            -18.895852555773317,
            -37.3254644361371,
            11.252926703262593,
            -12.710229931377313,
            -15.505289967280607,
            -15.951661506035904,
            19.494245637936647,
            27.366030895936248,
            22.663166023540402,
            13.974990088651953,
            9.339167541508111,
            1.1787929787436313,
            12.409479568076598,
            3.410180360974905,
            -18.86314444379495,
            -25.54662158211455,
            -14.528277583280556,
            -16.52115969195059,
            30.26535449210803
           ]
          }
         ],
         "hovertemplate": "label=cancer<br>%{xaxis.title.text}=%{x}<br>%{yaxis.title.text}=%{y}<extra></extra>",
         "legendgroup": "cancer",
         "marker": {
          "color": "#FF7F0E",
          "opacity": 0.8,
          "symbol": "circle"
         },
         "name": "cancer",
         "showlegend": true,
         "type": "splom"
        }
       ],
       "layout": {
        "dragmode": "select",
        "height": 720,
        "legend": {
         "title": {
          "text": "label"
         },
         "tracegroupgap": 0
        },
        "template": {
         "data": {
          "bar": [
           {
            "error_x": {
             "color": "#2a3f5f"
            },
            "error_y": {
             "color": "#2a3f5f"
            },
            "marker": {
             "line": {
              "color": "#E5ECF6",
              "width": 0.5
             },
             "pattern": {
              "fillmode": "overlay",
              "size": 10,
              "solidity": 0.2
             }
            },
            "type": "bar"
           }
          ],
          "barpolar": [
           {
            "marker": {
             "line": {
              "color": "#E5ECF6",
              "width": 0.5
             },
             "pattern": {
              "fillmode": "overlay",
              "size": 10,
              "solidity": 0.2
             }
            },
            "type": "barpolar"
           }
          ],
          "carpet": [
           {
            "aaxis": {
             "endlinecolor": "#2a3f5f",
             "gridcolor": "white",
             "linecolor": "white",
             "minorgridcolor": "white",
             "startlinecolor": "#2a3f5f"
            },
            "baxis": {
             "endlinecolor": "#2a3f5f",
             "gridcolor": "white",
             "linecolor": "white",
             "minorgridcolor": "white",
             "startlinecolor": "#2a3f5f"
            },
            "type": "carpet"
           }
          ],
          "choropleth": [
           {
            "colorbar": {
             "outlinewidth": 0,
             "ticks": ""
            },
            "type": "choropleth"
           }
          ],
          "contour": [
           {
            "colorbar": {
             "outlinewidth": 0,
             "ticks": ""
            },
            "colorscale": [
             [
              0,
              "#0d0887"
             ],
             [
              0.1111111111111111,
              "#46039f"
             ],
             [
              0.2222222222222222,
              "#7201a8"
             ],
             [
              0.3333333333333333,
              "#9c179e"
             ],
             [
              0.4444444444444444,
              "#bd3786"
             ],
             [
              0.5555555555555556,
              "#d8576b"
             ],
             [
              0.6666666666666666,
              "#ed7953"
             ],
             [
              0.7777777777777778,
              "#fb9f3a"
             ],
             [
              0.8888888888888888,
              "#fdca26"
             ],
             [
              1,
              "#f0f921"
             ]
            ],
            "type": "contour"
           }
          ],
          "contourcarpet": [
           {
            "colorbar": {
             "outlinewidth": 0,
             "ticks": ""
            },
            "type": "contourcarpet"
           }
          ],
          "heatmap": [
           {
            "colorbar": {
             "outlinewidth": 0,
             "ticks": ""
            },
            "colorscale": [
             [
              0,
              "#0d0887"
             ],
             [
              0.1111111111111111,
              "#46039f"
             ],
             [
              0.2222222222222222,
              "#7201a8"
             ],
             [
              0.3333333333333333,
              "#9c179e"
             ],
             [
              0.4444444444444444,
              "#bd3786"
             ],
             [
              0.5555555555555556,
              "#d8576b"
             ],
             [
              0.6666666666666666,
              "#ed7953"
             ],
             [
              0.7777777777777778,
              "#fb9f3a"
             ],
             [
              0.8888888888888888,
              "#fdca26"
             ],
             [
              1,
              "#f0f921"
             ]
            ],
            "type": "heatmap"
           }
          ],
          "heatmapgl": [
           {
            "colorbar": {
             "outlinewidth": 0,
             "ticks": ""
            },
            "colorscale": [
             [
              0,
              "#0d0887"
             ],
             [
              0.1111111111111111,
              "#46039f"
             ],
             [
              0.2222222222222222,
              "#7201a8"
             ],
             [
              0.3333333333333333,
              "#9c179e"
             ],
             [
              0.4444444444444444,
              "#bd3786"
             ],
             [
              0.5555555555555556,
              "#d8576b"
             ],
             [
              0.6666666666666666,
              "#ed7953"
             ],
             [
              0.7777777777777778,
              "#fb9f3a"
             ],
             [
              0.8888888888888888,
              "#fdca26"
             ],
             [
              1,
              "#f0f921"
             ]
            ],
            "type": "heatmapgl"
           }
          ],
          "histogram": [
           {
            "marker": {
             "pattern": {
              "fillmode": "overlay",
              "size": 10,
              "solidity": 0.2
             }
            },
            "type": "histogram"
           }
          ],
          "histogram2d": [
           {
            "colorbar": {
             "outlinewidth": 0,
             "ticks": ""
            },
            "colorscale": [
             [
              0,
              "#0d0887"
             ],
             [
              0.1111111111111111,
              "#46039f"
             ],
             [
              0.2222222222222222,
              "#7201a8"
             ],
             [
              0.3333333333333333,
              "#9c179e"
             ],
             [
              0.4444444444444444,
              "#bd3786"
             ],
             [
              0.5555555555555556,
              "#d8576b"
             ],
             [
              0.6666666666666666,
              "#ed7953"
             ],
             [
              0.7777777777777778,
              "#fb9f3a"
             ],
             [
              0.8888888888888888,
              "#fdca26"
             ],
             [
              1,
              "#f0f921"
             ]
            ],
            "type": "histogram2d"
           }
          ],
          "histogram2dcontour": [
           {
            "colorbar": {
             "outlinewidth": 0,
             "ticks": ""
            },
            "colorscale": [
             [
              0,
              "#0d0887"
             ],
             [
              0.1111111111111111,
              "#46039f"
             ],
             [
              0.2222222222222222,
              "#7201a8"
             ],
             [
              0.3333333333333333,
              "#9c179e"
             ],
             [
              0.4444444444444444,
              "#bd3786"
             ],
             [
              0.5555555555555556,
              "#d8576b"
             ],
             [
              0.6666666666666666,
              "#ed7953"
             ],
             [
              0.7777777777777778,
              "#fb9f3a"
             ],
             [
              0.8888888888888888,
              "#fdca26"
             ],
             [
              1,
              "#f0f921"
             ]
            ],
            "type": "histogram2dcontour"
           }
          ],
          "mesh3d": [
           {
            "colorbar": {
             "outlinewidth": 0,
             "ticks": ""
            },
            "type": "mesh3d"
           }
          ],
          "parcoords": [
           {
            "line": {
             "colorbar": {
              "outlinewidth": 0,
              "ticks": ""
             }
            },
            "type": "parcoords"
           }
          ],
          "pie": [
           {
            "automargin": true,
            "type": "pie"
           }
          ],
          "scatter": [
           {
            "fillpattern": {
             "fillmode": "overlay",
             "size": 10,
             "solidity": 0.2
            },
            "type": "scatter"
           }
          ],
          "scatter3d": [
           {
            "line": {
             "colorbar": {
              "outlinewidth": 0,
              "ticks": ""
             }
            },
            "marker": {
             "colorbar": {
              "outlinewidth": 0,
              "ticks": ""
             }
            },
            "type": "scatter3d"
           }
          ],
          "scattercarpet": [
           {
            "marker": {
             "colorbar": {
              "outlinewidth": 0,
              "ticks": ""
             }
            },
            "type": "scattercarpet"
           }
          ],
          "scattergeo": [
           {
            "marker": {
             "colorbar": {
              "outlinewidth": 0,
              "ticks": ""
             }
            },
            "type": "scattergeo"
           }
          ],
          "scattergl": [
           {
            "marker": {
             "colorbar": {
              "outlinewidth": 0,
              "ticks": ""
             }
            },
            "type": "scattergl"
           }
          ],
          "scattermapbox": [
           {
            "marker": {
             "colorbar": {
              "outlinewidth": 0,
              "ticks": ""
             }
            },
            "type": "scattermapbox"
           }
          ],
          "scatterpolar": [
           {
            "marker": {
             "colorbar": {
              "outlinewidth": 0,
              "ticks": ""
             }
            },
            "type": "scatterpolar"
           }
          ],
          "scatterpolargl": [
           {
            "marker": {
             "colorbar": {
              "outlinewidth": 0,
              "ticks": ""
             }
            },
            "type": "scatterpolargl"
           }
          ],
          "scatterternary": [
           {
            "marker": {
             "colorbar": {
              "outlinewidth": 0,
              "ticks": ""
             }
            },
            "type": "scatterternary"
           }
          ],
          "surface": [
           {
            "colorbar": {
             "outlinewidth": 0,
             "ticks": ""
            },
            "colorscale": [
             [
              0,
              "#0d0887"
             ],
             [
              0.1111111111111111,
              "#46039f"
             ],
             [
              0.2222222222222222,
              "#7201a8"
             ],
             [
              0.3333333333333333,
              "#9c179e"
             ],
             [
              0.4444444444444444,
              "#bd3786"
             ],
             [
              0.5555555555555556,
              "#d8576b"
             ],
             [
              0.6666666666666666,
              "#ed7953"
             ],
             [
              0.7777777777777778,
              "#fb9f3a"
             ],
             [
              0.8888888888888888,
              "#fdca26"
             ],
             [
              1,
              "#f0f921"
             ]
            ],
            "type": "surface"
           }
          ],
          "table": [
           {
            "cells": {
             "fill": {
              "color": "#EBF0F8"
             },
             "line": {
              "color": "white"
             }
            },
            "header": {
             "fill": {
              "color": "#C8D4E3"
             },
             "line": {
              "color": "white"
             }
            },
            "type": "table"
           }
          ]
         },
         "layout": {
          "annotationdefaults": {
           "arrowcolor": "#2a3f5f",
           "arrowhead": 0,
           "arrowwidth": 1
          },
          "autotypenumbers": "strict",
          "coloraxis": {
           "colorbar": {
            "outlinewidth": 0,
            "ticks": ""
           }
          },
          "colorscale": {
           "diverging": [
            [
             0,
             "#8e0152"
            ],
            [
             0.1,
             "#c51b7d"
            ],
            [
             0.2,
             "#de77ae"
            ],
            [
             0.3,
             "#f1b6da"
            ],
            [
             0.4,
             "#fde0ef"
            ],
            [
             0.5,
             "#f7f7f7"
            ],
            [
             0.6,
             "#e6f5d0"
            ],
            [
             0.7,
             "#b8e186"
            ],
            [
             0.8,
             "#7fbc41"
            ],
            [
             0.9,
             "#4d9221"
            ],
            [
             1,
             "#276419"
            ]
           ],
           "sequential": [
            [
             0,
             "#0d0887"
            ],
            [
             0.1111111111111111,
             "#46039f"
            ],
            [
             0.2222222222222222,
             "#7201a8"
            ],
            [
             0.3333333333333333,
             "#9c179e"
            ],
            [
             0.4444444444444444,
             "#bd3786"
            ],
            [
             0.5555555555555556,
             "#d8576b"
            ],
            [
             0.6666666666666666,
             "#ed7953"
            ],
            [
             0.7777777777777778,
             "#fb9f3a"
            ],
            [
             0.8888888888888888,
             "#fdca26"
            ],
            [
             1,
             "#f0f921"
            ]
           ],
           "sequentialminus": [
            [
             0,
             "#0d0887"
            ],
            [
             0.1111111111111111,
             "#46039f"
            ],
            [
             0.2222222222222222,
             "#7201a8"
            ],
            [
             0.3333333333333333,
             "#9c179e"
            ],
            [
             0.4444444444444444,
             "#bd3786"
            ],
            [
             0.5555555555555556,
             "#d8576b"
            ],
            [
             0.6666666666666666,
             "#ed7953"
            ],
            [
             0.7777777777777778,
             "#fb9f3a"
            ],
            [
             0.8888888888888888,
             "#fdca26"
            ],
            [
             1,
             "#f0f921"
            ]
           ]
          },
          "colorway": [
           "#636efa",
           "#EF553B",
           "#00cc96",
           "#ab63fa",
           "#FFA15A",
           "#19d3f3",
           "#FF6692",
           "#B6E880",
           "#FF97FF",
           "#FECB52"
          ],
          "font": {
           "color": "#2a3f5f"
          },
          "geo": {
           "bgcolor": "white",
           "lakecolor": "white",
           "landcolor": "#E5ECF6",
           "showlakes": true,
           "showland": true,
           "subunitcolor": "white"
          },
          "hoverlabel": {
           "align": "left"
          },
          "hovermode": "closest",
          "mapbox": {
           "style": "light"
          },
          "paper_bgcolor": "white",
          "plot_bgcolor": "#E5ECF6",
          "polar": {
           "angularaxis": {
            "gridcolor": "white",
            "linecolor": "white",
            "ticks": ""
           },
           "bgcolor": "#E5ECF6",
           "radialaxis": {
            "gridcolor": "white",
            "linecolor": "white",
            "ticks": ""
           }
          },
          "scene": {
           "xaxis": {
            "backgroundcolor": "#E5ECF6",
            "gridcolor": "white",
            "gridwidth": 2,
            "linecolor": "white",
            "showbackground": true,
            "ticks": "",
            "zerolinecolor": "white"
           },
           "yaxis": {
            "backgroundcolor": "#E5ECF6",
            "gridcolor": "white",
            "gridwidth": 2,
            "linecolor": "white",
            "showbackground": true,
            "ticks": "",
            "zerolinecolor": "white"
           },
           "zaxis": {
            "backgroundcolor": "#E5ECF6",
            "gridcolor": "white",
            "gridwidth": 2,
            "linecolor": "white",
            "showbackground": true,
            "ticks": "",
            "zerolinecolor": "white"
           }
          },
          "shapedefaults": {
           "line": {
            "color": "#2a3f5f"
           }
          },
          "ternary": {
           "aaxis": {
            "gridcolor": "white",
            "linecolor": "white",
            "ticks": ""
           },
           "baxis": {
            "gridcolor": "white",
            "linecolor": "white",
            "ticks": ""
           },
           "bgcolor": "#E5ECF6",
           "caxis": {
            "gridcolor": "white",
            "linecolor": "white",
            "ticks": ""
           }
          },
          "title": {
           "x": 0.05
          },
          "xaxis": {
           "automargin": true,
           "gridcolor": "white",
           "linecolor": "white",
           "ticks": "",
           "title": {
            "standoff": 15
           },
           "zerolinecolor": "white",
           "zerolinewidth": 2
          },
          "yaxis": {
           "automargin": true,
           "gridcolor": "white",
           "linecolor": "white",
           "ticks": "",
           "title": {
            "standoff": 15
           },
           "zerolinecolor": "white",
           "zerolinewidth": 2
          }
         }
        },
        "title": {
         "text": "First 5 PCs, Total Explained Variance: 0.59%"
        },
        "width": 720
       }
      }
     },
     "metadata": {},
     "output_type": "display_data"
    }
   ],
   "source": [
    "# oh no duplication anyway\n",
    "n_components = 5\n",
    "pca_first_n = PCA(n_components=n_components)\n",
    "first_n = pca_first_n.fit_transform(X)\n",
    "\n",
    "explained_variance = pca_first_n.explained_variance_ratio_\n",
    "cumsum_var = np.cumsum(explained_variance)\n",
    "print(f\"Explained Variance: {sum(pca_first_n.explained_variance_ratio_)}\")\n",
    "print(f\"# of PCs: {pca_first_n.n_components_}\")\n",
    "\n",
    "plt.bar(\n",
    "    range(0,len(explained_variance)),\n",
    "    explained_variance,\n",
    "    alpha=0.5,\n",
    "    align='center',\n",
    "    label='Individual explained variance'\n",
    ")\n",
    "\n",
    "plt.step(\n",
    "    range(0,len(cumsum_var)),\n",
    "    cumsum_var,\n",
    "    where='mid',\n",
    "    label='Cumulative explained variance'\n",
    ")\n",
    "\n",
    "plt.ylabel('Proportion of Explained Variance')\n",
    "plt.xlabel('Principal Component #')\n",
    "plt.legend(loc='best')\n",
    "\n",
    "plt.savefig('figures/PCA_Top_5_Explained_Variance_Curve')\n",
    "plt.show()\n",
    "\n",
    "labels = {str(i): f\"PC {i+1}\" for i in range(n_components)}\n",
    "labels['color'] = 'label'\n",
    "\n",
    "print(first_n.shape)\n",
    "\n",
    "fig = px.scatter_matrix(\n",
    "    first_n,\n",
    "    color=Y['label'],\n",
    "    color_discrete_sequence=px.colors.qualitative.D3,\n",
    "    opacity=0.8,\n",
    "    dimensions=range(n_components),\n",
    "    labels=labels,\n",
    "    title=f'First {n_components} PCs, Total Explained Variance: {sum(pca_first_n.explained_variance_ratio_):.2f}%',\n",
    "    width=720,\n",
    "    height=720\n",
    ")\n",
    "fig.update_traces(diagonal_visible=True)\n",
    "fig.show()"
   ]
  },
  {
   "cell_type": "code",
   "execution_count": 14,
   "id": "5a55d756",
   "metadata": {},
   "outputs": [],
   "source": [
    "components = pd.DataFrame(pca.components_, columns=X.columns)\n",
    "components.to_csv('supplementary/PrincipalComponentDirections.csv', index_label=\"Principal Component\")"
   ]
  },
  {
   "cell_type": "markdown",
   "id": "2d057536",
   "metadata": {},
   "source": [
    "# 2. Single Variable Analysis"
   ]
  },
  {
   "cell_type": "code",
   "execution_count": 15,
   "id": "2ec343a6",
   "metadata": {},
   "outputs": [],
   "source": [
    "class SVA:\n",
    "    def __init__(self, data: pd.DataFrame) -> None:\n",
    "        label = data['label']\n",
    "        self.n_variables = len(data.columns) - 1 # exclude response variable\n",
    "        self.normals = data.loc[label == 'normal'].drop('label', axis='columns')\n",
    "        self.cancers = data.loc[label == 'cancer'].drop('label', axis='columns')\n",
    "        self.calcPvals()\n",
    "        self.adjustPvals()\n",
    "        self.df_unadjusted = pd.Series(self.pvals, index=data.drop('label', axis='columns').columns)\n",
    "        self.df_adjusted = pd.Series(self.pvals_adjusted, index=data.drop('label', axis='columns').columns)\n",
    "\n",
    "    def calcPvals(self):\n",
    "        ttresults = ttest_ind(self.normals, self.cancers, equal_var=False)\n",
    "        self.pvals = ttresults.pvalue\n",
    "\n",
    "    def adjustPvals(self):\n",
    "        # TODO: how does this work?\n",
    "        self.pvals_adjusted = false_discovery_control(self.pvals, method='bh')"
   ]
  },
  {
   "cell_type": "code",
   "execution_count": 16,
   "id": "7ac2d805",
   "metadata": {},
   "outputs": [],
   "source": [
    "MAX_FDR = 0.1\n",
    "sva = SVA(data)\n",
    "# sva.pvals_adjusted[sva.pvals_adjusted < MAX_FDR]\n",
    "significant_genes = sva.df_unadjusted[sva.df_adjusted < MAX_FDR]\n",
    "significant_genes.to_csv('supplementary/SVASignificantGenes.csv', header=False)"
   ]
  },
  {
   "cell_type": "code",
   "execution_count": 44,
   "id": "42c8dc65",
   "metadata": {},
   "outputs": [
    {
     "data": {
      "image/png": "[encoded data removed]",
      "text/plain": [
       "<Figure size 1000x600 with 1 Axes>"
      ]
     },
     "metadata": {},
     "output_type": "display_data"
    }
   ],
   "source": [
    "genes = pd.DataFrame({\"unadjusted\": sva.pvals, \"adjusted\": sva.pvals_adjusted}, index=X.columns)\n",
    "genes_sorted = genes.sort_values(by=['unadjusted'])\n",
    "genes_sorted['significant'] = np.where(genes_sorted['adjusted'] < MAX_FDR, 'red', 'blue')\n",
    "genes_sorted['rank'] = range(1, len(genes_sorted) + 1)\n",
    "\n",
    "def fdr_slope(j):\n",
    "    return MAX_FDR * j / len(genes)\n",
    "\n",
    "fig = plt.figure(figsize=(10,6))\n",
    "sns.scatterplot(data=genes_sorted, x='rank', y='unadjusted', c=genes_sorted['significant'])\n",
    "# sns.lineplot(data=genes_sorted, x='adjusted', y='adjusted')\n",
    "plt.axvline(x=len(significant_genes), c='black', linestyle=':')\n",
    "\n",
    "xx = [1, len(genes)]\n",
    "yy = [fdr_slope(1), fdr_slope(len(genes))]\n",
    "\n",
    "plt.plot(xx, yy, '-', c='black')\n",
    "plt.xlabel('Genes ordered by (raw) p-value')\n",
    "plt.ylabel('Raw p-value')\n",
    "# TODO: BH FDR control line\n",
    "plt.xscale('log')\n",
    "plt.yscale('log')\n",
    "plt.savefig('figures/SVA_Significant_Genes')\n",
    "plt.show()"
   ]
  },
  {
   "cell_type": "code",
   "execution_count": 18,
   "id": "37f4a99c",
   "metadata": {},
   "outputs": [
    {
     "data": {
      "application/vnd.plotly.v1+json": {
       "config": {
        "plotlyServerURL": "https://plot.ly"
       },
       "data": [
        {
         "diagonal": {
          "visible": true
         },
         "dimensions": [
          {
           "axis": {
            "matches": true
           },
           "label": "134910",
           "values": [
            0.8117742882916782,
            0.3899653585588539,
            0.2364878925596817,
            -1.0078484501521499,
            0.42020346858186963,
            -0.7040697902150467,
            -1.4202556145837004,
            0.4496792733101875,
            0.9329808301486403,
            -0.5875641310087214,
            -1.0735337563786167,
            0.0038577267943800935,
            -0.6308884819240507,
            -0.29776106814107917,
            -0.7288447122927275,
            -0.8189237879495266,
            -0.38428271908928796,
            -0.04454865941893498,
            -0.6786596137251175,
            -0.266252449293567,
            -0.9699872871821555,
            -1.6526316785841026,
            -0.6931434143243771,
            0.4066090241597575,
            -0.6668438816573005,
            -0.4222709329417321,
            -1.711710338923188,
            -0.2822608604822224,
            -0.5868018257140235,
            -1.390652758972933,
            -0.2865805904855104,
            -1.157768491442732,
            -0.37793017496680575,
            -0.7132174537514212,
            -2.020952186805626,
            -0.7339267475907134,
            0.3308866982197685,
            -1.4621824057920836,
            -1.1083456981698199,
            -1.0037828219137612,
            0.49986437187779753,
            0.15898685426539771,
            -0.07161049738070954,
            -0.16245187833220634,
            0.8667873203923748,
            -0.8328993850189875,
            -0.23919061133179245,
            -0.49596044476252676,
            -0.03756086088420446,
            -0.06487680061087832,
            -0.6770079522532721,
            -0.009482615862832723,
            0.06153882742651931,
            -0.1276399365410034
           ]
          },
          {
           "axis": {
            "matches": true
           },
           "label": "168498",
           "values": [
            -0.4156817291696968,
            -0.4322886708760088,
            -0.3164889151941577,
            -1.2608404111422764,
            -0.4345328521876726,
            2.0394526257904793,
            -0.1270800124897346,
            -1.3950424535797705,
            0.3127795245963664,
            0.3195120685313578,
            -0.1499706618687052,
            0.65209973891993,
            0.28360516754473725,
            0.5677185216013718,
            0.060982381427690205,
            1.353181980683695,
            1.056950047544076,
            -1.0911803039804948,
            -0.6338161526634163,
            0.6206812005566371,
            -0.5705302396744977,
            -0.03506857871151962,
            1.311440208286749,
            1.025531509180783,
            0.7611669506667897,
            0.964938613765861,
            0.7108972892855211,
            0.31412603338336464,
            1.5147630351234875,
            0.3729235837489557,
            0.8935736480549528,
            1.055603538757078,
            0.9003061919899441,
            1.1776870021115877,
            -0.1917124342656515,
            2.568181742818466,
            -0.2509588208935753,
            2.071320000416105,
            0.08297535828199526,
            -0.48166065973261196,
            -0.246021622007915,
            0.2701400796747545,
            0.5098186437604463,
            0.786301781357424,
            -0.35374232496777647,
            1.6556976214959729,
            0.5497650711080616,
            -0.7765460840852327,
            2.5910723921974363,
            0.6637694817405817,
            0.7212205233191745,
            1.1633242417169394,
            -0.1692706211490137,
            0.5924045160296735
           ]
          },
          {
           "axis": {
            "matches": true
           },
           "label": "107457",
           "values": [
            0.2832117648330477,
            0.7737854520890803,
            0.9066863237275329,
            -1.2488052628596098,
            0.9869620180057929,
            -0.5302486038533192,
            -1.2908162095318994,
            -0.2134271971017868,
            -0.021300702129151458,
            -1.2939380420871647,
            -1.2287363392900448,
            -1.250767557608634,
            -0.5372950259066331,
            -0.5397924919508456,
            0.05496120743519543,
            -0.08008034938401064,
            0.8408602544193599,
            0.1872377125625948,
            -0.37272985263620034,
            -0.16071282452572946,
            -1.6764963229310055,
            -1.4895431504785248,
            -0.6340718351198686,
            0.5327799788225712,
            -0.14385492872729488,
            -0.7421764367479253,
            -0.848586329274552,
            0.30640252095787834,
            -1.0907513403473026,
            -0.6953489484189403,
            -0.9142340081509958,
            -0.9319838561080774,
            -0.3323244198494762,
            -0.3589937893930314,
            -1.9895715306162196,
            -0.13538138322014523,
            0.09946962015169733,
            -0.8443941541289096,
            0.10232386705936877,
            -1.3872362378816758,
            0.6667511930514006,
            0.6944909051853325,
            -0.7229102701211428,
            -1.3762652263303137,
            0.20311446098651728,
            -0.9252050197023579,
            0.2774140758018401,
            -0.5541529217050676,
            -0.6194438197180524,
            0.48247387707486167,
            -0.14153585311481182,
            -1.4054320619180813,
            0.18652415083567692,
            -1.2315905861977163
           ]
          },
          {
           "axis": {
            "matches": true
           },
           "label": "207178",
           "values": [
            1.0166511310263397,
            -2.675219178345464,
            -0.833673881340147,
            0.17335947058600268,
            0.6549268581461535,
            0.5280599711772532,
            0.6066384236597209,
            -0.18134103000524793,
            -0.1984614749595286,
            1.6202565621067477,
            -0.051840228427996786,
            -0.3494725791716452,
            -0.6216437553679018,
            1.0583547789918952,
            1.2036590682192516,
            0.35070972088162794,
            0.5025987966298615,
            0.2646685103421662,
            0.869151912958691,
            0.22559877698496159,
            0.16545772676095005,
            0.4068998991931132,
            -0.013209480838850686,
            0.44377470371002536,
            1.0943516119726904,
            1.2225354562457662,
            0.9130504897645388,
            0.6443911997127499,
            2.1900600890466526,
            -0.3652760668217504,
            0.44201876063779155,
            0.3182247740453006,
            0.12507103609957002,
            0.4099727995695226,
            -0.8512333120624861,
            -0.30952487427832365,
            -0.2871366001073412,
            1.948178930846431,
            0.45167644753507796,
            0.022348366373886066,
            -0.1967055318872947,
            1.5623104407230286,
            0.8208634784722584,
            0.9494863085133926,
            0.1645797552248331,
            1.5530917395938006,
            0.6022485659791361,
            0.44860354715866857,
            1.766438822870221,
            1.493828660905906,
            -0.4855581672697735,
            -0.1945106030470023,
            -0.46097496425849877,
            1.1435180179952402
           ]
          },
          {
           "axis": {
            "matches": true
           },
           "label": "192905",
           "values": [
            -0.7710439086448848,
            -0.8921065936562347,
            -0.6628863829494654,
            0.8092235761606298,
            0.26659235349554355,
            -0.15559071555418943,
            0.2155862476278175,
            0.3148330680812846,
            0.17748530107602203,
            -0.056036629402724,
            0.7164293353651281,
            1.1653445201407175,
            -0.25237941042366974,
            0.09913254808644278,
            1.764205365539502,
            -0.4643927420425312,
            0.2023738226138884,
            -0.28771496569348,
            -0.41492296466479683,
            1.4858226431529968,
            -0.6684171655134357,
            -0.017321151454931866,
            0.41438715423274997,
            0.1562839679141359,
            0.947185874561889,
            0.8470172570144268,
            -0.3525480279711318,
            0.9235264158160161,
            1.8173623312932166,
            -0.9326656657920168,
            1.9587045523724576,
            -0.5077172054602985,
            -1.771808287025511,
            0.03706487709077608,
            0.32558736751122686,
            -1.5545714385406773,
            0.7886367743947404,
            -0.18293736267604258,
            1.2470771958082787,
            1.4723029524410693,
            -0.050813112536752046,
            1.2504571184862605,
            1.0424382409413777,
            0.5560366410099894,
            0.7324071516610422,
            0.8212069383825655,
            0.9124648506880755,
            3.0365926209506693,
            0.5935230561657882,
            2.3845748097981705,
            1.4716884210450725,
            1.2519934469762524,
            0.0407520654667563,
            0.5154775688742071
           ]
          }
         ],
         "hovertemplate": "color=normal<br>%{xaxis.title.text}=%{x}<br>%{yaxis.title.text}=%{y}<extra></extra>",
         "legendgroup": "normal",
         "marker": {
          "color": "#1F77B4",
          "opacity": 0.8,
          "symbol": "circle"
         },
         "name": "normal",
         "showlegend": true,
         "type": "splom"
        },
        {
         "diagonal": {
          "visible": true
         },
         "dimensions": [
          {
           "axis": {
            "matches": true
           },
           "label": "134910",
           "values": [
            -0.398258316158749,
            0.2965829599583642,
            0.3015379443739004,
            -0.6740857819569301,
            -1.5048715022951646,
            1.0954789088017374,
            0.6082387746073454,
            -0.04975774559937046,
            1.456430465841181,
            0.02875969975451068,
            -0.38796719468032775,
            0.43799059212482006,
            2.1566078790211796,
            0.5885458878276504,
            -0.9652864045315186,
            -0.47016911562524866,
            0.010591423564211324,
            -1.2787209315347952,
            -1.0614639225459004,
            -0.1398368212561694,
            -1.1199073284727377,
            0.008431558562567344,
            -0.7919890008702016,
            1.7434384092949313,
            0.8111390338794299,
            0.015546407979747514,
            -1.152686456144746,
            -0.5024400397674587,
            3.076964471486414,
            -0.056237340604302404,
            1.813189343759787,
            1.304350559548955,
            0.6618542470010961,
            1.3889664472604193,
            0.3532476535309062,
            0.6345383072744222,
            -0.9838358333691668,
            0.006144642678473719,
            0.08262927391316054,
            2.3295241300351477,
            -1.4971213984657363,
            0.7657818688449064,
            -0.06195463031453646,
            1.0876017540898593,
            1.1605289606159561,
            0.14158088336979618,
            0.2963288581934649,
            1.7072289077967822,
            1.654629842462629,
            3.436518468818912,
            -0.30995795285624517,
            -0.6035725421973768,
            -0.6400361454604252,
            -0.4235414417662286,
            -0.9191669342022971,
            -0.4967227500572246,
            1.8955183155871573,
            1.059396458186038,
            0.7380847764708836,
            0.4790280271560557,
            0.5658037798691637,
            -0.9389868718644419,
            0.37078067530895736,
            2.83112101394635,
            -0.01888438116410652,
            0.7613350879591687,
            0.3189439152695019
           ]
          },
          {
           "axis": {
            "matches": true
           },
           "label": "168498",
           "values": [
            -0.2163984286939531,
            0.8940224843172856,
            -1.357340207543819,
            0.3590096596166402,
            0.9492293445842145,
            -1.5427095838872473,
            -0.5759162748224907,
            -0.46550255428863274,
            -2.0858014613098823,
            -0.7172996974573089,
            -0.8407296695988169,
            1.1503079901092896,
            0.4056886308992469,
            0.8468946767723462,
            -0.3595771963781023,
            -0.2603843824025632,
            -0.4910862212415999,
            1.5385513570271234,
            1.5587489888320976,
            -1.142347637886429,
            -1.6113815320241591,
            -0.49781876517659124,
            -0.07995220494479523,
            -1.34118210209984,
            1.8002228979671204,
            -1.3129054175728763,
            -0.07232198848513836,
            -0.4650537180263,
            0.8823527414966339,
            0.22076809081815138,
            -1.1387569477877668,
            -0.8043739323498637,
            -0.8838179507827615,
            -0.47851880589628265,
            -0.8155948389081826,
            -2.9767414420404035,
            -1.189924281693701,
            0.4474304032961932,
            -0.2891099031918596,
            -1.9700017056280312,
            -0.479865314683281,
            -1.1665847960523978,
            -1.0467455140095518,
            0.8617062734293272,
            -0.059754573139821195,
            -0.4031143138243796,
            0.5282209305160893,
            -0.38067250070774183,
            0.25039128413211326,
            -0.5763651110848235,
            1.123377814369324,
            -2.1306850875431578,
            0.6458160312472714,
            0.5713092117000339,
            -0.2603843824025632,
            0.5340558019264151,
            -0.20876821223429623,
            -1.480770179685327,
            0.6148463291463113,
            0.20820067547283422,
            -0.7379461655246157,
            -0.7123624985716486,
            -0.0750150060591349,
            -0.17555432882167227,
            -1.3546471899698227,
            -0.8380366520248204,
            -1.4848097060463217
           ]
          },
          {
           "axis": {
            "matches": true
           },
           "label": "107457",
           "values": [
            -0.4368612128429435,
            0.6477526120722124,
            -0.01933840738012732,
            -0.17489486384822203,
            -0.9152151555255077,
            0.8421981826573307,
            -0.7825818695346494,
            1.0996155756429509,
            2.1102865666062427,
            -0.0010533881278570213,
            -0.35355288122528267,
            -1.1602344135059297,
            2.2509474220249266,
            -0.34829036348926345,
            -0.0949759504334211,
            0.09144205072387133,
            -0.16695648963626078,
            -0.3911932623202001,
            0.3704446859487568,
            -0.4870781193747883,
            -1.7162773892066765,
            1.1121921010798783,
            -0.6311283929963324,
            1.8290540509847388,
            0.3567978179214526,
            0.7156301713452744,
            -0.6935650441016457,
            -0.6709986544878681,
            2.609958165880478,
            0.5675661130098171,
            1.8221860193631545,
            1.8080039800406618,
            1.5165140145947138,
            0.7986709173153409,
            0.1880404695053774,
            -0.1941610304750044,
            -0.9676619424539707,
            -0.29263254878966993,
            0.7408724174349939,
            2.664813223637289,
            -1.715474632263894,
            0.3840023587601962,
            0.3663417060189791,
            -0.48770248588584136,
            0.7455105686599599,
            -1.321320973357638,
            0.7873431249005199,
            2.1396317926257398,
            0.3759747893323702,
            2.1245578011446002,
            -0.005334758489364214,
            -0.8014020600821081,
            -0.9531231222680193,
            -0.4024318595191565,
            0.5679228938732762,
            0.19401654896831452,
            1.822988776305937,
            1.1263741404023708,
            0.9216711199928082,
            0.4019305971490076,
            0.9108784988731754,
            -1.1937718146710694,
            -0.1715054456453622,
            2.2414927291432654,
            -0.661365571174477,
            0.8408602544193599,
            0.4922853508199824
           ]
          },
          {
           "axis": {
            "matches": true
           },
           "label": "207178",
           "values": [
            -0.9074234903739714,
            -2.267840385587196,
            -0.7169036670365916,
            -0.9210320491837841,
            -1.5887294024007297,
            0.35290464972192037,
            -0.8679147712487083,
            -0.6479829014514106,
            -1.1927642396119822,
            -2.0053268962882256,
            -1.512784864526613,
            0.4464086183183762,
            -0.49302092532676767,
            1.8551139480180336,
            -1.6141905769481215,
            -0.4526342346653876,
            -2.2041874492187166,
            0.6465861285530424,
            -0.18265798730942334,
            0.328760432478704,
            -0.09047097601714288,
            -0.20987510492904904,
            0.5056716970062708,
            -0.21382597684157537,
            1.7545862071326421,
            -1.1374520328366138,
            0.6637065735073231,
            -1.097065342175234,
            0.039029825560108256,
            1.0153341737221644,
            0.1298998795482133,
            -0.0882760471768505,
            0.6329775697432296,
            -0.03998761269041787,
            -0.8626469420320065,
            1.4521250129403505,
            -1.716474260905747,
            -1.3196311265808827,
            -0.20285133264011337,
            -1.1839845242508125,
            -0.24587193790984427,
            1.8393104603679284,
            -0.13744245319940007,
            -1.035607334647047,
            0.7339442963966796,
            0.931487892022995,
            0.09653696117576893,
            0.4604561628962475,
            -0.20768017608875664,
            -0.19012074536641752,
            1.1465909183716494,
            -0.08608111833655811,
            1.5882106010384789,
            -0.47282757999607755,
            -0.5992554811969194,
            -1.0158529750844156,
            0.4068998991931132,
            0.09829290424800284,
            -0.7019781509226034,
            -1.1888133676994561,
            -1.2230542576080172,
            -0.5974995381246855,
            0.1707255559776518,
            -1.3104124254516543,
            -0.7072459801393052,
            -1.409184223264812,
            -2.7305313851208326
           ]
          },
          {
           "axis": {
            "matches": true
           },
           "label": "192905",
           "values": [
            -0.5783883159999191,
            -0.38266006637497013,
            -0.09536663874651281,
            -1.556107767030669,
            -1.3932569470915435,
            1.7771105248554326,
            -2.0661688257079303,
            -0.6908475614673153,
            0.6740266690413559,
            -1.2052103399165535,
            -0.9080844099521488,
            -0.0781597596586052,
            -1.6295442688522748,
            0.6952280022032419,
            -0.5470472148040875,
            -1.2168864364404905,
            -0.56517589098599,
            -0.42106827862476387,
            0.2758103244354941,
            1.2513789155802557,
            -0.5654831566839884,
            0.949029468749879,
            0.6755629975313476,
            -0.538751040958132,
            0.028154171848823926,
            -1.7011371764858905,
            1.6720256561399969,
            -0.34271552563518465,
            0.10128340797243125,
            0.5345280421501049,
            0.26689961919354194,
            -0.30369278198939414,
            0.13846255743023161,
            -1.2178082335344858,
            0.0001929933309740768,
            -0.6140311369677278,
            -0.9560178588398913,
            -1.8249652527792255,
            0.7019878475592057,
            -1.873513233062965,
            0.007874635780932835,
            -0.14237829054026038,
            -0.7876362563367956,
            -1.0921365630531605,
            0.15474763942414416,
            -0.0720144456986382,
            1.1281653706829171,
            0.6426855678455242,
            -0.4729961815864851,
            -0.5221586932662211,
            -0.09782476433049961,
            -1.5309119797948043,
            0.7508430935409433,
            0.07055683817259625,
            0.23125679822573336,
            -0.978448254793771,
            1.4163805954053696,
            -0.19092627082399968,
            -0.8355697052245382,
            -1.1898470550166358,
            -0.948643482087931,
            -0.8202064203246207,
            -0.07232171139663655,
            -0.325508646547277,
            0.42913590773667076,
            -1.0481975682393965,
            -2.9394179394192412
           ]
          }
         ],
         "hovertemplate": "color=cancer<br>%{xaxis.title.text}=%{x}<br>%{yaxis.title.text}=%{y}<extra></extra>",
         "legendgroup": "cancer",
         "marker": {
          "color": "#FF7F0E",
          "opacity": 0.8,
          "symbol": "circle"
         },
         "name": "cancer",
         "showlegend": true,
         "type": "splom"
        }
       ],
       "layout": {
        "dragmode": "select",
        "height": 720,
        "legend": {
         "title": {
          "text": "color"
         },
         "tracegroupgap": 0
        },
        "template": {
         "data": {
          "bar": [
           {
            "error_x": {
             "color": "#2a3f5f"
            },
            "error_y": {
             "color": "#2a3f5f"
            },
            "marker": {
             "line": {
              "color": "#E5ECF6",
              "width": 0.5
             },
             "pattern": {
              "fillmode": "overlay",
              "size": 10,
              "solidity": 0.2
             }
            },
            "type": "bar"
           }
          ],
          "barpolar": [
           {
            "marker": {
             "line": {
              "color": "#E5ECF6",
              "width": 0.5
             },
             "pattern": {
              "fillmode": "overlay",
              "size": 10,
              "solidity": 0.2
             }
            },
            "type": "barpolar"
           }
          ],
          "carpet": [
           {
            "aaxis": {
             "endlinecolor": "#2a3f5f",
             "gridcolor": "white",
             "linecolor": "white",
             "minorgridcolor": "white",
             "startlinecolor": "#2a3f5f"
            },
            "baxis": {
             "endlinecolor": "#2a3f5f",
             "gridcolor": "white",
             "linecolor": "white",
             "minorgridcolor": "white",
             "startlinecolor": "#2a3f5f"
            },
            "type": "carpet"
           }
          ],
          "choropleth": [
           {
            "colorbar": {
             "outlinewidth": 0,
             "ticks": ""
            },
            "type": "choropleth"
           }
          ],
          "contour": [
           {
            "colorbar": {
             "outlinewidth": 0,
             "ticks": ""
            },
            "colorscale": [
             [
              0,
              "#0d0887"
             ],
             [
              0.1111111111111111,
              "#46039f"
             ],
             [
              0.2222222222222222,
              "#7201a8"
             ],
             [
              0.3333333333333333,
              "#9c179e"
             ],
             [
              0.4444444444444444,
              "#bd3786"
             ],
             [
              0.5555555555555556,
              "#d8576b"
             ],
             [
              0.6666666666666666,
              "#ed7953"
             ],
             [
              0.7777777777777778,
              "#fb9f3a"
             ],
             [
              0.8888888888888888,
              "#fdca26"
             ],
             [
              1,
              "#f0f921"
             ]
            ],
            "type": "contour"
           }
          ],
          "contourcarpet": [
           {
            "colorbar": {
             "outlinewidth": 0,
             "ticks": ""
            },
            "type": "contourcarpet"
           }
          ],
          "heatmap": [
           {
            "colorbar": {
             "outlinewidth": 0,
             "ticks": ""
            },
            "colorscale": [
             [
              0,
              "#0d0887"
             ],
             [
              0.1111111111111111,
              "#46039f"
             ],
             [
              0.2222222222222222,
              "#7201a8"
             ],
             [
              0.3333333333333333,
              "#9c179e"
             ],
             [
              0.4444444444444444,
              "#bd3786"
             ],
             [
              0.5555555555555556,
              "#d8576b"
             ],
             [
              0.6666666666666666,
              "#ed7953"
             ],
             [
              0.7777777777777778,
              "#fb9f3a"
             ],
             [
              0.8888888888888888,
              "#fdca26"
             ],
             [
              1,
              "#f0f921"
             ]
            ],
            "type": "heatmap"
           }
          ],
          "heatmapgl": [
           {
            "colorbar": {
             "outlinewidth": 0,
             "ticks": ""
            },
            "colorscale": [
             [
              0,
              "#0d0887"
             ],
             [
              0.1111111111111111,
              "#46039f"
             ],
             [
              0.2222222222222222,
              "#7201a8"
             ],
             [
              0.3333333333333333,
              "#9c179e"
             ],
             [
              0.4444444444444444,
              "#bd3786"
             ],
             [
              0.5555555555555556,
              "#d8576b"
             ],
             [
              0.6666666666666666,
              "#ed7953"
             ],
             [
              0.7777777777777778,
              "#fb9f3a"
             ],
             [
              0.8888888888888888,
              "#fdca26"
             ],
             [
              1,
              "#f0f921"
             ]
            ],
            "type": "heatmapgl"
           }
          ],
          "histogram": [
           {
            "marker": {
             "pattern": {
              "fillmode": "overlay",
              "size": 10,
              "solidity": 0.2
             }
            },
            "type": "histogram"
           }
          ],
          "histogram2d": [
           {
            "colorbar": {
             "outlinewidth": 0,
             "ticks": ""
            },
            "colorscale": [
             [
              0,
              "#0d0887"
             ],
             [
              0.1111111111111111,
              "#46039f"
             ],
             [
              0.2222222222222222,
              "#7201a8"
             ],
             [
              0.3333333333333333,
              "#9c179e"
             ],
             [
              0.4444444444444444,
              "#bd3786"
             ],
             [
              0.5555555555555556,
              "#d8576b"
             ],
             [
              0.6666666666666666,
              "#ed7953"
             ],
             [
              0.7777777777777778,
              "#fb9f3a"
             ],
             [
              0.8888888888888888,
              "#fdca26"
             ],
             [
              1,
              "#f0f921"
             ]
            ],
            "type": "histogram2d"
           }
          ],
          "histogram2dcontour": [
           {
            "colorbar": {
             "outlinewidth": 0,
             "ticks": ""
            },
            "colorscale": [
             [
              0,
              "#0d0887"
             ],
             [
              0.1111111111111111,
              "#46039f"
             ],
             [
              0.2222222222222222,
              "#7201a8"
             ],
             [
              0.3333333333333333,
              "#9c179e"
             ],
             [
              0.4444444444444444,
              "#bd3786"
             ],
             [
              0.5555555555555556,
              "#d8576b"
             ],
             [
              0.6666666666666666,
              "#ed7953"
             ],
             [
              0.7777777777777778,
              "#fb9f3a"
             ],
             [
              0.8888888888888888,
              "#fdca26"
             ],
             [
              1,
              "#f0f921"
             ]
            ],
            "type": "histogram2dcontour"
           }
          ],
          "mesh3d": [
           {
            "colorbar": {
             "outlinewidth": 0,
             "ticks": ""
            },
            "type": "mesh3d"
           }
          ],
          "parcoords": [
           {
            "line": {
             "colorbar": {
              "outlinewidth": 0,
              "ticks": ""
             }
            },
            "type": "parcoords"
           }
          ],
          "pie": [
           {
            "automargin": true,
            "type": "pie"
           }
          ],
          "scatter": [
           {
            "fillpattern": {
             "fillmode": "overlay",
             "size": 10,
             "solidity": 0.2
            },
            "type": "scatter"
           }
          ],
          "scatter3d": [
           {
            "line": {
             "colorbar": {
              "outlinewidth": 0,
              "ticks": ""
             }
            },
            "marker": {
             "colorbar": {
              "outlinewidth": 0,
              "ticks": ""
             }
            },
            "type": "scatter3d"
           }
          ],
          "scattercarpet": [
           {
            "marker": {
             "colorbar": {
              "outlinewidth": 0,
              "ticks": ""
             }
            },
            "type": "scattercarpet"
           }
          ],
          "scattergeo": [
           {
            "marker": {
             "colorbar": {
              "outlinewidth": 0,
              "ticks": ""
             }
            },
            "type": "scattergeo"
           }
          ],
          "scattergl": [
           {
            "marker": {
             "colorbar": {
              "outlinewidth": 0,
              "ticks": ""
             }
            },
            "type": "scattergl"
           }
          ],
          "scattermapbox": [
           {
            "marker": {
             "colorbar": {
              "outlinewidth": 0,
              "ticks": ""
             }
            },
            "type": "scattermapbox"
           }
          ],
          "scatterpolar": [
           {
            "marker": {
             "colorbar": {
              "outlinewidth": 0,
              "ticks": ""
             }
            },
            "type": "scatterpolar"
           }
          ],
          "scatterpolargl": [
           {
            "marker": {
             "colorbar": {
              "outlinewidth": 0,
              "ticks": ""
             }
            },
            "type": "scatterpolargl"
           }
          ],
          "scatterternary": [
           {
            "marker": {
             "colorbar": {
              "outlinewidth": 0,
              "ticks": ""
             }
            },
            "type": "scatterternary"
           }
          ],
          "surface": [
           {
            "colorbar": {
             "outlinewidth": 0,
             "ticks": ""
            },
            "colorscale": [
             [
              0,
              "#0d0887"
             ],
             [
              0.1111111111111111,
              "#46039f"
             ],
             [
              0.2222222222222222,
              "#7201a8"
             ],
             [
              0.3333333333333333,
              "#9c179e"
             ],
             [
              0.4444444444444444,
              "#bd3786"
             ],
             [
              0.5555555555555556,
              "#d8576b"
             ],
             [
              0.6666666666666666,
              "#ed7953"
             ],
             [
              0.7777777777777778,
              "#fb9f3a"
             ],
             [
              0.8888888888888888,
              "#fdca26"
             ],
             [
              1,
              "#f0f921"
             ]
            ],
            "type": "surface"
           }
          ],
          "table": [
           {
            "cells": {
             "fill": {
              "color": "#EBF0F8"
             },
             "line": {
              "color": "white"
             }
            },
            "header": {
             "fill": {
              "color": "#C8D4E3"
             },
             "line": {
              "color": "white"
             }
            },
            "type": "table"
           }
          ]
         },
         "layout": {
          "annotationdefaults": {
           "arrowcolor": "#2a3f5f",
           "arrowhead": 0,
           "arrowwidth": 1
          },
          "autotypenumbers": "strict",
          "coloraxis": {
           "colorbar": {
            "outlinewidth": 0,
            "ticks": ""
           }
          },
          "colorscale": {
           "diverging": [
            [
             0,
             "#8e0152"
            ],
            [
             0.1,
             "#c51b7d"
            ],
            [
             0.2,
             "#de77ae"
            ],
            [
             0.3,
             "#f1b6da"
            ],
            [
             0.4,
             "#fde0ef"
            ],
            [
             0.5,
             "#f7f7f7"
            ],
            [
             0.6,
             "#e6f5d0"
            ],
            [
             0.7,
             "#b8e186"
            ],
            [
             0.8,
             "#7fbc41"
            ],
            [
             0.9,
             "#4d9221"
            ],
            [
             1,
             "#276419"
            ]
           ],
           "sequential": [
            [
             0,
             "#0d0887"
            ],
            [
             0.1111111111111111,
             "#46039f"
            ],
            [
             0.2222222222222222,
             "#7201a8"
            ],
            [
             0.3333333333333333,
             "#9c179e"
            ],
            [
             0.4444444444444444,
             "#bd3786"
            ],
            [
             0.5555555555555556,
             "#d8576b"
            ],
            [
             0.6666666666666666,
             "#ed7953"
            ],
            [
             0.7777777777777778,
             "#fb9f3a"
            ],
            [
             0.8888888888888888,
             "#fdca26"
            ],
            [
             1,
             "#f0f921"
            ]
           ],
           "sequentialminus": [
            [
             0,
             "#0d0887"
            ],
            [
             0.1111111111111111,
             "#46039f"
            ],
            [
             0.2222222222222222,
             "#7201a8"
            ],
            [
             0.3333333333333333,
             "#9c179e"
            ],
            [
             0.4444444444444444,
             "#bd3786"
            ],
            [
             0.5555555555555556,
             "#d8576b"
            ],
            [
             0.6666666666666666,
             "#ed7953"
            ],
            [
             0.7777777777777778,
             "#fb9f3a"
            ],
            [
             0.8888888888888888,
             "#fdca26"
            ],
            [
             1,
             "#f0f921"
            ]
           ]
          },
          "colorway": [
           "#636efa",
           "#EF553B",
           "#00cc96",
           "#ab63fa",
           "#FFA15A",
           "#19d3f3",
           "#FF6692",
           "#B6E880",
           "#FF97FF",
           "#FECB52"
          ],
          "font": {
           "color": "#2a3f5f"
          },
          "geo": {
           "bgcolor": "white",
           "lakecolor": "white",
           "landcolor": "#E5ECF6",
           "showlakes": true,
           "showland": true,
           "subunitcolor": "white"
          },
          "hoverlabel": {
           "align": "left"
          },
          "hovermode": "closest",
          "mapbox": {
           "style": "light"
          },
          "paper_bgcolor": "white",
          "plot_bgcolor": "#E5ECF6",
          "polar": {
           "angularaxis": {
            "gridcolor": "white",
            "linecolor": "white",
            "ticks": ""
           },
           "bgcolor": "#E5ECF6",
           "radialaxis": {
            "gridcolor": "white",
            "linecolor": "white",
            "ticks": ""
           }
          },
          "scene": {
           "xaxis": {
            "backgroundcolor": "#E5ECF6",
            "gridcolor": "white",
            "gridwidth": 2,
            "linecolor": "white",
            "showbackground": true,
            "ticks": "",
            "zerolinecolor": "white"
           },
           "yaxis": {
            "backgroundcolor": "#E5ECF6",
            "gridcolor": "white",
            "gridwidth": 2,
            "linecolor": "white",
            "showbackground": true,
            "ticks": "",
            "zerolinecolor": "white"
           },
           "zaxis": {
            "backgroundcolor": "#E5ECF6",
            "gridcolor": "white",
            "gridwidth": 2,
            "linecolor": "white",
            "showbackground": true,
            "ticks": "",
            "zerolinecolor": "white"
           }
          },
          "shapedefaults": {
           "line": {
            "color": "#2a3f5f"
           }
          },
          "ternary": {
           "aaxis": {
            "gridcolor": "white",
            "linecolor": "white",
            "ticks": ""
           },
           "baxis": {
            "gridcolor": "white",
            "linecolor": "white",
            "ticks": ""
           },
           "bgcolor": "#E5ECF6",
           "caxis": {
            "gridcolor": "white",
            "linecolor": "white",
            "ticks": ""
           }
          },
          "title": {
           "x": 0.05
          },
          "xaxis": {
           "automargin": true,
           "gridcolor": "white",
           "linecolor": "white",
           "ticks": "",
           "title": {
            "standoff": 15
           },
           "zerolinecolor": "white",
           "zerolinewidth": 2
          },
          "yaxis": {
           "automargin": true,
           "gridcolor": "white",
           "linecolor": "white",
           "ticks": "",
           "title": {
            "standoff": 15
           },
           "zerolinecolor": "white",
           "zerolinewidth": 2
          }
         }
        },
        "title": {
         "text": "Top 5 Potentially Significant Genes, Based on p-values"
        },
        "width": 720
       }
      }
     },
     "metadata": {},
     "output_type": "display_data"
    }
   ],
   "source": [
    "asdf = data.copy()\n",
    "asdf.loc[len(data)] = np.append(sva.pvals, 999)\n",
    "asdf.sort_values(by=len(data), axis=1, inplace=True)\n",
    "asdf.drop(len(data), inplace=True)\n",
    "asdf\n",
    "n_pcs = 5\n",
    "top_n_pcs = asdf.iloc[:,:n_pcs]\n",
    "\n",
    "fig = px.scatter_matrix(\n",
    "    top_n_pcs,\n",
    "    color=Y['label'],\n",
    "    color_discrete_sequence=px.colors.qualitative.D3,\n",
    "    opacity=0.8,\n",
    "    dimensions=top_n_pcs.columns,\n",
    "    # labels=labels,\n",
    "    title='Top 5 Potentially Significant Genes, Based on p-values',\n",
    "    width=720,\n",
    "    height=720\n",
    ")\n",
    "fig.update_traces(diagonal_visible=True)\n",
    "fig.show()"
   ]
  },
  {
   "cell_type": "markdown",
   "id": "7fa73a98",
   "metadata": {},
   "source": [
    "# 1. Significant PCs"
   ]
  },
  {
   "cell_type": "code",
   "execution_count": 19,
   "id": "39bd6a01",
   "metadata": {},
   "outputs": [],
   "source": [
    "data_reduced = pd.DataFrame(x).join(Y.reset_index()['label'])"
   ]
  },
  {
   "cell_type": "code",
   "execution_count": 20,
   "id": "917225ca",
   "metadata": {},
   "outputs": [
    {
     "name": "stderr",
     "output_type": "stream",
     "text": [
      "/home/avatar/Documents/UQ S2 2023/STAT3006/A4/code/env/lib/python3.11/site-packages/scipy/stats/_axis_nan_policy.py:551: RuntimeWarning:\n",
      "\n",
      "Precision loss occurred in moment calculation due to catastrophic cancellation. This occurs when the data are nearly identical. Results may be unreliable.\n",
      "\n"
     ]
    },
    {
     "data": {
      "application/vnd.plotly.v1+json": {
       "config": {
        "plotlyServerURL": "https://plot.ly"
       },
       "data": [
        {
         "diagonal": {
          "visible": true
         },
         "dimensions": [
          {
           "axis": {
            "matches": true
           },
           "label": "99",
           "values": [
            0.43800652569330767,
            -0.6411060326393929,
            -2.4921512174763083,
            -3.7945248091540855,
            2.0809606229841857,
            -8.343498823993073,
            2.0599069303857585,
            -3.970591687329902,
            1.80071123682408,
            -4.352823666927442,
            -2.868664276531424,
            -1.2879291126643067,
            1.7148857860711495,
            -0.6737549005003339,
            4.0976470152035125,
            0.9458096038101369,
            1.4185944489672264,
            -1.900141236016148,
            -5.80882003053832,
            1.407322928555929,
            -0.1530590573160363,
            -0.1864107009709197,
            6.665081799016882,
            3.9033149705008388,
            0.9479563029855607,
            -4.506568206050613,
            0.3439340744632473,
            0.8374026215654738,
            -0.18425316756374324,
            -2.5335417368608306,
            1.8442004857039491,
            0.8299655473293577,
            -4.473103997589934,
            3.676465922980709,
            -11.847263837672628,
            -1.390949321255068,
            -5.991296079128738,
            1.578160795576753,
            0.1490557538755949,
            -5.549061337369193,
            -7.851618353286404,
            1.1383638731044423,
            -6.232262557645443,
            2.0930035595787237,
            -0.5519770686901124,
            -1.0079260625387962,
            -5.204983481643947,
            3.274338217798217,
            -1.1312222137596406,
            -0.09935397153618693,
            2.653634883896168,
            -0.06361176559700127,
            -10.290097644525567,
            -10.565246632612796
           ]
          },
          {
           "axis": {
            "matches": true
           },
           "label": "22",
           "values": [
            -16.289517393736904,
            -2.947432881402927,
            8.92603452455826,
            -9.978679191243828,
            -5.400706012717326,
            -4.190430596197934,
            -3.8393202360718623,
            0.40974689935619807,
            -5.4273376700968665,
            -5.939801499794411,
            -9.050525929823895,
            -6.6099730383167214,
            2.927465362921232,
            -2.1385967501135053,
            10.170553925437678,
            -10.758310610296014,
            3.8298464127578353,
            -0.20346098424521897,
            1.829742993785602,
            0.7942773389258538,
            -4.313016457251985,
            -2.665997808944892,
            -8.131184950186924,
            -6.311055320522141,
            -7.624931486584621,
            -6.632600320380104,
            -9.278827077447652,
            6.228980274437528,
            3.976607319544036,
            -4.515158252546969,
            -14.242119884871158,
            0.6639907304799827,
            -4.7484211646153085,
            -10.904452870941792,
            -8.910881736869761,
            14.858043350587382,
            -3.0713334011282685,
            -8.850205892255788,
            -0.05118894872839728,
            13.580080149236776,
            6.446293851305221,
            2.7472573364455894,
            -1.2056403261846962,
            6.284281687401269,
            -2.9643188921490964,
            -4.056190690724698,
            -6.027381881976109,
            -5.504091665132977,
            18.239988839986907,
            -4.05508681970509,
            -3.830462911167042,
            -15.929901600015235,
            5.910407981964569,
            -4.256738712885261
           ]
          },
          {
           "axis": {
            "matches": true
           },
           "label": "1",
           "values": [
            -21.27794917573752,
            31.831402692691924,
            -29.128576128358006,
            27.492687358707336,
            18.34080307314012,
            -26.376646117265118,
            -4.559207192389029,
            80.96670395892461,
            21.41819278222565,
            48.095602333570994,
            -7.71591017800331,
            -5.3855096591839695,
            21.69897971642582,
            -27.664759968829433,
            10.758983820772439,
            -2.118103744200192,
            8.496492912739965,
            58.37881618897924,
            43.84130206192236,
            29.379039240711528,
            0.6427190149846772,
            -47.180717478665606,
            -26.840092016717342,
            -46.85388072587417,
            -16.745007341341932,
            -37.51358324092899,
            -33.11020671095624,
            -11.548632616912316,
            -55.38451997074722,
            -34.34714129520577,
            -47.225117762100375,
            -43.17896078057717,
            -26.53041657046063,
            -36.26178219500922,
            41.817371897739434,
            -46.20180544948855,
            51.71220473303419,
            -61.76490295963602,
            29.94597324247183,
            -20.4486943549903,
            8.130428243520601,
            -6.413274010535909,
            -3.4596502764476953,
            -25.45628220438376,
            -39.912038052257515,
            -55.92058011885864,
            -7.165575193106712,
            12.318354606114433,
            -65.34368425876669,
            -35.771621487953034,
            -4.105440192007407,
            -37.11206703693189,
            -17.392530924287886,
            -15.922514170596532
           ]
          },
          {
           "axis": {
            "matches": true
           },
           "label": "19",
           "values": [
            -0.7815427528410672,
            0.3890133379930762,
            -0.33372939912872013,
            1.6630415810368,
            -3.1620646336819784,
            1.0172945092333034,
            10.214126603333813,
            -6.259833750631824,
            5.691998186532446,
            -2.1775621283294133,
            -1.488582297470587,
            -1.712179684786396,
            1.9116570847168284,
            8.078419710650147,
            6.541845951426365,
            5.262117177856943,
            2.6259326240008662,
            12.258567603889915,
            -4.732058344266149,
            -12.612214469282552,
            4.213202432133274,
            0.5155113769222279,
            -2.030255508372657,
            0.1838396103753202,
            -5.788741803765355,
            7.552442779845706,
            -1.175152530538911,
            -1.595216434421391,
            -6.478621662374371,
            -2.437341072660609,
            17.377290822060385,
            -0.5999768653007209,
            -8.183001809540954,
            2.003394224161306,
            6.761725800100554,
            3.886511955206346,
            -8.89326862934903,
            8.175589178475366,
            3.367486499029801,
            -2.7763436422059957,
            -1.2332829544328086,
            13.352429121058298,
            0.7324350498602055,
            -2.550914047869593,
            8.959294724415363,
            4.4534351614053405,
            1.9015574820222652,
            0.17316219959207807,
            8.068034875017947,
            10.409958376742729,
            6.898874542704314,
            11.81830977613973,
            -8.816101481938782,
            0.09037376239198824
           ]
          },
          {
           "axis": {
            "matches": true
           },
           "label": "69",
           "values": [
            -6.886863844988074,
            -1.5860903779221935,
            2.5419561688161725,
            -5.848744142808277,
            0.9726425966799022,
            -2.5283428724962573,
            -4.319904187706704,
            -3.964948931870227,
            2.437017226417225,
            9.300256324326208,
            -3.0641652968386213,
            11.006464431542922,
            1.7901927484849185,
            -0.16323319178313778,
            7.583612683398118,
            0.5811744518319295,
            2.966013817667019,
            0.5240493608590086,
            5.587397876032106,
            1.1220333836088447,
            1.0476039879002748,
            0.04455570286827805,
            -4.46424866588379,
            6.413593522399512,
            7.469397154242902,
            -0.13724926444602456,
            -4.660639009577483,
            2.656604450126522,
            1.0019300937609696,
            6.166148522676471,
            -8.414062243111156,
            2.635619118274714,
            1.2140420423552036,
            7.561815317821786,
            -2.528026762019011,
            -4.165837900363035,
            3.2957190108897745,
            -0.9413093430449853,
            1.773015937899136,
            -1.600926504500837,
            2.9195732072528813,
            8.865961050276473,
            1.70048383036149,
            9.619859182168634,
            0.8885111757693709,
            4.864721724305113,
            -0.4605598733896897,
            -1.2639262345185833,
            -3.2067321090006877,
            1.8090080030234028,
            -1.6443103462897217,
            2.0061410359417113,
            -0.9122564797422066,
            -5.975477802062096
           ]
          }
         ],
         "hovertemplate": "color=normal<br>%{xaxis.title.text}=%{x}<br>%{yaxis.title.text}=%{y}<extra></extra>",
         "legendgroup": "normal",
         "marker": {
          "color": "#1F77B4",
          "opacity": 0.8,
          "symbol": "circle"
         },
         "name": "normal",
         "showlegend": true,
         "type": "splom"
        },
        {
         "diagonal": {
          "visible": true
         },
         "dimensions": [
          {
           "axis": {
            "matches": true
           },
           "label": "99",
           "values": [
            -1.26376167110206,
            -1.0265230354394546,
            2.8497415390690968,
            2.461725796170416,
            1.2977136764748811,
            -3.110873454137171,
            -0.1539153552295595,
            -3.243429219413256,
            -0.9509503262202997,
            12.58640161337553,
            4.0864943382578,
            3.3373266361215874,
            2.919270748880193,
            -0.45050508573423564,
            -1.709349603045703,
            -1.1095195823450403,
            -0.45895034340421975,
            2.3866725920142233,
            1.5641351333442761,
            12.960414787295077,
            5.355678095228045,
            2.155983873577915,
            6.434431421053306,
            -3.4071079382518907,
            -1.5173325975123764,
            2.140834524550761,
            0.2741866887473472,
            -0.7622896985230134,
            -3.557965956650612,
            -7.25673678977668,
            -1.1454524773338377,
            2.7287651884393767,
            -1.4827795546353348,
            0.6853839774792831,
            -0.6445791645653288,
            -1.1848640989519568,
            -0.11551999448218268,
            3.4659906979579365,
            -1.3972953351909736,
            -0.6078881082877303,
            2.139935174950803,
            -0.46662861617708246,
            1.7724552746056685,
            -0.25347081376486813,
            9.80808387857716,
            3.0172766796019235,
            -2.3936828686639338,
            3.0915976268944125,
            2.540845529968767,
            5.480418433635408,
            1.395139479973104,
            6.514102151188138,
            1.292294542927503,
            2.2631759830750764,
            -0.3668890660054233,
            1.1279765028440747,
            3.1530999975292304,
            -2.279024600611219,
            -2.6603471353194292,
            -0.44792488727197266,
            0.5599540010816721,
            0.4143726124404327,
            0.667846585589768,
            -10.448452262788612,
            1.1669267324480408,
            8.845200423245469,
            0.9812457827349411
           ]
          },
          {
           "axis": {
            "matches": true
           },
           "label": "22",
           "values": [
            -5.031360616927878,
            -6.918045869991362,
            -5.605820955841078,
            3.927713024585513,
            1.8982411246633468,
            0.8529754033766686,
            4.160618878463245,
            22.179230502354475,
            -15.819448498536136,
            7.33141732278368,
            3.7080921337037434,
            8.041961223129611,
            -4.897610554053838,
            -9.687053196971442,
            2.6451390463176105,
            14.568483044715878,
            -1.507990508755299,
            4.218520310163509,
            8.892114586921338,
            -0.49495593940370763,
            -4.5369977474361445,
            11.927182047884088,
            5.872390351069153,
            5.591984956471441,
            -2.055290988251575,
            -3.463149719214243,
            -7.13852936762123,
            -3.505707104475026,
            -7.5219168969817485,
            -0.5233945677338941,
            -8.437519869092066,
            -6.307150666203835,
            -1.6424453283514906,
            14.419719209939416,
            4.161425979506557,
            10.201080668575322,
            2.3808474008877143,
            6.039560524715737,
            11.569952912672656,
            12.54014130371981,
            1.7062768037207787,
            5.722915379422684,
            -5.088787565452166,
            -7.229955886559887,
            -1.9373791958234075,
            1.9066430811976236,
            13.564859978830809,
            -4.9925920186072315,
            3.9563812058958487,
            -0.07811574296875093,
            2.94309142150316,
            -14.319343746609716,
            11.022655574858193,
            4.629884245834288,
            22.234995963714056,
            7.37905663745674,
            -4.522103425066436,
            -2.3074453196927167,
            6.80620233453341,
            1.572266820618775,
            -1.1441025244981649,
            -4.307068389342059,
            10.33750930543307,
            -1.9904202984364412,
            -0.06607933914814397,
            3.897314420813986,
            1.3006196057346378
           ]
          },
          {
           "axis": {
            "matches": true
           },
           "label": "1",
           "values": [
            14.760001459852381,
            20.55871553376651,
            17.2441996783143,
            -1.630796680039982,
            -9.147725228139786,
            68.33312130788703,
            2.655257934895249,
            -11.273634343290125,
            -14.980581453477676,
            -21.17338184978537,
            25.010485645231636,
            -41.71069465108293,
            -29.36935897574549,
            39.32942839955395,
            41.50515081846189,
            -48.96177990979532,
            -4.529610998051065,
            -56.37086615432532,
            3.5443312005745,
            94.10359782464657,
            45.692057261889076,
            37.036796339247786,
            0.012553420513622593,
            48.715967222590265,
            -78.0007553504155,
            46.30534975783516,
            27.28638745918639,
            19.477971957089967,
            3.0875943324777704,
            -28.737488099410076,
            15.361763013674071,
            4.241570968171169,
            7.014529019973632,
            -3.6849670201631275,
            28.610348686129615,
            90.35235541102826,
            19.503305763835435,
            14.780735518506864,
            -48.36781169251163,
            43.83944073181443,
            -17.462327026051472,
            49.22359395296925,
            -14.684729848664343,
            9.922025425597253,
            -17.089225852291527,
            -22.766464521312724,
            -53.904770762927186,
            -22.26786933166488,
            0.33276408712845024,
            48.70654122544018,
            -53.89398366374001,
            -2.855197384350704,
            -29.210922930307625,
            -13.498371610344705,
            -35.406359074633166,
            37.24717413789442,
            -41.56671591023968,
            33.93701554853533,
            19.51228990255827,
            21.320798258373756,
            50.07453697327214,
            -32.594495361143466,
            39.22001136565344,
            28.819489398883025,
            29.93065569608268,
            63.466129889870814,
            29.136166835533608
           ]
          },
          {
           "axis": {
            "matches": true
           },
           "label": "19",
           "values": [
            -2.4559864965585088,
            -14.930200596685962,
            -0.17131180592410034,
            2.2200643998730136,
            -5.737007857024448,
            2.5746892228485434,
            -6.328321304559313,
            10.924696459148347,
            4.093974848101492,
            -9.989575879593916,
            -16.345560122628957,
            -13.283624269064648,
            1.7021009855038587,
            -1.2851719265349022,
            -20.012396860046447,
            -16.347582410277806,
            2.0407668948505577,
            5.664237530142998,
            19.127686618945525,
            -0.6495158049585815,
            -7.668796613803611,
            15.042828048490062,
            2.918566689073582,
            -2.4828554033914743,
            -4.305706754486436,
            1.9831787848472961,
            5.089743459096921,
            -8.382043695520077,
            2.283466361119945,
            -12.473479924925567,
            -5.392938002479576,
            -18.773973289840065,
            -14.784858903707548,
            -4.675563387127689,
            -3.0985760039508867,
            -7.841914748935387,
            3.229320894300541,
            1.852643716015576,
            -9.458678516379166,
            10.399282432863805,
            -3.9034840363590297,
            24.396589206387603,
            -2.5228011193300643,
            2.812783753306459,
            -3.090063379470634,
            -6.038873066356104,
            -1.4458822288041058,
            -0.9613102614883823,
            -2.794327584624867,
            -11.886152944038917,
            -7.944854534935712,
            -2.8002371916674127,
            -6.500265747230986,
            -7.22472850585145,
            5.401755758746172,
            -2.625209189344065,
            4.639983207496704,
            -6.499192888118992,
            11.113276837842797,
            10.24899650949505,
            4.704442841435416,
            -4.512895685038218,
            13.0004724257395,
            -4.185125297994015,
            -5.985672259092992,
            0.351266244433281,
            29.249014150904713
           ]
          },
          {
           "axis": {
            "matches": true
           },
           "label": "69",
           "values": [
            1.3297264909846087,
            0.7743212457551226,
            3.968814196659198,
            -2.8967713103166006,
            -6.348203723004577,
            0.33162305953751353,
            6.7310564425307895,
            6.36504864886567,
            6.872895845716849,
            -1.7845850132657983,
            -0.6045752584858995,
            -5.2146631576964895,
            8.313076310496324,
            3.6584267360518083,
            3.8553086588505443,
            -6.056984250293541,
            -4.8899592197018835,
            -6.527334435706608,
            -1.8875455247451622,
            2.7812841194391758,
            2.3214915843000856,
            -1.6269989540124101,
            -4.340427173090668,
            2.890422559026519,
            1.1134597452752009,
            -9.204934747824716,
            -5.847620846834955,
            4.2191205294742655,
            -9.918887628645068,
            0.5846000182812898,
            -4.078008837837397,
            -5.667538040529663,
            0.39863688670605424,
            -3.8752563069174712,
            6.3112217821687135,
            -4.203802548073285,
            1.2165769576754564,
            8.583524289349471,
            1.3548808032031465,
            0.8109614126322079,
            -4.10068640993178,
            -6.377534057021659,
            -1.060977550074912,
            11.57478166367277,
            -3.8228836482326827,
            1.484277511144377,
            2.943611260827345,
            -2.5031494337920623,
            -6.308301149531263,
            8.73381528710778,
            -9.115860143620408,
            -5.351498859778822,
            -5.175122444492812,
            -0.36886389512513956,
            1.1523992738439206,
            -4.112340708723424,
            -0.17323796181493425,
            -10.76955506489876,
            4.8343515679259585,
            3.3562692897804234,
            -6.5854899115188825,
            7.4905210790425425,
            -1.9351746415491469,
            -7.904570284478477,
            -1.4277181437650064,
            -5.2722026163477285,
            -0.6465011102609991
           ]
          }
         ],
         "hovertemplate": "color=cancer<br>%{xaxis.title.text}=%{x}<br>%{yaxis.title.text}=%{y}<extra></extra>",
         "legendgroup": "cancer",
         "marker": {
          "color": "#FF7F0E",
          "opacity": 0.8,
          "symbol": "circle"
         },
         "name": "cancer",
         "showlegend": true,
         "type": "splom"
        }
       ],
       "layout": {
        "dragmode": "select",
        "height": 720,
        "legend": {
         "title": {
          "text": "color"
         },
         "tracegroupgap": 0
        },
        "template": {
         "data": {
          "bar": [
           {
            "error_x": {
             "color": "#2a3f5f"
            },
            "error_y": {
             "color": "#2a3f5f"
            },
            "marker": {
             "line": {
              "color": "#E5ECF6",
              "width": 0.5
             },
             "pattern": {
              "fillmode": "overlay",
              "size": 10,
              "solidity": 0.2
             }
            },
            "type": "bar"
           }
          ],
          "barpolar": [
           {
            "marker": {
             "line": {
              "color": "#E5ECF6",
              "width": 0.5
             },
             "pattern": {
              "fillmode": "overlay",
              "size": 10,
              "solidity": 0.2
             }
            },
            "type": "barpolar"
           }
          ],
          "carpet": [
           {
            "aaxis": {
             "endlinecolor": "#2a3f5f",
             "gridcolor": "white",
             "linecolor": "white",
             "minorgridcolor": "white",
             "startlinecolor": "#2a3f5f"
            },
            "baxis": {
             "endlinecolor": "#2a3f5f",
             "gridcolor": "white",
             "linecolor": "white",
             "minorgridcolor": "white",
             "startlinecolor": "#2a3f5f"
            },
            "type": "carpet"
           }
          ],
          "choropleth": [
           {
            "colorbar": {
             "outlinewidth": 0,
             "ticks": ""
            },
            "type": "choropleth"
           }
          ],
          "contour": [
           {
            "colorbar": {
             "outlinewidth": 0,
             "ticks": ""
            },
            "colorscale": [
             [
              0,
              "#0d0887"
             ],
             [
              0.1111111111111111,
              "#46039f"
             ],
             [
              0.2222222222222222,
              "#7201a8"
             ],
             [
              0.3333333333333333,
              "#9c179e"
             ],
             [
              0.4444444444444444,
              "#bd3786"
             ],
             [
              0.5555555555555556,
              "#d8576b"
             ],
             [
              0.6666666666666666,
              "#ed7953"
             ],
             [
              0.7777777777777778,
              "#fb9f3a"
             ],
             [
              0.8888888888888888,
              "#fdca26"
             ],
             [
              1,
              "#f0f921"
             ]
            ],
            "type": "contour"
           }
          ],
          "contourcarpet": [
           {
            "colorbar": {
             "outlinewidth": 0,
             "ticks": ""
            },
            "type": "contourcarpet"
           }
          ],
          "heatmap": [
           {
            "colorbar": {
             "outlinewidth": 0,
             "ticks": ""
            },
            "colorscale": [
             [
              0,
              "#0d0887"
             ],
             [
              0.1111111111111111,
              "#46039f"
             ],
             [
              0.2222222222222222,
              "#7201a8"
             ],
             [
              0.3333333333333333,
              "#9c179e"
             ],
             [
              0.4444444444444444,
              "#bd3786"
             ],
             [
              0.5555555555555556,
              "#d8576b"
             ],
             [
              0.6666666666666666,
              "#ed7953"
             ],
             [
              0.7777777777777778,
              "#fb9f3a"
             ],
             [
              0.8888888888888888,
              "#fdca26"
             ],
             [
              1,
              "#f0f921"
             ]
            ],
            "type": "heatmap"
           }
          ],
          "heatmapgl": [
           {
            "colorbar": {
             "outlinewidth": 0,
             "ticks": ""
            },
            "colorscale": [
             [
              0,
              "#0d0887"
             ],
             [
              0.1111111111111111,
              "#46039f"
             ],
             [
              0.2222222222222222,
              "#7201a8"
             ],
             [
              0.3333333333333333,
              "#9c179e"
             ],
             [
              0.4444444444444444,
              "#bd3786"
             ],
             [
              0.5555555555555556,
              "#d8576b"
             ],
             [
              0.6666666666666666,
              "#ed7953"
             ],
             [
              0.7777777777777778,
              "#fb9f3a"
             ],
             [
              0.8888888888888888,
              "#fdca26"
             ],
             [
              1,
              "#f0f921"
             ]
            ],
            "type": "heatmapgl"
           }
          ],
          "histogram": [
           {
            "marker": {
             "pattern": {
              "fillmode": "overlay",
              "size": 10,
              "solidity": 0.2
             }
            },
            "type": "histogram"
           }
          ],
          "histogram2d": [
           {
            "colorbar": {
             "outlinewidth": 0,
             "ticks": ""
            },
            "colorscale": [
             [
              0,
              "#0d0887"
             ],
             [
              0.1111111111111111,
              "#46039f"
             ],
             [
              0.2222222222222222,
              "#7201a8"
             ],
             [
              0.3333333333333333,
              "#9c179e"
             ],
             [
              0.4444444444444444,
              "#bd3786"
             ],
             [
              0.5555555555555556,
              "#d8576b"
             ],
             [
              0.6666666666666666,
              "#ed7953"
             ],
             [
              0.7777777777777778,
              "#fb9f3a"
             ],
             [
              0.8888888888888888,
              "#fdca26"
             ],
             [
              1,
              "#f0f921"
             ]
            ],
            "type": "histogram2d"
           }
          ],
          "histogram2dcontour": [
           {
            "colorbar": {
             "outlinewidth": 0,
             "ticks": ""
            },
            "colorscale": [
             [
              0,
              "#0d0887"
             ],
             [
              0.1111111111111111,
              "#46039f"
             ],
             [
              0.2222222222222222,
              "#7201a8"
             ],
             [
              0.3333333333333333,
              "#9c179e"
             ],
             [
              0.4444444444444444,
              "#bd3786"
             ],
             [
              0.5555555555555556,
              "#d8576b"
             ],
             [
              0.6666666666666666,
              "#ed7953"
             ],
             [
              0.7777777777777778,
              "#fb9f3a"
             ],
             [
              0.8888888888888888,
              "#fdca26"
             ],
             [
              1,
              "#f0f921"
             ]
            ],
            "type": "histogram2dcontour"
           }
          ],
          "mesh3d": [
           {
            "colorbar": {
             "outlinewidth": 0,
             "ticks": ""
            },
            "type": "mesh3d"
           }
          ],
          "parcoords": [
           {
            "line": {
             "colorbar": {
              "outlinewidth": 0,
              "ticks": ""
             }
            },
            "type": "parcoords"
           }
          ],
          "pie": [
           {
            "automargin": true,
            "type": "pie"
           }
          ],
          "scatter": [
           {
            "fillpattern": {
             "fillmode": "overlay",
             "size": 10,
             "solidity": 0.2
            },
            "type": "scatter"
           }
          ],
          "scatter3d": [
           {
            "line": {
             "colorbar": {
              "outlinewidth": 0,
              "ticks": ""
             }
            },
            "marker": {
             "colorbar": {
              "outlinewidth": 0,
              "ticks": ""
             }
            },
            "type": "scatter3d"
           }
          ],
          "scattercarpet": [
           {
            "marker": {
             "colorbar": {
              "outlinewidth": 0,
              "ticks": ""
             }
            },
            "type": "scattercarpet"
           }
          ],
          "scattergeo": [
           {
            "marker": {
             "colorbar": {
              "outlinewidth": 0,
              "ticks": ""
             }
            },
            "type": "scattergeo"
           }
          ],
          "scattergl": [
           {
            "marker": {
             "colorbar": {
              "outlinewidth": 0,
              "ticks": ""
             }
            },
            "type": "scattergl"
           }
          ],
          "scattermapbox": [
           {
            "marker": {
             "colorbar": {
              "outlinewidth": 0,
              "ticks": ""
             }
            },
            "type": "scattermapbox"
           }
          ],
          "scatterpolar": [
           {
            "marker": {
             "colorbar": {
              "outlinewidth": 0,
              "ticks": ""
             }
            },
            "type": "scatterpolar"
           }
          ],
          "scatterpolargl": [
           {
            "marker": {
             "colorbar": {
              "outlinewidth": 0,
              "ticks": ""
             }
            },
            "type": "scatterpolargl"
           }
          ],
          "scatterternary": [
           {
            "marker": {
             "colorbar": {
              "outlinewidth": 0,
              "ticks": ""
             }
            },
            "type": "scatterternary"
           }
          ],
          "surface": [
           {
            "colorbar": {
             "outlinewidth": 0,
             "ticks": ""
            },
            "colorscale": [
             [
              0,
              "#0d0887"
             ],
             [
              0.1111111111111111,
              "#46039f"
             ],
             [
              0.2222222222222222,
              "#7201a8"
             ],
             [
              0.3333333333333333,
              "#9c179e"
             ],
             [
              0.4444444444444444,
              "#bd3786"
             ],
             [
              0.5555555555555556,
              "#d8576b"
             ],
             [
              0.6666666666666666,
              "#ed7953"
             ],
             [
              0.7777777777777778,
              "#fb9f3a"
             ],
             [
              0.8888888888888888,
              "#fdca26"
             ],
             [
              1,
              "#f0f921"
             ]
            ],
            "type": "surface"
           }
          ],
          "table": [
           {
            "cells": {
             "fill": {
              "color": "#EBF0F8"
             },
             "line": {
              "color": "white"
             }
            },
            "header": {
             "fill": {
              "color": "#C8D4E3"
             },
             "line": {
              "color": "white"
             }
            },
            "type": "table"
           }
          ]
         },
         "layout": {
          "annotationdefaults": {
           "arrowcolor": "#2a3f5f",
           "arrowhead": 0,
           "arrowwidth": 1
          },
          "autotypenumbers": "strict",
          "coloraxis": {
           "colorbar": {
            "outlinewidth": 0,
            "ticks": ""
           }
          },
          "colorscale": {
           "diverging": [
            [
             0,
             "#8e0152"
            ],
            [
             0.1,
             "#c51b7d"
            ],
            [
             0.2,
             "#de77ae"
            ],
            [
             0.3,
             "#f1b6da"
            ],
            [
             0.4,
             "#fde0ef"
            ],
            [
             0.5,
             "#f7f7f7"
            ],
            [
             0.6,
             "#e6f5d0"
            ],
            [
             0.7,
             "#b8e186"
            ],
            [
             0.8,
             "#7fbc41"
            ],
            [
             0.9,
             "#4d9221"
            ],
            [
             1,
             "#276419"
            ]
           ],
           "sequential": [
            [
             0,
             "#0d0887"
            ],
            [
             0.1111111111111111,
             "#46039f"
            ],
            [
             0.2222222222222222,
             "#7201a8"
            ],
            [
             0.3333333333333333,
             "#9c179e"
            ],
            [
             0.4444444444444444,
             "#bd3786"
            ],
            [
             0.5555555555555556,
             "#d8576b"
            ],
            [
             0.6666666666666666,
             "#ed7953"
            ],
            [
             0.7777777777777778,
             "#fb9f3a"
            ],
            [
             0.8888888888888888,
             "#fdca26"
            ],
            [
             1,
             "#f0f921"
            ]
           ],
           "sequentialminus": [
            [
             0,
             "#0d0887"
            ],
            [
             0.1111111111111111,
             "#46039f"
            ],
            [
             0.2222222222222222,
             "#7201a8"
            ],
            [
             0.3333333333333333,
             "#9c179e"
            ],
            [
             0.4444444444444444,
             "#bd3786"
            ],
            [
             0.5555555555555556,
             "#d8576b"
            ],
            [
             0.6666666666666666,
             "#ed7953"
            ],
            [
             0.7777777777777778,
             "#fb9f3a"
            ],
            [
             0.8888888888888888,
             "#fdca26"
            ],
            [
             1,
             "#f0f921"
            ]
           ]
          },
          "colorway": [
           "#636efa",
           "#EF553B",
           "#00cc96",
           "#ab63fa",
           "#FFA15A",
           "#19d3f3",
           "#FF6692",
           "#B6E880",
           "#FF97FF",
           "#FECB52"
          ],
          "font": {
           "color": "#2a3f5f"
          },
          "geo": {
           "bgcolor": "white",
           "lakecolor": "white",
           "landcolor": "#E5ECF6",
           "showlakes": true,
           "showland": true,
           "subunitcolor": "white"
          },
          "hoverlabel": {
           "align": "left"
          },
          "hovermode": "closest",
          "mapbox": {
           "style": "light"
          },
          "paper_bgcolor": "white",
          "plot_bgcolor": "#E5ECF6",
          "polar": {
           "angularaxis": {
            "gridcolor": "white",
            "linecolor": "white",
            "ticks": ""
           },
           "bgcolor": "#E5ECF6",
           "radialaxis": {
            "gridcolor": "white",
            "linecolor": "white",
            "ticks": ""
           }
          },
          "scene": {
           "xaxis": {
            "backgroundcolor": "#E5ECF6",
            "gridcolor": "white",
            "gridwidth": 2,
            "linecolor": "white",
            "showbackground": true,
            "ticks": "",
            "zerolinecolor": "white"
           },
           "yaxis": {
            "backgroundcolor": "#E5ECF6",
            "gridcolor": "white",
            "gridwidth": 2,
            "linecolor": "white",
            "showbackground": true,
            "ticks": "",
            "zerolinecolor": "white"
           },
           "zaxis": {
            "backgroundcolor": "#E5ECF6",
            "gridcolor": "white",
            "gridwidth": 2,
            "linecolor": "white",
            "showbackground": true,
            "ticks": "",
            "zerolinecolor": "white"
           }
          },
          "shapedefaults": {
           "line": {
            "color": "#2a3f5f"
           }
          },
          "ternary": {
           "aaxis": {
            "gridcolor": "white",
            "linecolor": "white",
            "ticks": ""
           },
           "baxis": {
            "gridcolor": "white",
            "linecolor": "white",
            "ticks": ""
           },
           "bgcolor": "#E5ECF6",
           "caxis": {
            "gridcolor": "white",
            "linecolor": "white",
            "ticks": ""
           }
          },
          "title": {
           "x": 0.05
          },
          "xaxis": {
           "automargin": true,
           "gridcolor": "white",
           "linecolor": "white",
           "ticks": "",
           "title": {
            "standoff": 15
           },
           "zerolinecolor": "white",
           "zerolinewidth": 2
          },
          "yaxis": {
           "automargin": true,
           "gridcolor": "white",
           "linecolor": "white",
           "ticks": "",
           "title": {
            "standoff": 15
           },
           "zerolinecolor": "white",
           "zerolinewidth": 2
          }
         }
        },
        "title": {
         "text": "Top 5 Potentially Significant PCs, Based on p-values"
        },
        "width": 720
       }
      }
     },
     "metadata": {},
     "output_type": "display_data"
    }
   ],
   "source": [
    "sva_pc = SVA(data_reduced)\n",
    "asdf = data_reduced.copy()\n",
    "asdf.loc[len(data_reduced)] = np.append(sva_pc.pvals, 999)\n",
    "asdf.sort_values(by=len(data_reduced), axis=1, inplace=True)\n",
    "asdf.drop(len(data_reduced), inplace=True)\n",
    "asdf\n",
    "n_pcs = 5\n",
    "top_n_pcs = asdf.iloc[:,:n_pcs]\n",
    "\n",
    "fig = px.scatter_matrix(\n",
    "    top_n_pcs,\n",
    "    color=Y['label'],\n",
    "    color_discrete_sequence=px.colors.qualitative.D3,\n",
    "    opacity=0.8,\n",
    "    dimensions=top_n_pcs.columns,\n",
    "    # labels=labels,\n",
    "    title='Top 5 Potentially Significant PCs, Based on p-values',\n",
    "    width=720,\n",
    "    height=720\n",
    ")\n",
    "fig.update_traces(diagonal_visible=True)\n",
    "fig.show()"
   ]
  },
  {
   "cell_type": "markdown",
   "id": "3fb50fc7",
   "metadata": {},
   "source": [
    "# 3. Defining Binary Logistic Regression With Lasso Penalty"
   ]
  },
  {
   "cell_type": "markdown",
   "id": "29d37b9b",
   "metadata": {},
   "source": [
    "# 4. Benefits & Drawbacks of using PCA for Dimensionality Reduction"
   ]
  },
  {
   "cell_type": "markdown",
   "id": "5fbbc9b2",
   "metadata": {},
   "source": [
    "# 5. Classification"
   ]
  },
  {
   "cell_type": "markdown",
   "id": "e18b0f5d",
   "metadata": {},
   "source": [
    "### Setting Up Models"
   ]
  },
  {
   "cell_type": "code",
   "execution_count": 21,
   "id": "ae6fdb19",
   "metadata": {},
   "outputs": [
    {
     "name": "stdout",
     "output_type": "stream",
     "text": [
      "0.7032051282051281\n",
      "{}\n",
      "0.7352564102564102\n",
      "{'C': 61.58482110660255}\n"
     ]
    }
   ],
   "source": [
    "svm = SVC(kernel=\"linear\")\n",
    "lasso = LogisticRegression(\n",
    "    penalty='l1', \n",
    "    solver='liblinear',\n",
    "    random_state=69)\n",
    "\n",
    "# search space based on https://ai-ml-analytics.com/Jupyter_notebook/Blog%20-%2020%20-%20Hyperparameter%20tuning%20using%20Ridge%20and%20Lasso%20Regression.html\n",
    "# search_space = [1e-15,1e-10,1e-8,1e-3,1e-2,1,5,10,20,30,35,40,45,50,55,100]\n",
    "search_space = np.logspace(-3, 4, 20)\n",
    "hyperparams_lasso = {\n",
    "    'C': search_space # lambda hyperparameter\n",
    "}\n",
    "\n",
    "kfolds = 10\n",
    "lassoGrid = GridSearchCV(lasso, hyperparams_lasso, cv=kfolds, scoring=\"accuracy\", n_jobs=-1)\n",
    "svmGrid = GridSearchCV(svm, {}, cv=kfolds, scoring='accuracy', n_jobs=-1)\n",
    "\n",
    "svmGrid.fit(X, Y.to_numpy().ravel())\n",
    "print(svmGrid.best_score_)\n",
    "print(svmGrid.best_params_)\n",
    "\n",
    "lassoGrid.fit(X, Y.to_numpy().ravel())\n",
    "print(lassoGrid.best_score_)\n",
    "print(lassoGrid.best_params_)"
   ]
  },
  {
   "cell_type": "code",
   "execution_count": 22,
   "id": "95f1f52f",
   "metadata": {},
   "outputs": [
    {
     "data": {
      "text/plain": [
       "array([1.00000000e-03, 2.33572147e-03, 5.45559478e-03, 1.27427499e-02,\n",
       "       2.97635144e-02, 6.95192796e-02, 1.62377674e-01, 3.79269019e-01,\n",
       "       8.85866790e-01, 2.06913808e+00, 4.83293024e+00, 1.12883789e+01,\n",
       "       2.63665090e+01, 6.15848211e+01, 1.43844989e+02, 3.35981829e+02,\n",
       "       7.84759970e+02, 1.83298071e+03, 4.28133240e+03, 1.00000000e+04])"
      ]
     },
     "execution_count": 22,
     "metadata": {},
     "output_type": "execute_result"
    }
   ],
   "source": [
    "search_space"
   ]
  },
  {
   "cell_type": "code",
   "execution_count": 23,
   "id": "5375296a",
   "metadata": {},
   "outputs": [
    {
     "name": "stdout",
     "output_type": "stream",
     "text": [
      "0.7352564102564102\n",
      "{'C': 61.58482110660255}\n",
      "0.7032051282051281\n",
      "{}\n"
     ]
    }
   ],
   "source": [
    "print(lassoGrid.best_score_)\n",
    "print(lassoGrid.best_params_)\n",
    "print(svmGrid.best_score_)\n",
    "print(svmGrid.best_params_)"
   ]
  },
  {
   "cell_type": "code",
   "execution_count": 24,
   "id": "1d859be6",
   "metadata": {},
   "outputs": [],
   "source": [
    "lassoFinal = lassoGrid.best_estimator_\n",
    "svmFinal = svmGrid.best_estimator_"
   ]
  },
  {
   "cell_type": "markdown",
   "id": "bd45f488",
   "metadata": {},
   "source": [
    "## b. CV-based Error Rate Estimates"
   ]
  },
  {
   "cell_type": "markdown",
   "id": "424b7175",
   "metadata": {},
   "source": [
    "### Error Rates"
   ]
  },
  {
   "cell_type": "code",
   "execution_count": 25,
   "id": "be315d33",
   "metadata": {},
   "outputs": [],
   "source": [
    "lasso.set_params(C=lassoGrid.best_params_['C'])\n",
    "pred_lasso_cv = cross_val_predict(lasso, X, Y.to_numpy().ravel(), cv=kfolds, n_jobs=-1)\n",
    "pred_svm_cv = cross_val_predict(svm, X, Y.to_numpy().ravel(), cv=kfolds, n_jobs=-1)\n",
    "pred_lasso_final = lassoFinal.predict(X)\n",
    "pred_svm_final = svmFinal.predict(X)"
   ]
  },
  {
   "cell_type": "code",
   "execution_count": 26,
   "id": "67c8c75d",
   "metadata": {},
   "outputs": [
    {
     "name": "stdout",
     "output_type": "stream",
     "text": [
      "Lasso CV Error Estimates\n",
      "              precision    recall  f1-score   support\n",
      "\n",
      "      cancer       0.82      0.67      0.74        67\n",
      "      normal       0.67      0.81      0.73        54\n",
      "\n",
      "    accuracy                           0.74       121\n",
      "   macro avg       0.74      0.74      0.74       121\n",
      "weighted avg       0.75      0.74      0.74       121\n",
      "\n",
      "SVM CV Error Estimates\n",
      "              precision    recall  f1-score   support\n",
      "\n",
      "      cancer       0.74      0.72      0.73        67\n",
      "      normal       0.66      0.69      0.67        54\n",
      "\n",
      "    accuracy                           0.70       121\n",
      "   macro avg       0.70      0.70      0.70       121\n",
      "weighted avg       0.70      0.70      0.70       121\n",
      "\n",
      "Lasso Final Classifier Accuracy\n",
      "1.0\n",
      "SVM Final Classifier Accuracy\n",
      "1.0\n"
     ]
    }
   ],
   "source": [
    "print(\"Lasso CV Error Estimates\\n\" + classification_report(Y, pred_lasso_cv))\n",
    "print(\"SVM CV Error Estimates\\n\" + classification_report(Y, pred_svm_cv))\n",
    "print(\"Lasso Final Classifier Accuracy\\n\" + str(accuracy_score(Y, pred_lasso_final)))\n",
    "print(\"SVM Final Classifier Accuracy\\n\" + str(accuracy_score(Y, pred_svm_final)))\n",
    "\n",
    "# save to tex\n",
    "def save_report(pred, filename):\n",
    "    report = classification_report(Y, pred, output_dict=True)\n",
    "    df = pd.DataFrame(report).T.drop(['weighted avg', 'macro avg'])\n",
    "    df.to_latex('supplementary/' + filename)\n",
    "\n",
    "save_report(pred_lasso_cv, 'LassoReport.tex')\n",
    "save_report(pred_svm_cv, 'SVMReport.tex')"
   ]
  },
  {
   "cell_type": "markdown",
   "id": "f032ae07",
   "metadata": {},
   "source": [
    "## a. Characterisation of Each Class"
   ]
  },
  {
   "cell_type": "markdown",
   "id": "0dba2eed",
   "metadata": {},
   "source": [
    "### Confusion Matrices"
   ]
  },
  {
   "cell_type": "code",
   "execution_count": 45,
   "id": "bc9230a4",
   "metadata": {},
   "outputs": [],
   "source": [
    "def plot_confusion_matrix(truth, pred, title: str):\n",
    "    ax = plt.subplot()\n",
    "\n",
    "    cmatrix = sns.heatmap(confusion_matrix(truth, pred), annot=True, fmt='d')\n",
    "    ax.set_title(title)\n",
    "    ax.xaxis.set_ticklabels(CLASSNAMES.keys())\n",
    "    ax.yaxis.set_ticklabels(CLASSNAMES.keys())\n",
    "    ax.set_xlabel(\"Predicted Diagnosis\")\n",
    "    ax.set_ylabel(\"Actual Diagnosis\")\n",
    "    cmatrix.plot()\n",
    "    plt.savefig(\"figures/\"+title.replace(\" \", \"_\"))\n",
    "    plt.show()\n",
    "    plt.clf()"
   ]
  },
  {
   "cell_type": "code",
   "execution_count": 46,
   "id": "2c5e6e9d",
   "metadata": {},
   "outputs": [
    {
     "data": {
      "image/png": "[encoded data removed]",
      "text/plain": [
       "<Figure size 640x480 with 2 Axes>"
      ]
     },
     "metadata": {},
     "output_type": "display_data"
    },
    {
     "data": {
      "image/png": "[encoded data removed]",
      "text/plain": [
       "<Figure size 640x480 with 2 Axes>"
      ]
     },
     "metadata": {},
     "output_type": "display_data"
    },
    {
     "data": {
      "text/plain": [
       "<Figure size 640x480 with 0 Axes>"
      ]
     },
     "metadata": {},
     "output_type": "display_data"
    }
   ],
   "source": [
    "plot_confusion_matrix(\n",
    "    Y['label'], \n",
    "    pred_lasso_cv,\n",
    "    \"Lasso Logistic Regression Classifier CV Confusion Matrix\")\n",
    "\n",
    "plot_confusion_matrix(\n",
    "    Y['label'], \n",
    "    pred_svm_cv,\n",
    "    \"SVM (Linear Kernel) CV Confusion Matrix\")"
   ]
  },
  {
   "cell_type": "markdown",
   "id": "42068c8d",
   "metadata": {},
   "source": [
    "## c. Finding The Optimal Value of λ"
   ]
  },
  {
   "cell_type": "code",
   "execution_count": 29,
   "id": "2a76946d",
   "metadata": {},
   "outputs": [
    {
     "data": {
      "image/png": "[encoded data removed]",
      "text/plain": [
       "<Figure size 640x480 with 1 Axes>"
      ]
     },
     "metadata": {},
     "output_type": "display_data"
    }
   ],
   "source": [
    "# adapted from: https://stackoverflow.com/a/43645640\n",
    "def plot_grid_search(cv_results, search_space):\n",
    "    # Get Test Scores Mean and std for each grid search\n",
    "    scores_mean = cv_results['mean_test_score']\n",
    "    scores_mean = np.array(scores_mean)\n",
    "\n",
    "    # Plot Grid search scores\n",
    "    _, ax = plt.subplots(1,1)\n",
    "\n",
    "    # Param1 is the X-axis, Param 2 is represented as a different curve (color line)\n",
    "    ax.plot(search_space, scores_mean, '-o')\n",
    "\n",
    "    ax.set_title(\"Lambda versus CV Accuracy Score\", fontsize=16)\n",
    "    ax.set_xlabel(\"Lambda\", fontsize=16)\n",
    "    ax.set_ylabel('CV Average Accuracy', fontsize=16)\n",
    "    ax.set_xscale('log')\n",
    "    ax.grid('on')\n",
    "\n",
    "    plt.savefig(\"figures/\"+ax.get_title().replace(\" \", \"_\"))\n",
    "\n",
    "# Calling Method \n",
    "plot_grid_search(lassoGrid.cv_results_, search_space) "
   ]
  },
  {
   "cell_type": "markdown",
   "id": "d58099bf",
   "metadata": {},
   "source": [
    "### Gene Importance"
   ]
  },
  {
   "cell_type": "code",
   "execution_count": 30,
   "id": "dfa11e3b",
   "metadata": {},
   "outputs": [],
   "source": [
    "# np.nonzero(lassoFinal.coef_)[1]\n",
    "def get_gene_importance(clf):\n",
    "    df_coef = features.copy()\n",
    "    df_coef['coef'] = clf.coef_[0]\n",
    "    df_coef['coef_abs'] = np.abs(df_coef['coef'])\n",
    "    df_coef.sort_values(by='coef_abs', inplace=True, ascending=False)\n",
    "    df_coef_nonzero = df_coef[df_coef['coef'] != 0]\n",
    "\n",
    "    return df_coef_nonzero['coef']\n",
    "\n",
    "\n",
    "gene_importance_lasso = get_gene_importance(lassoFinal)\n",
    "gene_importance_svm = get_gene_importance(svmFinal)"
   ]
  },
  {
   "cell_type": "code",
   "execution_count": 31,
   "id": "1e00f8e6",
   "metadata": {},
   "outputs": [],
   "source": [
    "gene_importance_lasso.to_csv('supplementary/GeneImportanceLasso', header=False)\n",
    "gene_importance_lasso.to_latex('supplementary/GeneImportanceLasso.tex')\n",
    "gene_importance_svm.head(50).to_csv('supplementary/GeneImportanceSVM', header=False)\n",
    "gene_importance_svm.head(50).to_latex('supplementary/GeneImportanceSVM.tex')"
   ]
  },
  {
   "cell_type": "markdown",
   "id": "fffb5412",
   "metadata": {},
   "source": [
    "# 6. Results Comparison"
   ]
  },
  {
   "cell_type": "code",
   "execution_count": 32,
   "id": "426c925b",
   "metadata": {},
   "outputs": [
    {
     "data": {
      "application/vnd.plotly.v1+json": {
       "config": {
        "plotlyServerURL": "https://plot.ly"
       },
       "data": [
        {
         "diagonal": {
          "visible": true
         },
         "dimensions": [
          {
           "axis": {
            "matches": true
           },
           "label": "105982",
           "values": [
            -0.6636186379783401,
            -1.4115387623173306,
            0.8677562772406338,
            1.8322686547818658,
            -0.07848112893665923,
            -0.6558348538788844,
            0.2951405078372075,
            0.6592862335334763,
            -0.8155716406155377,
            0.5899090274296332,
            0.09445424822950554,
            1.4826752210976226,
            2.5290865443809523,
            0.8359442900515545,
            0.0457209912590012,
            -0.5458466002996212,
            -0.020610386284185312,
            1.5977398556113136,
            1.7168655948725464,
            -0.13364446842410516,
            -0.08017325591480175,
            0.24471512388856068,
            -0.21554341416620273,
            1.6681323379020423,
            0.5987080877159743,
            -0.053437649660150056,
            0.2399771683497616,
            0.7811193759597371,
            -0.5647984224548174,
            0.7736740172559101,
            0.6359348812351096,
            1.3980688721904972,
            0.6481181954777356,
            -0.41149171823510566,
            0.3144307553880321,
            -0.7752990185357458,
            -0.1965915920110066,
            0.16890783526777606,
            -1.6013954092649203,
            -0.31267150271158295,
            3.295958490875139,
            -1.0152426240363541,
            0.11272921959344469,
            0.6613167859072473,
            -0.09269499555305634,
            0.26332852064812823,
            2.4783227350366768,
            0.28904885071589453,
            -1.5113742540277388,
            -0.5776585874887004,
            0.044028864280858684,
            -0.314702055085354,
            0.3462427425771114,
            0.5726493322525796
           ]
          },
          {
           "axis": {
            "matches": true
           },
           "label": "162796",
           "values": [
            -0.399819967153826,
            0.40366416687704465,
            1.9761864653947507,
            0.5353243171342467,
            -0.22554887679400235,
            -0.3947168605547096,
            0.2398544450454095,
            -0.7483621478734732,
            -0.33220380471553435,
            -1.4824440321563612,
            0.8984103516613755,
            0.4159116227149239,
            0.29267159834626383,
            0.32609694657047594,
            -1.0190819529565962,
            0.89203146841248,
            -0.4171705295908217,
            -0.5613332910158588,
            -0.17120079151341314,
            6.52943332845632,
            0.7657295800843502,
            0.4273936125629357,
            -0.2913789519226034,
            -0.28219336004419393,
            -0.05459480572360435,
            -0.00509467171217569,
            0.1314134298141869,
            -0.19569570318917168,
            0.4159116227149239,
            0.23271009580664662,
            0.3602877607845556,
            0.3151252673823758,
            -0.09006139658746305,
            -0.20513645039753695,
            0.4133600694153657,
            0.19443679631327393,
            -0.5618436016757704,
            0.8805494785644683,
            -0.7690297295998945,
            0.4268833019030241,
            0.988735338465735,
            -0.9279915001623691,
            0.298029860275336,
            -0.7874009133567135,
            -0.5054542737555345,
            -0.05025716511435545,
            0.27327979326962165,
            0.8708535760261472,
            5.145981129435876,
            -0.48197998339959935,
            -0.00917715699146877,
            -0.49601352654716935,
            0.4546952328682082,
            0.018379618643759567
           ]
          },
          {
           "axis": {
            "matches": true
           },
           "label": "710141",
           "values": [
            -1.0373610661793313,
            1.017923002692256,
            0.6710794955290047,
            2.456850979561105,
            -1.0725895974601574,
            -0.6547162060884115,
            0.08451012916208563,
            -1.6296586490146774,
            0.9494708158945543,
            0.13778254231845619,
            -0.07988968348176767,
            -0.8666602154202084,
            0.9403056695450712,
            0.8581057632231445,
            -0.5012000047345695,
            0.27440050509043884,
            0.9050771382642453,
            -0.3216204184493847,
            0.8323287891152231,
            1.0239376299841048,
            -0.09020047312493618,
            -0.6160507449265298,
            -0.3433876410294071,
            -1.2716451197379937,
            -1.2031929329402915,
            0.29989106837493873,
            0.9322861664892734,
            -0.5928514682294005,
            2.648459820429986,
            2.263237262928274,
            -1.3432478255933302,
            0.5757046913296961,
            0.49722812571224695,
            1.671798912563192,
            1.2722558138904128,
            0.37979968810949466,
            -0.15550214086500336,
            1.0783556864341604,
            1.0605982153820368,
            0.25778867733200067,
            0.44481494502614044,
            -0.21392994884295818,
            -1.5826872739735764,
            -1.7004021223997503,
            -0.3250573483304409,
            -0.7031196352466192,
            0.7317985900943302,
            0.4307808146784944,
            0.2620848396833209,
            -0.4261603689981765,
            0.9345774530766443,
            1.6583376038623885,
            1.1150162718320928,
            -0.3640092203157441
           ]
          },
          {
           "axis": {
            "matches": true
           },
           "label": "229944",
           "values": [
            -0.5516650144195216,
            -1.834948581435487,
            -1.6698160792086154,
            -0.699582931472163,
            0.8765079778128775,
            0.8401660757783924,
            -0.9711908308877889,
            -1.3959766594926264,
            -0.4989054987466507,
            -0.7864528288791559,
            -1.3201049692802802,
            0.1182692586109218,
            -0.8824082017947704,
            -0.027735926755693984,
            0.32452549208734194,
            -0.3929082844794023,
            -1.7724660130253191,
            1.0473786750978253,
            1.0201222485719614,
            0.5760497087996997,
            -1.9412645843170728,
            -2.168242077725436,
            0.23478649715131067,
            0.27335991948615895,
            -1.143974259858762,
            0.31496183365721425,
            0.5346071889358132,
            -0.6975108054789687,
            0.5719054568133111,
            -1.1536973125960586,
            0.010837495579154295,
            0.23143921670076592,
            -0.3254844925470022,
            0.5551690545605876,
            1.3446490579676271,
            -1.7861739234418355,
            -0.5301467829517345,
            0.8822461728709541,
            1.3722242731078285,
            -1.2820097298669382,
            -1.7799575454622527,
            0.4917301203074074,
            1.1310606863614425,
            0.21964403797027518,
            0.14393174206509773,
            0.38573290604015914,
            1.1149618613373942,
            0.13452747794213887,
            1.8389308044980588,
            -1.1884452715588558,
            -0.1649744252280261,
            0.480413124498423,
            -0.348915455700815,
            -1.5214199792344676
           ]
          },
          {
           "axis": {
            "matches": true
           },
           "label": "182204",
           "values": [
            -0.713706269015695,
            -0.7455642380342505,
            -1.1724610228828947,
            -0.12645770677365473,
            -0.6441497033251821,
            0.9529964768050685,
            -0.6053891743526062,
            -0.15884664194251952,
            0.8887495726176482,
            0.9747660889677481,
            0.671053450990852,
            0.5829130700395151,
            0.3875175267257079,
            -0.05796307338376033,
            -1.558473414157726,
            -0.9239688645381615,
            -0.5448590332173506,
            1.1712235645821738,
            0.7464506443347667,
            0.1427421314331395,
            -0.7572454933410542,
            0.1076983655127284,
            -0.037786359672008496,
            0.1013267717090173,
            -0.36698537286374894,
            -0.41264846179034514,
            0.732645524426726,
            2.2798808864279065,
            -1.3429011571321667,
            -0.41052459718910816,
            0.35990728690962637,
            0.33229704709354496,
            0.5834440361898243,
            0.03230117216881367,
            2.0749279524085322,
            0.9673325628634185,
            1.3198940866687663,
            -0.1848639833076732,
            0.2691120752067431,
            -0.8076872776204338,
            -0.642025838723945,
            1.0209601440446536,
            0.16026401439334503,
            0.6333548543188947,
            0.5377809472632281,
            -0.6128227004569358,
            0.4172516311430263,
            -0.5836195621899265,
            1.8821872398462713,
            0.9869783104248611,
            -0.48273599363116737,
            1.9910353006596695,
            -0.734413948877756,
            -0.7057417767610561
           ]
          }
         ],
         "hovertemplate": "color=normal<br>%{xaxis.title.text}=%{x}<br>%{yaxis.title.text}=%{y}<extra></extra>",
         "legendgroup": "normal",
         "marker": {
          "color": "#1F77B4",
          "opacity": 0.8,
          "symbol": "circle"
         },
         "name": "normal",
         "showlegend": true,
         "type": "splom"
        },
        {
         "diagonal": {
          "visible": true
         },
         "dimensions": [
          {
           "axis": {
            "matches": true
           },
           "label": "105982",
           "values": [
            -0.7901897359433999,
            -0.5255410765619111,
            -0.31165622652469743,
            -0.36952696917717137,
            -0.8802108911805817,
            -0.7939124152953134,
            0.20478092720439736,
            0.6501487478515066,
            0.6190136114536844,
            -0.6920463712111343,
            0.8674178518450053,
            -0.8423072468701894,
            0.5851710718908342,
            -1.271092223131502,
            -0.7976350946472271,
            0.24234614611916114,
            0.37940843134870467,
            1.4809830941194804,
            0.02169278816937749,
            -0.5319711590788526,
            -0.18576197935089453,
            -1.0778513222276271,
            0.1712768130371756,
            -1.2426644898987078,
            -0.5983025366220391,
            -1.1039100776910218,
            -0.6565117046701415,
            -0.6659876157477395,
            -1.3973248957009334,
            -1.026072236696466,
            -1.1127091379773628,
            -2.10328027098199,
            -0.2351720871126559,
            -1.1800557917074348,
            3.0397704663843625,
            0.8596340677455496,
            0.3063085458929481,
            -0.840615119892047,
            -1.281244985000357,
            1.1875682761095687,
            -0.9692167702308778,
            -0.4707161624700937,
            0.19970454626996983,
            0.5286540308208743,
            -1.098156845965337,
            -2.1022649947951044,
            -0.8731039578723832,
            0.03421452780763211,
            0.14657175915629492,
            0.4572462723432602,
            1.0667504098701932,
            -2.5628619582454966,
            0.19936612087434133,
            0.3811005583268472,
            -0.594241431874497,
            0.5777257131870072,
            0.05452005154534223,
            0.8596340677455496,
            -0.6774940791991086,
            0.2602826920874718,
            1.0633661559139083,
            1.4792909671413377,
            -0.22908042999134284,
            -0.39118619449739556,
            -1.5049441715107972,
            0.6565788303684482,
            -0.6277455460417188
           ]
          },
          {
           "axis": {
            "matches": true
           },
           "label": "162796",
           "values": [
            -0.5373486900000118,
            -0.0038188950623965993,
            0.5274145019056163,
            0.6925000003870305,
            0.5215459293166325,
            -1.1300745214873769,
            0.23066885316700006,
            -0.3319486493855784,
            -1.9026848605935933,
            -0.02652771942846439,
            0.5299660552051745,
            0.1398335557027289,
            0.7976239963288275,
            -0.8249087468602188,
            0.8859077404935404,
            0.042109064329650635,
            1.079825791259962,
            -0.052043252424046185,
            -0.8389422900077887,
            -0.19977818846846473,
            0.31742166535197813,
            -0.7419832646245778,
            -1.453356324541398,
            0.11916597397630765,
            -0.6547201417796882,
            -0.11710786156277975,
            -1.4658589357092333,
            -0.24238912857108635,
            0.4128497587554541,
            -0.6983517032021329,
            -0.5656709316251076,
            -1.0703681742777156,
            -1.2482114392569206,
            -0.19263383922970184,
            -0.3306728727357993,
            -0.8141922230020744,
            0.3000711029149825,
            1.0441040450661474,
            0.4388756024109475,
            -0.27683509811512175,
            -0.7358595367056383,
            -0.36027089101067417,
            0.15922536077937105,
            0.2794035211885613,
            -0.4148741316212193,
            -0.29163410725255917,
            0.13957840037277308,
            0.8902453811027894,
            -0.20590191638740438,
            -0.16839408288389915,
            -1.3171033783449915,
            0.4125946034254983,
            -1.3658380463665527,
            0.22964823184717684,
            -0.5746013681735612,
            -0.34164455192389953,
            -0.8024550778241066,
            -0.19008228593014367,
            -0.08980624125750722,
            -0.5827663387321476,
            0.3607980714444672,
            0.42203535063386355,
            -0.3482785905027508,
            0.18882337905424593,
            -0.08011033871918614,
            0.4600534947972803,
            -1.690395626070353
           ]
          },
          {
           "axis": {
            "matches": true
           },
           "label": "710141",
           "values": [
            0.3087698039010005,
            -0.10394819264916084,
            0.9932916718780204,
            0.49780094735908964,
            1.3074843451712383,
            -0.20104146178899754,
            -0.7890428822730232,
            -1.49418632953638,
            -1.1444787141389154,
            -0.29240651446040733,
            0.16155464066242803,
            -1.0786042247520056,
            0.43736826361718545,
            0.4425236584387696,
            0.4746016706619605,
            -0.4009562165370979,
            0.6507443270660891,
            0.49149990924382,
            -0.22939613330771091,
            -0.009719031743537613,
            -0.3316447972691319,
            -1.2999997912567067,
            -0.8079459966188324,
            0.2033706208819447,
            -1.404253330982077,
            0.6825359284658586,
            -0.32992633232860386,
            0.25578380156805125,
            -1.0786042247520056,
            -1.8605057726922831,
            -0.0813217375988744,
            -0.2717849351740703,
            -1.6892321002863178,
            -2.7326267300102853,
            -0.20963378649163797,
            -1.935545408428676,
            0.7684591754922628,
            0.8755768234518466,
            0.12460764444107422,
            -0.1320164533444529,
            0.2251378434619671,
            -1.6817854188773624,
            1.5303119657930464,
            -0.2958434443414635,
            -1.7029798198105424,
            -0.9740642742032138,
            -1.2621935625650889,
            0.1687149112479617,
            0.24203608204382662,
            -0.8179703754385793,
            -1.9215112780810302,
            1.133346564531059,
            0.1226027686771248,
            0.24776429851225357,
            1.7136148927827088,
            -1.0095792163074608,
            -1.6585861421802335,
            -0.09564227876994177,
            0.11601531973843382,
            1.1153026826555141,
            0.31993982601443305,
            0.6318412127202802,
            0.9669418761232564,
            0.22828836251960194,
            0.8248821077062681,
            0.4559849671395729,
            1.0388309928020147
           ]
          },
          {
           "axis": {
            "matches": true
           },
           "label": "229944",
           "values": [
            0.9424972209807584,
            -0.32819419576887165,
            0.9589148346191442,
            1.4450674714839675,
            -0.16577139676387007,
            0.5954958142742928,
            0.9211383838201399,
            -0.7839025199644553,
            -1.2031095478183849,
            0.8199229987679554,
            0.5221744329766471,
            -0.27766620039636386,
            2.191032829033926,
            -0.09484093007375649,
            -1.2577817951772814,
            0.32882913838089944,
            2.1205805452653186,
            -0.32325297224663907,
            0.9807518547012691,
            0.17166635151246798,
            0.6498492730188516,
            -0.8761918238151873,
            -1.508668434660964,
            1.1116145808868496,
            0.5940612655097736,
            0.7075500122139553,
            0.8012738648292064,
            -0.25455402585688863,
            0.22857011917172768,
            0.9992415943328493,
            -1.5325775807362831,
            -1.1085887236672898,
            -0.9995630175638343,
            0.6804529799952601,
            0.3543322275279065,
            0.23924953775203686,
            -0.3470027240147895,
            1.4241868172448557,
            0.7429355484054276,
            -1.7609896229091657,
            0.5515029854957054,
            1.1434934423206082,
            -1.644472384368777,
            -1.03319521637645,
            1.036699256517516,
            -0.3243687323968206,
            0.4853543480206557,
            -0.32357176086097666,
            -1.587887405323855,
            -0.964177481372362,
            1.8024295081564048,
            -1.6688597133656027,
            0.6979863537838276,
            1.7823458254531368,
            -0.14935378312548422,
            1.0512041384698763,
            -0.3758530936123413,
            -0.3747373334621597,
            0.517711392375921,
            0.44263667369941867,
            -0.5033685393473769,
            -0.43227867835009454,
            0.7953762754639611,
            0.5660078674480657,
            0.865190982003893,
            0.8561055064952718,
            0.8455854822221314
           ]
          },
          {
           "axis": {
            "matches": true
           },
           "label": "182204",
           "values": [
            -1.0089234485876428,
            2.0627157309514197,
            -0.43070131090085995,
            1.8588247292326638,
            -0.8645006557035244,
            -0.13176736827674732,
            0.7055662507609539,
            -0.37123310206622306,
            -0.6367161772208524,
            -0.37654276356931554,
            0.32380158868859676,
            0.2457495645931357,
            0.7517603058378594,
            0.6630889587362132,
            1.5938726202283438,
            -0.962198427360428,
            1.552988226654531,
            1.3013102714079423,
            0.8393697206388872,
            0.2287586477832394,
            -0.6983082506567264,
            0.20805096792117836,
            -0.664326417036934,
            -0.3829143573730267,
            -0.21937678307777503,
            1.6023680786332921,
            0.3232706225382875,
            -0.012830950607473334,
            -0.00008776300005112208,
            -0.3112339270812768,
            -0.7269804227734264,
            -1.9800605375032772,
            -0.7938821577123931,
            -0.8809606063631116,
            0.9333507292436259,
            -0.30911006248003975,
            -1.854221559879983,
            -0.42061295404498406,
            0.6806108416964187,
            -0.2830927211148861,
            0.8622012651021852,
            1.6485621337101977,
            -0.8241472282800207,
            1.0639684022197036,
            1.3198940866687663,
            0.3296422163419986,
            -0.32291518238808053,
            -1.932273583975444,
            0.4549502278149837,
            0.5319403196098262,
            -0.09884746695757328,
            -0.6144155989078636,
            -2.0602364261999755,
            -1.3386534279296924,
            -2.4834164479964547,
            -1.523960614387624,
            -1.9041323780090533,
            -0.6505212971288932,
            -0.46202831376910625,
            1.1165340511003201,
            1.1876835152417609,
            -0.8915799293692968,
            -0.009114187555308522,
            -0.9181282368847595,
            0.5553028302234336,
            0.3094655026302468,
            -2.875800433074997
           ]
          }
         ],
         "hovertemplate": "color=cancer<br>%{xaxis.title.text}=%{x}<br>%{yaxis.title.text}=%{y}<extra></extra>",
         "legendgroup": "cancer",
         "marker": {
          "color": "#FF7F0E",
          "opacity": 0.8,
          "symbol": "circle"
         },
         "name": "cancer",
         "showlegend": true,
         "type": "splom"
        }
       ],
       "layout": {
        "dragmode": "select",
        "height": 720,
        "legend": {
         "title": {
          "text": "color"
         },
         "tracegroupgap": 0
        },
        "template": {
         "data": {
          "bar": [
           {
            "error_x": {
             "color": "#2a3f5f"
            },
            "error_y": {
             "color": "#2a3f5f"
            },
            "marker": {
             "line": {
              "color": "#E5ECF6",
              "width": 0.5
             },
             "pattern": {
              "fillmode": "overlay",
              "size": 10,
              "solidity": 0.2
             }
            },
            "type": "bar"
           }
          ],
          "barpolar": [
           {
            "marker": {
             "line": {
              "color": "#E5ECF6",
              "width": 0.5
             },
             "pattern": {
              "fillmode": "overlay",
              "size": 10,
              "solidity": 0.2
             }
            },
            "type": "barpolar"
           }
          ],
          "carpet": [
           {
            "aaxis": {
             "endlinecolor": "#2a3f5f",
             "gridcolor": "white",
             "linecolor": "white",
             "minorgridcolor": "white",
             "startlinecolor": "#2a3f5f"
            },
            "baxis": {
             "endlinecolor": "#2a3f5f",
             "gridcolor": "white",
             "linecolor": "white",
             "minorgridcolor": "white",
             "startlinecolor": "#2a3f5f"
            },
            "type": "carpet"
           }
          ],
          "choropleth": [
           {
            "colorbar": {
             "outlinewidth": 0,
             "ticks": ""
            },
            "type": "choropleth"
           }
          ],
          "contour": [
           {
            "colorbar": {
             "outlinewidth": 0,
             "ticks": ""
            },
            "colorscale": [
             [
              0,
              "#0d0887"
             ],
             [
              0.1111111111111111,
              "#46039f"
             ],
             [
              0.2222222222222222,
              "#7201a8"
             ],
             [
              0.3333333333333333,
              "#9c179e"
             ],
             [
              0.4444444444444444,
              "#bd3786"
             ],
             [
              0.5555555555555556,
              "#d8576b"
             ],
             [
              0.6666666666666666,
              "#ed7953"
             ],
             [
              0.7777777777777778,
              "#fb9f3a"
             ],
             [
              0.8888888888888888,
              "#fdca26"
             ],
             [
              1,
              "#f0f921"
             ]
            ],
            "type": "contour"
           }
          ],
          "contourcarpet": [
           {
            "colorbar": {
             "outlinewidth": 0,
             "ticks": ""
            },
            "type": "contourcarpet"
           }
          ],
          "heatmap": [
           {
            "colorbar": {
             "outlinewidth": 0,
             "ticks": ""
            },
            "colorscale": [
             [
              0,
              "#0d0887"
             ],
             [
              0.1111111111111111,
              "#46039f"
             ],
             [
              0.2222222222222222,
              "#7201a8"
             ],
             [
              0.3333333333333333,
              "#9c179e"
             ],
             [
              0.4444444444444444,
              "#bd3786"
             ],
             [
              0.5555555555555556,
              "#d8576b"
             ],
             [
              0.6666666666666666,
              "#ed7953"
             ],
             [
              0.7777777777777778,
              "#fb9f3a"
             ],
             [
              0.8888888888888888,
              "#fdca26"
             ],
             [
              1,
              "#f0f921"
             ]
            ],
            "type": "heatmap"
           }
          ],
          "heatmapgl": [
           {
            "colorbar": {
             "outlinewidth": 0,
             "ticks": ""
            },
            "colorscale": [
             [
              0,
              "#0d0887"
             ],
             [
              0.1111111111111111,
              "#46039f"
             ],
             [
              0.2222222222222222,
              "#7201a8"
             ],
             [
              0.3333333333333333,
              "#9c179e"
             ],
             [
              0.4444444444444444,
              "#bd3786"
             ],
             [
              0.5555555555555556,
              "#d8576b"
             ],
             [
              0.6666666666666666,
              "#ed7953"
             ],
             [
              0.7777777777777778,
              "#fb9f3a"
             ],
             [
              0.8888888888888888,
              "#fdca26"
             ],
             [
              1,
              "#f0f921"
             ]
            ],
            "type": "heatmapgl"
           }
          ],
          "histogram": [
           {
            "marker": {
             "pattern": {
              "fillmode": "overlay",
              "size": 10,
              "solidity": 0.2
             }
            },
            "type": "histogram"
           }
          ],
          "histogram2d": [
           {
            "colorbar": {
             "outlinewidth": 0,
             "ticks": ""
            },
            "colorscale": [
             [
              0,
              "#0d0887"
             ],
             [
              0.1111111111111111,
              "#46039f"
             ],
             [
              0.2222222222222222,
              "#7201a8"
             ],
             [
              0.3333333333333333,
              "#9c179e"
             ],
             [
              0.4444444444444444,
              "#bd3786"
             ],
             [
              0.5555555555555556,
              "#d8576b"
             ],
             [
              0.6666666666666666,
              "#ed7953"
             ],
             [
              0.7777777777777778,
              "#fb9f3a"
             ],
             [
              0.8888888888888888,
              "#fdca26"
             ],
             [
              1,
              "#f0f921"
             ]
            ],
            "type": "histogram2d"
           }
          ],
          "histogram2dcontour": [
           {
            "colorbar": {
             "outlinewidth": 0,
             "ticks": ""
            },
            "colorscale": [
             [
              0,
              "#0d0887"
             ],
             [
              0.1111111111111111,
              "#46039f"
             ],
             [
              0.2222222222222222,
              "#7201a8"
             ],
             [
              0.3333333333333333,
              "#9c179e"
             ],
             [
              0.4444444444444444,
              "#bd3786"
             ],
             [
              0.5555555555555556,
              "#d8576b"
             ],
             [
              0.6666666666666666,
              "#ed7953"
             ],
             [
              0.7777777777777778,
              "#fb9f3a"
             ],
             [
              0.8888888888888888,
              "#fdca26"
             ],
             [
              1,
              "#f0f921"
             ]
            ],
            "type": "histogram2dcontour"
           }
          ],
          "mesh3d": [
           {
            "colorbar": {
             "outlinewidth": 0,
             "ticks": ""
            },
            "type": "mesh3d"
           }
          ],
          "parcoords": [
           {
            "line": {
             "colorbar": {
              "outlinewidth": 0,
              "ticks": ""
             }
            },
            "type": "parcoords"
           }
          ],
          "pie": [
           {
            "automargin": true,
            "type": "pie"
           }
          ],
          "scatter": [
           {
            "fillpattern": {
             "fillmode": "overlay",
             "size": 10,
             "solidity": 0.2
            },
            "type": "scatter"
           }
          ],
          "scatter3d": [
           {
            "line": {
             "colorbar": {
              "outlinewidth": 0,
              "ticks": ""
             }
            },
            "marker": {
             "colorbar": {
              "outlinewidth": 0,
              "ticks": ""
             }
            },
            "type": "scatter3d"
           }
          ],
          "scattercarpet": [
           {
            "marker": {
             "colorbar": {
              "outlinewidth": 0,
              "ticks": ""
             }
            },
            "type": "scattercarpet"
           }
          ],
          "scattergeo": [
           {
            "marker": {
             "colorbar": {
              "outlinewidth": 0,
              "ticks": ""
             }
            },
            "type": "scattergeo"
           }
          ],
          "scattergl": [
           {
            "marker": {
             "colorbar": {
              "outlinewidth": 0,
              "ticks": ""
             }
            },
            "type": "scattergl"
           }
          ],
          "scattermapbox": [
           {
            "marker": {
             "colorbar": {
              "outlinewidth": 0,
              "ticks": ""
             }
            },
            "type": "scattermapbox"
           }
          ],
          "scatterpolar": [
           {
            "marker": {
             "colorbar": {
              "outlinewidth": 0,
              "ticks": ""
             }
            },
            "type": "scatterpolar"
           }
          ],
          "scatterpolargl": [
           {
            "marker": {
             "colorbar": {
              "outlinewidth": 0,
              "ticks": ""
             }
            },
            "type": "scatterpolargl"
           }
          ],
          "scatterternary": [
           {
            "marker": {
             "colorbar": {
              "outlinewidth": 0,
              "ticks": ""
             }
            },
            "type": "scatterternary"
           }
          ],
          "surface": [
           {
            "colorbar": {
             "outlinewidth": 0,
             "ticks": ""
            },
            "colorscale": [
             [
              0,
              "#0d0887"
             ],
             [
              0.1111111111111111,
              "#46039f"
             ],
             [
              0.2222222222222222,
              "#7201a8"
             ],
             [
              0.3333333333333333,
              "#9c179e"
             ],
             [
              0.4444444444444444,
              "#bd3786"
             ],
             [
              0.5555555555555556,
              "#d8576b"
             ],
             [
              0.6666666666666666,
              "#ed7953"
             ],
             [
              0.7777777777777778,
              "#fb9f3a"
             ],
             [
              0.8888888888888888,
              "#fdca26"
             ],
             [
              1,
              "#f0f921"
             ]
            ],
            "type": "surface"
           }
          ],
          "table": [
           {
            "cells": {
             "fill": {
              "color": "#EBF0F8"
             },
             "line": {
              "color": "white"
             }
            },
            "header": {
             "fill": {
              "color": "#C8D4E3"
             },
             "line": {
              "color": "white"
             }
            },
            "type": "table"
           }
          ]
         },
         "layout": {
          "annotationdefaults": {
           "arrowcolor": "#2a3f5f",
           "arrowhead": 0,
           "arrowwidth": 1
          },
          "autotypenumbers": "strict",
          "coloraxis": {
           "colorbar": {
            "outlinewidth": 0,
            "ticks": ""
           }
          },
          "colorscale": {
           "diverging": [
            [
             0,
             "#8e0152"
            ],
            [
             0.1,
             "#c51b7d"
            ],
            [
             0.2,
             "#de77ae"
            ],
            [
             0.3,
             "#f1b6da"
            ],
            [
             0.4,
             "#fde0ef"
            ],
            [
             0.5,
             "#f7f7f7"
            ],
            [
             0.6,
             "#e6f5d0"
            ],
            [
             0.7,
             "#b8e186"
            ],
            [
             0.8,
             "#7fbc41"
            ],
            [
             0.9,
             "#4d9221"
            ],
            [
             1,
             "#276419"
            ]
           ],
           "sequential": [
            [
             0,
             "#0d0887"
            ],
            [
             0.1111111111111111,
             "#46039f"
            ],
            [
             0.2222222222222222,
             "#7201a8"
            ],
            [
             0.3333333333333333,
             "#9c179e"
            ],
            [
             0.4444444444444444,
             "#bd3786"
            ],
            [
             0.5555555555555556,
             "#d8576b"
            ],
            [
             0.6666666666666666,
             "#ed7953"
            ],
            [
             0.7777777777777778,
             "#fb9f3a"
            ],
            [
             0.8888888888888888,
             "#fdca26"
            ],
            [
             1,
             "#f0f921"
            ]
           ],
           "sequentialminus": [
            [
             0,
             "#0d0887"
            ],
            [
             0.1111111111111111,
             "#46039f"
            ],
            [
             0.2222222222222222,
             "#7201a8"
            ],
            [
             0.3333333333333333,
             "#9c179e"
            ],
            [
             0.4444444444444444,
             "#bd3786"
            ],
            [
             0.5555555555555556,
             "#d8576b"
            ],
            [
             0.6666666666666666,
             "#ed7953"
            ],
            [
             0.7777777777777778,
             "#fb9f3a"
            ],
            [
             0.8888888888888888,
             "#fdca26"
            ],
            [
             1,
             "#f0f921"
            ]
           ]
          },
          "colorway": [
           "#636efa",
           "#EF553B",
           "#00cc96",
           "#ab63fa",
           "#FFA15A",
           "#19d3f3",
           "#FF6692",
           "#B6E880",
           "#FF97FF",
           "#FECB52"
          ],
          "font": {
           "color": "#2a3f5f"
          },
          "geo": {
           "bgcolor": "white",
           "lakecolor": "white",
           "landcolor": "#E5ECF6",
           "showlakes": true,
           "showland": true,
           "subunitcolor": "white"
          },
          "hoverlabel": {
           "align": "left"
          },
          "hovermode": "closest",
          "mapbox": {
           "style": "light"
          },
          "paper_bgcolor": "white",
          "plot_bgcolor": "#E5ECF6",
          "polar": {
           "angularaxis": {
            "gridcolor": "white",
            "linecolor": "white",
            "ticks": ""
           },
           "bgcolor": "#E5ECF6",
           "radialaxis": {
            "gridcolor": "white",
            "linecolor": "white",
            "ticks": ""
           }
          },
          "scene": {
           "xaxis": {
            "backgroundcolor": "#E5ECF6",
            "gridcolor": "white",
            "gridwidth": 2,
            "linecolor": "white",
            "showbackground": true,
            "ticks": "",
            "zerolinecolor": "white"
           },
           "yaxis": {
            "backgroundcolor": "#E5ECF6",
            "gridcolor": "white",
            "gridwidth": 2,
            "linecolor": "white",
            "showbackground": true,
            "ticks": "",
            "zerolinecolor": "white"
           },
           "zaxis": {
            "backgroundcolor": "#E5ECF6",
            "gridcolor": "white",
            "gridwidth": 2,
            "linecolor": "white",
            "showbackground": true,
            "ticks": "",
            "zerolinecolor": "white"
           }
          },
          "shapedefaults": {
           "line": {
            "color": "#2a3f5f"
           }
          },
          "ternary": {
           "aaxis": {
            "gridcolor": "white",
            "linecolor": "white",
            "ticks": ""
           },
           "baxis": {
            "gridcolor": "white",
            "linecolor": "white",
            "ticks": ""
           },
           "bgcolor": "#E5ECF6",
           "caxis": {
            "gridcolor": "white",
            "linecolor": "white",
            "ticks": ""
           }
          },
          "title": {
           "x": 0.05
          },
          "xaxis": {
           "automargin": true,
           "gridcolor": "white",
           "linecolor": "white",
           "ticks": "",
           "title": {
            "standoff": 15
           },
           "zerolinecolor": "white",
           "zerolinewidth": 2
          },
          "yaxis": {
           "automargin": true,
           "gridcolor": "white",
           "linecolor": "white",
           "ticks": "",
           "title": {
            "standoff": 15
           },
           "zerolinecolor": "white",
           "zerolinewidth": 2
          }
         }
        },
        "title": {
         "text": "Top 5 Genes Ordered by Lasso Logistic Regression Classifer"
        },
        "width": 720
       }
      }
     },
     "metadata": {},
     "output_type": "display_data"
    }
   ],
   "source": [
    "top_5_lasso = data[gene_importance_lasso.head(5).index]\n",
    "\n",
    "fig = px.scatter_matrix(\n",
    "    top_5_lasso,\n",
    "    color=Y['label'],\n",
    "    color_discrete_sequence=px.colors.qualitative.D3,\n",
    "    opacity=0.8,\n",
    "    dimensions=top_5_lasso.columns,\n",
    "    title='Top 5 Genes Ordered by Lasso Logistic Regression Classifer',\n",
    "    width=720,\n",
    "    height=720\n",
    ")\n",
    "fig.update_traces(diagonal_visible=True)\n",
    "fig.show()"
   ]
  },
  {
   "cell_type": "code",
   "execution_count": 33,
   "id": "eed8674e",
   "metadata": {},
   "outputs": [
    {
     "data": {
      "application/vnd.plotly.v1+json": {
       "config": {
        "plotlyServerURL": "https://plot.ly"
       },
       "data": [
        {
         "diagonal": {
          "visible": true
         },
         "dimensions": [
          {
           "axis": {
            "matches": true
           },
           "label": "105982",
           "values": [
            -0.6636186379783401,
            -1.4115387623173306,
            0.8677562772406338,
            1.8322686547818658,
            -0.07848112893665923,
            -0.6558348538788844,
            0.2951405078372075,
            0.6592862335334763,
            -0.8155716406155377,
            0.5899090274296332,
            0.09445424822950554,
            1.4826752210976226,
            2.5290865443809523,
            0.8359442900515545,
            0.0457209912590012,
            -0.5458466002996212,
            -0.020610386284185312,
            1.5977398556113136,
            1.7168655948725464,
            -0.13364446842410516,
            -0.08017325591480175,
            0.24471512388856068,
            -0.21554341416620273,
            1.6681323379020423,
            0.5987080877159743,
            -0.053437649660150056,
            0.2399771683497616,
            0.7811193759597371,
            -0.5647984224548174,
            0.7736740172559101,
            0.6359348812351096,
            1.3980688721904972,
            0.6481181954777356,
            -0.41149171823510566,
            0.3144307553880321,
            -0.7752990185357458,
            -0.1965915920110066,
            0.16890783526777606,
            -1.6013954092649203,
            -0.31267150271158295,
            3.295958490875139,
            -1.0152426240363541,
            0.11272921959344469,
            0.6613167859072473,
            -0.09269499555305634,
            0.26332852064812823,
            2.4783227350366768,
            0.28904885071589453,
            -1.5113742540277388,
            -0.5776585874887004,
            0.044028864280858684,
            -0.314702055085354,
            0.3462427425771114,
            0.5726493322525796
           ]
          },
          {
           "axis": {
            "matches": true
           },
           "label": "186433",
           "values": [
            -0.6853377026636263,
            0.6232331524651585,
            -0.9133290916936846,
            1.6834157746148735,
            -0.30912924760408644,
            0.38028407787249185,
            -0.4133797833434769,
            -0.08884333295476554,
            1.5288530238012552,
            3.007850841704,
            0.12555016010928544,
            0.824482012762069,
            0.31682723003112373,
            -1.130442163950937,
            -0.761032656874401,
            -1.2995093371282966,
            0.8190428543756659,
            0.00543541240955286,
            -1.0261916282115466,
            0.283285753314972,
            -0.7147998105899757,
            -0.06074101462501679,
            -0.4170058889344123,
            0.48181503441868095,
            -1.3344106034410492,
            0.5860655701580715,
            0.6671996827552493,
            0.47320303364020955,
            3.646498688907484,
            -0.4677713672075068,
            1.9349768499860116,
            -0.010882062749656094,
            1.0053340291099682,
            0.251104066195421,
            -0.34221746112137125,
            0.529860933498574,
            0.3657796555087506,
            1.4653961759598872,
            0.6517887339937742,
            -0.804545923965625,
            0.3453828115597394,
            0.824482012762069,
            -0.39071662340013114,
            0.6563213659824434,
            0.6436299964141697,
            -0.8299286631021722,
            -0.20170586947262745,
            -0.2352473461887792,
            2.373282363290319,
            1.1281683560029023,
            0.379830814673625,
            1.2034100470148101,
            -0.7134400209933749,
            0.38753628905436255
           ]
          },
          {
           "axis": {
            "matches": true
           },
           "label": "107457",
           "values": [
            0.2832117648330477,
            0.7737854520890803,
            0.9066863237275329,
            -1.2488052628596098,
            0.9869620180057929,
            -0.5302486038533192,
            -1.2908162095318994,
            -0.2134271971017868,
            -0.021300702129151458,
            -1.2939380420871647,
            -1.2287363392900448,
            -1.250767557608634,
            -0.5372950259066331,
            -0.5397924919508456,
            0.05496120743519543,
            -0.08008034938401064,
            0.8408602544193599,
            0.1872377125625948,
            -0.37272985263620034,
            -0.16071282452572946,
            -1.6764963229310055,
            -1.4895431504785248,
            -0.6340718351198686,
            0.5327799788225712,
            -0.14385492872729488,
            -0.7421764367479253,
            -0.848586329274552,
            0.30640252095787834,
            -1.0907513403473026,
            -0.6953489484189403,
            -0.9142340081509958,
            -0.9319838561080774,
            -0.3323244198494762,
            -0.3589937893930314,
            -1.9895715306162196,
            -0.13538138322014523,
            0.09946962015169733,
            -0.8443941541289096,
            0.10232386705936877,
            -1.3872362378816758,
            0.6667511930514006,
            0.6944909051853325,
            -0.7229102701211428,
            -1.3762652263303137,
            0.20311446098651728,
            -0.9252050197023579,
            0.2774140758018401,
            -0.5541529217050676,
            -0.6194438197180524,
            0.48247387707486167,
            -0.14153585311481182,
            -1.4054320619180813,
            0.18652415083567692,
            -1.2315905861977163
           ]
          },
          {
           "axis": {
            "matches": true
           },
           "label": "216357",
           "values": [
            0.5527956983277336,
            0.876061200489888,
            1.0151356231273376,
            -1.4251422406675687,
            1.0801442394301746,
            -0.9585699840774158,
            -1.1772968910130026,
            -0.3901678246066469,
            -0.27250900082937674,
            -2.0185998043383897,
            -1.0788528535648263,
            -1.6511487582829008,
            -0.5847704403361029,
            -0.17643506918390803,
            -0.9189553585178745,
            0.11652693735791342,
            0.8421178995296827,
            0.04076819830708123,
            -0.34725198025047715,
            -0.15400371069399682,
            -1.3955159181337238,
            -1.5633701969469085,
            -0.5756286036685165,
            0.8582854069695811,
            -0.3624883746964546,
            -0.46499545066355824,
            -0.6357277150943164,
            0.5355277846222926,
            -0.353939064479545,
            -0.7699772794905397,
            -0.8972011731144511,
            -0.7409434834073716,
            -0.3492834995099408,
            -0.006210684568015822,
            -2.2778724498274387,
            -0.2988341045665933,
            -0.06385504355529707,
            -0.6245543591672662,
            -0.20445310563734428,
            -1.2967332941423035,
            0.8057198461309589,
            0.4012782202260693,
            -0.354108357751167,
            -1.3389719654119854,
            0.2023586260702529,
            -1.2025215884846765,
            0.5765814029906206,
            -0.19505732906232487,
            -0.48776539569671334,
            0.6618205652522832,
            -0.21300241585425383,
            -1.0725890025148135,
            0.4733971539370291,
            -0.8380331746825722
           ]
          },
          {
           "axis": {
            "matches": true
           },
           "label": "168498",
           "values": [
            -0.4156817291696968,
            -0.4322886708760088,
            -0.3164889151941577,
            -1.2608404111422764,
            -0.4345328521876726,
            2.0394526257904793,
            -0.1270800124897346,
            -1.3950424535797705,
            0.3127795245963664,
            0.3195120685313578,
            -0.1499706618687052,
            0.65209973891993,
            0.28360516754473725,
            0.5677185216013718,
            0.060982381427690205,
            1.353181980683695,
            1.056950047544076,
            -1.0911803039804948,
            -0.6338161526634163,
            0.6206812005566371,
            -0.5705302396744977,
            -0.03506857871151962,
            1.311440208286749,
            1.025531509180783,
            0.7611669506667897,
            0.964938613765861,
            0.7108972892855211,
            0.31412603338336464,
            1.5147630351234875,
            0.3729235837489557,
            0.8935736480549528,
            1.055603538757078,
            0.9003061919899441,
            1.1776870021115877,
            -0.1917124342656515,
            2.568181742818466,
            -0.2509588208935753,
            2.071320000416105,
            0.08297535828199526,
            -0.48166065973261196,
            -0.246021622007915,
            0.2701400796747545,
            0.5098186437604463,
            0.786301781357424,
            -0.35374232496777647,
            1.6556976214959729,
            0.5497650711080616,
            -0.7765460840852327,
            2.5910723921974363,
            0.6637694817405817,
            0.7212205233191745,
            1.1633242417169394,
            -0.1692706211490137,
            0.5924045160296735
           ]
          }
         ],
         "hovertemplate": "color=normal<br>%{xaxis.title.text}=%{x}<br>%{yaxis.title.text}=%{y}<extra></extra>",
         "legendgroup": "normal",
         "marker": {
          "color": "#1F77B4",
          "opacity": 0.8,
          "symbol": "circle"
         },
         "name": "normal",
         "showlegend": true,
         "type": "splom"
        },
        {
         "diagonal": {
          "visible": true
         },
         "dimensions": [
          {
           "axis": {
            "matches": true
           },
           "label": "105982",
           "values": [
            -0.7901897359433999,
            -0.5255410765619111,
            -0.31165622652469743,
            -0.36952696917717137,
            -0.8802108911805817,
            -0.7939124152953134,
            0.20478092720439736,
            0.6501487478515066,
            0.6190136114536844,
            -0.6920463712111343,
            0.8674178518450053,
            -0.8423072468701894,
            0.5851710718908342,
            -1.271092223131502,
            -0.7976350946472271,
            0.24234614611916114,
            0.37940843134870467,
            1.4809830941194804,
            0.02169278816937749,
            -0.5319711590788526,
            -0.18576197935089453,
            -1.0778513222276271,
            0.1712768130371756,
            -1.2426644898987078,
            -0.5983025366220391,
            -1.1039100776910218,
            -0.6565117046701415,
            -0.6659876157477395,
            -1.3973248957009334,
            -1.026072236696466,
            -1.1127091379773628,
            -2.10328027098199,
            -0.2351720871126559,
            -1.1800557917074348,
            3.0397704663843625,
            0.8596340677455496,
            0.3063085458929481,
            -0.840615119892047,
            -1.281244985000357,
            1.1875682761095687,
            -0.9692167702308778,
            -0.4707161624700937,
            0.19970454626996983,
            0.5286540308208743,
            -1.098156845965337,
            -2.1022649947951044,
            -0.8731039578723832,
            0.03421452780763211,
            0.14657175915629492,
            0.4572462723432602,
            1.0667504098701932,
            -2.5628619582454966,
            0.19936612087434133,
            0.3811005583268472,
            -0.594241431874497,
            0.5777257131870072,
            0.05452005154534223,
            0.8596340677455496,
            -0.6774940791991086,
            0.2602826920874718,
            1.0633661559139083,
            1.4792909671413377,
            -0.22908042999134284,
            -0.39118619449739556,
            -1.5049441715107972,
            0.6565788303684482,
            -0.6277455460417188
           ]
          },
          {
           "axis": {
            "matches": true
           },
           "label": "186433",
           "values": [
            -0.3685067266556524,
            1.504376811062442,
            -0.8217699255225677,
            0.412012501793176,
            -1.5855184156133202,
            -1.2301600677016584,
            -0.02312016911906281,
            -1.443193771169109,
            0.40883965940110756,
            0.20441795671212873,
            0.29869670207644716,
            0.8058982216085254,
            -0.26878882290493095,
            0.08384994581352923,
            1.0737767721388725,
            -0.6916833874477629,
            1.5968425036312925,
            0.017673518778959577,
            0.9468630764561361,
            -1.318999654679574,
            -1.018032890631942,
            -0.37031977945112,
            0.021299624369894896,
            -0.4319635744970205,
            0.487254192805084,
            0.36804597150308516,
            0.481361771219814,
            -0.44737452325849564,
            -0.12238480967091729,
            -0.14142186402332774,
            0.38391018346342726,
            -1.033443839393417,
            -1.088741949655181,
            -0.4265244161106175,
            -0.621880854822258,
            0.048948679500776734,
            -2.218273841231534,
            -0.2837465084675391,
            -0.33451198674063365,
            -1.5143560933912146,
            1.0588190865762641,
            -0.34720335630890725,
            -0.295531351638079,
            0.14911984645036505,
            1.0556462441841958,
            -0.6658473851123489,
            0.24249206541694962,
            -2.2658664771125605,
            2.459402371075033,
            -0.9844914139157904,
            0.04169646831890609,
            -0.712986757794508,
            -0.6073764324585167,
            0.7451609529603588,
            -1.7119788480971896,
            -0.8222231887214345,
            -0.6332124347939309,
            -1.3602466057764633,
            -0.5421065318216809,
            -0.3734926218431884,
            0.24249206541694962,
            -1.3439291306172543,
            0.46187145366853666,
            1.4948582838862365,
            -0.6658473851123489,
            -0.6078296956573837,
            -1.7994586454785042
           ]
          },
          {
           "axis": {
            "matches": true
           },
           "label": "107457",
           "values": [
            -0.4368612128429435,
            0.6477526120722124,
            -0.01933840738012732,
            -0.17489486384822203,
            -0.9152151555255077,
            0.8421981826573307,
            -0.7825818695346494,
            1.0996155756429509,
            2.1102865666062427,
            -0.0010533881278570213,
            -0.35355288122528267,
            -1.1602344135059297,
            2.2509474220249266,
            -0.34829036348926345,
            -0.0949759504334211,
            0.09144205072387133,
            -0.16695648963626078,
            -0.3911932623202001,
            0.3704446859487568,
            -0.4870781193747883,
            -1.7162773892066765,
            1.1121921010798783,
            -0.6311283929963324,
            1.8290540509847388,
            0.3567978179214526,
            0.7156301713452744,
            -0.6935650441016457,
            -0.6709986544878681,
            2.609958165880478,
            0.5675661130098171,
            1.8221860193631545,
            1.8080039800406618,
            1.5165140145947138,
            0.7986709173153409,
            0.1880404695053774,
            -0.1941610304750044,
            -0.9676619424539707,
            -0.29263254878966993,
            0.7408724174349939,
            2.664813223637289,
            -1.715474632263894,
            0.3840023587601962,
            0.3663417060189791,
            -0.48770248588584136,
            0.7455105686599599,
            -1.321320973357638,
            0.7873431249005199,
            2.1396317926257398,
            0.3759747893323702,
            2.1245578011446002,
            -0.005334758489364214,
            -0.8014020600821081,
            -0.9531231222680193,
            -0.4024318595191565,
            0.5679228938732762,
            0.19401654896831452,
            1.822988776305937,
            1.1263741404023708,
            0.9216711199928082,
            0.4019305971490076,
            0.9108784988731754,
            -1.1937718146710694,
            -0.1715054456453622,
            2.2414927291432654,
            -0.661365571174477,
            0.8408602544193599,
            0.4922853508199824
           ]
          },
          {
           "axis": {
            "matches": true
           },
           "label": "216357",
           "values": [
            -0.6939646005322745,
            0.8422871928013047,
            -0.20123653347652684,
            -0.454668561094618,
            -1.1768736578339478,
            0.4873638488458417,
            -0.25862695255637513,
            0.8113911707302949,
            1.697048921220638,
            0.10670792760383907,
            -0.27868820524357873,
            -1.2864064045733632,
            2.7551318688579594,
            -0.5888334788550303,
            0.31349965889007714,
            -0.3250745616679989,
            0.02561645049691479,
            0.00462408481579035,
            0.18678364508103154,
            -0.4256347650114499,
            -1.4206559689695866,
            0.37656140256926146,
            -0.9920054052227552,
            1.668184418409092,
            0.38189414062535354,
            0.8505825631107813,
            -0.9097288752144771,
            -0.6369974146314812,
            2.378708279406506,
            0.6259303916684252,
            2.0267475677044273,
            1.6651371395198964,
            1.260695513615007,
            0.6727399812719004,
            0.0870699080956904,
            -0.07350476003774944,
            -0.7372190314316881,
            -0.17321849702309058,
            0.8749607942243451,
            2.3499284232307707,
            -1.5462715765130892,
            0.2129394555466261,
            0.338131829911074,
            -0.8354091289724316,
            0.6794270655009683,
            -1.063108579303983,
            0.8916361814791094,
            2.3252962522097738,
            0.27845595166432907,
            1.870235938089915,
            -0.21588040147182735,
            -0.5584453365988865,
            -0.8022276477345253,
            -0.3310844728105789,
            0.6643599643266128,
            -0.18159851396837814,
            2.0611987484794985,
            1.3231647308435144,
            0.5786975688858953,
            0.2855662690724518,
            0.8003871080748669,
            -1.3578481651978351,
            -0.14553904711289825,
            2.4239095829295723,
            -0.4281741640857794,
            1.3135996609968732,
            0.3011412500616732
           ]
          },
          {
           "axis": {
            "matches": true
           },
           "label": "168498",
           "values": [
            -0.2163984286939531,
            0.8940224843172856,
            -1.357340207543819,
            0.3590096596166402,
            0.9492293445842145,
            -1.5427095838872473,
            -0.5759162748224907,
            -0.46550255428863274,
            -2.0858014613098823,
            -0.7172996974573089,
            -0.8407296695988169,
            1.1503079901092896,
            0.4056886308992469,
            0.8468946767723462,
            -0.3595771963781023,
            -0.2603843824025632,
            -0.4910862212415999,
            1.5385513570271234,
            1.5587489888320976,
            -1.142347637886429,
            -1.6113815320241591,
            -0.49781876517659124,
            -0.07995220494479523,
            -1.34118210209984,
            1.8002228979671204,
            -1.3129054175728763,
            -0.07232198848513836,
            -0.4650537180263,
            0.8823527414966339,
            0.22076809081815138,
            -1.1387569477877668,
            -0.8043739323498637,
            -0.8838179507827615,
            -0.47851880589628265,
            -0.8155948389081826,
            -2.9767414420404035,
            -1.189924281693701,
            0.4474304032961932,
            -0.2891099031918596,
            -1.9700017056280312,
            -0.479865314683281,
            -1.1665847960523978,
            -1.0467455140095518,
            0.8617062734293272,
            -0.059754573139821195,
            -0.4031143138243796,
            0.5282209305160893,
            -0.38067250070774183,
            0.25039128413211326,
            -0.5763651110848235,
            1.123377814369324,
            -2.1306850875431578,
            0.6458160312472714,
            0.5713092117000339,
            -0.2603843824025632,
            0.5340558019264151,
            -0.20876821223429623,
            -1.480770179685327,
            0.6148463291463113,
            0.20820067547283422,
            -0.7379461655246157,
            -0.7123624985716486,
            -0.0750150060591349,
            -0.17555432882167227,
            -1.3546471899698227,
            -0.8380366520248204,
            -1.4848097060463217
           ]
          }
         ],
         "hovertemplate": "color=cancer<br>%{xaxis.title.text}=%{x}<br>%{yaxis.title.text}=%{y}<extra></extra>",
         "legendgroup": "cancer",
         "marker": {
          "color": "#FF7F0E",
          "opacity": 0.8,
          "symbol": "circle"
         },
         "name": "cancer",
         "showlegend": true,
         "type": "splom"
        }
       ],
       "layout": {
        "dragmode": "select",
        "height": 720,
        "legend": {
         "title": {
          "text": "color"
         },
         "tracegroupgap": 0
        },
        "template": {
         "data": {
          "bar": [
           {
            "error_x": {
             "color": "#2a3f5f"
            },
            "error_y": {
             "color": "#2a3f5f"
            },
            "marker": {
             "line": {
              "color": "#E5ECF6",
              "width": 0.5
             },
             "pattern": {
              "fillmode": "overlay",
              "size": 10,
              "solidity": 0.2
             }
            },
            "type": "bar"
           }
          ],
          "barpolar": [
           {
            "marker": {
             "line": {
              "color": "#E5ECF6",
              "width": 0.5
             },
             "pattern": {
              "fillmode": "overlay",
              "size": 10,
              "solidity": 0.2
             }
            },
            "type": "barpolar"
           }
          ],
          "carpet": [
           {
            "aaxis": {
             "endlinecolor": "#2a3f5f",
             "gridcolor": "white",
             "linecolor": "white",
             "minorgridcolor": "white",
             "startlinecolor": "#2a3f5f"
            },
            "baxis": {
             "endlinecolor": "#2a3f5f",
             "gridcolor": "white",
             "linecolor": "white",
             "minorgridcolor": "white",
             "startlinecolor": "#2a3f5f"
            },
            "type": "carpet"
           }
          ],
          "choropleth": [
           {
            "colorbar": {
             "outlinewidth": 0,
             "ticks": ""
            },
            "type": "choropleth"
           }
          ],
          "contour": [
           {
            "colorbar": {
             "outlinewidth": 0,
             "ticks": ""
            },
            "colorscale": [
             [
              0,
              "#0d0887"
             ],
             [
              0.1111111111111111,
              "#46039f"
             ],
             [
              0.2222222222222222,
              "#7201a8"
             ],
             [
              0.3333333333333333,
              "#9c179e"
             ],
             [
              0.4444444444444444,
              "#bd3786"
             ],
             [
              0.5555555555555556,
              "#d8576b"
             ],
             [
              0.6666666666666666,
              "#ed7953"
             ],
             [
              0.7777777777777778,
              "#fb9f3a"
             ],
             [
              0.8888888888888888,
              "#fdca26"
             ],
             [
              1,
              "#f0f921"
             ]
            ],
            "type": "contour"
           }
          ],
          "contourcarpet": [
           {
            "colorbar": {
             "outlinewidth": 0,
             "ticks": ""
            },
            "type": "contourcarpet"
           }
          ],
          "heatmap": [
           {
            "colorbar": {
             "outlinewidth": 0,
             "ticks": ""
            },
            "colorscale": [
             [
              0,
              "#0d0887"
             ],
             [
              0.1111111111111111,
              "#46039f"
             ],
             [
              0.2222222222222222,
              "#7201a8"
             ],
             [
              0.3333333333333333,
              "#9c179e"
             ],
             [
              0.4444444444444444,
              "#bd3786"
             ],
             [
              0.5555555555555556,
              "#d8576b"
             ],
             [
              0.6666666666666666,
              "#ed7953"
             ],
             [
              0.7777777777777778,
              "#fb9f3a"
             ],
             [
              0.8888888888888888,
              "#fdca26"
             ],
             [
              1,
              "#f0f921"
             ]
            ],
            "type": "heatmap"
           }
          ],
          "heatmapgl": [
           {
            "colorbar": {
             "outlinewidth": 0,
             "ticks": ""
            },
            "colorscale": [
             [
              0,
              "#0d0887"
             ],
             [
              0.1111111111111111,
              "#46039f"
             ],
             [
              0.2222222222222222,
              "#7201a8"
             ],
             [
              0.3333333333333333,
              "#9c179e"
             ],
             [
              0.4444444444444444,
              "#bd3786"
             ],
             [
              0.5555555555555556,
              "#d8576b"
             ],
             [
              0.6666666666666666,
              "#ed7953"
             ],
             [
              0.7777777777777778,
              "#fb9f3a"
             ],
             [
              0.8888888888888888,
              "#fdca26"
             ],
             [
              1,
              "#f0f921"
             ]
            ],
            "type": "heatmapgl"
           }
          ],
          "histogram": [
           {
            "marker": {
             "pattern": {
              "fillmode": "overlay",
              "size": 10,
              "solidity": 0.2
             }
            },
            "type": "histogram"
           }
          ],
          "histogram2d": [
           {
            "colorbar": {
             "outlinewidth": 0,
             "ticks": ""
            },
            "colorscale": [
             [
              0,
              "#0d0887"
             ],
             [
              0.1111111111111111,
              "#46039f"
             ],
             [
              0.2222222222222222,
              "#7201a8"
             ],
             [
              0.3333333333333333,
              "#9c179e"
             ],
             [
              0.4444444444444444,
              "#bd3786"
             ],
             [
              0.5555555555555556,
              "#d8576b"
             ],
             [
              0.6666666666666666,
              "#ed7953"
             ],
             [
              0.7777777777777778,
              "#fb9f3a"
             ],
             [
              0.8888888888888888,
              "#fdca26"
             ],
             [
              1,
              "#f0f921"
             ]
            ],
            "type": "histogram2d"
           }
          ],
          "histogram2dcontour": [
           {
            "colorbar": {
             "outlinewidth": 0,
             "ticks": ""
            },
            "colorscale": [
             [
              0,
              "#0d0887"
             ],
             [
              0.1111111111111111,
              "#46039f"
             ],
             [
              0.2222222222222222,
              "#7201a8"
             ],
             [
              0.3333333333333333,
              "#9c179e"
             ],
             [
              0.4444444444444444,
              "#bd3786"
             ],
             [
              0.5555555555555556,
              "#d8576b"
             ],
             [
              0.6666666666666666,
              "#ed7953"
             ],
             [
              0.7777777777777778,
              "#fb9f3a"
             ],
             [
              0.8888888888888888,
              "#fdca26"
             ],
             [
              1,
              "#f0f921"
             ]
            ],
            "type": "histogram2dcontour"
           }
          ],
          "mesh3d": [
           {
            "colorbar": {
             "outlinewidth": 0,
             "ticks": ""
            },
            "type": "mesh3d"
           }
          ],
          "parcoords": [
           {
            "line": {
             "colorbar": {
              "outlinewidth": 0,
              "ticks": ""
             }
            },
            "type": "parcoords"
           }
          ],
          "pie": [
           {
            "automargin": true,
            "type": "pie"
           }
          ],
          "scatter": [
           {
            "fillpattern": {
             "fillmode": "overlay",
             "size": 10,
             "solidity": 0.2
            },
            "type": "scatter"
           }
          ],
          "scatter3d": [
           {
            "line": {
             "colorbar": {
              "outlinewidth": 0,
              "ticks": ""
             }
            },
            "marker": {
             "colorbar": {
              "outlinewidth": 0,
              "ticks": ""
             }
            },
            "type": "scatter3d"
           }
          ],
          "scattercarpet": [
           {
            "marker": {
             "colorbar": {
              "outlinewidth": 0,
              "ticks": ""
             }
            },
            "type": "scattercarpet"
           }
          ],
          "scattergeo": [
           {
            "marker": {
             "colorbar": {
              "outlinewidth": 0,
              "ticks": ""
             }
            },
            "type": "scattergeo"
           }
          ],
          "scattergl": [
           {
            "marker": {
             "colorbar": {
              "outlinewidth": 0,
              "ticks": ""
             }
            },
            "type": "scattergl"
           }
          ],
          "scattermapbox": [
           {
            "marker": {
             "colorbar": {
              "outlinewidth": 0,
              "ticks": ""
             }
            },
            "type": "scattermapbox"
           }
          ],
          "scatterpolar": [
           {
            "marker": {
             "colorbar": {
              "outlinewidth": 0,
              "ticks": ""
             }
            },
            "type": "scatterpolar"
           }
          ],
          "scatterpolargl": [
           {
            "marker": {
             "colorbar": {
              "outlinewidth": 0,
              "ticks": ""
             }
            },
            "type": "scatterpolargl"
           }
          ],
          "scatterternary": [
           {
            "marker": {
             "colorbar": {
              "outlinewidth": 0,
              "ticks": ""
             }
            },
            "type": "scatterternary"
           }
          ],
          "surface": [
           {
            "colorbar": {
             "outlinewidth": 0,
             "ticks": ""
            },
            "colorscale": [
             [
              0,
              "#0d0887"
             ],
             [
              0.1111111111111111,
              "#46039f"
             ],
             [
              0.2222222222222222,
              "#7201a8"
             ],
             [
              0.3333333333333333,
              "#9c179e"
             ],
             [
              0.4444444444444444,
              "#bd3786"
             ],
             [
              0.5555555555555556,
              "#d8576b"
             ],
             [
              0.6666666666666666,
              "#ed7953"
             ],
             [
              0.7777777777777778,
              "#fb9f3a"
             ],
             [
              0.8888888888888888,
              "#fdca26"
             ],
             [
              1,
              "#f0f921"
             ]
            ],
            "type": "surface"
           }
          ],
          "table": [
           {
            "cells": {
             "fill": {
              "color": "#EBF0F8"
             },
             "line": {
              "color": "white"
             }
            },
            "header": {
             "fill": {
              "color": "#C8D4E3"
             },
             "line": {
              "color": "white"
             }
            },
            "type": "table"
           }
          ]
         },
         "layout": {
          "annotationdefaults": {
           "arrowcolor": "#2a3f5f",
           "arrowhead": 0,
           "arrowwidth": 1
          },
          "autotypenumbers": "strict",
          "coloraxis": {
           "colorbar": {
            "outlinewidth": 0,
            "ticks": ""
           }
          },
          "colorscale": {
           "diverging": [
            [
             0,
             "#8e0152"
            ],
            [
             0.1,
             "#c51b7d"
            ],
            [
             0.2,
             "#de77ae"
            ],
            [
             0.3,
             "#f1b6da"
            ],
            [
             0.4,
             "#fde0ef"
            ],
            [
             0.5,
             "#f7f7f7"
            ],
            [
             0.6,
             "#e6f5d0"
            ],
            [
             0.7,
             "#b8e186"
            ],
            [
             0.8,
             "#7fbc41"
            ],
            [
             0.9,
             "#4d9221"
            ],
            [
             1,
             "#276419"
            ]
           ],
           "sequential": [
            [
             0,
             "#0d0887"
            ],
            [
             0.1111111111111111,
             "#46039f"
            ],
            [
             0.2222222222222222,
             "#7201a8"
            ],
            [
             0.3333333333333333,
             "#9c179e"
            ],
            [
             0.4444444444444444,
             "#bd3786"
            ],
            [
             0.5555555555555556,
             "#d8576b"
            ],
            [
             0.6666666666666666,
             "#ed7953"
            ],
            [
             0.7777777777777778,
             "#fb9f3a"
            ],
            [
             0.8888888888888888,
             "#fdca26"
            ],
            [
             1,
             "#f0f921"
            ]
           ],
           "sequentialminus": [
            [
             0,
             "#0d0887"
            ],
            [
             0.1111111111111111,
             "#46039f"
            ],
            [
             0.2222222222222222,
             "#7201a8"
            ],
            [
             0.3333333333333333,
             "#9c179e"
            ],
            [
             0.4444444444444444,
             "#bd3786"
            ],
            [
             0.5555555555555556,
             "#d8576b"
            ],
            [
             0.6666666666666666,
             "#ed7953"
            ],
            [
             0.7777777777777778,
             "#fb9f3a"
            ],
            [
             0.8888888888888888,
             "#fdca26"
            ],
            [
             1,
             "#f0f921"
            ]
           ]
          },
          "colorway": [
           "#636efa",
           "#EF553B",
           "#00cc96",
           "#ab63fa",
           "#FFA15A",
           "#19d3f3",
           "#FF6692",
           "#B6E880",
           "#FF97FF",
           "#FECB52"
          ],
          "font": {
           "color": "#2a3f5f"
          },
          "geo": {
           "bgcolor": "white",
           "lakecolor": "white",
           "landcolor": "#E5ECF6",
           "showlakes": true,
           "showland": true,
           "subunitcolor": "white"
          },
          "hoverlabel": {
           "align": "left"
          },
          "hovermode": "closest",
          "mapbox": {
           "style": "light"
          },
          "paper_bgcolor": "white",
          "plot_bgcolor": "#E5ECF6",
          "polar": {
           "angularaxis": {
            "gridcolor": "white",
            "linecolor": "white",
            "ticks": ""
           },
           "bgcolor": "#E5ECF6",
           "radialaxis": {
            "gridcolor": "white",
            "linecolor": "white",
            "ticks": ""
           }
          },
          "scene": {
           "xaxis": {
            "backgroundcolor": "#E5ECF6",
            "gridcolor": "white",
            "gridwidth": 2,
            "linecolor": "white",
            "showbackground": true,
            "ticks": "",
            "zerolinecolor": "white"
           },
           "yaxis": {
            "backgroundcolor": "#E5ECF6",
            "gridcolor": "white",
            "gridwidth": 2,
            "linecolor": "white",
            "showbackground": true,
            "ticks": "",
            "zerolinecolor": "white"
           },
           "zaxis": {
            "backgroundcolor": "#E5ECF6",
            "gridcolor": "white",
            "gridwidth": 2,
            "linecolor": "white",
            "showbackground": true,
            "ticks": "",
            "zerolinecolor": "white"
           }
          },
          "shapedefaults": {
           "line": {
            "color": "#2a3f5f"
           }
          },
          "ternary": {
           "aaxis": {
            "gridcolor": "white",
            "linecolor": "white",
            "ticks": ""
           },
           "baxis": {
            "gridcolor": "white",
            "linecolor": "white",
            "ticks": ""
           },
           "bgcolor": "#E5ECF6",
           "caxis": {
            "gridcolor": "white",
            "linecolor": "white",
            "ticks": ""
           }
          },
          "title": {
           "x": 0.05
          },
          "xaxis": {
           "automargin": true,
           "gridcolor": "white",
           "linecolor": "white",
           "ticks": "",
           "title": {
            "standoff": 15
           },
           "zerolinecolor": "white",
           "zerolinewidth": 2
          },
          "yaxis": {
           "automargin": true,
           "gridcolor": "white",
           "linecolor": "white",
           "ticks": "",
           "title": {
            "standoff": 15
           },
           "zerolinecolor": "white",
           "zerolinewidth": 2
          }
         }
        },
        "title": {
         "text": "Top 5 Genes Ordered by SVM Classifier"
        },
        "width": 720
       }
      }
     },
     "metadata": {},
     "output_type": "display_data"
    }
   ],
   "source": [
    "top_5_svm = data[gene_importance_svm.head(5).index]\n",
    "\n",
    "fig = px.scatter_matrix(\n",
    "    top_5_svm,\n",
    "    color=Y['label'],\n",
    "    color_discrete_sequence=px.colors.qualitative.D3,\n",
    "    opacity=0.8,\n",
    "    dimensions=top_5_svm.columns,\n",
    "    title='Top 5 Genes Ordered by SVM Classifier',\n",
    "    width=720,\n",
    "    height=720\n",
    ")\n",
    "fig.update_traces(diagonal_visible=True)\n",
    "fig.show()"
   ]
  },
  {
   "cell_type": "markdown",
   "id": "f91d07f9",
   "metadata": {},
   "source": [
    "## Compiling Top 10s from All Methods"
   ]
  },
  {
   "cell_type": "code",
   "execution_count": 34,
   "id": "0305d496",
   "metadata": {},
   "outputs": [],
   "source": [
    "top_10_lasso = data[gene_importance_lasso.head(10).index]\n",
    "top_10_svm = data[gene_importance_svm.head(10).index]\n",
    "top_10_sva = data[genes_sorted.head(10).index]\n",
    "bottom_10_lasso = data[gene_importance_lasso.tail(10).index]\n",
    "bottom_10_svm = data[gene_importance_svm.tail(10).index]\n",
    "bottom_10_sva = data[genes_sorted.tail(10).index]"
   ]
  },
  {
   "cell_type": "code",
   "execution_count": 40,
   "id": "ae1a3a33",
   "metadata": {},
   "outputs": [
    {
     "data": {
      "text/html": [
       "<div>\n",
       "<style scoped>\n",
       "    .dataframe tbody tr th:only-of-type {\n",
       "        vertical-align: middle;\n",
       "    }\n",
       "\n",
       "    .dataframe tbody tr th {\n",
       "        vertical-align: top;\n",
       "    }\n",
       "\n",
       "    .dataframe thead th {\n",
       "        text-align: right;\n",
       "    }\n",
       "</style>\n",
       "<table border=\"1\" class=\"dataframe\">\n",
       "  <thead>\n",
       "    <tr style=\"text-align: right;\">\n",
       "      <th></th>\n",
       "      <th>lasso</th>\n",
       "      <th>svm</th>\n",
       "      <th>sva</th>\n",
       "    </tr>\n",
       "  </thead>\n",
       "  <tbody>\n",
       "    <tr>\n",
       "      <th>0</th>\n",
       "      <td>105982</td>\n",
       "      <td>105982</td>\n",
       "      <td>134910</td>\n",
       "    </tr>\n",
       "    <tr>\n",
       "      <th>1</th>\n",
       "      <td>162796</td>\n",
       "      <td>186433</td>\n",
       "      <td>168498</td>\n",
       "    </tr>\n",
       "    <tr>\n",
       "      <th>2</th>\n",
       "      <td>710141</td>\n",
       "      <td>107457</td>\n",
       "      <td>107457</td>\n",
       "    </tr>\n",
       "    <tr>\n",
       "      <th>3</th>\n",
       "      <td>229944</td>\n",
       "      <td>216357</td>\n",
       "      <td>207178</td>\n",
       "    </tr>\n",
       "    <tr>\n",
       "      <th>4</th>\n",
       "      <td>182204</td>\n",
       "      <td>168498</td>\n",
       "      <td>192905</td>\n",
       "    </tr>\n",
       "    <tr>\n",
       "      <th>5</th>\n",
       "      <td>221030</td>\n",
       "      <td>213145</td>\n",
       "      <td>208343</td>\n",
       "    </tr>\n",
       "    <tr>\n",
       "      <th>6</th>\n",
       "      <td>106478</td>\n",
       "      <td>192006</td>\n",
       "      <td>200120</td>\n",
       "    </tr>\n",
       "    <tr>\n",
       "      <th>7</th>\n",
       "      <td>192905</td>\n",
       "      <td>156497</td>\n",
       "      <td>177738</td>\n",
       "    </tr>\n",
       "    <tr>\n",
       "      <th>8</th>\n",
       "      <td>168498</td>\n",
       "      <td>712587</td>\n",
       "      <td>110790</td>\n",
       "    </tr>\n",
       "    <tr>\n",
       "      <th>9</th>\n",
       "      <td>186433</td>\n",
       "      <td>125981</td>\n",
       "      <td>149826</td>\n",
       "    </tr>\n",
       "  </tbody>\n",
       "</table>\n",
       "</div>"
      ],
      "text/plain": [
       "    lasso     svm     sva\n",
       "0  105982  105982  134910\n",
       "1  162796  186433  168498\n",
       "2  710141  107457  107457\n",
       "3  229944  216357  207178\n",
       "4  182204  168498  192905\n",
       "5  221030  213145  208343\n",
       "6  106478  192006  200120\n",
       "7  192905  156497  177738\n",
       "8  168498  712587  110790\n",
       "9  186433  125981  149826"
      ]
     },
     "execution_count": 40,
     "metadata": {},
     "output_type": "execute_result"
    }
   ],
   "source": [
    "top_10s = pd.DataFrame({\n",
    "    'lasso': top_10_lasso.columns,\n",
    "    'svm': top_10_svm.columns,\n",
    "    'sva': top_10_sva.columns\n",
    "}, index=range(10))\n",
    "top_10s"
   ]
  },
  {
   "cell_type": "markdown",
   "id": "293e3f7a",
   "metadata": {},
   "source": [
    "## Fit Model to Top 10s"
   ]
  },
  {
   "cell_type": "code",
   "execution_count": 41,
   "id": "b365a0ab",
   "metadata": {},
   "outputs": [],
   "source": [
    "clf = LogisticRegression(random_state=42)\n",
    "def idk(top_10):\n",
    "    # clf.fit(top_10, Y.to_numpy().ravel())\n",
    "    pred = cross_val_predict(clf, top_10, Y.to_numpy().ravel(), method='predict_proba', cv=kfolds, n_jobs=-1)\n",
    "    # print(\"CV Error Estimates\\n\" + classification_report(Y, pred))\n",
    "    print(roc_auc_score(Y, pred[:,1]))"
   ]
  },
  {
   "cell_type": "code",
   "execution_count": 42,
   "id": "7e957974",
   "metadata": {},
   "outputs": [
    {
     "name": "stdout",
     "output_type": "stream",
     "text": [
      "0.8595909342178\n",
      "0.8626312880044223\n",
      "0.8018242122719735\n"
     ]
    }
   ],
   "source": [
    "idk(top_10_lasso)\n",
    "idk(top_10_svm)\n",
    "idk(top_10_sva)"
   ]
  },
  {
   "cell_type": "code",
   "execution_count": 43,
   "id": "e8c3023d",
   "metadata": {},
   "outputs": [
    {
     "name": "stdout",
     "output_type": "stream",
     "text": [
      "0.6299060254284135\n"
     ]
    },
    {
     "name": "stdout",
     "output_type": "stream",
     "text": [
      "0.49115533443891657\n",
      "0.08761746821448316\n"
     ]
    }
   ],
   "source": [
    "idk(bottom_10_lasso)\n",
    "idk(bottom_10_svm)\n",
    "idk(bottom_10_sva)"
   ]
  },
  {
   "cell_type": "code",
   "execution_count": null,
   "id": "9e6c407c",
   "metadata": {},
   "outputs": [],
   "source": []
  }
 ],
 "metadata": {
  "kernelspec": {
   "display_name": "Python 3 (ipykernel)",
   "language": "python",
   "name": "python3"
  },
  "language_info": {
   "codemirror_mode": {
    "name": "ipython",
    "version": 3
   },
   "file_extension": ".py",
   "mimetype": "text/x-python",
   "name": "python",
   "nbconvert_exporter": "python",
   "pygments_lexer": "ipython3",
   "version": "3.11.5"
  }
 },
 "nbformat": 4,
 "nbformat_minor": 5
}
